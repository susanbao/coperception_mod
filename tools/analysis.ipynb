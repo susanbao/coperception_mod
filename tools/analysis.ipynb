{
 "cells": [
  {
   "cell_type": "markdown",
   "id": "cf11557b-9d08-4fb9-92fc-4eb9b0444578",
   "metadata": {},
   "source": [
    "# Analyse data"
   ]
  },
  {
   "cell_type": "code",
   "execution_count": 1,
   "id": "396ec844-86ff-4ddd-81a7-3dc9de6fd276",
   "metadata": {},
   "outputs": [],
   "source": [
    "import numpy as np\n",
    "import os\n",
    "import pandas as pd\n",
    "import matplotlib.pyplot as plt\n",
    "import seaborn as sns\n",
    "import re"
   ]
  },
  {
   "cell_type": "code",
   "execution_count": 2,
   "id": "a56db7c6-3b89-4313-bb5b-7078a0aa4a31",
   "metadata": {},
   "outputs": [],
   "source": [
    "det_log = './det/check_nyu'\n",
    "track_log = './track/logs'\n",
    "mode_list = ['lowerbound','disco', 'upperbound'] #'when2com',\n",
    "mode_list_print = ['lowerbound','disco     ',  'upperbound'] #'when2com  ',\n",
    "bootstrap_start = 0\n",
    "bootstrap_end = 25\n",
    "rsu = 'no_rsu'"
   ]
  },
  {
   "cell_type": "markdown",
   "id": "cf6ae4b1-bbe1-42aa-bfaa-8cd5dd888de5",
   "metadata": {},
   "source": [
    "## Detection"
   ]
  },
  {
   "cell_type": "code",
   "execution_count": 4,
   "id": "7b347d98-11dd-4d3a-b5e0-257bdfdb8a1e",
   "metadata": {},
   "outputs": [],
   "source": [
    "def extract_one_det_results(file):\n",
    "    map_5 = []\n",
    "    map_7 = []\n",
    "    with open(file, 'r') as f:\n",
    "        lines = f.readlines()\n",
    "        for i in range(len(lines)):\n",
    "            if lines[i][:7] != 'average':\n",
    "                continue\n",
    "            split = lines[i].split()\n",
    "            map_5.append(float(split[4]))\n",
    "            map_7.append(float(split[10]))\n",
    "            if len(map_5) >= bootstrap_end:\n",
    "                break\n",
    "        f.close()\n",
    "    map_result = []\n",
    "    map_result.append(map_5)\n",
    "    map_result.append(map_7)\n",
    "    return map_result\n",
    "\n",
    "def extract__det_results():\n",
    "    result = []\n",
    "    for i in range(len(mode_list)):\n",
    "        file_path = os.path.join(mode_list[i], rsu)\n",
    "        file_path = os.path.join(file_path, 'log_test.txt')\n",
    "        file_path = os.path.join(det_log, file_path)\n",
    "        print(file_path)\n",
    "        temp_result = extract_one_det_results(file_path)\n",
    "        result.append(temp_result)\n",
    "    return result\n",
    "\n",
    "def compute_mean_variance(det_results):\n",
    "    result = []\n",
    "    for i in len(det_results):\n",
    "        for j in len(det_results[i]):\n",
    "            temp = []\n",
    "            mean = np.mean(det_results[i][j])\n",
    "            std = np.std()"
   ]
  },
  {
   "cell_type": "code",
   "execution_count": 5,
   "id": "9d504f91-03a5-4f6b-baeb-7da2c44336db",
   "metadata": {},
   "outputs": [
    {
     "name": "stdout",
     "output_type": "stream",
     "text": [
      "./det/check_nyu/lowerbound/no_rsu/log_test.txt\n",
      "./det/check_nyu/disco/no_rsu/log_test.txt\n",
      "./det/check_nyu/upperbound/no_rsu/log_test.txt\n"
     ]
    }
   ],
   "source": [
    "det_results = extract__det_results()\n",
    "mean = np.mean(det_results, axis = 2)\n",
    "std = np.std(det_results, axis = 2)"
   ]
  },
  {
   "cell_type": "code",
   "execution_count": 6,
   "id": "0ea44a70-31c6-4cf1-8c2b-4775270e27b1",
   "metadata": {},
   "outputs": [
    {
     "name": "stdout",
     "output_type": "stream",
     "text": [
      "mode          mAP(0.5)          mAP(0.7)\n",
      "lowerbound    0.497(0.00505)    0.441(0.00303)\n",
      "disco         0.698(0.00646)    0.643(0.00495)\n",
      "upperbound    0.707(0.00347)    0.670(0.00246)\n"
     ]
    }
   ],
   "source": [
    "print(\"mode          mAP(0.5)          mAP(0.7)\")\n",
    "for i in range(len(mean)):\n",
    "    st = mode_list_print[i] + \"    {0:.3f}\".format(mean[i][0]) + \"({0:.5f})\".format(std[i][0])+ \"    {0:.3f}\".format(mean[i][1]) + \"({0:.5f})\".format(std[i][1])\n",
    "    print(st)"
   ]
  },
  {
   "cell_type": "code",
   "execution_count": 6,
   "id": "0751b581-5320-44a2-b6f1-b8a46b2d01a7",
   "metadata": {},
   "outputs": [
    {
     "name": "stdout",
     "output_type": "stream",
     "text": [
      "lowerbound  mAP for 0.5:    [0.49900713562965393, 0.4939224421977997, 0.4988515377044678, 0.49761611223220825, 0.49413973093032837, 0.4971027970314026, 0.4889352321624756, 0.4948710799217224, 0.48600688576698303, 0.501207709312439, 0.49157965183258057, 0.49067413806915283, 0.5018049478530884, 0.4974174201488495, 0.5072156190872192, 0.4910263419151306, 0.5050339102745056, 0.5023539066314697, 0.49121975898742676, 0.49950000643730164, 0.4985678493976593, 0.49659666419029236, 0.49934840202331543, 0.49260687828063965, 0.500501275062561]\n",
      "lowerbound  mAP for 0.7:    [0.4421604871749878, 0.44027259945869446, 0.4383939504623413, 0.44108614325523376, 0.4399482011795044, 0.4382987916469574, 0.4359024167060852, 0.4399508833885193, 0.4344748258590698, 0.4429028630256653, 0.4399273693561554, 0.4362139403820038, 0.44486764073371887, 0.44215914607048035, 0.4484386146068573, 0.43725186586380005, 0.4426913857460022, 0.44167232513427734, 0.4382147192955017, 0.44344666600227356, 0.4422401189804077, 0.43898871541023254, 0.44400081038475037, 0.440552294254303, 0.44204285740852356]\n",
      "disco  mAP for 0.5:    [0.7041396498680115, 0.6893041729927063, 0.7005274295806885, 0.702607274055481, 0.686742901802063, 0.704325795173645, 0.6915467381477356, 0.6986805200576782, 0.6996493339538574, 0.706814169883728, 0.690908670425415, 0.6919620037078857, 0.6987825036048889, 0.6939088106155396, 0.6987210512161255, 0.685562789440155, 0.6951760649681091, 0.6968267560005188, 0.6941550374031067, 0.7029899954795837, 0.7008906602859497, 0.7010506391525269, 0.7029150128364563, 0.714216947555542, 0.6978011131286621]\n",
      "disco  mAP for 0.7:    [0.6482222676277161, 0.6346495747566223, 0.6462883353233337, 0.6458759903907776, 0.63651043176651, 0.6494662165641785, 0.6403467655181885, 0.6414947509765625, 0.644808828830719, 0.6504501104354858, 0.6387467384338379, 0.6375612616539001, 0.6416391134262085, 0.6404458284378052, 0.6416734457015991, 0.6327844262123108, 0.6412651538848877, 0.6412777900695801, 0.6378636956214905, 0.6470681428909302, 0.6434574723243713, 0.6446241736412048, 0.6452955007553101, 0.6542288661003113, 0.6438541412353516]\n",
      "upperbound  mAP for 0.5:    [0.7043049335479736, 0.7053579092025757, 0.7016857266426086, 0.6999720931053162, 0.7076866626739502, 0.7041683793067932, 0.7022151350975037, 0.7080696821212769, 0.7081447243690491, 0.7037987112998962, 0.7100719809532166, 0.7085566520690918, 0.7055761814117432, 0.7103233933448792, 0.7046430706977844, 0.7042325139045715, 0.7119002342224121, 0.7055177688598633, 0.7145909070968628, 0.709708571434021, 0.7113050818443298, 0.703076183795929, 0.7040321826934814, 0.706061840057373, 0.7082478404045105]\n",
      "upperbound  mAP for 0.7:    [0.6704253554344177, 0.6713224649429321, 0.6689038872718811, 0.6654007434844971, 0.6728066205978394, 0.6699526906013489, 0.6686842441558838, 0.6717615723609924, 0.673170268535614, 0.6697416305541992, 0.6722257137298584, 0.6727529764175415, 0.6688609719276428, 0.6720282435417175, 0.6677696704864502, 0.6685571670532227, 0.6750679612159729, 0.6706221103668213, 0.6741193532943726, 0.6710979342460632, 0.6697231531143188, 0.6670440435409546, 0.6651694774627686, 0.6682109832763672, 0.6711631417274475]\n"
     ]
    }
   ],
   "source": [
    "for i in range(len(mean)):\n",
    "    print(mode_list[i], \" mAP for 0.5:   \", det_results[i][0])\n",
    "    print(mode_list[i], \" mAP for 0.7:   \", det_results[i][1])"
   ]
  },
  {
   "cell_type": "markdown",
   "id": "1c862ca3-8172-45af-a263-cdc2a5e4493d",
   "metadata": {},
   "source": [
    "### Analyse each scene"
   ]
  },
  {
   "cell_type": "code",
   "execution_count": 10,
   "id": "5d62fd2e-ce9a-41e6-9784-045bba643756",
   "metadata": {},
   "outputs": [
    {
     "name": "stdout",
     "output_type": "stream",
     "text": [
      "lowerbound\n",
      "./det/check_nyu/lowerbound/no_rsu/all_scenes_mean_ap.npy\n",
      "27:     0.385(0.00677)    0.286(0.00810)\n",
      "92:     0.693(0.00479)    0.636(0.00526)\n",
      "5:     0.604(0.01024)    0.513(0.00859)\n",
      "28:     0.444(0.00504)    0.387(0.00437)\n",
      "97:     0.414(0.00555)    0.385(0.00541)\n",
      "29:     0.586(0.01067)    0.455(0.00509)\n",
      "8:     0.575(0.00392)    0.514(0.00374)\n",
      "96:     0.426(0.00484)    0.408(0.00445)\n",
      "91:     0.573(0.00470)    0.550(0.00430)\n",
      "19:     0.504(0.01226)    0.469(0.00779)\n",
      "disco\n",
      "./det/check_nyu/disco/no_rsu/all_scenes_mean_ap.npy\n",
      "91:     0.676(0.01057)    0.656(0.00858)\n",
      "97:     0.703(0.01141)    0.678(0.00880)\n",
      "28:     0.651(0.00794)    0.580(0.00705)\n",
      "19:     0.757(0.01711)    0.654(0.01411)\n",
      "8:     0.782(0.00310)    0.768(0.00485)\n",
      "5:     0.795(0.00339)    0.773(0.00330)\n",
      "27:     0.476(0.00640)    0.390(0.00754)\n",
      "29:     0.715(0.00746)    0.655(0.00858)\n",
      "96:     0.707(0.01065)    0.625(0.00906)\n",
      "92:     0.723(0.01173)    0.672(0.00951)\n",
      "upperbound\n",
      "./det/check_nyu/upperbound/no_rsu/all_scenes_mean_ap.npy\n",
      "28:     0.588(0.00585)    0.527(0.00430)\n",
      "19:     0.808(0.00780)    0.772(0.00681)\n",
      "27:     0.416(0.00614)    0.336(0.00535)\n",
      "92:     0.684(0.00583)    0.640(0.00535)\n",
      "97:     0.721(0.00504)    0.698(0.00333)\n",
      "8:     0.770(0.00353)    0.758(0.00305)\n",
      "5:     0.828(0.00339)    0.818(0.00346)\n",
      "96:     0.753(0.00529)    0.730(0.00633)\n",
      "29:     0.719(0.00631)    0.649(0.00609)\n",
      "91:     0.713(0.00444)    0.691(0.00421)\n"
     ]
    }
   ],
   "source": [
    "def show_scene_mean_std():\n",
    "    result = []\n",
    "    #mode_list = [\"upperbound\"]\n",
    "    for i in range(len(mode_list)):\n",
    "        file_path = os.path.join(mode_list[i], rsu)\n",
    "        file_path = os.path.join(file_path, 'all_scenes_mean_ap.npy')\n",
    "        file_path = os.path.join(det_log, file_path)\n",
    "        print(mode_list[i])\n",
    "        print(file_path)\n",
    "        data = np.load(file_path, allow_pickle=True).item()\n",
    "        for key, value in data.items():\n",
    "            mean = np.mean(value, axis=0)\n",
    "            std = np.std(value, axis=0)\n",
    "            string = \"{}: \".format(key) + \"    {0:.3f}\".format(mean[0][-1]) + \"({0:.5f})\".format(std[0][-1])+ \"    {0:.3f}\".format(mean[1][-1]) + \"({0:.5f})\".format(std[1][-1])\n",
    "            print(string)\n",
    "    return\n",
    "\n",
    "show_scene_mean_std()"
   ]
  },
  {
   "cell_type": "code",
   "execution_count": 17,
   "id": "a8f0f4e5-d6fb-4477-9549-7dbc16a4d5f1",
   "metadata": {},
   "outputs": [
    {
     "name": "stdout",
     "output_type": "stream",
     "text": [
      "{'8': [[0.7726448178291321, 0.8610109686851501, 0.7444735169410706, 0.6317248344421387, 0.7540466785430908, 0.7678820490837097], [0.7553267478942871, 0.8504055142402649, 0.7431247234344482, 0.6291897892951965, 0.7302101254463196, 0.7565855383872986]], '97': [[0.5423259735107422, 0.6667993068695068, 0.8496435284614563, 0.8849015831947327, 0.6952884197235107, 0.7178959846496582], [0.50236976146698, 0.6446855068206787, 0.8391231298446655, 0.8628597259521484, 0.6907229423522949, 0.6983575820922852]], '19': [[0.6668508648872375, 0.9539629817008972, 0.8230437636375427, 0.780773401260376, 0, 0.8017301559448242], [0.6447429060935974, 0.9262373447418213, 0.80611652135849, 0.7189436554908752, 0, 0.7688127756118774]], '28': [[0.5066487789154053, 0.6680319309234619, 0.566403329372406, 0, 0, 0.5796363949775696], [0.48355937004089355, 0.6347523331642151, 0.44632434844970703, 0, 0, 0.5214268565177917]], '27': [[0.29866862297058105, 0.4984737038612366, 0.4558710753917694, 0, 0, 0.41345080733299255], [0.2966594994068146, 0.4564405679702759, 0.24480219185352325, 0, 0, 0.33998075127601624]], '96': [[0.805952250957489, 0.8753728866577148, 0.6671044826507568, 0.6467266082763672, 0.8041340708732605, 0.7443304061889648], [0.7937952280044556, 0.8632788062095642, 0.6524705290794373, 0.6298853754997253, 0.7627195715904236, 0.7242300510406494]], '5': [[0.9245550036430359, 0.9492155909538269, 0.8976332545280457, 0.5638938546180725, 0, 0.8321223258972168], [0.9234219789505005, 0.9469671845436096, 0.8712428212165833, 0.5626404881477356, 0, 0.8238924145698547]], '92': [[0.6040160655975342, 0.7176689505577087, 0.7172786593437195, 0, 0, 0.680040717124939], [0.5746621489524841, 0.6626764535903931, 0.6924148797988892, 0, 0, 0.6431350708007812]], '29': [[0.7158476710319519, 0.7062899470329285, 0.7563454508781433, 0.7339320182800293, 0, 0.7276304960250854], [0.6387608647346497, 0.6173532009124756, 0.6704257726669312, 0.7022774815559387, 0, 0.6575833559036255]], '91': [[0.5701695084571838, 0.8973541259765625, 0.7012836933135986, 0.6701440215110779, 0, 0.7159802317619324], [0.541720449924469, 0.8782018423080444, 0.6711310744285583, 0.651028037071228, 0, 0.6916454434394836]]}\n"
     ]
    }
   ],
   "source": [
    "print(data)"
   ]
  },
  {
   "cell_type": "markdown",
   "id": "76636d66-e552-450f-b922-076388055f9f",
   "metadata": {},
   "source": [
    "## Tracking"
   ]
  },
  {
   "cell_type": "code",
   "execution_count": null,
   "id": "601289a5-3043-4f34-985c-0d0e6478491f",
   "metadata": {},
   "outputs": [],
   "source": []
  },
  {
   "cell_type": "code",
   "execution_count": 8,
   "id": "0296c121-fb1c-4047-9a4e-e59d43e6b5f6",
   "metadata": {},
   "outputs": [],
   "source": [
    "metric_list = ['bootstrap', 'MOTA', 'MOTP', 'HOTA', 'DetA', 'AssA', 'DetRe', 'DetPr', 'AssRe', 'AssPr', 'LocA']\n",
    "def extract_track_result():\n",
    "    result = []\n",
    "    for i in range(len(mode_list)):\n",
    "        file_path = os.path.join(track_log, mode_list[i])\n",
    "        file_path = os.path.join(file_path, \"logs_no_rsu_metric_all.npy\")\n",
    "        print(file_path)\n",
    "        data = np.load(file_path, allow_pickle=True)\n",
    "        result.append(data.item()['mean'][bootstrap_start:bootstrap_end])\n",
    "    return result"
   ]
  },
  {
   "cell_type": "code",
   "execution_count": 10,
   "id": "f82feac6-1c06-46a7-82dd-fac1a9c922e7",
   "metadata": {},
   "outputs": [
    {
     "name": "stdout",
     "output_type": "stream",
     "text": [
      "./track/logs/lowerbound/logs_no_rsu_metric_all.npy\n",
      "./track/logs/disco/logs_no_rsu_metric_all.npy\n",
      "./track/logs/when2com/logs_no_rsu_metric_all.npy\n",
      "./track/logs/upperbound/logs_no_rsu_metric_all.npy\n"
     ]
    }
   ],
   "source": [
    "track_results = extract_track_result()"
   ]
  },
  {
   "cell_type": "code",
   "execution_count": 11,
   "id": "3f103ae3-619e-4394-b815-aa3c847951cd",
   "metadata": {},
   "outputs": [],
   "source": [
    "track_mean = np.mean(track_results, axis = 1)\n",
    "track_std = np.std(track_results, axis = 1)"
   ]
  },
  {
   "cell_type": "code",
   "execution_count": 12,
   "id": "58fc815c-4ce3-40c3-bbc2-6e321704c370",
   "metadata": {},
   "outputs": [],
   "source": [
    "def print_metric(start, end):\n",
    "    title = \"mode\"\n",
    "    for i in range(start, end):\n",
    "        title += \"           \" + metric_list[i]\n",
    "    print(title)\n",
    "    for i in range(len(mean)):\n",
    "        st = mode_list_print[i]\n",
    "        for j in range(start, end):\n",
    "            st += \"  {0:.3f}\".format(track_mean[i][j]) + \"({0:.3f})\".format(track_std[i][j])\n",
    "        print(st)"
   ]
  },
  {
   "cell_type": "code",
   "execution_count": 13,
   "id": "8d798469-cabe-457f-b5ae-124e003f3f56",
   "metadata": {},
   "outputs": [
    {
     "name": "stdout",
     "output_type": "stream",
     "text": [
      "mode           MOTA           MOTP           HOTA           DetA           AssA\n",
      "lowerbound  35.515(0.504)  84.125(0.268)  34.279(0.246)  33.548(0.348)  36.342(0.246)\n",
      "disco       56.090(0.662)  86.182(0.160)  44.471(0.277)  51.802(0.499)  39.204(0.188)\n",
      "when2com    29.203(0.849)  85.682(0.382)  30.750(0.458)  27.519(0.840)  35.391(0.263)\n",
      "upperbound  58.119(0.414)  85.462(0.151)  44.789(0.178)  53.029(0.296)  38.855(0.158)\n",
      "mode           DetRe           DetPr           AssRe           AssPr           LocA\n",
      "lowerbound  34.984(0.391)  82.410(0.370)  46.895(0.316)  58.683(0.208)  86.342(0.177)\n",
      "disco       54.189(0.540)  86.300(0.569)  50.795(0.224)  59.061(0.121)  88.033(0.119)\n",
      "when2com    28.304(0.912)  85.662(0.613)  46.410(0.264)  59.271(0.387)  87.748(0.301)\n",
      "upperbound  55.180(0.281)  86.331(0.275)  50.221(0.187)  58.614(0.150)  87.329(0.114)\n"
     ]
    }
   ],
   "source": [
    "print_metric(1,6)\n",
    "print_metric(6,len(metric_list))"
   ]
  },
  {
   "cell_type": "code",
   "execution_count": 3,
   "id": "0f51a295-76df-4b05-b3cb-0fedc5a82963",
   "metadata": {},
   "outputs": [
    {
     "name": "stdout",
     "output_type": "stream",
     "text": [
      "['1', '2']\n"
     ]
    }
   ],
   "source": [
    "dic= {\"1\":1, \"2\":2}\n",
    "print(list(dic.keys()))"
   ]
  },
  {
   "cell_type": "code",
   "execution_count": null,
   "id": "6870a1d1-f384-4bae-922b-c88b214ee802",
   "metadata": {},
   "outputs": [],
   "source": []
  }
 ],
 "metadata": {
  "kernelspec": {
   "display_name": "Python 3 (ipykernel)",
   "language": "python",
   "name": "python3"
  },
  "language_info": {
   "codemirror_mode": {
    "name": "ipython",
    "version": 3
   },
   "file_extension": ".py",
   "mimetype": "text/x-python",
   "name": "python",
   "nbconvert_exporter": "python",
   "pygments_lexer": "ipython3",
   "version": "3.9.7"
  }
 },
 "nbformat": 4,
 "nbformat_minor": 5
}
