{
 "cells": [
  {
   "cell_type": "markdown",
   "id": "cf11557b-9d08-4fb9-92fc-4eb9b0444578",
   "metadata": {},
   "source": [
    "# Analyse data"
   ]
  },
  {
   "cell_type": "code",
   "execution_count": 1,
   "id": "396ec844-86ff-4ddd-81a7-3dc9de6fd276",
   "metadata": {},
   "outputs": [],
   "source": [
    "import numpy as np\n",
    "import os\n",
    "import pandas as pd\n",
    "import matplotlib.pyplot as plt\n",
    "import seaborn as sns\n",
    "import re\n",
    "import csv"
   ]
  },
  {
   "cell_type": "code",
   "execution_count": 58,
   "id": "a56db7c6-3b89-4313-bb5b-7078a0aa4a31",
   "metadata": {},
   "outputs": [],
   "source": [
    "det_log = './det/check_nyu'\n",
    "track_log = './track/logs'\n",
    "mode_list = ['lowerbound','disco', 'v2v', 'when2com','upperbound']\n",
    "mode_list_print = ['lowerbound','disco     ',  'v2v       ', 'when2com  ','upperbound']\n",
    "bootstrap_start = 0\n",
    "bootstrap_end = 25\n",
    "rsu = 'no_rsu'\n",
    "scene_dic = {0:'19', 1:'27', 2:'28', 3:'29', 4:'5', 5:'8', 6:'91', 7:'92', 8:'96', 9:'97'}"
   ]
  },
  {
   "cell_type": "markdown",
   "id": "cf6ae4b1-bbe1-42aa-bfaa-8cd5dd888de5",
   "metadata": {},
   "source": [
    "## Detection"
   ]
  },
  {
   "cell_type": "code",
   "execution_count": 4,
   "id": "7b347d98-11dd-4d3a-b5e0-257bdfdb8a1e",
   "metadata": {},
   "outputs": [],
   "source": [
    "def extract_one_det_results(file):\n",
    "    map_5 = []\n",
    "    map_7 = []\n",
    "    with open(file, 'r') as f:\n",
    "        lines = f.readlines()\n",
    "        for i in range(len(lines)):\n",
    "            if lines[i][:7] != 'average':\n",
    "                continue\n",
    "            split = lines[i].split()\n",
    "            map_5.append(float(split[4]))\n",
    "            map_7.append(float(split[10]))\n",
    "            if len(map_5) >= bootstrap_end:\n",
    "                break\n",
    "        f.close()\n",
    "    map_result = []\n",
    "    map_result.append(map_5)\n",
    "    map_result.append(map_7)\n",
    "    return map_result\n",
    "\n",
    "def extract__det_results():\n",
    "    result = []\n",
    "    for i in range(len(mode_list)):\n",
    "        file_path = os.path.join(mode_list[i], rsu)\n",
    "        file_path = os.path.join(file_path, 'log_test.txt')\n",
    "        file_path = os.path.join(det_log, file_path)\n",
    "        print(file_path)\n",
    "        temp_result = extract_one_det_results(file_path)\n",
    "        result.append(temp_result)\n",
    "    return result\n",
    "\n",
    "def compute_mean_variance(det_results):\n",
    "    result = []\n",
    "    for i in len(det_results):\n",
    "        for j in len(det_results[i]):\n",
    "            temp = []\n",
    "            mean = np.mean(det_results[i][j])\n",
    "            std = np.std()"
   ]
  },
  {
   "cell_type": "code",
   "execution_count": 5,
   "id": "9d504f91-03a5-4f6b-baeb-7da2c44336db",
   "metadata": {},
   "outputs": [
    {
     "name": "stdout",
     "output_type": "stream",
     "text": [
      "./det/check_nyu/lowerbound/no_rsu/log_test.txt\n",
      "./det/check_nyu/disco/no_rsu/log_test.txt\n",
      "./det/check_nyu/v2v/no_rsu/log_test.txt\n",
      "./det/check_nyu/when2com/no_rsu/log_test.txt\n",
      "./det/check_nyu/upperbound/no_rsu/log_test.txt\n"
     ]
    }
   ],
   "source": [
    "det_results = extract__det_results()\n",
    "mean = np.mean(det_results, axis = 2)\n",
    "std = np.std(det_results, axis = 2)"
   ]
  },
  {
   "cell_type": "code",
   "execution_count": 6,
   "id": "0ea44a70-31c6-4cf1-8c2b-4775270e27b1",
   "metadata": {},
   "outputs": [
    {
     "name": "stdout",
     "output_type": "stream",
     "text": [
      "mode          mAP(0.5)          mAP(0.7)\n",
      "lowerbound    0.497(0.00505)    0.441(0.00303)\n",
      "disco         0.698(0.00646)    0.643(0.00495)\n",
      "v2v        0.675(0.00793)    0.624(0.00526)\n",
      "when2com       0.434(0.01205)    0.393(0.00906)\n",
      "upperbound    0.707(0.00347)    0.670(0.00246)\n"
     ]
    }
   ],
   "source": [
    "print(\"mode          mAP(0.5)          mAP(0.7)\")\n",
    "for i in range(len(mean)):\n",
    "    st = mode_list_print[i] + \"    {0:.3f}\".format(mean[i][0]) + \"({0:.5f})\".format(std[i][0])+ \"    {0:.3f}\".format(mean[i][1]) + \"({0:.5f})\".format(std[i][1])\n",
    "    print(st)"
   ]
  },
  {
   "cell_type": "code",
   "execution_count": null,
   "id": "0751b581-5320-44a2-b6f1-b8a46b2d01a7",
   "metadata": {},
   "outputs": [],
   "source": [
    "for i in range(len(mean)):\n",
    "    print(mode_list[i], \" mAP for 0.5:   \", det_results[i][0])\n",
    "    print(mode_list[i], \" mAP for 0.7:   \", det_results[i][1])"
   ]
  },
  {
   "cell_type": "markdown",
   "id": "1c862ca3-8172-45af-a263-cdc2a5e4493d",
   "metadata": {},
   "source": [
    "### Analyse each scene"
   ]
  },
  {
   "cell_type": "code",
   "execution_count": 34,
   "id": "5d62fd2e-ce9a-41e6-9784-045bba643756",
   "metadata": {},
   "outputs": [],
   "source": [
    "def get_scene_mean_std():\n",
    "    #result : mode_num * scene_num * 4 (0.5 mean, std; 0.7 mean, std)\n",
    "    result = []\n",
    "    for i in range(len(mode_list)):\n",
    "        file_path = os.path.join(mode_list[i], rsu)\n",
    "        file_path = os.path.join(file_path, 'all_scenes_mean_ap.npy')\n",
    "        file_path = os.path.join(det_log, file_path)\n",
    "        print(mode_list[i])\n",
    "        print(file_path)\n",
    "        data = np.load(file_path, allow_pickle=True).item()\n",
    "        temp = []\n",
    "        for key, scene in scene_dic.items():\n",
    "            value = data[scene]\n",
    "            mean = np.mean(value, axis=0)\n",
    "            std = np.std(value, axis=0)\n",
    "            temp.append([mean[0][-1], std[0][-1], mean[1][-1], std[1][-1]])\n",
    "            #string = \"{}: \".format(scene) + \"    {0:.3f}\".format(mean[0][-1]) + \"({0:.5f})\".format(std[0][-1])+ \"    {0:.3f}\".format(mean[1][-1]) + \"({0:.5f})\".format(std[1][-1])\n",
    "            #print(string)\n",
    "        result.append(temp)\n",
    "    return result"
   ]
  },
  {
   "cell_type": "code",
   "execution_count": 39,
   "id": "a8f0f4e5-d6fb-4477-9549-7dbc16a4d5f1",
   "metadata": {},
   "outputs": [
    {
     "name": "stdout",
     "output_type": "stream",
     "text": [
      "lowerbound\n",
      "./det/check_nyu/lowerbound/no_rsu/all_scenes_mean_ap.npy\n",
      "disco\n",
      "./det/check_nyu/disco/no_rsu/all_scenes_mean_ap.npy\n",
      "v2v\n",
      "./det/check_nyu/v2v/no_rsu/all_scenes_mean_ap.npy\n",
      "when2com\n",
      "./det/check_nyu/when2com/no_rsu/all_scenes_mean_ap.npy\n",
      "upperbound\n",
      "./det/check_nyu/upperbound/no_rsu/all_scenes_mean_ap.npy\n",
      "mAP 0.5(std deviation)\n",
      "scene  lowerbound             disco             v2v             when2com             upperbound             \n",
      "19     0.504(0.01226)     0.757(0.01711)     0.714(0.01717)     0.453(0.01853)     0.808(0.00780)\n",
      "27     0.385(0.00677)     0.476(0.00640)     0.400(0.01200)     0.334(0.00747)     0.416(0.00614)\n",
      "28     0.444(0.00504)     0.651(0.00794)     0.587(0.01132)     0.380(0.00945)     0.588(0.00585)\n",
      "29     0.586(0.01067)     0.715(0.00746)     0.707(0.00806)     0.512(0.01671)     0.719(0.00631)\n",
      "5     0.604(0.01024)     0.795(0.00339)     0.769(0.01093)     0.525(0.01784)     0.828(0.00339)\n",
      "8     0.575(0.00392)     0.782(0.00310)     0.771(0.00347)     0.518(0.01394)     0.770(0.00353)\n",
      "91     0.573(0.00470)     0.676(0.01057)     0.666(0.00820)     0.524(0.01079)     0.713(0.00444)\n",
      "92     0.693(0.00479)     0.723(0.01173)     0.730(0.00837)     0.593(0.01540)     0.684(0.00583)\n",
      "96     0.426(0.00484)     0.707(0.01065)     0.696(0.01084)     0.372(0.01333)     0.753(0.00529)\n",
      "97     0.414(0.00555)     0.703(0.01141)     0.699(0.00883)     0.354(0.01593)     0.721(0.00504)\n"
     ]
    }
   ],
   "source": [
    "result = get_scene_mean_std()\n",
    "print(\"mAP 0.5(std deviation)\")\n",
    "strt = \"scene\" + \"  \"\n",
    "for i in mode_list:\n",
    "    strt +=  i + \"             \"\n",
    "print(strt)\n",
    "for scene in range(len(result[0])):\n",
    "    strt = scene_dic[scene]\n",
    "    for i in range(len(result)):\n",
    "        strt += \"     \" + \"{0:.3f}\".format(result[i][scene][0]) + \"({0:.5f})\".format(result[i][scene][1])\n",
    "    print(strt)"
   ]
  },
  {
   "cell_type": "code",
   "execution_count": 40,
   "id": "331385cc-9d82-4261-b852-69d7df14759c",
   "metadata": {},
   "outputs": [
    {
     "name": "stdout",
     "output_type": "stream",
     "text": [
      "mAP 0.7(std deviation)\n",
      "scene  lowerbound             disco             v2v             when2com             upperbound             \n",
      "19     0.469(0.00779)     0.654(0.01411)     0.648(0.01498)     0.406(0.01483)     0.772(0.00681)\n",
      "27     0.286(0.00810)     0.390(0.00754)     0.348(0.01129)     0.262(0.00958)     0.336(0.00535)\n",
      "28     0.387(0.00437)     0.580(0.00705)     0.525(0.00925)     0.347(0.00810)     0.527(0.00430)\n",
      "29     0.455(0.00509)     0.655(0.00858)     0.654(0.00769)     0.434(0.01171)     0.649(0.00609)\n",
      "5     0.513(0.00859)     0.773(0.00330)     0.757(0.01105)     0.501(0.01612)     0.818(0.00346)\n",
      "8     0.514(0.00374)     0.768(0.00485)     0.758(0.00277)     0.481(0.01121)     0.758(0.00305)\n",
      "91     0.550(0.00430)     0.656(0.00858)     0.645(0.00605)     0.496(0.01001)     0.691(0.00421)\n",
      "92     0.636(0.00526)     0.672(0.00951)     0.681(0.00500)     0.538(0.01319)     0.640(0.00535)\n",
      "96     0.408(0.00445)     0.625(0.00906)     0.620(0.01077)     0.344(0.01045)     0.730(0.00633)\n",
      "97     0.385(0.00541)     0.678(0.00880)     0.637(0.00644)     0.325(0.01222)     0.698(0.00333)\n"
     ]
    }
   ],
   "source": [
    "print(\"mAP 0.7(std deviation)\")\n",
    "strt = \"scene\" + \"  \"\n",
    "for i in mode_list:\n",
    "    strt +=  i + \"             \"\n",
    "print(strt)\n",
    "for scene in range(len(result[0])):\n",
    "    strt = scene_dic[scene]\n",
    "    for i in range(len(result)):\n",
    "        strt += \"     \" + \"{0:.3f}\".format(result[i][scene][2]) + \"({0:.5f})\".format(result[i][scene][3])\n",
    "    print(strt)"
   ]
  },
  {
   "cell_type": "markdown",
   "id": "76636d66-e552-450f-b922-076388055f9f",
   "metadata": {},
   "source": [
    "## Tracking"
   ]
  },
  {
   "cell_type": "code",
   "execution_count": 49,
   "id": "0296c121-fb1c-4047-9a4e-e59d43e6b5f6",
   "metadata": {},
   "outputs": [],
   "source": [
    "metric_list = ['bootstrap', 'MOTA', 'MOTP', 'HOTA', 'DetA', 'AssA', 'DetRe', 'DetPr', 'AssRe', 'AssPr', 'LocA']\n",
    "def extract_track_result():\n",
    "    result = []\n",
    "    for i in range(len(mode_list)):\n",
    "        file_path = os.path.join(track_log, mode_list[i])\n",
    "        file_path = os.path.join(file_path, \"logs_no_rsu_metric_all.npy\")\n",
    "        print(file_path)\n",
    "        data = np.load(file_path, allow_pickle=True)\n",
    "        result.append(data.item()['mean'][bootstrap_start:bootstrap_end])\n",
    "    return result"
   ]
  },
  {
   "cell_type": "code",
   "execution_count": 50,
   "id": "f82feac6-1c06-46a7-82dd-fac1a9c922e7",
   "metadata": {},
   "outputs": [
    {
     "name": "stdout",
     "output_type": "stream",
     "text": [
      "./track/logs/lowerbound/logs_no_rsu_metric_all.npy\n",
      "./track/logs/disco/logs_no_rsu_metric_all.npy\n",
      "./track/logs/v2v/logs_no_rsu_metric_all.npy\n",
      "./track/logs/when2com/logs_no_rsu_metric_all.npy\n",
      "./track/logs/upperbound/logs_no_rsu_metric_all.npy\n"
     ]
    }
   ],
   "source": [
    "track_results = extract_track_result()"
   ]
  },
  {
   "cell_type": "code",
   "execution_count": 51,
   "id": "3f103ae3-619e-4394-b815-aa3c847951cd",
   "metadata": {},
   "outputs": [],
   "source": [
    "track_mean = np.mean(track_results, axis = 1)\n",
    "track_std = np.std(track_results, axis = 1)"
   ]
  },
  {
   "cell_type": "code",
   "execution_count": 54,
   "id": "58fc815c-4ce3-40c3-bbc2-6e321704c370",
   "metadata": {},
   "outputs": [],
   "source": [
    "def print_metric(start, end):\n",
    "    title = \"mode\"\n",
    "    for i in range(start, end):\n",
    "        title += \"           \" + metric_list[i]\n",
    "    print(title)\n",
    "    for i in range(len(track_mean)):\n",
    "        st = mode_list_print[i]\n",
    "        for j in range(start, end):\n",
    "            st += \"  {0:.3f}\".format(track_mean[i][j]) + \"({0:.3f})\".format(track_std[i][j])\n",
    "        print(st)"
   ]
  },
  {
   "cell_type": "code",
   "execution_count": 59,
   "id": "8d798469-cabe-457f-b5ae-124e003f3f56",
   "metadata": {},
   "outputs": [
    {
     "name": "stdout",
     "output_type": "stream",
     "text": [
      "mode           MOTA           MOTP           HOTA           DetA           AssA\n",
      "lowerbound  35.515(0.504)  84.125(0.268)  34.279(0.246)  33.548(0.348)  36.342(0.246)\n",
      "disco       56.090(0.662)  86.182(0.160)  44.471(0.277)  51.802(0.499)  39.204(0.188)\n",
      "v2v         54.525(0.795)  85.453(0.233)  43.397(0.361)  50.119(0.663)  38.679(0.212)\n",
      "when2com    29.203(0.849)  85.682(0.382)  30.750(0.458)  27.519(0.840)  35.391(0.263)\n",
      "upperbound  58.119(0.414)  85.462(0.151)  44.789(0.178)  53.029(0.296)  38.855(0.158)\n",
      "mode           DetRe           DetPr           AssRe           AssPr           LocA\n",
      "lowerbound  34.984(0.391)  82.410(0.370)  46.895(0.316)  58.683(0.208)  86.342(0.177)\n",
      "disco       54.189(0.540)  86.300(0.569)  50.795(0.224)  59.061(0.121)  88.033(0.119)\n",
      "v2v         52.557(0.801)  85.072(0.446)  50.098(0.262)  58.652(0.107)  87.357(0.183)\n",
      "when2com    28.304(0.912)  85.662(0.613)  46.410(0.264)  59.271(0.387)  87.748(0.301)\n",
      "upperbound  55.180(0.281)  86.331(0.275)  50.221(0.187)  58.614(0.150)  87.329(0.114)\n"
     ]
    }
   ],
   "source": [
    "print_metric(1,6)\n",
    "print_metric(6,len(metric_list))"
   ]
  },
  {
   "cell_type": "markdown",
   "id": "5609a7c1-246c-4102-a600-44a6ab40b096",
   "metadata": {},
   "source": [
    "### Analyse each scene"
   ]
  },
  {
   "cell_type": "code",
   "execution_count": 4,
   "id": "1227255c-9857-4183-9159-051bd9f16572",
   "metadata": {},
   "outputs": [],
   "source": [
    "cvs_path = \"./track/TrackEval/data/trackers/mot_challenge\"\n",
    "start_agent = 1\n",
    "end_agent = 5"
   ]
  },
  {
   "cell_type": "code",
   "execution_count": 26,
   "id": "601289a5-3043-4f34-985c-0d0e6478491f",
   "metadata": {},
   "outputs": [],
   "source": [
    "def read_hota_for_one_file_for_scene(paths):\n",
    "    result = []\n",
    "    with open(paths,\"r\",encoding = \"utf-8\") as f:\n",
    "        reader = csv.reader(f)\n",
    "        rows = [row[:23] for row in reader]\n",
    "    rows = rows[1:len(rows)-1]\n",
    "    for i in range(len(rows)):\n",
    "        if rows[i][0] != scene_dic[i]:\n",
    "            print(\"Error for {}, scene {} {} mismatch\".format(paths, rows[i][0], scene_dic[i]))\n",
    "            break\n",
    "        values = [float(num) for num in rows[i][4:]]\n",
    "        result.append(np.mean(values))\n",
    "    return result\n",
    "def read_hota_for_one_method(algo):\n",
    "    result = []\n",
    "    for bootstrap in range(bootstrap_start, bootstrap_end+1):\n",
    "        hota_data = []\n",
    "        for i in range(start_agent, end_agent+1):\n",
    "            paths = cvs_path + f\"/V2X-test{i}\" + f\"/sort-{algo}/{rsu}/{bootstrap}/pedestrian_detailed_hota.csv\"\n",
    "            hota_data.append(read_hota_for_one_file_for_scene(paths))\n",
    "        hota_mean = []\n",
    "        for i in range(len(hota_data[0])):\n",
    "            temp = []\n",
    "            for j in range(len(hota_data)):\n",
    "                if hota_data[j][i] < 0.000001:\n",
    "                    continue\n",
    "                temp.append(hota_data[j][i])\n",
    "            hota_mean.append(np.mean(temp))\n",
    "        result.append(hota_mean)\n",
    "    return result\n",
    "def hota_analysis_all_methods():\n",
    "    # result: mode_num * 2 * scene_num\n",
    "    result = []\n",
    "    for i in range(len(mode_list)):\n",
    "        print(mode_list[i])\n",
    "        hota_data = read_hota_for_one_method(mode_list[i])\n",
    "        hota_data = np.array(hota_data) * 100\n",
    "        mean = np.mean(hota_data, axis=0)\n",
    "        std = np.std(hota_data, axis=0)\n",
    "        result.append([mean, std])\n",
    "        #for key,value in scene_dic.items():\n",
    "        #    print(\"{} scene: {} ({})\".format(value, mean[key], std[key]))\n",
    "    return result"
   ]
  },
  {
   "cell_type": "code",
   "execution_count": 27,
   "id": "2461a623-b377-4819-9be4-752249a7540e",
   "metadata": {},
   "outputs": [
    {
     "name": "stdout",
     "output_type": "stream",
     "text": [
      "lowerbound\n",
      "disco\n",
      "v2v\n",
      "when2com\n",
      "upperbound\n",
      "(5, 2, 10)\n"
     ]
    }
   ],
   "source": [
    "result = hota_analysis_all_methods()\n",
    "print(np.array(result).shape)"
   ]
  },
  {
   "cell_type": "code",
   "execution_count": 32,
   "id": "f49fa406-ad85-4dc9-92d4-3471ed7c270f",
   "metadata": {},
   "outputs": [
    {
     "name": "stdout",
     "output_type": "stream",
     "text": [
      "HOTA mean(std deviation)\n",
      "scene  lowerbound         disco         v2v         when2com         upperbound         \n",
      "19     35.18(0.75)     47.74(0.99)     45.24(0.81)     32.90(1.12)     50.89(0.61)\n",
      "27     32.91(0.72)     38.83(0.76)     35.94(0.72)     30.92(0.63)     35.85(0.30)\n",
      "28     29.88(0.19)     36.08(0.37)     34.17(0.33)     26.65(0.58)     32.02(0.26)\n",
      "29     32.16(0.32)     38.64(0.47)     38.44(0.29)     29.85(0.34)     37.61(0.26)\n",
      "5     46.06(0.45)     59.84(0.27)     57.97(0.41)     43.00(0.76)     60.53(0.62)\n",
      "8     41.32(0.27)     52.77(0.24)     51.02(0.36)     37.01(1.46)     51.09(0.26)\n",
      "91     27.21(0.33)     30.71(0.36)     30.57(0.38)     24.18(0.55)     32.10(0.28)\n",
      "92     37.91(0.22)     38.75(0.38)     37.89(0.21)     34.88(0.62)     37.09(0.35)\n",
      "96     31.19(0.38)     43.84(0.44)     42.89(0.39)     28.46(0.51)     44.27(0.33)\n",
      "97     32.45(0.60)     45.65(0.41)     44.74(0.42)     27.58(0.73)     46.50(0.35)\n"
     ]
    }
   ],
   "source": [
    "print(\"HOTA mean(std deviation)\")\n",
    "strt = \"scene\" + \"  \"\n",
    "for i in mode_list:\n",
    "    strt +=  i + \"         \"\n",
    "print(strt)\n",
    "for scene in range(len(result[0][0])):\n",
    "    strt = scene_dic[scene]\n",
    "    for i in range(len(result)):\n",
    "        strt += \"     \" + \"{0:.2f}\".format(result[i][0][scene]) + \"({0:.2f})\".format(result[i][1][scene])\n",
    "    print(strt)"
   ]
  },
  {
   "cell_type": "code",
   "execution_count": 45,
   "id": "48c19887-8fa6-4944-9d29-7aaaf114b9cc",
   "metadata": {},
   "outputs": [],
   "source": [
    "def read_mota_for_one_file_for_scene(paths):\n",
    "    result = []\n",
    "    with open(paths,\"r\",encoding = \"utf-8\") as f:\n",
    "        reader = csv.reader(f)\n",
    "        rows = [row[:3] for row in reader]\n",
    "    rows = rows[1:len(rows)-1]\n",
    "    for i in range(len(rows)):\n",
    "        if rows[i][0] != scene_dic[i]:\n",
    "            print(\"Error for {}, scene {} {} mismatch\".format(paths, rows[i][0], scene_dic[i]))\n",
    "            break\n",
    "        values = [float(num) for num in rows[i][1:]]\n",
    "        result.append(values)\n",
    "    return result\n",
    "def read_mota_for_one_method(algo):\n",
    "    mota_result = []\n",
    "    motp_result = []\n",
    "    for bootstrap in range(bootstrap_start, bootstrap_end+1):\n",
    "        mota_data = []\n",
    "        for i in range(start_agent, end_agent+1):\n",
    "            paths = cvs_path + f\"/V2X-test{i}\" + f\"/sort-{algo}/{rsu}/{bootstrap}/pedestrian_detailed_mota.csv\"\n",
    "            mota_data.append(read_mota_for_one_file_for_scene(paths))\n",
    "        mota_mean = []\n",
    "        motp_mean = []\n",
    "        for i in range(len(mota_data[0])):\n",
    "            mota_temp = []\n",
    "            motp_temp = []\n",
    "            for j in range(len(mota_data)):\n",
    "                if mota_data[j][i][0] > 0.000001:\n",
    "                    mota_temp.append(mota_data[j][i][0])\n",
    "                if mota_data[j][i][1] > 0.000001:\n",
    "                    motp_temp.append(mota_data[j][i][1])\n",
    "            mota_mean.append(np.mean(mota_temp))\n",
    "            motp_mean.append(np.mean(motp_temp))\n",
    "        mota_result.append(mota_mean)\n",
    "        motp_result.append(motp_mean)\n",
    "    return mota_result, motp_result\n",
    "def mota_analysis_all_methods():\n",
    "    # result: mode_num * 2 * scene_num\n",
    "    mota_result = []\n",
    "    motp_result = []\n",
    "    for i in range(len(mode_list)):\n",
    "        print(mode_list[i])\n",
    "        mota_data, motp_data = read_mota_for_one_method(mode_list[i])\n",
    "        mota_data = np.array(mota_data) * 100\n",
    "        mean = np.mean(mota_data, axis=0)\n",
    "        std = np.std(mota_data, axis=0)\n",
    "        mota_result.append([mean, std])\n",
    "        motp_data = np.array(motp_data) * 100\n",
    "        mean = np.mean(motp_data, axis=0)\n",
    "        std = np.std(motp_data, axis=0)\n",
    "        motp_result.append([mean, std])\n",
    "        #for key,value in scene_dic.items():\n",
    "        #    print(\"{} scene: {} ({})\".format(value, mean[key], std[key]))\n",
    "    return mota_result, motp_result"
   ]
  },
  {
   "cell_type": "code",
   "execution_count": 46,
   "id": "73497fe7-b672-464e-9267-b554e8fb17bb",
   "metadata": {},
   "outputs": [
    {
     "name": "stdout",
     "output_type": "stream",
     "text": [
      "lowerbound\n",
      "disco\n",
      "v2v\n",
      "when2com\n",
      "upperbound\n",
      "(5, 2, 10)\n",
      "(5, 2, 10)\n"
     ]
    }
   ],
   "source": [
    "mota_result, motp_result = mota_analysis_all_methods()\n",
    "print(np.array(mota_result).shape)\n",
    "print(np.array(motp_result).shape)"
   ]
  },
  {
   "cell_type": "code",
   "execution_count": 47,
   "id": "11518846-a71a-4312-80e5-3c485992dc05",
   "metadata": {},
   "outputs": [
    {
     "name": "stdout",
     "output_type": "stream",
     "text": [
      "MOTA mean(std deviation)\n",
      "scene  lowerbound         disco         v2v         when2com         upperbound         \n",
      "19     42.41(1.39)     65.73(2.38)     62.71(2.05)     36.47(1.74)     71.86(1.00)\n",
      "27     28.02(0.99)     36.49(1.14)     30.55(1.23)     19.99(1.28)     29.03(0.82)\n",
      "28     32.80(0.40)     48.57(1.03)     43.97(0.99)     26.20(0.86)     43.18(0.66)\n",
      "29     41.01(0.88)     53.00(1.04)     53.44(0.80)     32.89(1.19)     52.47(0.68)\n",
      "5     47.06(1.43)     72.78(0.57)     70.55(1.33)     42.22(1.65)     76.40(2.77)\n",
      "8     44.65(0.35)     68.43(0.31)     66.74(0.45)     37.78(1.64)     65.50(0.46)\n",
      "91     40.13(0.47)     46.90(0.87)     47.15(0.65)     34.74(1.21)     51.04(0.47)\n",
      "92     40.27(0.45)     42.12(0.86)     39.64(1.08)     32.09(1.29)     38.83(0.58)\n",
      "96     33.39(0.77)     61.19(1.02)     58.62(1.21)     28.32(0.94)     66.49(0.77)\n",
      "97     30.42(0.65)     57.52(0.75)     55.78(0.99)     24.32(1.26)     61.28(0.36)\n"
     ]
    }
   ],
   "source": [
    "print(\"MOTA mean(std deviation)\")\n",
    "strt = \"scene\" + \"  \"\n",
    "for i in mode_list:\n",
    "    strt +=  i + \"         \"\n",
    "print(strt)\n",
    "for scene in range(len(mota_result[0][0])):\n",
    "    strt = scene_dic[scene]\n",
    "    for i in range(len(mota_result)):\n",
    "        strt += \"     \" + \"{0:.2f}\".format(mota_result[i][0][scene]) + \"({0:.2f})\".format(mota_result[i][1][scene])\n",
    "    print(strt)"
   ]
  },
  {
   "cell_type": "code",
   "execution_count": 48,
   "id": "873502d3-8139-4007-b42d-366ae6333f9f",
   "metadata": {},
   "outputs": [
    {
     "name": "stdout",
     "output_type": "stream",
     "text": [
      "MOTP mean(std deviation)\n",
      "scene  lowerbound         disco         v2v         when2com         upperbound         \n",
      "19     85.26(0.40)     85.26(0.37)     84.75(0.37)     85.76(0.64)     85.98(0.27)\n",
      "27     83.02(0.38)     83.28(0.44)     85.67(0.57)     85.06(0.80)     84.52(0.55)\n",
      "28     84.65(0.31)     84.08(0.26)     85.02(0.31)     86.32(0.42)     83.53(0.21)\n",
      "29     81.73(0.32)     86.48(0.40)     86.30(0.32)     83.56(0.56)     86.16(0.26)\n",
      "5     84.50(0.87)     88.98(0.23)     87.47(0.42)     86.26(0.69)     87.10(0.26)\n",
      "8     84.32(0.39)     86.65(0.26)     84.74(0.29)     85.88(1.40)     86.16(0.16)\n",
      "91     85.29(0.21)     87.06(0.19)     86.60(0.32)     86.58(0.42)     85.69(0.16)\n",
      "92     83.50(0.38)     83.80(0.51)     83.18(0.40)     84.23(0.58)     84.80(0.28)\n",
      "96     84.25(0.44)     86.01(0.33)     85.03(0.40)     85.85(0.50)     85.04(0.34)\n",
      "97     84.20(0.38)     86.57(0.26)     85.42(0.36)     85.13(0.67)     85.72(0.24)\n"
     ]
    }
   ],
   "source": [
    "print(\"MOTP mean(std deviation)\")\n",
    "strt = \"scene\" + \"  \"\n",
    "for i in mode_list:\n",
    "    strt +=  i + \"         \"\n",
    "print(strt)\n",
    "for scene in range(len(motp_result[0][0])):\n",
    "    strt = scene_dic[scene]\n",
    "    for i in range(len(motp_result)):\n",
    "        strt += \"     \" + \"{0:.2f}\".format(motp_result[i][0][scene]) + \"({0:.2f})\".format(motp_result[i][1][scene])\n",
    "    print(strt)"
   ]
  },
  {
   "cell_type": "code",
   "execution_count": null,
   "id": "204ea61c-0f33-44dd-a127-5774abe9b51b",
   "metadata": {},
   "outputs": [],
   "source": []
  }
 ],
 "metadata": {
  "kernelspec": {
   "display_name": "Python 3 (ipykernel)",
   "language": "python",
   "name": "python3"
  },
  "language_info": {
   "codemirror_mode": {
    "name": "ipython",
    "version": 3
   },
   "file_extension": ".py",
   "mimetype": "text/x-python",
   "name": "python",
   "nbconvert_exporter": "python",
   "pygments_lexer": "ipython3",
   "version": "3.9.7"
  }
 },
 "nbformat": 4,
 "nbformat_minor": 5
}
