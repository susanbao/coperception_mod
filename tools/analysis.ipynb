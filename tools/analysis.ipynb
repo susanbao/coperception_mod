{
 "cells": [
  {
   "cell_type": "markdown",
   "id": "cf11557b-9d08-4fb9-92fc-4eb9b0444578",
   "metadata": {},
   "source": [
    "# Analyse data"
   ]
  },
  {
   "cell_type": "code",
   "execution_count": 1,
   "id": "396ec844-86ff-4ddd-81a7-3dc9de6fd276",
   "metadata": {},
   "outputs": [],
   "source": [
    "import numpy as np\n",
    "import os\n",
    "import pandas as pd\n",
    "import matplotlib.pyplot as plt\n",
    "import seaborn as sns\n",
    "import re"
   ]
  },
  {
   "cell_type": "code",
   "execution_count": 6,
   "id": "a56db7c6-3b89-4313-bb5b-7078a0aa4a31",
   "metadata": {},
   "outputs": [],
   "source": [
    "det_log = './det/check_nyu'\n",
    "track_log = './track/logs'\n",
    "mode_list = ['lowerbound','disco', 'when2com','upperbound']\n",
    "mode_list_print = ['lowerbound','disco     ', 'when2com  ', 'upperbound']\n",
    "bootstrap_start = 0\n",
    "bootstrap_end = 25\n",
    "rsu = 'no_rsu'"
   ]
  },
  {
   "cell_type": "markdown",
   "id": "cf6ae4b1-bbe1-42aa-bfaa-8cd5dd888de5",
   "metadata": {},
   "source": [
    "## Detection"
   ]
  },
  {
   "cell_type": "code",
   "execution_count": 3,
   "id": "7b347d98-11dd-4d3a-b5e0-257bdfdb8a1e",
   "metadata": {},
   "outputs": [],
   "source": [
    "def extract_one_det_results(file):\n",
    "    map_5 = []\n",
    "    map_7 = []\n",
    "    with open(file, 'r') as f:\n",
    "        lines = f.readlines()\n",
    "        for i in range(len(lines)):\n",
    "            if lines[i][:7] != 'average':\n",
    "                continue\n",
    "            split = lines[i].split()\n",
    "            map_5.append(float(split[4]))\n",
    "            map_7.append(float(split[10]))\n",
    "            if len(map_5) >= bootstrap_end:\n",
    "                break\n",
    "        f.close()\n",
    "    map_result = []\n",
    "    map_result.append(map_5)\n",
    "    map_result.append(map_7)\n",
    "    return map_result\n",
    "\n",
    "def extract__det_results():\n",
    "    result = []\n",
    "    for i in range(len(mode_list)):\n",
    "        file_path = os.path.join(mode_list[i], rsu)\n",
    "        file_path = os.path.join(file_path, 'log_test.txt')\n",
    "        file_path = os.path.join(det_log, file_path)\n",
    "        print(file_path)\n",
    "        temp_result = extract_one_det_results(file_path)\n",
    "        result.append(temp_result)\n",
    "    return result\n",
    "\n",
    "def compute_mean_variance(det_results):\n",
    "    result = []\n",
    "    for i in len(det_results):\n",
    "        for j in len(det_results[i]):\n",
    "            temp = []\n",
    "            mean = np.mean(det_results[i][j])\n",
    "            std = np.std()"
   ]
  },
  {
   "cell_type": "code",
   "execution_count": 4,
   "id": "9d504f91-03a5-4f6b-baeb-7da2c44336db",
   "metadata": {},
   "outputs": [
    {
     "name": "stdout",
     "output_type": "stream",
     "text": [
      "./det/check_nyu/lowerbound/no_rsu/log_test.txt\n",
      "./det/check_nyu/disco/no_rsu/log_test.txt\n",
      "./det/check_nyu/when2com/no_rsu/log_test.txt\n",
      "./det/check_nyu/upperbound/no_rsu/log_test.txt\n"
     ]
    }
   ],
   "source": [
    "det_results = extract__det_results()\n",
    "mean = np.mean(det_results, axis = 2)\n",
    "std = np.std(det_results, axis = 2)"
   ]
  },
  {
   "cell_type": "code",
   "execution_count": 7,
   "id": "0ea44a70-31c6-4cf1-8c2b-4775270e27b1",
   "metadata": {},
   "outputs": [
    {
     "name": "stdout",
     "output_type": "stream",
     "text": [
      "mode          mAP(0.5)          mAP(0.7)\n",
      "lowerbound    0.497(0.00505)    0.441(0.00303)\n",
      "disco         0.698(0.00646)    0.643(0.00495)\n",
      "when2com      0.434(0.01238)    0.393(0.00910)\n",
      "upperbound    0.707(0.00347)    0.670(0.00246)\n"
     ]
    }
   ],
   "source": [
    "print(\"mode          mAP(0.5)          mAP(0.7)\")\n",
    "for i in range(len(mean)):\n",
    "    st = mode_list_print[i] + \"    {0:.3f}\".format(mean[i][0]) + \"({0:.5f})\".format(std[i][0])+ \"    {0:.3f}\".format(mean[i][1]) + \"({0:.5f})\".format(std[i][1])\n",
    "    print(st)"
   ]
  },
  {
   "cell_type": "code",
   "execution_count": 6,
   "id": "0751b581-5320-44a2-b6f1-b8a46b2d01a7",
   "metadata": {},
   "outputs": [
    {
     "name": "stdout",
     "output_type": "stream",
     "text": [
      "lowerbound  mAP for 0.5:    [0.49900713562965393, 0.4939224421977997, 0.4988515377044678, 0.49761611223220825, 0.49413973093032837, 0.4971027970314026, 0.4889352321624756, 0.4948710799217224, 0.48600688576698303, 0.501207709312439, 0.49157965183258057, 0.49067413806915283, 0.5018049478530884, 0.4974174201488495, 0.5072156190872192, 0.4910263419151306, 0.5050339102745056, 0.5023539066314697, 0.49121975898742676, 0.49950000643730164, 0.4985678493976593, 0.49659666419029236, 0.49934840202331543, 0.49260687828063965, 0.500501275062561]\n",
      "lowerbound  mAP for 0.7:    [0.4421604871749878, 0.44027259945869446, 0.4383939504623413, 0.44108614325523376, 0.4399482011795044, 0.4382987916469574, 0.4359024167060852, 0.4399508833885193, 0.4344748258590698, 0.4429028630256653, 0.4399273693561554, 0.4362139403820038, 0.44486764073371887, 0.44215914607048035, 0.4484386146068573, 0.43725186586380005, 0.4426913857460022, 0.44167232513427734, 0.4382147192955017, 0.44344666600227356, 0.4422401189804077, 0.43898871541023254, 0.44400081038475037, 0.440552294254303, 0.44204285740852356]\n",
      "disco  mAP for 0.5:    [0.7041396498680115, 0.6893041729927063, 0.7005274295806885, 0.702607274055481, 0.686742901802063, 0.704325795173645, 0.6915467381477356, 0.6986805200576782, 0.6996493339538574, 0.706814169883728, 0.690908670425415, 0.6919620037078857, 0.6987825036048889, 0.6939088106155396, 0.6987210512161255, 0.685562789440155, 0.6951760649681091, 0.6968267560005188, 0.6941550374031067, 0.7029899954795837, 0.7008906602859497, 0.7010506391525269, 0.7029150128364563, 0.714216947555542, 0.6978011131286621]\n",
      "disco  mAP for 0.7:    [0.6482222676277161, 0.6346495747566223, 0.6462883353233337, 0.6458759903907776, 0.63651043176651, 0.6494662165641785, 0.6403467655181885, 0.6414947509765625, 0.644808828830719, 0.6504501104354858, 0.6387467384338379, 0.6375612616539001, 0.6416391134262085, 0.6404458284378052, 0.6416734457015991, 0.6327844262123108, 0.6412651538848877, 0.6412777900695801, 0.6378636956214905, 0.6470681428909302, 0.6434574723243713, 0.6446241736412048, 0.6452955007553101, 0.6542288661003113, 0.6438541412353516]\n",
      "upperbound  mAP for 0.5:    [0.7043049335479736, 0.7053579092025757, 0.7016857266426086, 0.6999720931053162, 0.7076866626739502, 0.7041683793067932, 0.7022151350975037, 0.7080696821212769, 0.7081447243690491, 0.7037987112998962, 0.7100719809532166, 0.7085566520690918, 0.7055761814117432, 0.7103233933448792, 0.7046430706977844, 0.7042325139045715, 0.7119002342224121, 0.7055177688598633, 0.7145909070968628, 0.709708571434021, 0.7113050818443298, 0.703076183795929, 0.7040321826934814, 0.706061840057373, 0.7082478404045105]\n",
      "upperbound  mAP for 0.7:    [0.6704253554344177, 0.6713224649429321, 0.6689038872718811, 0.6654007434844971, 0.6728066205978394, 0.6699526906013489, 0.6686842441558838, 0.6717615723609924, 0.673170268535614, 0.6697416305541992, 0.6722257137298584, 0.6727529764175415, 0.6688609719276428, 0.6720282435417175, 0.6677696704864502, 0.6685571670532227, 0.6750679612159729, 0.6706221103668213, 0.6741193532943726, 0.6710979342460632, 0.6697231531143188, 0.6670440435409546, 0.6651694774627686, 0.6682109832763672, 0.6711631417274475]\n"
     ]
    }
   ],
   "source": [
    "for i in range(len(mean)):\n",
    "    print(mode_list[i], \" mAP for 0.5:   \", det_results[i][0])\n",
    "    print(mode_list[i], \" mAP for 0.7:   \", det_results[i][1])"
   ]
  },
  {
   "cell_type": "markdown",
   "id": "76636d66-e552-450f-b922-076388055f9f",
   "metadata": {},
   "source": [
    "## Tracking"
   ]
  },
  {
   "cell_type": "code",
   "execution_count": 8,
   "id": "0296c121-fb1c-4047-9a4e-e59d43e6b5f6",
   "metadata": {},
   "outputs": [],
   "source": [
    "metric_list = ['bootstrap', 'MOTA', 'MOTP', 'HOTA', 'DetA', 'AssA', 'DetRe', 'DetPr', 'AssRe', 'AssPr', 'LocA']\n",
    "def extract_track_result():\n",
    "    result = []\n",
    "    for i in range(len(mode_list)):\n",
    "        file_path = os.path.join(track_log, mode_list[i])\n",
    "        file_path = os.path.join(file_path, \"logs_no_rsu_metric_all.npy\")\n",
    "        print(file_path)\n",
    "        data = np.load(file_path, allow_pickle=True)\n",
    "        result.append(data.item()['mean'][bootstrap_start:bootstrap_end])\n",
    "    return result"
   ]
  },
  {
   "cell_type": "code",
   "execution_count": 10,
   "id": "f82feac6-1c06-46a7-82dd-fac1a9c922e7",
   "metadata": {},
   "outputs": [
    {
     "name": "stdout",
     "output_type": "stream",
     "text": [
      "./track/logs/lowerbound/logs_no_rsu_metric_all.npy\n",
      "./track/logs/disco/logs_no_rsu_metric_all.npy\n",
      "./track/logs/when2com/logs_no_rsu_metric_all.npy\n",
      "./track/logs/upperbound/logs_no_rsu_metric_all.npy\n"
     ]
    }
   ],
   "source": [
    "track_results = extract_track_result()"
   ]
  },
  {
   "cell_type": "code",
   "execution_count": 11,
   "id": "3f103ae3-619e-4394-b815-aa3c847951cd",
   "metadata": {},
   "outputs": [],
   "source": [
    "track_mean = np.mean(track_results, axis = 1)\n",
    "track_std = np.std(track_results, axis = 1)"
   ]
  },
  {
   "cell_type": "code",
   "execution_count": 12,
   "id": "58fc815c-4ce3-40c3-bbc2-6e321704c370",
   "metadata": {},
   "outputs": [],
   "source": [
    "def print_metric(start, end):\n",
    "    title = \"mode\"\n",
    "    for i in range(start, end):\n",
    "        title += \"           \" + metric_list[i]\n",
    "    print(title)\n",
    "    for i in range(len(mean)):\n",
    "        st = mode_list_print[i]\n",
    "        for j in range(start, end):\n",
    "            st += \"  {0:.3f}\".format(track_mean[i][j]) + \"({0:.3f})\".format(track_std[i][j])\n",
    "        print(st)"
   ]
  },
  {
   "cell_type": "code",
   "execution_count": 13,
   "id": "8d798469-cabe-457f-b5ae-124e003f3f56",
   "metadata": {},
   "outputs": [
    {
     "name": "stdout",
     "output_type": "stream",
     "text": [
      "mode           MOTA           MOTP           HOTA           DetA           AssA\n",
      "lowerbound  35.515(0.504)  84.125(0.268)  34.279(0.246)  33.548(0.348)  36.342(0.246)\n",
      "disco       56.090(0.662)  86.182(0.160)  44.471(0.277)  51.802(0.499)  39.204(0.188)\n",
      "when2com    29.203(0.849)  85.682(0.382)  30.750(0.458)  27.519(0.840)  35.391(0.263)\n",
      "upperbound  58.119(0.414)  85.462(0.151)  44.789(0.178)  53.029(0.296)  38.855(0.158)\n",
      "mode           DetRe           DetPr           AssRe           AssPr           LocA\n",
      "lowerbound  34.984(0.391)  82.410(0.370)  46.895(0.316)  58.683(0.208)  86.342(0.177)\n",
      "disco       54.189(0.540)  86.300(0.569)  50.795(0.224)  59.061(0.121)  88.033(0.119)\n",
      "when2com    28.304(0.912)  85.662(0.613)  46.410(0.264)  59.271(0.387)  87.748(0.301)\n",
      "upperbound  55.180(0.281)  86.331(0.275)  50.221(0.187)  58.614(0.150)  87.329(0.114)\n"
     ]
    }
   ],
   "source": [
    "print_metric(1,6)\n",
    "print_metric(6,len(metric_list))"
   ]
  },
  {
   "cell_type": "code",
   "execution_count": null,
   "id": "0f51a295-76df-4b05-b3cb-0fedc5a82963",
   "metadata": {},
   "outputs": [],
   "source": []
  }
 ],
 "metadata": {
  "kernelspec": {
   "display_name": "Python 3 (ipykernel)",
   "language": "python",
   "name": "python3"
  },
  "language_info": {
   "codemirror_mode": {
    "name": "ipython",
    "version": 3
   },
   "file_extension": ".py",
   "mimetype": "text/x-python",
   "name": "python",
   "nbconvert_exporter": "python",
   "pygments_lexer": "ipython3",
   "version": "3.7.0"
  }
 },
 "nbformat": 4,
 "nbformat_minor": 5
}
