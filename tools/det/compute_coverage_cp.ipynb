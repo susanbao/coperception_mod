{
 "cells": [
  {
   "cell_type": "markdown",
   "id": "19442b41-8cf2-4bc5-b492-bd836e8c0a61",
   "metadata": {},
   "source": [
    "# Checking for Correct Coverage for Conformal Prediction"
   ]
  },
  {
   "cell_type": "code",
   "execution_count": 3,
   "id": "ea681762-d0ee-4ee8-8989-b5269a57df40",
   "metadata": {},
   "outputs": [],
   "source": [
    "import numpy as np\n",
    "import torch\n",
    "import math\n",
    "import matplotlib.pyplot as plt "
   ]
  },
  {
   "cell_type": "markdown",
   "id": "97d59aff-c56d-4b36-bec9-451ba9450ac5",
   "metadata": {},
   "source": [
    "## for kl_loss_corner"
   ]
  },
  {
   "cell_type": "code",
   "execution_count": 4,
   "id": "0bbe01e5-123c-44c6-a388-e398e6a62dc4",
   "metadata": {},
   "outputs": [],
   "source": [
    "def compute_score(data_path):\n",
    "    data = np.load(data_path, allow_pickle=True)\n",
    "    tp = data.item()['tp']\n",
    "    scores = []\n",
    "    for i in range(len(tp)):\n",
    "        prediction = np.array(tp[i][0])\n",
    "        pred = prediction[:,:8]\n",
    "        target = np.array(tp[i][1])\n",
    "        cov = prediction[:,9:]\n",
    "        score = np.abs(pred-target) / np.sqrt(np.exp(cov))\n",
    "        for s in score:\n",
    "            scores.append(list(s))\n",
    "    return np.array(scores)\n",
    "\n",
    "def compute_quantile(scores, alpha):\n",
    "    n = scores.shape[0]\n",
    "    q_level = np.ceil((n+1)*(1-alpha))/n\n",
    "    quantile = []\n",
    "    for i in range(scores.shape[1]):\n",
    "        q = np.quantile(scores[:,i], q_level, interpolation='higher')\n",
    "        quantile.append(q)\n",
    "    return quantile"
   ]
  },
  {
   "cell_type": "code",
   "execution_count": 30,
   "id": "6ce9549b-6376-4867-ac64-e6525e8dc5c9",
   "metadata": {},
   "outputs": [],
   "source": [
    "def show_coverage(data_path_cal, data_path_test, alpha, ty = 0, R=20, n=2000):\n",
    "    scores_cal = compute_score(data_path_cal)\n",
    "    scores_test = compute_score(data_path_test)\n",
    "    if ty == 0:\n",
    "        n_cal = math.ceil(scores_cal.shape[0] / R)\n",
    "        n_test = math.ceil(scores_test.shape[0] / R)\n",
    "    elif ty == 1:\n",
    "        n_cal = n\n",
    "        R = math.ceil(scores_cal.shape[0] / n)\n",
    "        n_test = math.ceil(scores_test.shape[0] / R)\n",
    "    else:\n",
    "        print(\"ERROR\")\n",
    "    coverages = np.zeros((R,))\n",
    "    print(\"R: {}, n_cal: {}, n_test: {}\".format(R, n_cal, n_test))\n",
    "    for r in range(R):\n",
    "        np.random.shuffle(scores_cal)\n",
    "        np.random.shuffle(scores_test)\n",
    "        scores_cal_d = scores_cal[:n_cal,:]\n",
    "        scores_test_d = scores_test[:n_test,:]\n",
    "        qhat = np.array(compute_quantile(scores_cal_d, alpha))\n",
    "        coverages[r] = (scores_test_d <= qhat).astype(float).mean()\n",
    "    average_coverage = coverages.mean()\n",
    "    print(\"average coverage {} for 1-alpha {}\".format(average_coverage, 1-alpha))\n",
    "    print(\"coverage diff {}\".format(1-alpha - average_coverage))\n",
    "    plt.hist(coverages)\n",
    "    return average_coverage"
   ]
  },
  {
   "cell_type": "markdown",
   "id": "051902c9-ad0d-4cf5-beae-b29a6d01ceda",
   "metadata": {},
   "source": [
    "### disco"
   ]
  },
  {
   "cell_type": "code",
   "execution_count": 31,
   "id": "8a0930f0-a893-4b7a-b52b-3997080a40c3",
   "metadata": {},
   "outputs": [
    {
     "name": "stdout",
     "output_type": "stream",
     "text": [
      "R: 40, n_cal: 1040, n_test: 823\n",
      "average coverage 0.6613684690157958 for 1-alpha 0.6827\n",
      "coverage diff 0.02133153098420415\n"
     ]
    },
    {
     "data": {
      "image/png": "[encoded data removed]",
      "text/plain": [
       "<Figure size 432x288 with 1 Axes>"
      ]
     },
     "metadata": {
      "needs_background": "light"
     },
     "output_type": "display_data"
    }
   ],
   "source": [
    "data_path_cal = \"check/check_loss_two_step_corner_val/disco/no_rsu/match_all_data_100_5.npy\"\n",
    "data_path_test = \"check/check_loss_two_step_corner/disco/no_rsu/match_all_data_100_5.npy\"\n",
    "confident_range = 0.6827\n",
    "average_coverage = show_coverage(data_path_cal, data_path_test, 1-confident_range, ty=0, R=40)"
   ]
  },
  {
   "cell_type": "code",
   "execution_count": 32,
   "id": "6931947d-d9b4-46b3-88d9-bce0c6f11b27",
   "metadata": {},
   "outputs": [
    {
     "name": "stdout",
     "output_type": "stream",
     "text": [
      "R: 21, n_cal: 2000, n_test: 1566\n",
      "average coverage 0.6627554278416347 for 1-alpha 0.6827\n",
      "coverage diff 0.019944572158365315\n"
     ]
    },
    {
     "data": {
      "image/png": "[encoded data removed]",
      "text/plain": [
       "<Figure size 432x288 with 1 Axes>"
      ]
     },
     "metadata": {
      "needs_background": "light"
     },
     "output_type": "display_data"
    }
   ],
   "source": [
    "data_path_cal = \"check/check_loss_two_step_corner_val/disco/no_rsu/match_all_data_100_5.npy\"\n",
    "data_path_test = \"check/check_loss_two_step_corner/disco/no_rsu/match_all_data_100_5.npy\"\n",
    "confident_range = 0.6827\n",
    "average_coverage = show_coverage(data_path_cal, data_path_test, 1-confident_range, ty=1, n=2000)"
   ]
  },
  {
   "cell_type": "code",
   "execution_count": 33,
   "id": "b888efbb-e3d3-4a8e-9f6e-48a9e4b66ecb",
   "metadata": {},
   "outputs": [
    {
     "name": "stdout",
     "output_type": "stream",
     "text": [
      "R: 21, n_cal: 2000, n_test: 1566\n",
      "average coverage 0.9422284558778813 for 1-alpha 0.9973\n",
      "coverage diff 0.055071544122118676\n"
     ]
    },
    {
     "data": {
      "image/png": "[encoded data removed]",
      "text/plain": [
       "<Figure size 432x288 with 1 Axes>"
      ]
     },
     "metadata": {
      "needs_background": "light"
     },
     "output_type": "display_data"
    }
   ],
   "source": [
    "data_path_cal = \"check/check_loss_two_step_corner_val/disco/no_rsu/match_all_data_100_5.npy\"\n",
    "data_path_test = \"check/check_loss_two_step_corner/disco/no_rsu/match_all_data_100_5.npy\"\n",
    "confident_range = 0.9973\n",
    "average_coverage = show_coverage(data_path_cal, data_path_test, 1-confident_range, ty=1, n=2000)"
   ]
  },
  {
   "cell_type": "markdown",
   "id": "37584cf5-c2d0-4386-a93c-e5bcd78231f2",
   "metadata": {},
   "source": [
    "### upperbound"
   ]
  },
  {
   "cell_type": "code",
   "execution_count": 34,
   "id": "ccd893e0-41d4-48f2-8e0c-38f62097aa37",
   "metadata": {},
   "outputs": [
    {
     "name": "stdout",
     "output_type": "stream",
     "text": [
      "R: 22, n_cal: 2000, n_test: 1543\n",
      "average coverage 0.6108046603428975 for 1-alpha 0.6827\n",
      "coverage diff 0.07189533965710249\n"
     ]
    },
    {
     "data": {
      "image/png": "[encoded data removed]",
      "text/plain": [
       "<Figure size 432x288 with 1 Axes>"
      ]
     },
     "metadata": {
      "needs_background": "light"
     },
     "output_type": "display_data"
    }
   ],
   "source": [
    "data_path_cal = \"check/check_loss_two_step_corner_val/upperbound/no_rsu/match_all_data_100_5.npy\"\n",
    "data_path_test = \"check/check_loss_two_step_corner/upperbound/no_rsu/match_all_data_100_5.npy\"\n",
    "confident_range = 0.6827\n",
    "average_coverage = show_coverage(data_path_cal, data_path_test, 1-confident_range, ty=1, n=2000)"
   ]
  },
  {
   "cell_type": "code",
   "execution_count": 36,
   "id": "a5a86381-34bc-4875-86e3-814260ef9780",
   "metadata": {},
   "outputs": [
    {
     "name": "stdout",
     "output_type": "stream",
     "text": [
      "R: 22, n_cal: 2000, n_test: 1543\n",
      "average coverage 0.9351911860012962 for 1-alpha 0.9973\n",
      "coverage diff 0.062108813998703716\n"
     ]
    },
    {
     "data": {
      "image/png": "[encoded data removed]",
      "text/plain": [
       "<Figure size 432x288 with 1 Axes>"
      ]
     },
     "metadata": {
      "needs_background": "light"
     },
     "output_type": "display_data"
    }
   ],
   "source": [
    "data_path_cal = \"check/check_loss_two_step_corner_val/upperbound/no_rsu/match_all_data_100_5.npy\"\n",
    "data_path_test = \"check/check_loss_two_step_corner/upperbound/no_rsu/match_all_data_100_5.npy\"\n",
    "confident_range = 0.9973\n",
    "average_coverage = show_coverage(data_path_cal, data_path_test, 1-confident_range, ty=1, n=2000)"
   ]
  },
  {
   "cell_type": "markdown",
   "id": "0cb7558b-2105-44b9-a543-688543eb1d83",
   "metadata": {},
   "source": [
    "### lowerbound"
   ]
  },
  {
   "cell_type": "code",
   "execution_count": 39,
   "id": "dcc8fd7c-d8e3-46d0-aa5f-3faaf630ebe9",
   "metadata": {},
   "outputs": [
    {
     "name": "stdout",
     "output_type": "stream",
     "text": [
      "R: 11, n_cal: 2000, n_test: 1883\n",
      "average coverage 0.68705040312847 for 1-alpha 0.6827\n",
      "coverage diff -0.004350403128470015\n"
     ]
    },
    {
     "data": {
      "image/png": "[encoded data removed]",
      "text/plain": [
       "<Figure size 432x288 with 1 Axes>"
      ]
     },
     "metadata": {
      "needs_background": "light"
     },
     "output_type": "display_data"
    }
   ],
   "source": [
    "data_path_cal = \"check/check_loss_two_step_corner_val/lowerbound/no_rsu/match_all_data_100_5.npy\"\n",
    "data_path_test = \"check/check_loss_two_step_corner/lowerbound/no_rsu/match_all_data_100_5.npy\"\n",
    "confident_range = 0.6827\n",
    "average_coverage = show_coverage(data_path_cal, data_path_test, 1-confident_range, ty=1, n=2000)"
   ]
  },
  {
   "cell_type": "code",
   "execution_count": 40,
   "id": "958ca61f-8f6a-4f65-9e85-7111ab6946c8",
   "metadata": {},
   "outputs": [
    {
     "name": "stdout",
     "output_type": "stream",
     "text": [
      "R: 11, n_cal: 2000, n_test: 1883\n",
      "average coverage 0.9983042050885916 for 1-alpha 0.9973\n",
      "coverage diff -0.0010042050885916698\n"
     ]
    },
    {
     "data": {
      "image/png": "[encoded data removed]",
      "text/plain": [
       "<Figure size 432x288 with 1 Axes>"
      ]
     },
     "metadata": {
      "needs_background": "light"
     },
     "output_type": "display_data"
    }
   ],
   "source": [
    "data_path_cal = \"check/check_loss_two_step_corner_val/lowerbound/no_rsu/match_all_data_100_5.npy\"\n",
    "data_path_test = \"check/check_loss_two_step_corner/lowerbound/no_rsu/match_all_data_100_5.npy\"\n",
    "confident_range = 0.9973\n",
    "average_coverage = show_coverage(data_path_cal, data_path_test, 1-confident_range, ty=1, n=2000)"
   ]
  },
  {
   "cell_type": "code",
   "execution_count": null,
   "id": "f48fd28c-2ca0-42f3-a7c6-87813db5128b",
   "metadata": {},
   "outputs": [],
   "source": []
  },
  {
   "cell_type": "markdown",
   "id": "8f939f99-0017-4db2-a2d5-2d20907a9ffa",
   "metadata": {},
   "source": [
    "## for kl_loss_center_ind"
   ]
  },
  {
   "cell_type": "code",
   "execution_count": 43,
   "id": "80a62a08-83b0-4523-a569-7c7b2690ad53",
   "metadata": {},
   "outputs": [],
   "source": [
    "def corner_to_center_box2d_torch(corners):\n",
    "    p1 = corners[:,0:2]\n",
    "    p2 = corners[:,2:4]\n",
    "    p3 = corners[:,4:6]\n",
    "    p4 = corners[:,6:8]\n",
    "    center = (p1+p2+p3+p4)/4\n",
    "    w = (np.sqrt(np.sum(np.power(p1-p4, 2), axis=1, keepdims = True)) + np.sqrt(np.sum(np.power(p2-p3, 2), axis=1, keepdims = True)))/2\n",
    "    h = (np.sqrt(np.sum(np.power(p1-p2, 2), axis=1, keepdims = True)) + np.sqrt(np.sum(np.power(p3-p4, 2), axis=1, keepdims = True)))/2\n",
    "    wp = np.sqrt(np.sum(np.power(p1-p4, 2), axis=1, keepdims = True))\n",
    "    sina = np.divide((p4[:,1:2] - p1[:,1:2]), wp)\n",
    "    cosa = np.divide((p1[:,0:1] - p4[:,0:1]), wp)\n",
    "    result = np.concatenate((center, w, h, sina, cosa), axis=1)\n",
    "    return result\n",
    "\n",
    "def compute_score_center(data_path):\n",
    "    data = np.load(data_path, allow_pickle=True)\n",
    "    tp = data.item()['tp']\n",
    "    scores = []\n",
    "    for i in range(len(tp)):\n",
    "        prediction = np.array(tp[i][0])\n",
    "        pred = prediction[:,:8]\n",
    "        target = np.array(tp[i][1])\n",
    "        cov = prediction[:,9:]\n",
    "        std = np.sqrt(np.exp(cov))\n",
    "        pred = corner_to_center_box2d_torch(pred)\n",
    "        target = corner_to_center_box2d_torch(target)\n",
    "        score = np.abs(pred-target) / np.sqrt(np.exp(cov))\n",
    "        for s in score:\n",
    "            scores.append(list(s))\n",
    "    return np.array(scores)\n",
    "\n",
    "def compute_quantile_center(scores, alpha):\n",
    "    n = scores.shape[0]\n",
    "    q_level = np.ceil((n+1)*(1-alpha))/n\n",
    "    quantile = []\n",
    "    for i in range(scores.shape[1]):\n",
    "        q = np.quantile(scores[:,i], q_level, interpolation='higher')\n",
    "        quantile.append(q)\n",
    "    return quantile\n",
    "\n",
    "def show_coverage_center(data_path_cal, data_path_test, alpha, ty = 0, R=20, n=2000):\n",
    "    scores_cal = compute_score_center(data_path_cal)\n",
    "    scores_test = compute_score_center(data_path_test)\n",
    "    if ty == 0:\n",
    "        n_cal = math.ceil(scores_cal.shape[0] / R)\n",
    "        n_test = math.ceil(scores_test.shape[0] / R)\n",
    "    elif ty == 1:\n",
    "        n_cal = n\n",
    "        R = math.ceil(scores_cal.shape[0] / n)\n",
    "        n_test = math.ceil(scores_test.shape[0] / R)\n",
    "    else:\n",
    "        print(\"ERROR\")\n",
    "    coverages = np.zeros((R,))\n",
    "    print(\"R: {}, n_cal: {}, n_test: {}\".format(R, n_cal, n_test))\n",
    "    for r in range(R):\n",
    "        np.random.shuffle(scores_cal)\n",
    "        np.random.shuffle(scores_test)\n",
    "        scores_cal_d = scores_cal[:n_cal,:]\n",
    "        scores_test_d = scores_test[:n_test,:]\n",
    "        qhat = np.array(compute_quantile_center(scores_cal_d, alpha))\n",
    "        coverages[r] = (scores_test_d <= qhat).astype(float).mean()\n",
    "    average_coverage = coverages.mean()\n",
    "    print(\"average coverage {} for 1-alpha {}\".format(average_coverage, 1-alpha))\n",
    "    print(\"coverage diff {}\".format(1-alpha - average_coverage))\n",
    "    plt.hist(coverages)\n",
    "    return average_coverage"
   ]
  },
  {
   "cell_type": "markdown",
   "id": "9136b8a0-786b-416d-b357-3459cfc73f60",
   "metadata": {},
   "source": [
    "### disco"
   ]
  },
  {
   "cell_type": "code",
   "execution_count": 44,
   "id": "9d004113-aa53-494c-9068-201e6c98dc81",
   "metadata": {},
   "outputs": [
    {
     "name": "stdout",
     "output_type": "stream",
     "text": [
      "R: 21, n_cal: 2000, n_test: 1511\n",
      "average coverage 0.6834326053386279 for 1-alpha 0.6827\n",
      "coverage diff -0.0007326053386279563\n"
     ]
    },
    {
     "data": {
      "image/png": "[encoded data removed]",
      "text/plain": [
       "<Figure size 432x288 with 1 Axes>"
      ]
     },
     "metadata": {
      "needs_background": "light"
     },
     "output_type": "display_data"
    }
   ],
   "source": [
    "data_path_cal = \"check/check_loss_two_step_center_ind_val/disco/no_rsu/match_all_data_100_5.npy\"\n",
    "data_path_test = \"check/check_loss_two_step_center_ind/disco/no_rsu/match_all_data_100_5.npy\"\n",
    "confident_range = 0.6827\n",
    "average_coverage = show_coverage_center(data_path_cal, data_path_test, 1-confident_range, ty=1, n=2000)"
   ]
  },
  {
   "cell_type": "code",
   "execution_count": 45,
   "id": "7b849ac1-3976-464f-9937-723ccaedc159",
   "metadata": {},
   "outputs": [
    {
     "name": "stdout",
     "output_type": "stream",
     "text": [
      "R: 21, n_cal: 2000, n_test: 1511\n",
      "average coverage 0.9871996890527664 for 1-alpha 0.9973\n",
      "coverage diff 0.010100310947233515\n"
     ]
    },
    {
     "data": {
      "image/png": "[encoded data removed]",
      "text/plain": [
       "<Figure size 432x288 with 1 Axes>"
      ]
     },
     "metadata": {
      "needs_background": "light"
     },
     "output_type": "display_data"
    }
   ],
   "source": [
    "data_path_cal = \"check/check_loss_two_step_center_ind_val/disco/no_rsu/match_all_data_100_5.npy\"\n",
    "data_path_test = \"check/check_loss_two_step_center_ind/disco/no_rsu/match_all_data_100_5.npy\"\n",
    "confident_range = 0.9973\n",
    "average_coverage = show_coverage_center(data_path_cal, data_path_test, 1-confident_range, ty=1, n=2000)"
   ]
  },
  {
   "cell_type": "markdown",
   "id": "74f03fb2-490c-4fbe-87d0-4a7ed01f1be3",
   "metadata": {},
   "source": [
    "### upperbound"
   ]
  },
  {
   "cell_type": "code",
   "execution_count": 46,
   "id": "669b6d05-5c17-4779-896d-d5df6af53308",
   "metadata": {},
   "outputs": [
    {
     "name": "stdout",
     "output_type": "stream",
     "text": [
      "R: 22, n_cal: 2000, n_test: 1507\n",
      "average coverage 0.6547173795017192 for 1-alpha 0.6827\n",
      "coverage diff 0.02798262049828082\n"
     ]
    },
    {
     "data": {
      "image/png": "[encoded data removed]",
      "text/plain": [
       "<Figure size 432x288 with 1 Axes>"
      ]
     },
     "metadata": {
      "needs_background": "light"
     },
     "output_type": "display_data"
    }
   ],
   "source": [
    "data_path_cal = \"check/check_loss_two_step_center_ind_val/upperbound/no_rsu/match_all_data_100_5.npy\"\n",
    "data_path_test = \"check/check_loss_two_step_center_ind/upperbound/no_rsu/match_all_data_100_5.npy\"\n",
    "confident_range = 0.6827\n",
    "average_coverage = show_coverage_center(data_path_cal, data_path_test, 1-confident_range, ty=1, n=2000)"
   ]
  },
  {
   "cell_type": "code",
   "execution_count": 47,
   "id": "588a773e-54c7-4bb7-a872-9b2a0b81aee4",
   "metadata": {},
   "outputs": [
    {
     "name": "stdout",
     "output_type": "stream",
     "text": [
      "R: 22, n_cal: 2000, n_test: 1507\n",
      "average coverage 0.980610685487925 for 1-alpha 0.9973\n",
      "coverage diff 0.016689314512075004\n"
     ]
    },
    {
     "data": {
      "image/png": "[encoded data removed]",
      "text/plain": [
       "<Figure size 432x288 with 1 Axes>"
      ]
     },
     "metadata": {
      "needs_background": "light"
     },
     "output_type": "display_data"
    }
   ],
   "source": [
    "data_path_cal = \"check/check_loss_two_step_center_ind_val/upperbound/no_rsu/match_all_data_100_5.npy\"\n",
    "data_path_test = \"check/check_loss_two_step_center_ind/upperbound/no_rsu/match_all_data_100_5.npy\"\n",
    "confident_range = 0.9973\n",
    "average_coverage = show_coverage_center(data_path_cal, data_path_test, 1-confident_range, ty=1, n=2000)"
   ]
  },
  {
   "cell_type": "markdown",
   "id": "6658bab1-5b45-44b5-8725-6eddecce326a",
   "metadata": {},
   "source": [
    "### lowerbound"
   ]
  },
  {
   "cell_type": "code",
   "execution_count": 48,
   "id": "771b51c4-0a76-4038-8b58-040c715d7b56",
   "metadata": {},
   "outputs": [
    {
     "name": "stdout",
     "output_type": "stream",
     "text": [
      "R: 16, n_cal: 2000, n_test: 1282\n",
      "average coverage 0.6662685257410297 for 1-alpha 0.6827\n",
      "coverage diff 0.01643147425897029\n"
     ]
    },
    {
     "data": {
      "image/png": "[encoded data removed]",
      "text/plain": [
       "<Figure size 432x288 with 1 Axes>"
      ]
     },
     "metadata": {
      "needs_background": "light"
     },
     "output_type": "display_data"
    }
   ],
   "source": [
    "data_path_cal = \"check/check_loss_two_step_center_ind_val/lowerbound/no_rsu/match_all_data_100_5.npy\"\n",
    "data_path_test = \"check/check_loss_two_step_center_ind/lowerbound/no_rsu/match_all_data_100_5.npy\"\n",
    "confident_range = 0.6827\n",
    "average_coverage = show_coverage_center(data_path_cal, data_path_test, 1-confident_range, ty=1, n=2000)"
   ]
  },
  {
   "cell_type": "code",
   "execution_count": 49,
   "id": "8653aeac-7d8f-4599-821e-ce3ae5cf2fa6",
   "metadata": {},
   "outputs": [
    {
     "name": "stdout",
     "output_type": "stream",
     "text": [
      "R: 16, n_cal: 2000, n_test: 1282\n",
      "average coverage 0.9730807982319293 for 1-alpha 0.9973\n",
      "coverage diff 0.024219201768070686\n"
     ]
    },
    {
     "data": {
      "image/png": "[encoded data removed]",
      "text/plain": [
       "<Figure size 432x288 with 1 Axes>"
      ]
     },
     "metadata": {
      "needs_background": "light"
     },
     "output_type": "display_data"
    }
   ],
   "source": [
    "data_path_cal = \"check/check_loss_two_step_center_ind_val/lowerbound/no_rsu/match_all_data_100_5.npy\"\n",
    "data_path_test = \"check/check_loss_two_step_center_ind/lowerbound/no_rsu/match_all_data_100_5.npy\"\n",
    "confident_range = 0.9973\n",
    "average_coverage = show_coverage_center(data_path_cal, data_path_test, 1-confident_range, ty=1, n=2000)"
   ]
  },
  {
   "cell_type": "code",
   "execution_count": null,
   "id": "1432c9be-4a98-4fd1-a5fe-8a5118f43e9e",
   "metadata": {},
   "outputs": [],
   "source": []
  }
 ],
 "metadata": {
  "kernelspec": {
   "display_name": "Python 3 (ipykernel)",
   "language": "python",
   "name": "python3"
  },
  "language_info": {
   "codemirror_mode": {
    "name": "ipython",
    "version": 3
   },
   "file_extension": ".py",
   "mimetype": "text/x-python",
   "name": "python",
   "nbconvert_exporter": "python",
   "pygments_lexer": "ipython3",
   "version": "3.9.7"
  }
 },
 "nbformat": 4,
 "nbformat_minor": 5
}
