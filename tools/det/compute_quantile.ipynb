{
 "cells": [
  {
   "cell_type": "code",
   "execution_count": 2,
   "id": "9e102bd0-5f1b-4b61-b51b-2be34b80f449",
   "metadata": {},
   "outputs": [],
   "source": [
    "import numpy as np\n",
    "import torch\n",
    "import math"
   ]
  },
  {
   "cell_type": "markdown",
   "id": "eee26d06-f116-4c20-bcc9-2e02863af28a",
   "metadata": {},
   "source": [
    "## Computer quantile for kl_loss_corner"
   ]
  },
  {
   "cell_type": "code",
   "execution_count": 8,
   "id": "b70eccd3-6bee-495e-a908-110b4c8424cf",
   "metadata": {},
   "outputs": [],
   "source": [
    "def compute_score(data_path):\n",
    "    data = np.load(data_path, allow_pickle=True)\n",
    "    tp = data.item()['tp']\n",
    "    scores = []\n",
    "    for i in range(len(tp)):\n",
    "        prediction = np.array(tp[i][0])\n",
    "        pred = prediction[:,:8]\n",
    "        target = np.array(tp[i][1])\n",
    "        cov = prediction[:,9:]\n",
    "        score = np.abs(pred-target) / np.sqrt(np.exp(cov))\n",
    "        for s in score:\n",
    "            scores.append(list(s))\n",
    "    return np.array(scores)\n",
    "\n",
    "def compute_quantile(scores, alpha):\n",
    "    n = scores.shape[0]\n",
    "    q_level = np.ceil((n+1)*(1-alpha))/n\n",
    "    quantile = []\n",
    "    for i in range(scores.shape[1]):\n",
    "        q = np.quantile(scores[:,i], q_level, interpolation='higher')\n",
    "        quantile.append(q)\n",
    "    return quantile"
   ]
  },
  {
   "cell_type": "markdown",
   "id": "bf76aaad-16d7-4d9a-ba96-ec1d2e7643fc",
   "metadata": {},
   "source": [
    "### disco"
   ]
  },
  {
   "cell_type": "code",
   "execution_count": 4,
   "id": "3b442802-920a-4aac-b5e6-248edf11ce6f",
   "metadata": {},
   "outputs": [
    {
     "name": "stdout",
     "output_type": "stream",
     "text": [
      "[5.685563231556715, 5.7333907000666064, 5.8156107496472655, 5.698934531905109, 5.349435233304022, 5.286866601436044, 5.364550922522339, 5.254597136256393]\n"
     ]
    }
   ],
   "source": [
    "data_path = \"check/check_loss_two_step_corner_val/disco/no_rsu/match_all_data_100_5.npy\"\n",
    "confident_range = 0.6827\n",
    "scores = compute_score(data_path)\n",
    "quantile = compute_quantile(scores, 1-confident_range)\n",
    "print(quantile)"
   ]
  },
  {
   "cell_type": "code",
   "execution_count": 10,
   "id": "ee71e9bb-11b8-4860-9bc4-4b40943905b8",
   "metadata": {},
   "outputs": [
    {
     "name": "stdout",
     "output_type": "stream",
     "text": [
      "[17.925578517687292, 16.902509757000026, 17.921683447998383, 16.65845903704566, 15.847321990328444, 13.83974749789184, 15.933211831132338, 13.469367139403102]\n"
     ]
    }
   ],
   "source": [
    "data_path = \"check/check_loss_two_step_corner_val/disco/no_rsu/match_all_data_100_5.npy\"\n",
    "confident_range = 0.9545\n",
    "scores = compute_score(data_path)\n",
    "quantile = compute_quantile(scores, 1-confident_range)\n",
    "print(quantile)"
   ]
  },
  {
   "cell_type": "code",
   "execution_count": 11,
   "id": "b1295d86-03e2-42dc-b242-72775ae70e89",
   "metadata": {},
   "outputs": [
    {
     "name": "stdout",
     "output_type": "stream",
     "text": [
      "[48.667429272195506, 47.12830691785341, 47.89193980424878, 42.536190890924544, 42.169949853660526, 46.371733470171094, 41.253330827583945, 41.55867648053199]\n"
     ]
    }
   ],
   "source": [
    "data_path = \"check/check_loss_two_step_corner_val/disco/no_rsu/match_all_data_100_5.npy\"\n",
    "confident_range = 0.9973\n",
    "scores = compute_score(data_path)\n",
    "quantile = compute_quantile(scores, 1-confident_range)\n",
    "print(quantile)"
   ]
  },
  {
   "cell_type": "markdown",
   "id": "fba25985-c6f8-4204-a7cd-d0b69e7010a3",
   "metadata": {},
   "source": [
    "### upperbound"
   ]
  },
  {
   "cell_type": "code",
   "execution_count": 5,
   "id": "b57fd503-dc13-45b4-a18f-9ef05271355c",
   "metadata": {},
   "outputs": [
    {
     "name": "stdout",
     "output_type": "stream",
     "text": [
      "[4.190345185940821, 4.351993435985297, 4.558479310459919, 4.717549387208282, 4.278715029642637, 4.102446480783583, 4.1725601258012475, 3.530299361843318]\n"
     ]
    }
   ],
   "source": [
    "data_path = \"check/check_loss_two_step_corner_val/upperbound/no_rsu/match_all_data_100_5.npy\"\n",
    "confident_range = 0.6827\n",
    "scores = compute_score(data_path)\n",
    "quantile = compute_quantile(scores, 1-confident_range)\n",
    "print(quantile)"
   ]
  },
  {
   "cell_type": "code",
   "execution_count": 12,
   "id": "58bf42bf-566e-4397-9fe5-c78b8eb82109",
   "metadata": {},
   "outputs": [
    {
     "name": "stdout",
     "output_type": "stream",
     "text": [
      "[49.72913250209128, 68.07916849224074, 54.76645263747507, 76.2931006003976, 46.32874805418221, 76.94147233490142, 50.70841262977031, 77.77131089570797]\n"
     ]
    }
   ],
   "source": [
    "data_path = \"check/check_loss_two_step_corner_val/upperbound/no_rsu/match_all_data_100_5.npy\"\n",
    "confident_range = 0.9973\n",
    "scores = compute_score(data_path)\n",
    "quantile = compute_quantile(scores, 1-confident_range)\n",
    "print(quantile)"
   ]
  },
  {
   "cell_type": "markdown",
   "id": "a8b0c8a2-a72e-43ac-8d5d-4eb74fefb8b5",
   "metadata": {},
   "source": [
    "### lowerbound"
   ]
  },
  {
   "cell_type": "code",
   "execution_count": 6,
   "id": "9d883fca-d15c-4efa-a904-b4cd22745b69",
   "metadata": {},
   "outputs": [
    {
     "name": "stdout",
     "output_type": "stream",
     "text": [
      "[6.10302951960435, 6.182331226887726, 5.740435199991636, 6.236356538776135, 6.334263986132204, 5.1828751359733305, 6.399557006521807, 5.073939114533967]\n"
     ]
    }
   ],
   "source": [
    "data_path = \"check/check_loss_two_step_corner_val/lowerbound/no_rsu/match_all_data_100_5.npy\"\n",
    "confident_range = 0.6827\n",
    "scores = compute_score(data_path)\n",
    "quantile = compute_quantile(scores, 1-confident_range)\n",
    "print(quantile)"
   ]
  },
  {
   "cell_type": "code",
   "execution_count": 13,
   "id": "f7033cce-fa8d-4de9-8a3f-9baa5669faab",
   "metadata": {},
   "outputs": [
    {
     "name": "stdout",
     "output_type": "stream",
     "text": [
      "[259.92825137969436, 201.07436055964888, 258.2222934053669, 197.05243747520606, 328.5189148613409, 235.0538877505854, 339.6938946129562, 235.97804342045072]\n"
     ]
    }
   ],
   "source": [
    "data_path = \"check/check_loss_two_step_corner_val/lowerbound/no_rsu/match_all_data_100_5.npy\"\n",
    "confident_range = 0.9973\n",
    "scores = compute_score(data_path)\n",
    "quantile = compute_quantile(scores, 1-confident_range)\n",
    "print(quantile)"
   ]
  },
  {
   "cell_type": "code",
   "execution_count": null,
   "id": "477c8f8d-1065-43b8-a65d-d36f22f77194",
   "metadata": {},
   "outputs": [],
   "source": []
  },
  {
   "cell_type": "markdown",
   "id": "04108084-d61b-4804-bdeb-5d7ddf8336ba",
   "metadata": {},
   "source": [
    "## Computer quantile for kl_loss_center_ind"
   ]
  },
  {
   "cell_type": "code",
   "execution_count": 1,
   "id": "35d8a9de-c11b-48c8-8873-2032dd4cd678",
   "metadata": {},
   "outputs": [],
   "source": [
    "def compute_score_center(data_path):\n",
    "    data = np.load(data_path, allow_pickle=True)\n",
    "    tp = data.item()['tp']\n",
    "    scores = []\n",
    "    for i in range(len(tp)):\n",
    "        prediction = np.array(tp[i][0])\n",
    "        pred = prediction[:,:8]\n",
    "        target = np.array(tp[i][1])\n",
    "        cov = prediction[:,9:]\n",
    "        std = np.sqrt(np.exp(cov))\n",
    "        \n",
    "        score = np.abs(pred-target) / np.sqrt(np.exp(cov))\n",
    "        for s in score:\n",
    "            scores.append(list(s))\n",
    "    return np.array(scores)\n",
    "\n",
    "def compute_quantile_center(scores, alpha):\n",
    "    n = scores.shape[0]\n",
    "    q_level = np.ceil((n+1)*(1-alpha))/n\n",
    "    quantile = []\n",
    "    for i in range(scores.shape[1]):\n",
    "        q = np.quantile(scores[:,i], q_level, interpolation='higher')\n",
    "        quantile.append(q)\n",
    "    return quantile"
   ]
  },
  {
   "cell_type": "markdown",
   "id": "c83f80d5-ac2a-4949-b4cf-06dd91c1a3e4",
   "metadata": {},
   "source": [
    "### disco"
   ]
  },
  {
   "cell_type": "code",
   "execution_count": 3,
   "id": "73ea3cbe-5a31-4359-8d16-3cbd4b032f4b",
   "metadata": {},
   "outputs": [
    {
     "name": "stdout",
     "output_type": "stream",
     "text": [
      "[array([[  3.02728224,   1.00175786,   3.02743149,  -1.0021925 ,\n",
      "         -1.12828481,  -1.0025022 ,  -1.12843406,   1.00144815,\n",
      "          0.99896538, -11.40015888, -11.5384407 , -10.98087215,\n",
      "         -9.18057919, -12.28470898, -15.07167435],\n",
      "       [ 12.76502705,  17.07698631,  14.58918476,  16.79039383,\n",
      "         13.93546581,  12.62948036,  12.1113081 ,  12.91607285,\n",
      "          0.99547666,  -8.74861336,  -8.39334106,  -9.50641632,\n",
      "         -7.2630825 ,  -9.18798447, -11.61131859],\n",
      "       [  5.58839035, -17.5082531 ,   3.75817919, -17.20705605,\n",
      "          4.35461426, -13.58284187,   6.18482542, -13.88403893,\n",
      "          0.99290013,  -8.85629082,  -8.5903635 ,  -8.97162914,\n",
      "         -7.25579071,  -9.09390736, -11.64298153],\n",
      "       [ 26.1445694 ,  -2.53610182,  26.37051773,  -0.61354506,\n",
      "         31.26747894,  -1.18906116,  31.04153061,  -3.11161804,\n",
      "          0.98091596,  -8.2464838 ,  -8.70400524, -10.02410507,\n",
      "         -7.06696033, -12.56819344,  -9.95768547],\n",
      "       [ -9.52821827,   3.33700323,  -9.03166771,   5.91467619,\n",
      "         -3.98630548,   4.94276285,  -4.4828558 ,   2.36508989,\n",
      "          0.97542816,  -7.51167727,  -8.08232307,  -9.14840031,\n",
      "         -6.67414808, -11.21400261,  -9.45928955],\n",
      "       [ 14.00785446,  27.35752487,  16.1708374 ,  27.16238213,\n",
      "         15.72981071,  22.27399063,  13.56682777,  22.46913338,\n",
      "          0.96796697,  -7.59337711,  -7.11031294,  -7.63386631,\n",
      "         -6.08276463,  -8.88764954, -11.58169746],\n",
      "       [ -7.89210415,   6.68688583,  -7.35639429,   9.13119125,\n",
      "         -2.43604851,   8.05281734,  -2.97175837,   5.60851145,\n",
      "          0.96623915,  -7.10239601,  -7.60119772,  -8.26982594,\n",
      "         -6.02105045, -10.73730946,  -8.99799252],\n",
      "       [ 28.29759216,  -4.19057035,  27.95400429,  -6.57716656,\n",
      "         22.04510117,  -5.72648478,  22.38868904,  -3.33988857,\n",
      "          0.96603817,  -6.73030615,  -7.29362202,  -8.97500515,\n",
      "         -6.64813948, -10.25902462,  -8.21980381]]), array([[  3.03169242,   0.99705908,   3.03169242,  -0.99705908,\n",
      "         -1.14951865,  -0.99705908,  -1.14951865,   0.99705908],\n",
      "       [ 12.75441456,  17.14040406,  14.54783395,  16.85373108,\n",
      "         13.88602352,  12.71346061,  12.09260413,  13.00013359],\n",
      "       [  5.52081062, -17.40171736,   3.75414735, -17.12193794,\n",
      "          4.33372925, -13.46217613,   6.10039252, -13.74195555],\n",
      "       [ 25.7745969 ,  -2.52879918,  26.12334392,  -0.52572802,\n",
      "         31.40142467,  -1.44467438,  31.05267765,  -3.44774554],\n",
      "       [ -9.41713608,   3.30193111,  -8.9655411 ,   5.87720885,\n",
      "         -3.83991252,   4.97839001,  -4.2915075 ,   2.40311227],\n",
      "       [ 14.25250395,  27.1161522 ,  16.23416234,  26.79938976,\n",
      "         15.52173273,  22.34244689,  13.54007433,  22.65920933],\n",
      "       [ -7.93631777,   6.59644325,  -7.48481805,   9.17173766,\n",
      "         -2.35915628,   8.27310842,  -2.810656  ,   5.697814  ],\n",
      "       [ 28.70968287,  -4.34866458,  28.29980937,  -6.70282533,\n",
      "         22.11923176,  -5.6267497 ,  22.52910527,  -3.27258896]])]\n"
     ]
    }
   ],
   "source": [
    "data_path = \"check/check_loss_two_step_center_ind_val/disco/no_rsu/match_all_data_100_5.npy\"\n",
    "confident_range = 0.6827\n",
    "scores = compute_score_center(data_path)\n",
    "#quantile = compute_quantile_center(scores, 1-confident_range)\n",
    "#print(quantile)"
   ]
  },
  {
   "cell_type": "code",
   "execution_count": null,
   "id": "1d972f94-f688-46ef-b6f7-bd369ebeaac0",
   "metadata": {},
   "outputs": [],
   "source": []
  }
 ],
 "metadata": {
  "kernelspec": {
   "display_name": "Python 3 (ipykernel)",
   "language": "python",
   "name": "python3"
  },
  "language_info": {
   "codemirror_mode": {
    "name": "ipython",
    "version": 3
   },
   "file_extension": ".py",
   "mimetype": "text/x-python",
   "name": "python",
   "nbconvert_exporter": "python",
   "pygments_lexer": "ipython3",
   "version": "3.9.7"
  }
 },
 "nbformat": 4,
 "nbformat_minor": 5
}
