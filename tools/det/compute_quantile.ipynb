{
 "cells": [
  {
   "cell_type": "code",
   "execution_count": 1,
   "id": "9e102bd0-5f1b-4b61-b51b-2be34b80f449",
   "metadata": {},
   "outputs": [],
   "source": [
    "import numpy as np\n",
    "import torch\n",
    "import math"
   ]
  },
  {
   "cell_type": "markdown",
   "id": "eee26d06-f116-4c20-bcc9-2e02863af28a",
   "metadata": {},
   "source": [
    "## Computer quantile for kl_loss_corner"
   ]
  },
  {
   "cell_type": "code",
   "execution_count": 4,
   "id": "b70eccd3-6bee-495e-a908-110b4c8424cf",
   "metadata": {},
   "outputs": [],
   "source": [
    "def compute_score(data_path):\n",
    "    data = np.load(data_path, allow_pickle=True)\n",
    "    tp = data.item()['tp']\n",
    "    scores = []\n",
    "    for i in range(len(tp)):\n",
    "        prediction = np.array(tp[i][0])\n",
    "        pred = prediction[:,:8]\n",
    "        target = np.array(tp[i][1])\n",
    "        cov = prediction[:,9:]\n",
    "        score = np.abs(pred-target) / np.sqrt(np.exp(cov))\n",
    "        for s in score:\n",
    "            scores.append(list(s))\n",
    "    return np.array(scores)\n",
    "\n",
    "def compute_quantile(scores, alpha):\n",
    "    n = scores.shape[0]\n",
    "    q_level = np.ceil((n+1)*(1-alpha))/n\n",
    "    quantile = []\n",
    "    for i in range(scores.shape[1]):\n",
    "        q = np.quantile(scores[:,i], q_level, interpolation='higher')\n",
    "        quantile.append(q)\n",
    "    return quantile"
   ]
  },
  {
   "cell_type": "markdown",
   "id": "bf76aaad-16d7-4d9a-ba96-ec1d2e7643fc",
   "metadata": {},
   "source": [
    "### disco"
   ]
  },
  {
   "cell_type": "code",
   "execution_count": 3,
   "id": "3b442802-920a-4aac-b5e6-248edf11ce6f",
   "metadata": {},
   "outputs": [
    {
     "name": "stdout",
     "output_type": "stream",
     "text": [
      "(41598, 8)\n",
      "[5.685563231556715, 5.7333907000666064, 5.8156107496472655, 5.698934531905109, 5.349435233304022, 5.286866601436044, 5.364550922522339, 5.254597136256393]\n"
     ]
    }
   ],
   "source": [
    "data_path = \"check/check_loss_two_step_corner_val/disco/no_rsu/match_all_data_100_5.npy\"\n",
    "confident_range = 0.6827\n",
    "scores = compute_score(data_path)\n",
    "print(scores.shape)\n",
    "quantile = compute_quantile(scores, 1-confident_range)\n",
    "print(quantile)"
   ]
  },
  {
   "cell_type": "code",
   "execution_count": 10,
   "id": "ee71e9bb-11b8-4860-9bc4-4b40943905b8",
   "metadata": {},
   "outputs": [
    {
     "name": "stdout",
     "output_type": "stream",
     "text": [
      "[17.925578517687292, 16.902509757000026, 17.921683447998383, 16.65845903704566, 15.847321990328444, 13.83974749789184, 15.933211831132338, 13.469367139403102]\n"
     ]
    }
   ],
   "source": [
    "data_path = \"check/check_loss_two_step_corner_val/disco/no_rsu/match_all_data_100_5.npy\"\n",
    "confident_range = 0.9545\n",
    "scores = compute_score(data_path)\n",
    "quantile = compute_quantile(scores, 1-confident_range)\n",
    "print(quantile)"
   ]
  },
  {
   "cell_type": "code",
   "execution_count": 11,
   "id": "b1295d86-03e2-42dc-b242-72775ae70e89",
   "metadata": {},
   "outputs": [
    {
     "name": "stdout",
     "output_type": "stream",
     "text": [
      "[48.667429272195506, 47.12830691785341, 47.89193980424878, 42.536190890924544, 42.169949853660526, 46.371733470171094, 41.253330827583945, 41.55867648053199]\n"
     ]
    }
   ],
   "source": [
    "data_path = \"check/check_loss_two_step_corner_val/disco/no_rsu/match_all_data_100_5.npy\"\n",
    "confident_range = 0.9973\n",
    "scores = compute_score(data_path)\n",
    "quantile = compute_quantile(scores, 1-confident_range)\n",
    "print(quantile)"
   ]
  },
  {
   "cell_type": "markdown",
   "id": "fba25985-c6f8-4204-a7cd-d0b69e7010a3",
   "metadata": {},
   "source": [
    "### upperbound"
   ]
  },
  {
   "cell_type": "code",
   "execution_count": 5,
   "id": "b57fd503-dc13-45b4-a18f-9ef05271355c",
   "metadata": {},
   "outputs": [
    {
     "name": "stdout",
     "output_type": "stream",
     "text": [
      "[4.190345185940821, 4.351993435985297, 4.558479310459919, 4.717549387208282, 4.278715029642637, 4.102446480783583, 4.1725601258012475, 3.530299361843318]\n"
     ]
    }
   ],
   "source": [
    "data_path = \"check/check_loss_two_step_corner_val/upperbound/no_rsu/match_all_data_100_5.npy\"\n",
    "confident_range = 0.6827\n",
    "scores = compute_score(data_path)\n",
    "quantile = compute_quantile(scores, 1-confident_range)\n",
    "print(quantile)"
   ]
  },
  {
   "cell_type": "code",
   "execution_count": 12,
   "id": "58bf42bf-566e-4397-9fe5-c78b8eb82109",
   "metadata": {},
   "outputs": [
    {
     "name": "stdout",
     "output_type": "stream",
     "text": [
      "[49.72913250209128, 68.07916849224074, 54.76645263747507, 76.2931006003976, 46.32874805418221, 76.94147233490142, 50.70841262977031, 77.77131089570797]\n"
     ]
    }
   ],
   "source": [
    "data_path = \"check/check_loss_two_step_corner_val/upperbound/no_rsu/match_all_data_100_5.npy\"\n",
    "confident_range = 0.9973\n",
    "scores = compute_score(data_path)\n",
    "quantile = compute_quantile(scores, 1-confident_range)\n",
    "print(quantile)"
   ]
  },
  {
   "cell_type": "markdown",
   "id": "a8b0c8a2-a72e-43ac-8d5d-4eb74fefb8b5",
   "metadata": {},
   "source": [
    "### lowerbound"
   ]
  },
  {
   "cell_type": "code",
   "execution_count": 6,
   "id": "9d883fca-d15c-4efa-a904-b4cd22745b69",
   "metadata": {},
   "outputs": [
    {
     "name": "stdout",
     "output_type": "stream",
     "text": [
      "[6.10302951960435, 6.182331226887726, 5.740435199991636, 6.236356538776135, 6.334263986132204, 5.1828751359733305, 6.399557006521807, 5.073939114533967]\n"
     ]
    }
   ],
   "source": [
    "data_path = \"check/check_loss_two_step_corner_val/lowerbound/no_rsu/match_all_data_100_5.npy\"\n",
    "confident_range = 0.6827\n",
    "scores = compute_score(data_path)\n",
    "quantile = compute_quantile(scores, 1-confident_range)\n",
    "print(quantile)"
   ]
  },
  {
   "cell_type": "code",
   "execution_count": 13,
   "id": "f7033cce-fa8d-4de9-8a3f-9baa5669faab",
   "metadata": {},
   "outputs": [
    {
     "name": "stdout",
     "output_type": "stream",
     "text": [
      "[259.92825137969436, 201.07436055964888, 258.2222934053669, 197.05243747520606, 328.5189148613409, 235.0538877505854, 339.6938946129562, 235.97804342045072]\n"
     ]
    }
   ],
   "source": [
    "data_path = \"check/check_loss_two_step_corner_val/lowerbound/no_rsu/match_all_data_100_5.npy\"\n",
    "confident_range = 0.9973\n",
    "scores = compute_score(data_path)\n",
    "quantile = compute_quantile(scores, 1-confident_range)\n",
    "print(quantile)"
   ]
  },
  {
   "cell_type": "code",
   "execution_count": null,
   "id": "477c8f8d-1065-43b8-a65d-d36f22f77194",
   "metadata": {},
   "outputs": [],
   "source": []
  },
  {
   "cell_type": "markdown",
   "id": "04108084-d61b-4804-bdeb-5d7ddf8336ba",
   "metadata": {},
   "source": [
    "## Computer quantile for kl_loss_center_ind"
   ]
  },
  {
   "cell_type": "code",
   "execution_count": 23,
   "id": "35d8a9de-c11b-48c8-8873-2032dd4cd678",
   "metadata": {},
   "outputs": [],
   "source": [
    "def corner_to_center_box2d_torch(corners):\n",
    "    p1 = corners[:,0:2]\n",
    "    p2 = corners[:,2:4]\n",
    "    p3 = corners[:,4:6]\n",
    "    p4 = corners[:,6:8]\n",
    "    center = (p1+p2+p3+p4)/4\n",
    "    w = (np.sqrt(np.sum(np.power(p1-p4, 2), axis=1, keepdims = True)) + np.sqrt(np.sum(np.power(p2-p3, 2), axis=1, keepdims = True)))/2\n",
    "    h = (np.sqrt(np.sum(np.power(p1-p2, 2), axis=1, keepdims = True)) + np.sqrt(np.sum(np.power(p3-p4, 2), axis=1, keepdims = True)))/2\n",
    "    wp = np.sqrt(np.sum(np.power(p1-p4, 2), axis=1, keepdims = True))\n",
    "    sina = np.divide((p4[:,1:2] - p1[:,1:2]), wp)\n",
    "    cosa = np.divide((p1[:,0:1] - p4[:,0:1]), wp)\n",
    "    result = np.concatenate((center, w, h, sina, cosa), axis=1)\n",
    "    return result\n",
    "\n",
    "def compute_score_center(data_path):\n",
    "    data = np.load(data_path, allow_pickle=True)\n",
    "    tp = data.item()['tp']\n",
    "    scores = []\n",
    "    for i in range(len(tp)):\n",
    "        prediction = np.array(tp[i][0])\n",
    "        pred = prediction[:,:8]\n",
    "        target = np.array(tp[i][1])\n",
    "        cov = prediction[:,9:]\n",
    "        std = np.sqrt(np.exp(cov))\n",
    "        pred = corner_to_center_box2d_torch(pred)\n",
    "        target = corner_to_center_box2d_torch(target)\n",
    "        score = np.abs(pred-target) / np.sqrt(np.exp(cov))\n",
    "        for s in score:\n",
    "            scores.append(list(s))\n",
    "    return np.array(scores)\n",
    "\n",
    "def compute_quantile_center(scores, alpha):\n",
    "    n = scores.shape[0]\n",
    "    q_level = np.ceil((n+1)*(1-alpha))/n\n",
    "    quantile = []\n",
    "    for i in range(scores.shape[1]):\n",
    "        q = np.quantile(scores[:,i], q_level, interpolation='higher')\n",
    "        quantile.append(q)\n",
    "    return quantile"
   ]
  },
  {
   "cell_type": "markdown",
   "id": "c83f80d5-ac2a-4949-b4cf-06dd91c1a3e4",
   "metadata": {},
   "source": [
    "### disco"
   ]
  },
  {
   "cell_type": "code",
   "execution_count": 24,
   "id": "73ea3cbe-5a31-4359-8d16-3cbd4b032f4b",
   "metadata": {},
   "outputs": [
    {
     "name": "stdout",
     "output_type": "stream",
     "text": [
      "[5.468984395243384, 4.89869516767041, 16.09847077479864, 3.0882512529684347, 1.0243907317028713, 4.811753752332904]\n"
     ]
    }
   ],
   "source": [
    "data_path = \"check/check_loss_two_step_center_ind_val/disco/no_rsu/match_all_data_100_5.npy\"\n",
    "confident_range = 0.6827\n",
    "scores = compute_score_center(data_path)\n",
    "quantile = compute_quantile_center(scores, 1-confident_range)\n",
    "print(quantile)"
   ]
  },
  {
   "cell_type": "code",
   "execution_count": 16,
   "id": "1d972f94-f688-46ef-b6f7-bd369ebeaac0",
   "metadata": {
    "jupyter": {
     "source_hidden": true
    },
    "tags": []
   },
   "outputs": [
    {
     "name": "stdout",
     "output_type": "stream",
     "text": [
      "[48.40839894811819, 25.026924203602636, 131.90336169825727, 15.255118427560566, 59.67641819394204, 71.02182939111708]\n"
     ]
    }
   ],
   "source": [
    "data_path = \"check/check_loss_two_step_center_ind_val/disco/no_rsu/match_all_data_100_5.npy\"\n",
    "confident_range = 0.9973\n",
    "scores = compute_score_center(data_path)\n",
    "quantile = compute_quantile_center(scores, 1-confident_range)\n",
    "print(quantile)"
   ]
  },
  {
   "cell_type": "markdown",
   "id": "91ffd944-7e05-43ee-8e62-b279675ca8d5",
   "metadata": {},
   "source": [
    "### upperbound"
   ]
  },
  {
   "cell_type": "code",
   "execution_count": 17,
   "id": "21b1a312-cd8f-45b0-af3c-0d1fbfd9681f",
   "metadata": {},
   "outputs": [
    {
     "name": "stdout",
     "output_type": "stream",
     "text": [
      "[3.9270005592398936, 3.7293620083399235, 12.661970846621758, 3.507125215592104, 1.3240707560700242, 3.309770337192223]\n"
     ]
    }
   ],
   "source": [
    "data_path = \"check/check_loss_two_step_center_ind_val/upperbound/no_rsu/match_all_data_100_5.npy\"\n",
    "confident_range = 0.6827\n",
    "scores = compute_score_center(data_path)\n",
    "quantile = compute_quantile_center(scores, 1-confident_range)\n",
    "print(quantile)"
   ]
  },
  {
   "cell_type": "code",
   "execution_count": 18,
   "id": "4c8b4279-5374-4e1b-9fbc-769b38bf8374",
   "metadata": {},
   "outputs": [
    {
     "name": "stdout",
     "output_type": "stream",
     "text": [
      "[31.340185602346363, 24.276376908593676, 118.64887029003187, 18.253235606033712, 109.68835650542137, 56.51205738298187]\n"
     ]
    }
   ],
   "source": [
    "data_path = \"check/check_loss_two_step_center_ind_val/upperbound/no_rsu/match_all_data_100_5.npy\"\n",
    "confident_range = 0.9973\n",
    "scores = compute_score_center(data_path)\n",
    "quantile = compute_quantile_center(scores, 1-confident_range)\n",
    "print(quantile)"
   ]
  },
  {
   "cell_type": "markdown",
   "id": "ae6af3bd-9dee-425d-9335-c85d747630dc",
   "metadata": {},
   "source": [
    "### lowerbound"
   ]
  },
  {
   "cell_type": "code",
   "execution_count": 19,
   "id": "e925fefb-5405-45ac-ad79-a7badf8d6ed9",
   "metadata": {},
   "outputs": [
    {
     "name": "stdout",
     "output_type": "stream",
     "text": [
      "[4.824761883365095, 4.435752094000069, 14.379824436595687, 2.8108565130701026, 1.0106651376400175, 4.404153510782447]\n"
     ]
    }
   ],
   "source": [
    "data_path = \"check/check_loss_two_step_center_ind_val/lowerbound/no_rsu/match_all_data_100_5.npy\"\n",
    "confident_range = 0.6827\n",
    "scores = compute_score_center(data_path)\n",
    "quantile = compute_quantile_center(scores, 1-confident_range)\n",
    "print(quantile)"
   ]
  },
  {
   "cell_type": "code",
   "execution_count": 20,
   "id": "c8ac5966-b17e-4003-907e-dd3f3b2729a6",
   "metadata": {},
   "outputs": [
    {
     "name": "stdout",
     "output_type": "stream",
     "text": [
      "[44.646381707137465, 28.842831596825288, 127.50113292712857, 18.538402799100826, 81.66889262783303, 53.23585004452376]\n"
     ]
    }
   ],
   "source": [
    "data_path = \"check/check_loss_two_step_center_ind_val/lowerbound/no_rsu/match_all_data_100_5.npy\"\n",
    "confident_range = 0.9973\n",
    "scores = compute_score_center(data_path)\n",
    "quantile = compute_quantile_center(scores, 1-confident_range)\n",
    "print(quantile)"
   ]
  },
  {
   "cell_type": "code",
   "execution_count": 2,
   "id": "29b26950-e70e-4d24-80ed-9e306dcfd465",
   "metadata": {},
   "outputs": [
    {
     "data": {
      "text/plain": [
       "0.03858082066337404"
      ]
     },
     "execution_count": 2,
     "metadata": {},
     "output_type": "execute_result"
    }
   ],
   "source": [
    "math.sqrt(math.exp(-6.51))"
   ]
  },
  {
   "cell_type": "code",
   "execution_count": null,
   "id": "581af831-503c-4b17-b4b4-45e2daa9b5bb",
   "metadata": {},
   "outputs": [],
   "source": []
  },
  {
   "cell_type": "markdown",
   "id": "a969e886-2bd3-479d-9f3f-e346f47334e5",
   "metadata": {},
   "source": [
    "## Computer quantile for kl_loss_center_sr_ind"
   ]
  },
  {
   "cell_type": "code",
   "execution_count": 6,
   "id": "bc351962-97c5-40a7-acca-70482bf241cb",
   "metadata": {},
   "outputs": [],
   "source": [
    "def corner_to_center_box2d_torch(corners):\n",
    "    p1 = corners[:,0:2]\n",
    "    p2 = corners[:,2:4]\n",
    "    p3 = corners[:,4:6]\n",
    "    p4 = corners[:,6:8]\n",
    "    center = (p1+p2+p3+p4)/4\n",
    "    w = (np.sqrt(np.sum(np.power(p1-p4, 2), axis=1, keepdims = True)) + np.sqrt(np.sum(np.power(p2-p3, 2), axis=1, keepdims = True)))/2\n",
    "    h = (np.sqrt(np.sum(np.power(p1-p2, 2), axis=1, keepdims = True)) + np.sqrt(np.sum(np.power(p3-p4, 2), axis=1, keepdims = True)))/2\n",
    "    s = np.multiply(w,h)\n",
    "    r = np.divide(w,h)\n",
    "    wp = np.sqrt(np.sum(np.power(p1-p4, 2), axis=1, keepdims = True))\n",
    "    sina = np.divide((p4[:,1:2] - p1[:,1:2]), wp)\n",
    "    cosa = np.divide((p1[:,0:1] - p4[:,0:1]), wp)\n",
    "    result = np.concatenate((center, s, r, sina, cosa), axis=1)\n",
    "    return result\n",
    "\n",
    "def compute_score_center(data_path):\n",
    "    data = np.load(data_path, allow_pickle=True)\n",
    "    tp = data.item()['tp']\n",
    "    scores = []\n",
    "    for i in range(len(tp)):\n",
    "        prediction = np.array(tp[i][0])\n",
    "        pred = prediction[:,:8]\n",
    "        target = np.array(tp[i][1])\n",
    "        cov = prediction[:,9:]\n",
    "        std = np.sqrt(np.exp(cov))\n",
    "        pred = corner_to_center_box2d_torch(pred)\n",
    "        target = corner_to_center_box2d_torch(target)\n",
    "        score = np.abs(pred-target) / np.sqrt(np.exp(cov))\n",
    "        for s in score:\n",
    "            scores.append(list(s))\n",
    "    return np.array(scores)\n",
    "\n",
    "def compute_quantile_center(scores, alpha):\n",
    "    n = scores.shape[0]\n",
    "    q_level = np.ceil((n+1)*(1-alpha))/n\n",
    "    quantile = []\n",
    "    for i in range(scores.shape[1]):\n",
    "        q = np.quantile(scores[:,i], q_level, interpolation='higher')\n",
    "        quantile.append(q)\n",
    "    return quantile"
   ]
  },
  {
   "cell_type": "markdown",
   "id": "43c94d00-8f1c-48bb-ba3e-d75a428c6519",
   "metadata": {},
   "source": [
    "### disco"
   ]
  },
  {
   "cell_type": "code",
   "execution_count": 7,
   "id": "74a9ca65-8921-42b6-b269-e37bdbcb7a02",
   "metadata": {},
   "outputs": [
    {
     "name": "stdout",
     "output_type": "stream",
     "text": [
      "[4.737979515372718, 4.714078400210938, 7.567237656129541, 34.6806279071411, 0.8099997963207344, 4.143097399364225]\n"
     ]
    }
   ],
   "source": [
    "data_path = \"check/check_loss_two_step_center_sr_ind_val/disco/no_rsu/match_all_data_100_5.npy\"\n",
    "confident_range = 0.6827\n",
    "scores = compute_score_center(data_path)\n",
    "quantile = compute_quantile_center(scores, 1-confident_range)\n",
    "print(quantile)"
   ]
  },
  {
   "cell_type": "code",
   "execution_count": 8,
   "id": "bcf1c5cb-2d77-4a90-9174-4c5831440efe",
   "metadata": {
    "tags": []
   },
   "outputs": [
    {
     "name": "stdout",
     "output_type": "stream",
     "text": [
      "[49.07599482807287, 24.25584494535801, 43.96985950550828, 192.27719839830377, 48.24540340451742, 63.485555875830585]\n"
     ]
    }
   ],
   "source": [
    "data_path = \"check/check_loss_two_step_center_sr_ind_val/disco/no_rsu/match_all_data_100_5.npy\"\n",
    "confident_range = 0.9973\n",
    "scores = compute_score_center(data_path)\n",
    "quantile = compute_quantile_center(scores, 1-confident_range)\n",
    "print(quantile)"
   ]
  },
  {
   "cell_type": "code",
   "execution_count": 2,
   "id": "cee4590a-bd99-4de0-b93d-fe96066bc14a",
   "metadata": {},
   "outputs": [
    {
     "name": "stdout",
     "output_type": "stream",
     "text": [
      "[267.6059187072261, 65.37177933480551, 214.8165049926819, 4107.835669322297]\n",
      "[16.358664942690957, 8.08528164845267, 14.656619835169428, 64.09239946610126]\n"
     ]
    }
   ],
   "source": [
    "a = np.array([49.07599482807287, 24.25584494535801, 43.96985950550828, 192.27719839830377]) / 3\n",
    "b = a * a\n",
    "print(list(b))\n",
    "print(list(a))"
   ]
  },
  {
   "cell_type": "markdown",
   "id": "d8fbadb9-6a54-4ec0-95cc-fab740f1e105",
   "metadata": {},
   "source": [
    "### upperbound"
   ]
  },
  {
   "cell_type": "code",
   "execution_count": 9,
   "id": "5e9cdec0-3e24-4fda-ad04-ea49fde98b20",
   "metadata": {},
   "outputs": [
    {
     "name": "stdout",
     "output_type": "stream",
     "text": [
      "[3.818482185248409, 3.9026028441206817, 6.644751592651442, 33.49078846043044, 1.150774290024538, 3.541034592403047]\n"
     ]
    }
   ],
   "source": [
    "data_path = \"check/check_loss_two_step_center_sr_ind_val/upperbound/no_rsu/match_all_data_100_5.npy\"\n",
    "confident_range = 0.6827\n",
    "scores = compute_score_center(data_path)\n",
    "quantile = compute_quantile_center(scores, 1-confident_range)\n",
    "print(quantile)"
   ]
  },
  {
   "cell_type": "code",
   "execution_count": 10,
   "id": "a7b4d42c-a011-4821-baf8-fcf6a0657133",
   "metadata": {},
   "outputs": [
    {
     "name": "stdout",
     "output_type": "stream",
     "text": [
      "[33.60120205831025, 22.88242090727398, 44.92134567665782, 187.53907271555377, 83.97342833677149, 57.77635661409111]\n"
     ]
    }
   ],
   "source": [
    "data_path = \"check/check_loss_two_step_center_sr_ind_val/upperbound/no_rsu/match_all_data_100_5.npy\"\n",
    "confident_range = 0.9973\n",
    "scores = compute_score_center(data_path)\n",
    "quantile = compute_quantile_center(scores, 1-confident_range)\n",
    "print(quantile)"
   ]
  },
  {
   "cell_type": "code",
   "execution_count": 3,
   "id": "3b01870c-1ed7-499e-8cb1-c9c8e1e3c10f",
   "metadata": {},
   "outputs": [
    {
     "name": "stdout",
     "output_type": "stream",
     "text": [
      "[125.44897552926587, 58.17835406418326, 224.21414415575381, 3907.8781994455294]\n",
      "[11.200400686103416, 7.627473635757993, 14.973781892219273, 62.51302423851792]\n"
     ]
    }
   ],
   "source": [
    "a = np.array([33.60120205831025, 22.88242090727398, 44.92134567665782, 187.53907271555377]) / 3\n",
    "b = a * a\n",
    "print(list(b))\n",
    "print(list(a))"
   ]
  },
  {
   "cell_type": "markdown",
   "id": "323186a9-ac48-4dd7-ae7e-2f6a486b7835",
   "metadata": {},
   "source": [
    "### lowerbound"
   ]
  },
  {
   "cell_type": "code",
   "execution_count": 11,
   "id": "7b0d1294-f915-42b5-b798-e93661c82c62",
   "metadata": {},
   "outputs": [
    {
     "name": "stdout",
     "output_type": "stream",
     "text": [
      "[4.815796820342549, 4.617622610425134, 7.233958697265688, 32.38028565917383, 1.3595152977293166, 3.4976893395704143]\n"
     ]
    }
   ],
   "source": [
    "data_path = \"check/check_loss_two_step_center_sr_ind_val/lowerbound/no_rsu/match_all_data_100_5.npy\"\n",
    "confident_range = 0.6827\n",
    "scores = compute_score_center(data_path)\n",
    "quantile = compute_quantile_center(scores, 1-confident_range)\n",
    "print(quantile)"
   ]
  },
  {
   "cell_type": "code",
   "execution_count": 12,
   "id": "66ae77c9-1a13-4598-9677-2b017e304dc2",
   "metadata": {},
   "outputs": [
    {
     "name": "stdout",
     "output_type": "stream",
     "text": [
      "[55.27816652981975, 31.64422204339833, 51.81092885206998, 368.3591724482785, 94.98653035446952, 40.695949853779744]\n"
     ]
    }
   ],
   "source": [
    "data_path = \"check/check_loss_two_step_center_sr_ind_val/lowerbound/no_rsu/match_all_data_100_5.npy\"\n",
    "confident_range = 0.9973\n",
    "scores = compute_score_center(data_path)\n",
    "quantile = compute_quantile_center(scores, 1-confident_range)\n",
    "print(quantile)"
   ]
  },
  {
   "cell_type": "code",
   "execution_count": 6,
   "id": "15b12f05-4e40-406e-952e-e724a2917f26",
   "metadata": {},
   "outputs": [
    {
     "name": "stdout",
     "output_type": "stream",
     "text": [
      "[339.5195216553872, 111.26186541465519, 298.26359427936194, 15076.497769642287]\n"
     ]
    }
   ],
   "source": [
    "a = np.array([55.27816652981975, 31.64422204339833, 51.81092885206998, 368.3591724482785]) / 3\n",
    "a = a * a\n",
    "print(list(a))"
   ]
  },
  {
   "cell_type": "code",
   "execution_count": 7,
   "id": "ff05ed38-4336-4a5b-ad82-9d5e73c80ad3",
   "metadata": {},
   "outputs": [
    {
     "data": {
      "text/plain": [
       "array([ 18.42605551,  10.54807401,  17.27030962, 122.78639082])"
      ]
     },
     "execution_count": 7,
     "metadata": {},
     "output_type": "execute_result"
    }
   ],
   "source": [
    "np.array([55.27816652981975, 31.64422204339833, 51.81092885206998, 368.3591724482785]) / 3"
   ]
  },
  {
   "cell_type": "code",
   "execution_count": null,
   "id": "69c37e87-ef00-4b66-b380-df485a4cc903",
   "metadata": {},
   "outputs": [],
   "source": []
  }
 ],
 "metadata": {
  "kernelspec": {
   "display_name": "Python 3 (ipykernel)",
   "language": "python",
   "name": "python3"
  },
  "language_info": {
   "codemirror_mode": {
    "name": "ipython",
    "version": 3
   },
   "file_extension": ".py",
   "mimetype": "text/x-python",
   "name": "python",
   "nbconvert_exporter": "python",
   "pygments_lexer": "ipython3",
   "version": "3.9.7"
  }
 },
 "nbformat": 4,
 "nbformat_minor": 5
}
