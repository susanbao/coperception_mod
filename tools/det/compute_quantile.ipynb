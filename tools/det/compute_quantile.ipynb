{
 "cells": [
  {
   "cell_type": "code",
   "execution_count": 2,
   "id": "9e102bd0-5f1b-4b61-b51b-2be34b80f449",
   "metadata": {},
   "outputs": [],
   "source": [
    "import numpy as np\n",
    "import torch\n",
    "import math"
   ]
  },
  {
   "cell_type": "markdown",
   "id": "eee26d06-f116-4c20-bcc9-2e02863af28a",
   "metadata": {},
   "source": [
    "## Computer quantile for kl_loss_corner"
   ]
  },
  {
   "cell_type": "code",
   "execution_count": 3,
   "id": "b70eccd3-6bee-495e-a908-110b4c8424cf",
   "metadata": {},
   "outputs": [],
   "source": [
    "def compute_score(data_path):\n",
    "    data = np.load(data_path, allow_pickle=True)\n",
    "    tp = data.item()['tp']\n",
    "    scores = []\n",
    "    for i in range(len(tp)):\n",
    "        prediction = np.array(tp[i][0])\n",
    "        pred = prediction[:,:8]\n",
    "        target = np.array(tp[i][1])\n",
    "        cov = prediction[:,9:]\n",
    "        score = np.abs(pred-target) / np.sqrt(np.exp(cov))\n",
    "        for s in score:\n",
    "            scores.append(list(s))\n",
    "    return np.array(scores)\n",
    "\n",
    "def compute_quantile(scores, alpha):\n",
    "    n = scores.shape[0]\n",
    "    q_level = np.ceil((n+1)*(1-alpha))/n\n",
    "    quantile = []\n",
    "    for i in range(scores.shape[1]):\n",
    "        q = np.quantile(scores[:,i], q_level, interpolation='higher')\n",
    "        quantile.append(q)\n",
    "    return quantile"
   ]
  },
  {
   "cell_type": "markdown",
   "id": "bf76aaad-16d7-4d9a-ba96-ec1d2e7643fc",
   "metadata": {},
   "source": [
    "### disco"
   ]
  },
  {
   "cell_type": "code",
   "execution_count": 4,
   "id": "3b442802-920a-4aac-b5e6-248edf11ce6f",
   "metadata": {},
   "outputs": [
    {
     "name": "stdout",
     "output_type": "stream",
     "text": [
      "[5.685563231556715, 5.7333907000666064, 5.8156107496472655, 5.698934531905109, 5.349435233304022, 5.286866601436044, 5.364550922522339, 5.254597136256393]\n"
     ]
    }
   ],
   "source": [
    "data_path = \"check/check_loss_two_step_corner_val/disco/no_rsu/match_all_data_100_5.npy\"\n",
    "confident_range = 0.6827\n",
    "scores = compute_score(data_path)\n",
    "quantile = compute_quantile(scores, 1-confident_range)\n",
    "print(quantile)"
   ]
  },
  {
   "cell_type": "markdown",
   "id": "fba25985-c6f8-4204-a7cd-d0b69e7010a3",
   "metadata": {},
   "source": [
    "### upperbound"
   ]
  },
  {
   "cell_type": "code",
   "execution_count": 5,
   "id": "b57fd503-dc13-45b4-a18f-9ef05271355c",
   "metadata": {},
   "outputs": [
    {
     "name": "stdout",
     "output_type": "stream",
     "text": [
      "[4.190345185940821, 4.351993435985297, 4.558479310459919, 4.717549387208282, 4.278715029642637, 4.102446480783583, 4.1725601258012475, 3.530299361843318]\n"
     ]
    }
   ],
   "source": [
    "data_path = \"check/check_loss_two_step_corner_val/upperbound/no_rsu/match_all_data_100_5.npy\"\n",
    "confident_range = 0.6827\n",
    "scores = compute_score(data_path)\n",
    "quantile = compute_quantile(scores, 1-confident_range)\n",
    "print(quantile)"
   ]
  },
  {
   "cell_type": "markdown",
   "id": "a8b0c8a2-a72e-43ac-8d5d-4eb74fefb8b5",
   "metadata": {},
   "source": [
    "### lowerbound"
   ]
  },
  {
   "cell_type": "code",
   "execution_count": 6,
   "id": "9d883fca-d15c-4efa-a904-b4cd22745b69",
   "metadata": {},
   "outputs": [
    {
     "name": "stdout",
     "output_type": "stream",
     "text": [
      "[6.10302951960435, 6.182331226887726, 5.740435199991636, 6.236356538776135, 6.334263986132204, 5.1828751359733305, 6.399557006521807, 5.073939114533967]\n"
     ]
    }
   ],
   "source": [
    "data_path = \"check/check_loss_two_step_corner_val/lowerbound/no_rsu/match_all_data_100_5.npy\"\n",
    "confident_range = 0.6827\n",
    "scores = compute_score(data_path)\n",
    "quantile = compute_quantile(scores, 1-confident_range)\n",
    "print(quantile)"
   ]
  },
  {
   "cell_type": "code",
   "execution_count": null,
   "id": "f7033cce-fa8d-4de9-8a3f-9baa5669faab",
   "metadata": {},
   "outputs": [],
   "source": []
  }
 ],
 "metadata": {
  "kernelspec": {
   "display_name": "Python 3 (ipykernel)",
   "language": "python",
   "name": "python3"
  },
  "language_info": {
   "codemirror_mode": {
    "name": "ipython",
    "version": 3
   },
   "file_extension": ".py",
   "mimetype": "text/x-python",
   "name": "python",
   "nbconvert_exporter": "python",
   "pygments_lexer": "ipython3",
   "version": "3.9.7"
  }
 },
 "nbformat": 4,
 "nbformat_minor": 5
}
