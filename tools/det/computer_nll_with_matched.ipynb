{
 "cells": [
  {
   "cell_type": "code",
   "execution_count": 34,
   "id": "f9b36605-dcee-4d40-bd73-8483c71ecebc",
   "metadata": {},
   "outputs": [],
   "source": [
    "import numpy as np\n",
    "import torch\n",
    "import math"
   ]
  },
  {
   "cell_type": "markdown",
   "id": "eda82e43-da00-4eb0-90f4-b1208a0ee133",
   "metadata": {},
   "source": [
    "# Computer NLL based on matched results after match_store.py"
   ]
  },
  {
   "cell_type": "markdown",
   "id": "b841b310-d71a-4dce-b6bc-30a4f6985576",
   "metadata": {},
   "source": [
    "## Corner-based format with single-variate Gaussian distribution\n",
    "kl_loss_corner"
   ]
  },
  {
   "cell_type": "code",
   "execution_count": 59,
   "id": "4a8b7438-1c22-4519-b6a0-1a8c9329e4bc",
   "metadata": {},
   "outputs": [],
   "source": [
    "def compute_nll_corner_single(data_path, ty = 0, info=None):\n",
    "    data = np.load(data_path, allow_pickle=True)\n",
    "    tp = data.item()['tp']\n",
    "    nll_list = []\n",
    "    for i in range(len(tp)):\n",
    "        prediction = np.array(tp[i][0])\n",
    "        pred = torch.from_numpy(prediction[:,:8])\n",
    "        target = torch.from_numpy(np.array(tp[i][1]))\n",
    "        cov = torch.from_numpy(prediction[:,9:])\n",
    "        std = torch.sqrt(torch.exp(cov))\n",
    "        if ty == 0:\n",
    "            std = std\n",
    "        elif ty == 1:\n",
    "            std = torch.multiply(std, torch.FloatTensor(info))\n",
    "        elif ty == 2:\n",
    "            std = std * info\n",
    "        predicted_normal_dists = torch.distributions.normal.Normal(pred, std)\n",
    "        negative_log_prob = - predicted_normal_dists.log_prob(target)\n",
    "        #print(std)\n",
    "        #print(negative_log_prob)\n",
    "        negative_log_prob = torch.sum(negative_log_prob,axis=1)\n",
    "        #print(negative_log_prob)\n",
    "        nll_list.extend(negative_log_prob.tolist())\n",
    "    return sum(nll_list) / len(nll_list) / 8"
   ]
  },
  {
   "cell_type": "markdown",
   "id": "f395499d-525c-46b0-a25d-416b23e6b1a8",
   "metadata": {},
   "source": [
    "### disco"
   ]
  },
  {
   "cell_type": "code",
   "execution_count": 51,
   "id": "f5e8b1ab-68b3-4a14-926b-84e6739e5ccd",
   "metadata": {},
   "outputs": [
    {
     "data": {
      "text/plain": [
       "415.291521675446"
      ]
     },
     "execution_count": 51,
     "metadata": {},
     "output_type": "execute_result"
    }
   ],
   "source": [
    "data_path = \"check/check_loss_two_step_corner/disco/no_rsu/match_all_data_100_5.npy\"\n",
    "compute_nll_corner_single(data_path, 0)"
   ]
  },
  {
   "cell_type": "code",
   "execution_count": 52,
   "id": "b7c295b3-9413-43a8-8481-bca88c10e697",
   "metadata": {},
   "outputs": [
    {
     "data": {
      "text/plain": [
       "12.51664656598859"
      ]
     },
     "execution_count": 52,
     "metadata": {},
     "output_type": "execute_result"
    }
   ],
   "source": [
    "# 68.27%\n",
    "data_path = \"check/check_loss_two_step_corner/disco/no_rsu/match_all_data_100_5.npy\"\n",
    "quantile = [5.685563231556715, 5.7333907000666064, 5.8156107496472655, 5.698934531905109, 5.349435233304022, 5.286866601436044, 5.364550922522339, 5.254597136256393]\n",
    "compute_nll_corner_single(data_path, 1, quantile)"
   ]
  },
  {
   "cell_type": "code",
   "execution_count": 67,
   "id": "94ae851a-82c2-4a29-ac6e-938f170b3150",
   "metadata": {},
   "outputs": [
    {
     "data": {
      "text/plain": [
       "1.5591617015681316"
      ]
     },
     "execution_count": 67,
     "metadata": {},
     "output_type": "execute_result"
    }
   ],
   "source": [
    "# 99.73%\n",
    "data_path = \"check/check_loss_two_step_corner/disco/no_rsu/match_all_data_100_5.npy\"\n",
    "quantile = np.array([48.667429272195506, 47.12830691785341, 47.89193980424878, 42.536190890924544, 42.169949853660526, 46.371733470171094, 41.253330827583945, 41.55867648053199]) / 3\n",
    "compute_nll_corner_single(data_path, 1, quantile)"
   ]
  },
  {
   "cell_type": "code",
   "execution_count": 64,
   "id": "125b11f1-d163-4b16-97d9-9378dea8b0af",
   "metadata": {},
   "outputs": [
    {
     "data": {
      "text/plain": [
       "0.9743422657574208"
      ]
     },
     "execution_count": 64,
     "metadata": {},
     "output_type": "execute_result"
    }
   ],
   "source": [
    "data_path = \"check/check_loss_two_step_corner/disco/no_rsu/match_all_data_100_5.npy\"\n",
    "compute_nll_corner_single(data_path, 2, 20)"
   ]
  },
  {
   "cell_type": "markdown",
   "id": "f686023b-a314-488b-96a1-98cb92873050",
   "metadata": {},
   "source": [
    "### Upperbound"
   ]
  },
  {
   "cell_type": "code",
   "execution_count": 53,
   "id": "e0565f65-06cb-420b-baf8-679cbd2b7975",
   "metadata": {},
   "outputs": [
    {
     "data": {
      "text/plain": [
       "675.0649621909652"
      ]
     },
     "execution_count": 53,
     "metadata": {},
     "output_type": "execute_result"
    }
   ],
   "source": [
    "data_path = \"check/check_loss_two_step_corner/upperbound/no_rsu/match_all_data_100_5.npy\"\n",
    "compute_nll_corner_single(data_path, 0)"
   ]
  },
  {
   "cell_type": "code",
   "execution_count": 54,
   "id": "ea509c32-3937-49bc-a614-5af6e6b3e5dd",
   "metadata": {},
   "outputs": [
    {
     "data": {
      "text/plain": [
       "37.271325945254226"
      ]
     },
     "execution_count": 54,
     "metadata": {},
     "output_type": "execute_result"
    }
   ],
   "source": [
    "# 68.27%\n",
    "data_path = \"check/check_loss_two_step_corner/upperbound/no_rsu/match_all_data_100_5.npy\"\n",
    "quantile = [4.190345185940821, 4.351993435985297, 4.558479310459919, 4.717549387208282, 4.278715029642637, 4.102446480783583, 4.1725601258012475, 3.530299361843318]\n",
    "compute_nll_corner_single(data_path, 1, quantile)"
   ]
  },
  {
   "cell_type": "code",
   "execution_count": 68,
   "id": "8a2c3e17-b591-4d63-9886-6c106c8af8a9",
   "metadata": {},
   "outputs": [
    {
     "data": {
      "text/plain": [
       "1.9635652953579963"
      ]
     },
     "execution_count": 68,
     "metadata": {},
     "output_type": "execute_result"
    }
   ],
   "source": [
    "# 99.73%\n",
    "data_path = \"check/check_loss_two_step_corner/upperbound/no_rsu/match_all_data_100_5.npy\"\n",
    "quantile = np.array([49.72913250209128, 68.07916849224074, 54.76645263747507, 76.2931006003976, 46.32874805418221, 76.94147233490142, 50.70841262977031, 77.77131089570797]) / 3\n",
    "compute_nll_corner_single(data_path, 1, quantile)"
   ]
  },
  {
   "cell_type": "markdown",
   "id": "e955a292-c05f-426f-b2f9-c0e3007b3d56",
   "metadata": {},
   "source": [
    "### Lowerbound"
   ]
  },
  {
   "cell_type": "code",
   "execution_count": 55,
   "id": "a9c90e3c-d6bd-4d50-afea-7a882eb681c1",
   "metadata": {},
   "outputs": [
    {
     "data": {
      "text/plain": [
       "1005.0290235710669"
      ]
     },
     "execution_count": 55,
     "metadata": {},
     "output_type": "execute_result"
    }
   ],
   "source": [
    "data_path = \"check/check_loss_two_step_corner/lowerbound/no_rsu/match_all_data_100_5.npy\"\n",
    "compute_nll_corner_single(data_path, 0)"
   ]
  },
  {
   "cell_type": "code",
   "execution_count": 56,
   "id": "0be58277-eca3-4cf3-947a-f5f7d007ca7a",
   "metadata": {},
   "outputs": [
    {
     "data": {
      "text/plain": [
       "27.691568272492272"
      ]
     },
     "execution_count": 56,
     "metadata": {},
     "output_type": "execute_result"
    }
   ],
   "source": [
    "# 68.27%\n",
    "data_path = \"check/check_loss_two_step_corner/lowerbound/no_rsu/match_all_data_100_5.npy\"\n",
    "quantile = [6.10302951960435, 6.182331226887726, 5.740435199991636, 6.236356538776135, 6.334263986132204, 5.1828751359733305, 6.399557006521807, 5.073939114533967]\n",
    "compute_nll_corner_single(data_path, 1, quantile)"
   ]
  },
  {
   "cell_type": "code",
   "execution_count": 69,
   "id": "55caf8ff-9a3b-44ce-9e5a-ad2b1d5954d1",
   "metadata": {},
   "outputs": [
    {
     "data": {
      "text/plain": [
       "1.4818255556925457"
      ]
     },
     "execution_count": 69,
     "metadata": {},
     "output_type": "execute_result"
    }
   ],
   "source": [
    "# 99.73%\n",
    "data_path = \"check/check_loss_two_step_corner/lowerbound/no_rsu/match_all_data_100_5.npy\"\n",
    "quantile = np.array([259.92825137969436, 201.07436055964888, 258.2222934053669, 197.05243747520606, 328.5189148613409, 235.0538877505854, 339.6938946129562, 235.97804342045072]) / 3\n",
    "compute_nll_corner_single(data_path, 1, quantile)"
   ]
  },
  {
   "cell_type": "code",
   "execution_count": null,
   "id": "9420fc14-f9c7-4dc5-a2f0-795c97d698a8",
   "metadata": {},
   "outputs": [],
   "source": []
  }
 ],
 "metadata": {
  "kernelspec": {
   "display_name": "Python 3 (ipykernel)",
   "language": "python",
   "name": "python3"
  },
  "language_info": {
   "codemirror_mode": {
    "name": "ipython",
    "version": 3
   },
   "file_extension": ".py",
   "mimetype": "text/x-python",
   "name": "python",
   "nbconvert_exporter": "python",
   "pygments_lexer": "ipython3",
   "version": "3.9.7"
  }
 },
 "nbformat": 4,
 "nbformat_minor": 5
}
