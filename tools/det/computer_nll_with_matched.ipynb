{
 "cells": [
  {
   "cell_type": "code",
   "execution_count": 1,
   "id": "f9b36605-dcee-4d40-bd73-8483c71ecebc",
   "metadata": {},
   "outputs": [],
   "source": [
    "import numpy as np\n",
    "import torch\n",
    "import math"
   ]
  },
  {
   "cell_type": "markdown",
   "id": "eda82e43-da00-4eb0-90f4-b1208a0ee133",
   "metadata": {},
   "source": [
    "# Computer NLL based on matched results after match_store.py"
   ]
  },
  {
   "cell_type": "markdown",
   "id": "b841b310-d71a-4dce-b6bc-30a4f6985576",
   "metadata": {},
   "source": [
    "## Corner-based format with single-variate Gaussian distribution\n",
    "kl_loss_corner"
   ]
  },
  {
   "cell_type": "code",
   "execution_count": null,
   "id": "4a8b7438-1c22-4519-b6a0-1a8c9329e4bc",
   "metadata": {},
   "outputs": [],
   "source": []
  },
  {
   "cell_type": "markdown",
   "id": "f395499d-525c-46b0-a25d-416b23e6b1a8",
   "metadata": {},
   "source": []
  }
 ],
 "metadata": {
  "kernelspec": {
   "display_name": "Python 3 (ipykernel)",
   "language": "python",
   "name": "python3"
  },
  "language_info": {
   "codemirror_mode": {
    "name": "ipython",
    "version": 3
   },
   "file_extension": ".py",
   "mimetype": "text/x-python",
   "name": "python",
   "nbconvert_exporter": "python",
   "pygments_lexer": "ipython3",
   "version": "3.9.7"
  }
 },
 "nbformat": 4,
 "nbformat_minor": 5
}
