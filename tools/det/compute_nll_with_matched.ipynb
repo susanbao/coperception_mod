{
 "cells": [
  {
   "cell_type": "code",
   "execution_count": 1,
   "id": "f9b36605-dcee-4d40-bd73-8483c71ecebc",
   "metadata": {},
   "outputs": [],
   "source": [
    "import numpy as np\n",
    "import torch \n",
    "import math"
   ]
  },
  {
   "cell_type": "markdown",
   "id": "eda82e43-da00-4eb0-90f4-b1208a0ee133",
   "metadata": {},
   "source": [
    "# Compute NLL based on matched results after match_store.py"
   ]
  },
  {
   "cell_type": "markdown",
   "id": "b841b310-d71a-4dce-b6bc-30a4f6985576",
   "metadata": {},
   "source": [
    "## Corner-based format with single-variate Gaussian distribution\n",
    "kl_loss_corner"
   ]
  },
  {
   "cell_type": "code",
   "execution_count": 2,
   "id": "4a8b7438-1c22-4519-b6a0-1a8c9329e4bc",
   "metadata": {},
   "outputs": [],
   "source": [
    "def compute_nll_corner_single(data_path, ty = 0, info=None):\n",
    "    data = np.load(data_path, allow_pickle=True)\n",
    "    tp = data.item()['tp']\n",
    "    nll_list = []\n",
    "    for i in range(len(tp)):\n",
    "        prediction = np.array(tp[i][0])\n",
    "        pred = torch.from_numpy(prediction[:,:8])\n",
    "        target = torch.from_numpy(np.array(tp[i][1]))\n",
    "        cov = torch.from_numpy(prediction[:,9:])\n",
    "        std = torch.sqrt(torch.exp(cov))\n",
    "        if ty == 0:\n",
    "            std = std\n",
    "        elif ty == 1:\n",
    "            std = torch.multiply(std, torch.FloatTensor(info))\n",
    "        elif ty == 2:\n",
    "            std = std * info\n",
    "        predicted_normal_dists = torch.distributions.normal.Normal(pred, std)\n",
    "        negative_log_prob = - predicted_normal_dists.log_prob(target)\n",
    "        negative_log_prob = torch.clamp(negative_log_prob, min = 0)\n",
    "        #print(std)\n",
    "        #print(negative_log_prob)\n",
    "        negative_log_prob = torch.sum(negative_log_prob,axis=1)\n",
    "        #print(negative_log_prob)\n",
    "        nll_list.extend(negative_log_prob.tolist())\n",
    "    return sum(nll_list) / len(nll_list) / 8"
   ]
  },
  {
   "cell_type": "markdown",
   "id": "f395499d-525c-46b0-a25d-416b23e6b1a8",
   "metadata": {},
   "source": [
    "### disco"
   ]
  },
  {
   "cell_type": "code",
   "execution_count": 55,
   "id": "f5e8b1ab-68b3-4a14-926b-84e6739e5ccd",
   "metadata": {},
   "outputs": [
    {
     "data": {
      "text/plain": [
       "416.2972604126629"
      ]
     },
     "execution_count": 55,
     "metadata": {},
     "output_type": "execute_result"
    }
   ],
   "source": [
    "data_path = \"check/check_loss_two_step_corner/disco/no_rsu/match_all_data_100_5.npy\"\n",
    "compute_nll_corner_single(data_path, 0)"
   ]
  },
  {
   "cell_type": "code",
   "execution_count": 56,
   "id": "b7c295b3-9413-43a8-8481-bca88c10e697",
   "metadata": {},
   "outputs": [
    {
     "data": {
      "text/plain": [
       "13.494476708883193"
      ]
     },
     "execution_count": 56,
     "metadata": {},
     "output_type": "execute_result"
    }
   ],
   "source": [
    "# 68.27%\n",
    "data_path = \"check/check_loss_two_step_corner/disco/no_rsu/match_all_data_100_5.npy\"\n",
    "quantile = [5.685563231556715, 5.7333907000666064, 5.8156107496472655, 5.698934531905109, 5.349435233304022, 5.286866601436044, 5.364550922522339, 5.254597136256393]\n",
    "compute_nll_corner_single(data_path, 1, quantile)"
   ]
  },
  {
   "cell_type": "code",
   "execution_count": 57,
   "id": "94ae851a-82c2-4a29-ac6e-938f170b3150",
   "metadata": {},
   "outputs": [
    {
     "data": {
      "text/plain": [
       "1.9925759560542673"
      ]
     },
     "execution_count": 57,
     "metadata": {},
     "output_type": "execute_result"
    }
   ],
   "source": [
    "# 99.73%\n",
    "data_path = \"check/check_loss_two_step_corner/disco/no_rsu/match_all_data_100_5.npy\"\n",
    "quantile = np.array([48.667429272195506, 47.12830691785341, 47.89193980424878, 42.536190890924544, 42.169949853660526, 46.371733470171094, 41.253330827583945, 41.55867648053199]) / 3\n",
    "compute_nll_corner_single(data_path, 1, quantile)"
   ]
  },
  {
   "cell_type": "code",
   "execution_count": 58,
   "id": "125b11f1-d163-4b16-97d9-9378dea8b0af",
   "metadata": {},
   "outputs": [
    {
     "data": {
      "text/plain": [
       "4.084503384071757"
      ]
     },
     "execution_count": 58,
     "metadata": {},
     "output_type": "execute_result"
    }
   ],
   "source": [
    "data_path = \"check/check_loss_two_step_corner/disco/no_rsu/match_all_data_100_5.npy\"\n",
    "compute_nll_corner_single(data_path, 2, 10)"
   ]
  },
  {
   "cell_type": "markdown",
   "id": "f686023b-a314-488b-96a1-98cb92873050",
   "metadata": {},
   "source": [
    "### Upperbound"
   ]
  },
  {
   "cell_type": "code",
   "execution_count": 59,
   "id": "e0565f65-06cb-420b-baf8-679cbd2b7975",
   "metadata": {},
   "outputs": [
    {
     "data": {
      "text/plain": [
       "675.9178318133589"
      ]
     },
     "execution_count": 59,
     "metadata": {},
     "output_type": "execute_result"
    }
   ],
   "source": [
    "data_path = \"check/check_loss_two_step_corner/upperbound/no_rsu/match_all_data_100_5.npy\"\n",
    "compute_nll_corner_single(data_path, 0)"
   ]
  },
  {
   "cell_type": "code",
   "execution_count": 60,
   "id": "ea509c32-3937-49bc-a614-5af6e6b3e5dd",
   "metadata": {},
   "outputs": [
    {
     "data": {
      "text/plain": [
       "38.17884247695083"
      ]
     },
     "execution_count": 60,
     "metadata": {},
     "output_type": "execute_result"
    }
   ],
   "source": [
    "# 68.27%\n",
    "data_path = \"check/check_loss_two_step_corner/upperbound/no_rsu/match_all_data_100_5.npy\"\n",
    "quantile = [4.190345185940821, 4.351993435985297, 4.558479310459919, 4.717549387208282, 4.278715029642637, 4.102446480783583, 4.1725601258012475, 3.530299361843318]\n",
    "compute_nll_corner_single(data_path, 1, quantile)"
   ]
  },
  {
   "cell_type": "code",
   "execution_count": 61,
   "id": "8a2c3e17-b591-4d63-9886-6c106c8af8a9",
   "metadata": {},
   "outputs": [
    {
     "data": {
      "text/plain": [
       "2.1025180192343154"
      ]
     },
     "execution_count": 61,
     "metadata": {},
     "output_type": "execute_result"
    }
   ],
   "source": [
    "# 99.73%\n",
    "data_path = \"check/check_loss_two_step_corner/upperbound/no_rsu/match_all_data_100_5.npy\"\n",
    "quantile = np.array([49.72913250209128, 68.07916849224074, 54.76645263747507, 76.2931006003976, 46.32874805418221, 76.94147233490142, 50.70841262977031, 77.77131089570797]) / 3\n",
    "compute_nll_corner_single(data_path, 1, quantile)"
   ]
  },
  {
   "cell_type": "code",
   "execution_count": 3,
   "id": "f1522056-5b0b-497c-9675-7a76517dc43e",
   "metadata": {},
   "outputs": [
    {
     "data": {
      "text/plain": [
       "6.72424460927033"
      ]
     },
     "execution_count": 3,
     "metadata": {},
     "output_type": "execute_result"
    }
   ],
   "source": [
    "data_path = \"check/check_loss_two_step_corner/upperbound/no_rsu/match_all_data_100_5.npy\"\n",
    "compute_nll_corner_single(data_path, 2, 10)"
   ]
  },
  {
   "cell_type": "markdown",
   "id": "e955a292-c05f-426f-b2f9-c0e3007b3d56",
   "metadata": {},
   "source": [
    "### Lowerbound"
   ]
  },
  {
   "cell_type": "code",
   "execution_count": 62,
   "id": "a9c90e3c-d6bd-4d50-afea-7a882eb681c1",
   "metadata": {},
   "outputs": [
    {
     "data": {
      "text/plain": [
       "1006.1331307949978"
      ]
     },
     "execution_count": 62,
     "metadata": {},
     "output_type": "execute_result"
    }
   ],
   "source": [
    "data_path = \"check/check_loss_two_step_corner/lowerbound/no_rsu/match_all_data_100_5.npy\"\n",
    "compute_nll_corner_single(data_path, 0)"
   ]
  },
  {
   "cell_type": "code",
   "execution_count": 63,
   "id": "0be58277-eca3-4cf3-947a-f5f7d007ca7a",
   "metadata": {},
   "outputs": [
    {
     "data": {
      "text/plain": [
       "28.671798591521377"
      ]
     },
     "execution_count": 63,
     "metadata": {},
     "output_type": "execute_result"
    }
   ],
   "source": [
    "# 68.27%\n",
    "data_path = \"check/check_loss_two_step_corner/lowerbound/no_rsu/match_all_data_100_5.npy\"\n",
    "quantile = [6.10302951960435, 6.182331226887726, 5.740435199991636, 6.236356538776135, 6.334263986132204, 5.1828751359733305, 6.399557006521807, 5.073939114533967]\n",
    "compute_nll_corner_single(data_path, 1, quantile)"
   ]
  },
  {
   "cell_type": "code",
   "execution_count": 64,
   "id": "55caf8ff-9a3b-44ce-9e5a-ad2b1d5954d1",
   "metadata": {},
   "outputs": [
    {
     "data": {
      "text/plain": [
       "1.5389587415294637"
      ]
     },
     "execution_count": 64,
     "metadata": {},
     "output_type": "execute_result"
    }
   ],
   "source": [
    "# 99.73%\n",
    "data_path = \"check/check_loss_two_step_corner/lowerbound/no_rsu/match_all_data_100_5.npy\"\n",
    "quantile = np.array([259.92825137969436, 201.07436055964888, 258.2222934053669, 197.05243747520606, 328.5189148613409, 235.0538877505854, 339.6938946129562, 235.97804342045072]) / 3\n",
    "compute_nll_corner_single(data_path, 1, quantile)"
   ]
  },
  {
   "cell_type": "code",
   "execution_count": 4,
   "id": "9420fc14-f9c7-4dc5-a2f0-795c97d698a8",
   "metadata": {},
   "outputs": [
    {
     "data": {
      "text/plain": [
       "9.97808175733016"
      ]
     },
     "execution_count": 4,
     "metadata": {},
     "output_type": "execute_result"
    }
   ],
   "source": [
    "data_path = \"check/check_loss_two_step_corner/lowerbound/no_rsu/match_all_data_100_5.npy\"\n",
    "compute_nll_corner_single(data_path, 2, 10)"
   ]
  },
  {
   "cell_type": "markdown",
   "id": "5ae5aecf-465c-4d0b-ba43-de179d4492d4",
   "metadata": {},
   "source": [
    "## Center-based format with single-variate Gaussian distribution\n",
    "kl_loss_center_ind"
   ]
  },
  {
   "cell_type": "code",
   "execution_count": 5,
   "id": "e8618c05-c43c-4d0c-93df-16858c4ec47b",
   "metadata": {},
   "outputs": [],
   "source": [
    "def corner_to_center_box2d_torch(corners):\n",
    "    p1 = corners[:,0:2]\n",
    "    p2 = corners[:,2:4]\n",
    "    p3 = corners[:,4:6]\n",
    "    p4 = corners[:,6:8]\n",
    "    center = (p1+p2+p3+p4)/4\n",
    "    w = (np.sqrt(np.sum(np.power(p1-p4, 2), axis=1, keepdims = True)) + np.sqrt(np.sum(np.power(p2-p3, 2), axis=1, keepdims = True)))/2\n",
    "    h = (np.sqrt(np.sum(np.power(p1-p2, 2), axis=1, keepdims = True)) + np.sqrt(np.sum(np.power(p3-p4, 2), axis=1, keepdims = True)))/2\n",
    "    wp = np.sqrt(np.sum(np.power(p1-p4, 2), axis=1, keepdims = True))\n",
    "    sina = np.divide((p4[:,1:2] - p1[:,1:2]), wp)\n",
    "    cosa = np.divide((p1[:,0:1] - p4[:,0:1]), wp)\n",
    "    result = np.concatenate((center, w, h, sina, cosa), axis=1)\n",
    "    return result\n",
    "\n",
    "def compute_nll_center_single(data_path, ty = 0, info=None):\n",
    "    data = np.load(data_path, allow_pickle=True)\n",
    "    tp = data.item()['tp']\n",
    "    nll_list = []\n",
    "    for i in range(len(tp)):\n",
    "        prediction = np.array(tp[i][0])\n",
    "        pred = corner_to_center_box2d_torch(prediction[:,:8])\n",
    "        target = corner_to_center_box2d_torch(np.array(tp[i][1]))\n",
    "        pred = torch.from_numpy(pred)\n",
    "        target = torch.from_numpy(target)\n",
    "        cov = torch.from_numpy(prediction[:,9:])\n",
    "        std = torch.sqrt(torch.exp(cov))\n",
    "        if ty == 0:\n",
    "            std = std\n",
    "        elif ty == 1:\n",
    "            std = torch.multiply(std, torch.FloatTensor(info))\n",
    "        elif ty == 2:\n",
    "            std = std * info\n",
    "        predicted_normal_dists = torch.distributions.normal.Normal(pred, std)\n",
    "        negative_log_prob = - predicted_normal_dists.log_prob(target)\n",
    "        negative_log_prob = torch.clamp(negative_log_prob, min=0)\n",
    "        negative_log_prob = torch.sum(negative_log_prob,axis=1)\n",
    "        nll_list.extend(negative_log_prob.tolist())\n",
    "    return sum(nll_list) / len(nll_list) / 6"
   ]
  },
  {
   "cell_type": "markdown",
   "id": "697df725-60c6-42ac-88a1-d46d3137563e",
   "metadata": {},
   "source": [
    "### disco"
   ]
  },
  {
   "cell_type": "code",
   "execution_count": 66,
   "id": "dfdb500f-9301-41c6-adb4-db44acfab7f3",
   "metadata": {},
   "outputs": [
    {
     "data": {
      "text/plain": [
       "389.0953396145462"
      ]
     },
     "execution_count": 66,
     "metadata": {},
     "output_type": "execute_result"
    }
   ],
   "source": [
    "data_path = \"check/check_loss_two_step_center_ind/disco/no_rsu/match_all_data_100_5.npy\"\n",
    "compute_nll_center_single(data_path, 0)"
   ]
  },
  {
   "cell_type": "code",
   "execution_count": 67,
   "id": "17f392b0-4143-499d-8ea6-39abf285bcc0",
   "metadata": {},
   "outputs": [
    {
     "data": {
      "text/plain": [
       "214.13620986247267"
      ]
     },
     "execution_count": 67,
     "metadata": {},
     "output_type": "execute_result"
    }
   ],
   "source": [
    "# 68.27%\n",
    "data_path = \"check/check_loss_two_step_center_ind/disco/no_rsu/match_all_data_100_5.npy\"\n",
    "quantile = [5.468984395243384, 4.89869516767041, 16.09847077479864, 3.0882512529684347, 1.0243907317028713, 4.811753752332904]\n",
    "compute_nll_center_single(data_path, 1, quantile)"
   ]
  },
  {
   "cell_type": "code",
   "execution_count": 68,
   "id": "cb7bb810-3b39-4649-b3c7-dbf26eba4daf",
   "metadata": {},
   "outputs": [
    {
     "data": {
      "text/plain": [
       "0.853390490777656"
      ]
     },
     "execution_count": 68,
     "metadata": {},
     "output_type": "execute_result"
    }
   ],
   "source": [
    "# 99.73%\n",
    "data_path = \"check/check_loss_two_step_center_ind/disco/no_rsu/match_all_data_100_5.npy\"\n",
    "quantile = np.array([48.40839894811819, 25.026924203602636, 131.90336169825727, 15.255118427560566, 59.67641819394204, 71.02182939111708]) / 3\n",
    "compute_nll_center_single(data_path, 1, quantile)"
   ]
  },
  {
   "cell_type": "code",
   "execution_count": 69,
   "id": "c49c40b8-38f5-4fcc-b960-ac787970bbc7",
   "metadata": {},
   "outputs": [
    {
     "data": {
      "text/plain": [
       "3.6698438872753427"
      ]
     },
     "execution_count": 69,
     "metadata": {},
     "output_type": "execute_result"
    }
   ],
   "source": [
    "data_path = \"check/check_loss_two_step_center_ind/disco/no_rsu/match_all_data_100_5.npy\"\n",
    "compute_nll_center_single(data_path, 2, 10)"
   ]
  },
  {
   "cell_type": "markdown",
   "id": "3bb19a48-dcb4-4041-a83e-cfaaa787f9b0",
   "metadata": {},
   "source": [
    "### upperbound"
   ]
  },
  {
   "cell_type": "code",
   "execution_count": 70,
   "id": "57e0f911-9f0f-455c-8fb5-7847045c6860",
   "metadata": {},
   "outputs": [
    {
     "data": {
      "text/plain": [
       "982.4924730324802"
      ]
     },
     "execution_count": 70,
     "metadata": {},
     "output_type": "execute_result"
    }
   ],
   "source": [
    "data_path = \"check/check_loss_two_step_center_ind/upperbound/no_rsu/match_all_data_100_5.npy\"\n",
    "compute_nll_center_single(data_path, 0)"
   ]
  },
  {
   "cell_type": "code",
   "execution_count": 71,
   "id": "b73f264c-7579-4f0b-89a0-8c80400d6b69",
   "metadata": {},
   "outputs": [
    {
     "data": {
      "text/plain": [
       "362.74823739559133"
      ]
     },
     "execution_count": 71,
     "metadata": {},
     "output_type": "execute_result"
    }
   ],
   "source": [
    "# 68.27%\n",
    "data_path = \"check/check_loss_two_step_center_ind/upperbound/no_rsu/match_all_data_100_5.npy\"\n",
    "quantile = [3.9270005592398936, 3.7293620083399235, 12.661970846621758, 3.507125215592104, 1.3240707560700242, 3.309770337192223]\n",
    "compute_nll_center_single(data_path, 1, quantile)"
   ]
  },
  {
   "cell_type": "code",
   "execution_count": 72,
   "id": "7d7277f8-e4a6-4a37-88db-b19402ba3a91",
   "metadata": {},
   "outputs": [
    {
     "data": {
      "text/plain": [
       "0.5777378239962699"
      ]
     },
     "execution_count": 72,
     "metadata": {},
     "output_type": "execute_result"
    }
   ],
   "source": [
    "# 99.73%\n",
    "data_path = \"check/check_loss_two_step_center_ind/disco/no_rsu/match_all_data_100_5.npy\"\n",
    "quantile = np.array([31.340185602346363, 24.276376908593676, 118.64887029003187, 18.253235606033712, 109.68835650542137, 56.51205738298187]) / 3\n",
    "compute_nll_center_single(data_path, 1, quantile)"
   ]
  },
  {
   "cell_type": "code",
   "execution_count": 6,
   "id": "e71cc22b-b654-410e-b58b-d2da43647c94",
   "metadata": {},
   "outputs": [
    {
     "data": {
      "text/plain": [
       "9.627653719321062"
      ]
     },
     "execution_count": 6,
     "metadata": {},
     "output_type": "execute_result"
    }
   ],
   "source": [
    "data_path = \"check/check_loss_two_step_center_ind/upperbound/no_rsu/match_all_data_100_5.npy\"\n",
    "compute_nll_center_single(data_path, 2, 10)"
   ]
  },
  {
   "cell_type": "markdown",
   "id": "d13e80c9-8d09-4749-b83e-a80fec2a2a5b",
   "metadata": {},
   "source": [
    "### lowerbound"
   ]
  },
  {
   "cell_type": "code",
   "execution_count": 73,
   "id": "33d1e9ea-5829-4736-b8ab-f81dc9581aa1",
   "metadata": {},
   "outputs": [
    {
     "data": {
      "text/plain": [
       "3440.4599480614484"
      ]
     },
     "execution_count": 73,
     "metadata": {},
     "output_type": "execute_result"
    }
   ],
   "source": [
    "data_path = \"check/check_loss_two_step_center_ind/lowerbound/no_rsu/match_all_data_100_5.npy\"\n",
    "compute_nll_center_single(data_path, 0)"
   ]
  },
  {
   "cell_type": "code",
   "execution_count": 74,
   "id": "5c7bceac-a918-418e-9ecc-e32530abdf0f",
   "metadata": {},
   "outputs": [
    {
     "data": {
      "text/plain": [
       "736.2581263012539"
      ]
     },
     "execution_count": 74,
     "metadata": {},
     "output_type": "execute_result"
    }
   ],
   "source": [
    "# 68.27%\n",
    "data_path = \"check/check_loss_two_step_center_ind/lowerbound/no_rsu/match_all_data_100_5.npy\"\n",
    "quantile = [4.824761883365095, 4.435752094000069, 14.379824436595687, 2.8108565130701026, 1.0106651376400175, 4.404153510782447]\n",
    "compute_nll_center_single(data_path, 1, quantile)"
   ]
  },
  {
   "cell_type": "code",
   "execution_count": 75,
   "id": "0a9be61b-f921-428e-897c-f44861c520f8",
   "metadata": {},
   "outputs": [
    {
     "data": {
      "text/plain": [
       "0.7287420792220193"
      ]
     },
     "execution_count": 75,
     "metadata": {},
     "output_type": "execute_result"
    }
   ],
   "source": [
    "# 99.73%\n",
    "data_path = \"check/check_loss_two_step_center_ind/disco/no_rsu/match_all_data_100_5.npy\"\n",
    "quantile = np.array([44.646381707137465, 28.842831596825288, 127.50113292712857, 18.538402799100826, 81.66889262783303, 53.23585004452376]) / 3\n",
    "compute_nll_center_single(data_path, 1, quantile)"
   ]
  },
  {
   "cell_type": "code",
   "execution_count": 7,
   "id": "9ae68bfc-0054-4c69-94f5-755797f16559",
   "metadata": {},
   "outputs": [
    {
     "data": {
      "text/plain": [
       "34.180653841945905"
      ]
     },
     "execution_count": 7,
     "metadata": {},
     "output_type": "execute_result"
    }
   ],
   "source": [
    "data_path = \"check/check_loss_two_step_center_ind/lowerbound/no_rsu/match_all_data_100_5.npy\"\n",
    "compute_nll_center_single(data_path, 2, 10)"
   ]
  },
  {
   "cell_type": "code",
   "execution_count": null,
   "id": "aea602c4-d4ca-4511-8b75-b4da1a7adae6",
   "metadata": {},
   "outputs": [],
   "source": []
  }
 ],
 "metadata": {
  "kernelspec": {
   "display_name": "Python 3 (ipykernel)",
   "language": "python",
   "name": "python3"
  },
  "language_info": {
   "codemirror_mode": {
    "name": "ipython",
    "version": 3
   },
   "file_extension": ".py",
   "mimetype": "text/x-python",
   "name": "python",
   "nbconvert_exporter": "python",
   "pygments_lexer": "ipython3",
   "version": "3.9.7"
  }
 },
 "nbformat": 4,
 "nbformat_minor": 5
}
