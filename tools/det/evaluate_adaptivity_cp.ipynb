{
 "cells": [
  {
   "cell_type": "markdown",
   "id": "14dc7ddc-3a49-4353-bba8-b06fe623757c",
   "metadata": {
    "tags": []
   },
   "source": [
    "# Evaluating Adaptivity for Conformal Prediction\n",
    "\n",
    "Size-stratified coverage metric\n",
    "\n",
    "Divide the observations into several groups depending on the size of prediction sets"
   ]
  },
  {
   "cell_type": "code",
   "execution_count": 4,
   "id": "53ab5be3-78df-463c-a815-4f7d957de64d",
   "metadata": {},
   "outputs": [],
   "source": [
    "import numpy as np\n",
    "import torch\n",
    "import math"
   ]
  },
  {
   "cell_type": "markdown",
   "id": "55bde3c5-652c-4a8f-9194-8eda98c5931f",
   "metadata": {},
   "source": [
    "## for kl_loss_corner"
   ]
  },
  {
   "cell_type": "code",
   "execution_count": 21,
   "id": "d4a150bc-1115-4d35-b8fe-d32696d05bd6",
   "metadata": {},
   "outputs": [],
   "source": [
    "def compute_score(data_path):\n",
    "    data = np.load(data_path, allow_pickle=True)\n",
    "    tp = data.item()['tp']\n",
    "    scores = []\n",
    "    for i in range(len(tp)):\n",
    "        prediction = np.array(tp[i][0])\n",
    "        pred = prediction[:,:8]\n",
    "        target = np.array(tp[i][1])\n",
    "        cov = prediction[:,9:]\n",
    "        score = np.abs(pred-target) / np.sqrt(np.exp(cov))\n",
    "        for s in score:\n",
    "            scores.append(list(s))\n",
    "    return np.array(scores)\n",
    "\n",
    "def compute_quantile(scores, alpha):\n",
    "    n = scores.shape[0]\n",
    "    q_level = np.ceil((n+1)*(1-alpha))/n\n",
    "    quantile = []\n",
    "    for i in range(scores.shape[1]):\n",
    "        q = np.quantile(scores[:,i], q_level, interpolation='higher')\n",
    "        quantile.append(q)\n",
    "    return quantile\n",
    "\n",
    "def get_range(data_path):\n",
    "    data = np.load(data_path, allow_pickle=True)\n",
    "    tp = data.item()['tp']\n",
    "    sizes = []\n",
    "    for i in range(len(tp)):\n",
    "        prediction = np.array(tp[i][0])\n",
    "        cov = prediction[:,9:]\n",
    "        cov = np.sqrt(np.exp(cov))\n",
    "        for c in cov:\n",
    "            sizes.append(list(c))\n",
    "    sizes = np.array(sizes) * 2\n",
    "    print(\"max: {}\".format(np.max(sizes, axis=0)))\n",
    "    print(\"min: {}\".format(np.min(sizes, axis=0)))\n",
    "    sum_sizes = np.sum(sizes, axis=1)\n",
    "    print(sum_sizes.shape)\n",
    "    print(np.max(sum_sizes), np.min(sum_sizes))\n",
    "    return\n",
    "\n",
    "def divide_group(data_path, num_group=10):\n",
    "    data = np.load(data_path, allow_pickle=True)\n",
    "    tp = data.item()['tp']\n",
    "    sizes = []\n",
    "    for i in range(len(tp)):\n",
    "        prediction = np.array(tp[i][0])\n",
    "        cov = prediction[:,9:]\n",
    "        cov = np.sqrt(np.exp(cov))\n",
    "        for c in cov:\n",
    "            sizes.append(list(c))\n",
    "    sizes = np.array(sizes) * 2\n",
    "    sum_sizes = np.sum(sizes, axis=1)\n",
    "    sum_sizes.sort()\n",
    "    sum_sizes = sum_sizes\n",
    "    divides = [0]\n",
    "    num_in_each_group = sum_sizes.shape[0] // num_group\n",
    "    for index, v in enumerate(sum_sizes):\n",
    "        if (index != 0) and (index % num_in_each_group == 0):\n",
    "            divides.append(v)\n",
    "    groups = []\n",
    "    for i in range(num_group - 1):\n",
    "        groups.append(np.logical_and(divides[i] < sum_sizes, sum_sizes  <= divides[i+1]))\n",
    "    groups.append(sum_sizes > divides[num_group-1])\n",
    "    return groups\n",
    "\n",
    "def evaluate_ssc_corner(data_path_cal, data_path_test, alpha, num_group=10):\n",
    "    scores_cal = compute_score(data_path_cal)\n",
    "    scores_test = compute_score(data_path_test)\n",
    "    qhat = np.array(compute_quantile(scores_cal, alpha))\n",
    "    groups = divide_group(data_path_test, num_group)\n",
    "    coverages = np.zeros((num_group,))\n",
    "    for i in range(num_group):\n",
    "        scores_test_d = scores_test[groups[i]]\n",
    "        coverages[i] = (scores_test_d <= qhat).astype(float).mean()\n",
    "    print(\"probabilies from small prediction sets to large prediction sets: \")\n",
    "    print(coverages)\n",
    "    scc = min(coverages)\n",
    "    print(\"ssc: {}, 1-alpha: {}\".format(scc, 1-alpha))\n",
    "    print(\"diff: {}\".format(1-alpha-scc))\n",
    "\n",
    "def evaluate_ssc_corner_wo_cp( data_path_test, alpha, num_group=10, qr = 1):\n",
    "    scores_test = compute_score(data_path_test)\n",
    "    d_size = scores_test.shape[1]\n",
    "    qhat = np.ones((1,d_size),dtype=np.int64) * qr\n",
    "    groups = divide_group(data_path_test, num_group)\n",
    "    coverages = np.zeros((num_group,))\n",
    "    for i in range(num_group):\n",
    "        scores_test_d = scores_test[groups[i]]\n",
    "        coverages[i] = (scores_test_d <= qhat).astype(float).mean()\n",
    "    print(\"probabilies from small prediction sets to large prediction sets: \")\n",
    "    print(coverages)\n",
    "    scc = min(coverages)\n",
    "    print(\"ssc: {}, 1-alpha: {}\".format(scc, 1-alpha))\n",
    "    print(\"diff: {}\".format(1-alpha-scc))"
   ]
  },
  {
   "cell_type": "markdown",
   "id": "40245004-1cbc-49f6-b481-d2756845b828",
   "metadata": {},
   "source": [
    "### disco"
   ]
  },
  {
   "cell_type": "code",
   "execution_count": 26,
   "id": "357a0f47-a875-4795-b563-21d2423cddec",
   "metadata": {},
   "outputs": [],
   "source": [
    "data_path_cal = \"check/check_loss_two_step_corner_val/disco/no_rsu/match_all_data_100_5.npy\"\n",
    "data_path_test = \"check/check_loss_two_step_corner/disco/no_rsu/match_all_data_100_5.npy\""
   ]
  },
  {
   "cell_type": "code",
   "execution_count": 27,
   "id": "da203917-5b73-40fb-a1fc-daa231d54354",
   "metadata": {},
   "outputs": [
    {
     "name": "stdout",
     "output_type": "stream",
     "text": [
      "probabilies from small prediction sets to large prediction sets: \n",
      "[0.19607023 0.22631539 0.20571016 0.19723236 0.19833485 0.21783759\n",
      " 0.17765359 0.18381235 0.18293796 0.18400243]\n",
      "ssc: 0.1776535888077859, 1-alpha: 0.6827\n",
      "diff: 0.505046411192214\n"
     ]
    }
   ],
   "source": [
    "# without conformal prediction\n",
    "confident_range = 0.6827\n",
    "evaluate_ssc_corner_wo_cp(data_path_test, 1-confident_range, qr=1)"
   ]
  },
  {
   "cell_type": "code",
   "execution_count": 28,
   "id": "cc694be0-9402-4419-a5f9-30a3c4d797e6",
   "metadata": {},
   "outputs": [
    {
     "name": "stdout",
     "output_type": "stream",
     "text": [
      "probabilies from small prediction sets to large prediction sets: \n",
      "[0.48943448 0.49403133 0.47194343 0.41754106 0.47137318 0.42575274\n",
      " 0.44631995 0.43696776 0.43947689 0.48007908]\n",
      "ssc: 0.41754105839416056, 1-alpha: 0.9973\n",
      "diff: 0.5797589416058394\n"
     ]
    }
   ],
   "source": [
    "# without conformal prediction\n",
    "confident_range = 0.9973\n",
    "evaluate_ssc_corner_wo_cp(data_path_test, 1-confident_range, qr=3)"
   ]
  },
  {
   "cell_type": "code",
   "execution_count": 29,
   "id": "0df8ee00-12f8-4049-9b3b-58e85258eb27",
   "metadata": {},
   "outputs": [
    {
     "name": "stdout",
     "output_type": "stream",
     "text": [
      "probabilies from small prediction sets to large prediction sets: \n",
      "[0.70241715 0.69989355 0.68829836 0.61401308 0.67731144 0.5924194\n",
      " 0.64347628 0.63530262 0.64982512 0.68506691]\n",
      "ssc: 0.592419403892944, 1-alpha: 0.6827\n",
      "diff: 0.09028059610705597\n"
     ]
    }
   ],
   "source": [
    "confident_range = 0.6827\n",
    "evaluate_ssc_corner(data_path_cal, data_path_test, 1-confident_range)"
   ]
  },
  {
   "cell_type": "code",
   "execution_count": 30,
   "id": "fed2b991-2698-4af0-8295-3ddb38dfb2c2",
   "metadata": {},
   "outputs": [
    {
     "name": "stdout",
     "output_type": "stream",
     "text": [
      "probabilies from small prediction sets to large prediction sets: \n",
      "[0.96058832 0.97068887 0.96760949 0.90218218 0.977684   0.86465937\n",
      " 0.93286192 0.91860554 0.92198905 0.93559915]\n",
      "ssc: 0.8646593673965937, 1-alpha: 0.9973\n",
      "diff: 0.1326406326034063\n"
     ]
    }
   ],
   "source": [
    "confident_range = 0.9973\n",
    "evaluate_ssc_corner(data_path_cal, data_path_test, 1-confident_range)"
   ]
  },
  {
   "cell_type": "markdown",
   "id": "d3caeb1a-b1ae-4ed9-b638-d911bcb283e4",
   "metadata": {},
   "source": [
    "### upperbound"
   ]
  },
  {
   "cell_type": "code",
   "execution_count": 32,
   "id": "91c064ff-c83f-43c7-b344-e079456ebad3",
   "metadata": {},
   "outputs": [],
   "source": [
    "data_path_cal = \"check/check_loss_two_step_corner_val/upperbound/no_rsu/match_all_data_100_5.npy\"\n",
    "data_path_test = \"check/check_loss_two_step_corner/upperbound/no_rsu/match_all_data_100_5.npy\""
   ]
  },
  {
   "cell_type": "code",
   "execution_count": 33,
   "id": "9c105d47-68a0-428e-acff-9e9cd6fb7310",
   "metadata": {},
   "outputs": [
    {
     "name": "stdout",
     "output_type": "stream",
     "text": [
      "probabilies from small prediction sets to large prediction sets: \n",
      "[0.2327637  0.21481727 0.17082965 0.15631447 0.19223401 0.16567197\n",
      " 0.1926761  0.18538167 0.18420277 0.19303472]\n",
      "ssc: 0.15631447096964338, 1-alpha: 0.6827\n",
      "diff: 0.5263855290303566\n"
     ]
    }
   ],
   "source": [
    "# without conformal prediction\n",
    "confident_range = 0.6827\n",
    "evaluate_ssc_corner_wo_cp(data_path_test, 1-confident_range, qr=1)"
   ]
  },
  {
   "cell_type": "code",
   "execution_count": 34,
   "id": "1e04decc-cdb2-4785-8313-4726a318f030",
   "metadata": {},
   "outputs": [
    {
     "name": "stdout",
     "output_type": "stream",
     "text": [
      "probabilies from small prediction sets to large prediction sets: \n",
      "[0.55494991 0.53013557 0.4670277  0.41780872 0.52707781 0.43099764\n",
      " 0.49443708 0.4824639  0.48614795 0.5087158 ]\n",
      "ssc: 0.4178087238432066, 1-alpha: 0.9973\n",
      "diff: 0.5794912761567934\n"
     ]
    }
   ],
   "source": [
    "# without conformal prediction\n",
    "confident_range = 0.9973\n",
    "evaluate_ssc_corner_wo_cp(data_path_test, 1-confident_range, qr=3)"
   ]
  },
  {
   "cell_type": "code",
   "execution_count": 35,
   "id": "af4348d5-6afe-4975-b84c-a342ba2dc3a0",
   "metadata": {},
   "outputs": [
    {
     "name": "stdout",
     "output_type": "stream",
     "text": [
      "probabilies from small prediction sets to large prediction sets: \n",
      "[0.66444461 0.65550398 0.59895373 0.5358827  0.6532567  0.54203507\n",
      " 0.60447981 0.59714854 0.60650604 0.62503678]\n",
      "ssc: 0.5358826996758032, 1-alpha: 0.6827\n",
      "diff: 0.14681730032419682\n"
     ]
    }
   ],
   "source": [
    "confident_range = 0.6827\n",
    "evaluate_ssc_corner(data_path_cal, data_path_test, 1-confident_range)"
   ]
  },
  {
   "cell_type": "code",
   "execution_count": 36,
   "id": "4aa817a7-04ef-4352-ab13-5fb0c43ec83b",
   "metadata": {},
   "outputs": [
    {
     "name": "stdout",
     "output_type": "stream",
     "text": [
      "probabilies from small prediction sets to large prediction sets: \n",
      "[0.95812463 0.96842765 0.91353522 0.87197907 0.95155467 0.84935897\n",
      " 0.89688329 0.93125553 0.90421456 0.9208223 ]\n",
      "ssc: 0.8493589743589743, 1-alpha: 0.9973\n",
      "diff: 0.14794102564102563\n"
     ]
    }
   ],
   "source": [
    "confident_range = 0.9973\n",
    "evaluate_ssc_corner(data_path_cal, data_path_test, 1-confident_range)"
   ]
  },
  {
   "cell_type": "markdown",
   "id": "4aaf4fb2-7ec1-4089-b6ea-1e7ac36cd8ec",
   "metadata": {},
   "source": [
    "### lowerbound"
   ]
  },
  {
   "cell_type": "code",
   "execution_count": 37,
   "id": "5b168659-5f8e-4bac-84ed-d577ebc7f686",
   "metadata": {},
   "outputs": [],
   "source": [
    "data_path_cal = \"check/check_loss_two_step_corner_val/lowerbound/no_rsu/match_all_data_100_5.npy\"\n",
    "data_path_test = \"check/check_loss_two_step_corner/lowerbound/no_rsu/match_all_data_100_5.npy\""
   ]
  },
  {
   "cell_type": "code",
   "execution_count": 38,
   "id": "313c39ad-d1c6-41b1-846b-443012abe843",
   "metadata": {},
   "outputs": [
    {
     "name": "stdout",
     "output_type": "stream",
     "text": [
      "probabilies from small prediction sets to large prediction sets: \n",
      "[0.19736842 0.21545894 0.19275362 0.25652174 0.21998792 0.22041063\n",
      " 0.1682971  0.202657   0.19595411 0.18885673]\n",
      "ssc: 0.16829710144927537, 1-alpha: 0.6827\n",
      "diff: 0.5144028985507246\n"
     ]
    }
   ],
   "source": [
    "# without conformal prediction\n",
    "confident_range = 0.6827\n",
    "evaluate_ssc_corner_wo_cp(data_path_test, 1-confident_range, qr=1)"
   ]
  },
  {
   "cell_type": "code",
   "execution_count": 39,
   "id": "b3aef2e1-a2c8-4139-ab09-2e1fdd224d79",
   "metadata": {},
   "outputs": [
    {
     "name": "stdout",
     "output_type": "stream",
     "text": [
      "probabilies from small prediction sets to large prediction sets: \n",
      "[0.50838967 0.52089372 0.46388889 0.52300725 0.48925121 0.51183575\n",
      " 0.40289855 0.48580918 0.43592995 0.46617221]\n",
      "ssc: 0.4028985507246377, 1-alpha: 0.9973\n",
      "diff: 0.5944014492753622\n"
     ]
    }
   ],
   "source": [
    "# without conformal prediction\n",
    "confident_range = 0.9973\n",
    "evaluate_ssc_corner_wo_cp(data_path_test, 1-confident_range, qr=3)"
   ]
  },
  {
   "cell_type": "code",
   "execution_count": 40,
   "id": "09cd35f3-a7e2-460c-9781-d55e3a1b28e0",
   "metadata": {},
   "outputs": [
    {
     "name": "stdout",
     "output_type": "stream",
     "text": [
      "probabilies from small prediction sets to large prediction sets: \n",
      "[0.73853211 0.75157005 0.68623188 0.72518116 0.68448068 0.71902174\n",
      " 0.55863527 0.66624396 0.62306763 0.67516884]\n",
      "ssc: 0.558635265700483, 1-alpha: 0.6827\n",
      "diff: 0.12406473429951692\n"
     ]
    }
   ],
   "source": [
    "confident_range = 0.6827\n",
    "evaluate_ssc_corner(data_path_cal, data_path_test, 1-confident_range)"
   ]
  },
  {
   "cell_type": "code",
   "execution_count": 41,
   "id": "fc2ad5d3-3eed-4774-acee-e8aa8d2a74d2",
   "metadata": {},
   "outputs": [
    {
     "name": "stdout",
     "output_type": "stream",
     "text": [
      "probabilies from small prediction sets to large prediction sets: \n",
      "[0.99945678 1.         1.         0.99987923 0.99474638 0.99716184\n",
      " 0.9897343  0.99927536 0.99432367 0.9998191 ]\n",
      "ssc: 0.9897342995169082, 1-alpha: 0.9973\n",
      "diff: 0.007565700483091797\n"
     ]
    }
   ],
   "source": [
    "confident_range = 0.9973\n",
    "evaluate_ssc_corner(data_path_cal, data_path_test, 1-confident_range)"
   ]
  },
  {
   "cell_type": "code",
   "execution_count": null,
   "id": "e9658132-133d-4d45-b692-d73078a3f053",
   "metadata": {},
   "outputs": [],
   "source": []
  },
  {
   "cell_type": "markdown",
   "id": "5944ea62-13c2-4917-837c-4c7336b91705",
   "metadata": {},
   "source": [
    "## for kl_loss_center_ind "
   ]
  },
  {
   "cell_type": "code",
   "execution_count": 43,
   "id": "b65c17cd-6db1-413f-9042-14458f527edd",
   "metadata": {},
   "outputs": [],
   "source": [
    "def corner_to_center_box2d_torch(corners):\n",
    "    p1 = corners[:,0:2]\n",
    "    p2 = corners[:,2:4]\n",
    "    p3 = corners[:,4:6]\n",
    "    p4 = corners[:,6:8]\n",
    "    center = (p1+p2+p3+p4)/4\n",
    "    w = (np.sqrt(np.sum(np.power(p1-p4, 2), axis=1, keepdims = True)) + np.sqrt(np.sum(np.power(p2-p3, 2), axis=1, keepdims = True)))/2\n",
    "    h = (np.sqrt(np.sum(np.power(p1-p2, 2), axis=1, keepdims = True)) + np.sqrt(np.sum(np.power(p3-p4, 2), axis=1, keepdims = True)))/2\n",
    "    wp = np.sqrt(np.sum(np.power(p1-p4, 2), axis=1, keepdims = True))\n",
    "    sina = np.divide((p4[:,1:2] - p1[:,1:2]), wp)\n",
    "    cosa = np.divide((p1[:,0:1] - p4[:,0:1]), wp)\n",
    "    result = np.concatenate((center, w, h, sina, cosa), axis=1)\n",
    "    return result\n",
    "\n",
    "def compute_score_center(data_path):\n",
    "    data = np.load(data_path, allow_pickle=True)\n",
    "    tp = data.item()['tp']\n",
    "    scores = []\n",
    "    for i in range(len(tp)):\n",
    "        prediction = np.array(tp[i][0])\n",
    "        pred = prediction[:,:8]\n",
    "        target = np.array(tp[i][1])\n",
    "        cov = prediction[:,9:]\n",
    "        std = np.sqrt(np.exp(cov))\n",
    "        pred = corner_to_center_box2d_torch(pred)\n",
    "        target = corner_to_center_box2d_torch(target)\n",
    "        score = np.abs(pred-target) / np.sqrt(np.exp(cov))\n",
    "        for s in score:\n",
    "            scores.append(list(s))\n",
    "    return np.array(scores)\n",
    "\n",
    "def compute_quantile_center(scores, alpha):\n",
    "    n = scores.shape[0]\n",
    "    q_level = np.ceil((n+1)*(1-alpha))/n\n",
    "    quantile = []\n",
    "    for i in range(scores.shape[1]):\n",
    "        q = np.quantile(scores[:,i], q_level, interpolation='higher')\n",
    "        quantile.append(q)\n",
    "    return quantile\n",
    "\n",
    "def evaluate_ssc_center(data_path_cal, data_path_test, alpha, num_group=10):\n",
    "    scores_cal = compute_score_center(data_path_cal)\n",
    "    scores_test = compute_score_center(data_path_test)\n",
    "    qhat = np.array(compute_quantile_center(scores_cal, alpha))\n",
    "    groups = divide_group(data_path_test, num_group)\n",
    "    coverages = np.zeros((num_group,))\n",
    "    for i in range(num_group):\n",
    "        scores_test_d = scores_test[groups[i]]\n",
    "        coverages[i] = (scores_test_d <= qhat).astype(float).mean()\n",
    "    print(\"probabilies from small prediction sets to large prediction sets: \")\n",
    "    print(coverages)\n",
    "    scc = min(coverages)\n",
    "    print(\"ssc: {}, 1-alpha: {}\".format(scc, 1-alpha))\n",
    "    print(\"diff: {}\".format(1-alpha-scc))\n",
    "\n",
    "def evaluate_ssc_center_wo_cp( data_path_test, alpha, num_group=10, qr = 1):\n",
    "    scores_test = compute_score_center(data_path_test)\n",
    "    d_size = scores_test.shape[1]\n",
    "    qhat = np.ones((1,d_size),dtype=np.int64) * qr\n",
    "    groups = divide_group(data_path_test, num_group)\n",
    "    coverages = np.zeros((num_group,))\n",
    "    for i in range(num_group):\n",
    "        scores_test_d = scores_test[groups[i]]\n",
    "        coverages[i] = (scores_test_d <= qhat).astype(float).mean()\n",
    "    print(\"probabilies from small prediction sets to large prediction sets: \")\n",
    "    print(coverages)\n",
    "    scc = min(coverages)\n",
    "    print(\"ssc: {}, 1-alpha: {}\".format(scc, 1-alpha))\n",
    "    print(\"diff: {}\".format(1-alpha-scc))"
   ]
  },
  {
   "cell_type": "markdown",
   "id": "82a498d4-39d1-4337-96ec-f993ed1fa204",
   "metadata": {},
   "source": [
    "### disco"
   ]
  },
  {
   "cell_type": "code",
   "execution_count": 44,
   "id": "c28c719e-12df-4130-aae3-da90fecab311",
   "metadata": {},
   "outputs": [],
   "source": [
    "data_path_cal = \"check/check_loss_two_step_center_ind_val/disco/no_rsu/match_all_data_100_5.npy\"\n",
    "data_path_test = \"check/check_loss_two_step_center_ind/disco/no_rsu/match_all_data_100_5.npy\""
   ]
  },
  {
   "cell_type": "code",
   "execution_count": 45,
   "id": "67cacb69-603a-46f6-b3ee-b1c39cc9f3ef",
   "metadata": {},
   "outputs": [
    {
     "name": "stdout",
     "output_type": "stream",
     "text": [
      "probabilies from small prediction sets to large prediction sets: \n",
      "[0.36111111 0.35355605 0.33438386 0.31857338 0.34021431 0.32004412\n",
      " 0.32151487 0.33732535 0.32955142 0.35592686]\n",
      "ssc: 0.31857337955667614, 1-alpha: 0.6827\n",
      "diff: 0.36412662044332383\n"
     ]
    }
   ],
   "source": [
    "# without conformal prediction\n",
    "confident_range = 0.6827\n",
    "evaluate_ssc_center_wo_cp(data_path_test, 1-confident_range, qr=1)"
   ]
  },
  {
   "cell_type": "code",
   "execution_count": 46,
   "id": "db71f9a8-7a36-46d6-aa4d-ab3807bc264f",
   "metadata": {},
   "outputs": [
    {
     "name": "stdout",
     "output_type": "stream",
     "text": [
      "probabilies from small prediction sets to large prediction sets: \n",
      "[0.56285444 0.55903982 0.53556046 0.52284904 0.54716882 0.53587562\n",
      " 0.5239521  0.54538292 0.53062296 0.5600042 ]\n",
      "ssc: 0.5228490387645761, 1-alpha: 0.9973\n",
      "diff: 0.47445096123542385\n"
     ]
    }
   ],
   "source": [
    "# without conformal prediction\n",
    "confident_range = 0.9973\n",
    "evaluate_ssc_center_wo_cp(data_path_test, 1-confident_range, qr=3)"
   ]
  },
  {
   "cell_type": "code",
   "execution_count": 47,
   "id": "66541ac8-1b2d-4a8a-ab0d-3b1ee4b1b20e",
   "metadata": {},
   "outputs": [
    {
     "name": "stdout",
     "output_type": "stream",
     "text": [
      "probabilies from small prediction sets to large prediction sets: \n",
      "[0.70321361 0.70963336 0.6928774  0.64917533 0.68715201 0.65216935\n",
      " 0.66188675 0.69975838 0.67107889 0.71337747]\n",
      "ssc: 0.6491753335434395, 1-alpha: 0.6827\n",
      "diff: 0.03352466645656049\n"
     ]
    }
   ],
   "source": [
    "confident_range = 0.6827\n",
    "evaluate_ssc_center(data_path_cal, data_path_test, 1-confident_range)"
   ]
  },
  {
   "cell_type": "code",
   "execution_count": 48,
   "id": "cb9a5d48-3089-42b8-a1d0-e3f0a60f733a",
   "metadata": {},
   "outputs": [
    {
     "name": "stdout",
     "output_type": "stream",
     "text": [
      "probabilies from small prediction sets to large prediction sets: \n",
      "[0.9921235  0.99243618 0.9940645  0.97573275 0.99353924 0.9734741\n",
      " 0.98256119 0.98387436 0.98298141 0.98591845]\n",
      "ssc: 0.9734741044227335, 1-alpha: 0.9973\n",
      "diff: 0.023825895577266443\n"
     ]
    }
   ],
   "source": [
    "confident_range = 0.9973\n",
    "evaluate_ssc_center(data_path_cal, data_path_test, 1-confident_range)"
   ]
  },
  {
   "cell_type": "markdown",
   "id": "e17035d4-d374-41a4-9185-ea25bf31ecd6",
   "metadata": {},
   "source": [
    "### upperbound"
   ]
  },
  {
   "cell_type": "code",
   "execution_count": 49,
   "id": "7582e633-8c4f-498c-a929-aee07f3101de",
   "metadata": {},
   "outputs": [],
   "source": [
    "data_path_cal = \"check/check_loss_two_step_center_ind_val/upperbound/no_rsu/match_all_data_100_5.npy\"\n",
    "data_path_test = \"check/check_loss_two_step_center_ind/upperbound/no_rsu/match_all_data_100_5.npy\""
   ]
  },
  {
   "cell_type": "code",
   "execution_count": 50,
   "id": "a79e3255-f3f5-4131-90eb-3cc7fc13cd79",
   "metadata": {},
   "outputs": [
    {
     "name": "stdout",
     "output_type": "stream",
     "text": [
      "probabilies from small prediction sets to large prediction sets: \n",
      "[0.34052505 0.36467451 0.3147701  0.32005232 0.34399839 0.34173458\n",
      " 0.32266828 0.32935909 0.34294195 0.35399698]\n",
      "ssc: 0.31477009759533153, 1-alpha: 0.6827\n",
      "diff: 0.36792990240466844\n"
     ]
    }
   ],
   "source": [
    "# without conformal prediction\n",
    "confident_range = 0.6827\n",
    "evaluate_ssc_center_wo_cp(data_path_test, 1-confident_range, qr=1)"
   ]
  },
  {
   "cell_type": "code",
   "execution_count": 51,
   "id": "0f270272-30d5-42aa-8342-3088368b2f1f",
   "metadata": {},
   "outputs": [
    {
     "name": "stdout",
     "output_type": "stream",
     "text": [
      "probabilies from small prediction sets to large prediction sets: \n",
      "[0.54993965 0.57299527 0.52439883 0.52756817 0.5497535  0.53773015\n",
      " 0.53481236 0.56580139 0.56756213 0.58200101]\n",
      "ssc: 0.5243988328805715, 1-alpha: 0.9973\n",
      "diff: 0.4729011671194284\n"
     ]
    }
   ],
   "source": [
    "# without conformal prediction\n",
    "confident_range = 0.9973\n",
    "evaluate_ssc_center_wo_cp(data_path_test, 1-confident_range, qr=3)"
   ]
  },
  {
   "cell_type": "code",
   "execution_count": 52,
   "id": "73725ace-268a-4ccf-809a-6b2114e74623",
   "metadata": {},
   "outputs": [
    {
     "name": "stdout",
     "output_type": "stream",
     "text": [
      "probabilies from small prediction sets to large prediction sets: \n",
      "[0.65867029 0.66480531 0.64634269 0.62486166 0.65912064 0.63135124\n",
      " 0.64211691 0.65097092 0.67486669 0.6743087 ]\n",
      "ssc: 0.6248616561022236, 1-alpha: 0.6827\n",
      "diff: 0.05783834389777642\n"
     ]
    }
   ],
   "source": [
    "confident_range = 0.6827\n",
    "evaluate_ssc_center(data_path_cal, data_path_test, 1-confident_range)"
   ]
  },
  {
   "cell_type": "code",
   "execution_count": 53,
   "id": "6568936e-5c25-461a-90a7-f458cd18a671",
   "metadata": {},
   "outputs": [
    {
     "name": "stdout",
     "output_type": "stream",
     "text": [
      "probabilies from small prediction sets to large prediction sets: \n",
      "[0.99014283 0.99079384 0.97836805 0.96664654 0.98797666 0.95492504\n",
      " 0.97343797 0.97560117 0.97484656 0.97968829]\n",
      "ssc: 0.9549250427608411, 1-alpha: 0.9973\n",
      "diff: 0.04237495723915885\n"
     ]
    }
   ],
   "source": [
    "confident_range = 0.9973\n",
    "evaluate_ssc_center(data_path_cal, data_path_test, 1-confident_range)"
   ]
  },
  {
   "cell_type": "markdown",
   "id": "879adc1e-426e-438c-bce4-0cbdaf912150",
   "metadata": {},
   "source": [
    "### lowerbound"
   ]
  },
  {
   "cell_type": "code",
   "execution_count": 54,
   "id": "269bcc27-d3af-4e58-969e-4d8c13957bb6",
   "metadata": {},
   "outputs": [],
   "source": [
    "data_path_cal = \"check/check_loss_two_step_center_ind_val/lowerbound/no_rsu/match_all_data_100_5.npy\"\n",
    "data_path_test = \"check/check_loss_two_step_center_ind/lowerbound/no_rsu/match_all_data_100_5.npy\""
   ]
  },
  {
   "cell_type": "code",
   "execution_count": 55,
   "id": "24206c84-27e4-4dae-8192-23b21a449f61",
   "metadata": {},
   "outputs": [
    {
     "name": "stdout",
     "output_type": "stream",
     "text": [
      "probabilies from small prediction sets to large prediction sets: \n",
      "[0.37215724 0.42857143 0.35324232 0.37794572 0.37713311 0.39192264\n",
      " 0.35210466 0.37485779 0.37493905 0.40487805]\n",
      "ssc: 0.3521046643913538, 1-alpha: 0.6827\n",
      "diff: 0.3305953356086462\n"
     ]
    }
   ],
   "source": [
    "# without conformal prediction\n",
    "confident_range = 0.6827\n",
    "evaluate_ssc_center_wo_cp(data_path_test, 1-confident_range, qr=1)"
   ]
  },
  {
   "cell_type": "code",
   "execution_count": 56,
   "id": "c845682a-3ffe-4175-ad8b-4b77172bc8cb",
   "metadata": {},
   "outputs": [
    {
     "name": "stdout",
     "output_type": "stream",
     "text": [
      "probabilies from small prediction sets to large prediction sets: \n",
      "[0.55279402 0.60685844 0.53258573 0.57711685 0.57727938 0.58077361\n",
      " 0.51990899 0.59865106 0.56777182 0.6095122 ]\n",
      "ssc: 0.5199089874857793, 1-alpha: 0.9973\n",
      "diff: 0.47739101251422067\n"
     ]
    }
   ],
   "source": [
    "# without conformal prediction\n",
    "confident_range = 0.9973\n",
    "evaluate_ssc_center_wo_cp(data_path_test, 1-confident_range, qr=3)"
   ]
  },
  {
   "cell_type": "code",
   "execution_count": 57,
   "id": "93c5f303-6372-46e9-ad59-41fcfe75e7ab",
   "metadata": {},
   "outputs": [
    {
     "name": "stdout",
     "output_type": "stream",
     "text": [
      "probabilies from small prediction sets to large prediction sets: \n",
      "[0.65115335 0.69055745 0.64708272 0.67528035 0.66934829 0.67804323\n",
      " 0.60385178 0.70315293 0.65862181 0.70390244]\n",
      "ssc: 0.6038517796196977, 1-alpha: 0.6827\n",
      "diff: 0.07884822038030226\n"
     ]
    }
   ],
   "source": [
    "confident_range = 0.6827\n",
    "evaluate_ssc_center(data_path_cal, data_path_test, 1-confident_range)"
   ]
  },
  {
   "cell_type": "code",
   "execution_count": 58,
   "id": "17d7edf1-b514-4118-ac3c-956ba821a695",
   "metadata": {},
   "outputs": [
    {
     "name": "stdout",
     "output_type": "stream",
     "text": [
      "probabilies from small prediction sets to large prediction sets: \n",
      "[0.98131904 0.99041118 0.97472778 0.98000975 0.97805948 0.9778157\n",
      " 0.93848529 0.96635787 0.96936454 0.96577236]\n",
      "ssc: 0.9384852917276125, 1-alpha: 0.9973\n",
      "diff: 0.05881470827238744\n"
     ]
    }
   ],
   "source": [
    "confident_range = 0.9973\n",
    "evaluate_ssc_center(data_path_cal, data_path_test, 1-confident_range)"
   ]
  },
  {
   "cell_type": "code",
   "execution_count": null,
   "id": "86b26ea0-29fa-462f-86bb-c4e630bb2588",
   "metadata": {},
   "outputs": [],
   "source": []
  }
 ],
 "metadata": {
  "kernelspec": {
   "display_name": "Python 3 (ipykernel)",
   "language": "python",
   "name": "python3"
  },
  "language_info": {
   "codemirror_mode": {
    "name": "ipython",
    "version": 3
   },
   "file_extension": ".py",
   "mimetype": "text/x-python",
   "name": "python",
   "nbconvert_exporter": "python",
   "pygments_lexer": "ipython3",
   "version": "3.9.7"
  }
 },
 "nbformat": 4,
 "nbformat_minor": 5
}
