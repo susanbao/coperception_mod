{
 "cells": [
  {
   "cell_type": "markdown",
   "id": "01a83028-4bda-4952-8a2a-a2187591a4f4",
   "metadata": {},
   "source": [
    "# Compute CRPS based on matched results after match_store.py\n",
    "\n",
    "introduce on CRPS: https://datumorphism.leima.is/cards/time-series/crps/#fn:3"
   ]
  },
  {
   "cell_type": "code",
   "execution_count": 50,
   "id": "6bb0ce2e-0810-48f6-a935-0a7d411a6fad",
   "metadata": {},
   "outputs": [],
   "source": [
    "import numpy as np\n",
    "import torch\n",
    "import math\n",
    "import properscoring as ps"
   ]
  },
  {
   "cell_type": "markdown",
   "id": "d5b84cdf-b81a-4c5e-bc62-8010ccd0680f",
   "metadata": {},
   "source": [
    "## Corner-based format with single-variate Gaussian distribution\n",
    "kl_loss_corner"
   ]
  },
  {
   "cell_type": "code",
   "execution_count": 51,
   "id": "81ca5f32-07f2-437c-bdd4-872d9dc91927",
   "metadata": {},
   "outputs": [],
   "source": [
    "def compute_crps_corner_single(data_path, ty = 0, info=None):\n",
    "    data = np.load(data_path, allow_pickle=True)\n",
    "    tp = data.item()['tp']\n",
    "    crps_list = []\n",
    "    for i in range(len(tp)):\n",
    "        prediction = np.array(tp[i][0])\n",
    "        pred = prediction[:,:8]\n",
    "        target = np.array(tp[i][1])\n",
    "        cov = prediction[:,9:]\n",
    "        std = np.sqrt(np.exp(cov))\n",
    "        if ty == 0:\n",
    "            std = std\n",
    "        elif ty == 1:\n",
    "            std = np.multiply(std, np.array(info))\n",
    "        elif ty == 2:\n",
    "            std = std * info\n",
    "        crps = ps.crps_gaussian(target, \n",
    "                               pred,\n",
    "                               std)\n",
    "        crps_list.extend(np.mean(crps, axis=1).tolist())\n",
    "    return sum(crps_list) / len(crps_list)"
   ]
  },
  {
   "cell_type": "markdown",
   "id": "a88bb7d0-9902-456b-b577-4c8d3517fc81",
   "metadata": {},
   "source": [
    "### disco"
   ]
  },
  {
   "cell_type": "code",
   "execution_count": 52,
   "id": "8eb62c73-9388-4e6a-883c-83e4dfc24f7c",
   "metadata": {
    "tags": []
   },
   "outputs": [
    {
     "data": {
      "text/plain": [
       "0.30963438578820995"
      ]
     },
     "execution_count": 52,
     "metadata": {},
     "output_type": "execute_result"
    }
   ],
   "source": [
    "data_path = \"check/check_loss_two_step_corner/disco/no_rsu/match_all_data_100_5.npy\"\n",
    "compute_crps_corner_single(data_path, 0)"
   ]
  },
  {
   "cell_type": "code",
   "execution_count": 53,
   "id": "3e31309d-0888-4e7a-ab0f-94cdd433a0e8",
   "metadata": {
    "tags": []
   },
   "outputs": [
    {
     "data": {
      "text/plain": [
       "0.28778308365641114"
      ]
     },
     "execution_count": 53,
     "metadata": {},
     "output_type": "execute_result"
    }
   ],
   "source": [
    "# 68.27%\n",
    "quantile = [5.685563231556715, 5.7333907000666064, 5.8156107496472655, 5.698934531905109, 5.349435233304022, 5.286866601436044, 5.364550922522339, 5.254597136256393]\n",
    "compute_crps_corner_single(data_path, 1, quantile)"
   ]
  },
  {
   "cell_type": "code",
   "execution_count": 54,
   "id": "b775b876-b816-4ce3-84f4-0588b973bf08",
   "metadata": {},
   "outputs": [
    {
     "data": {
      "text/plain": [
       "0.29421634107209993"
      ]
     },
     "execution_count": 54,
     "metadata": {},
     "output_type": "execute_result"
    }
   ],
   "source": [
    "# 99.73%\n",
    "quantile = np.array([48.667429272195506, 47.12830691785341, 47.89193980424878, 42.536190890924544, 42.169949853660526, 46.371733470171094, 41.253330827583945, 41.55867648053199]) / 3\n",
    "compute_crps_corner_single(data_path, 1, quantile)"
   ]
  },
  {
   "cell_type": "code",
   "execution_count": 55,
   "id": "0d2c7a01-d4e9-4d2e-9c7f-d73a4191b4ee",
   "metadata": {},
   "outputs": [
    {
     "data": {
      "text/plain": [
       "0.28693554856029735"
      ]
     },
     "execution_count": 55,
     "metadata": {},
     "output_type": "execute_result"
    }
   ],
   "source": [
    "compute_crps_corner_single(data_path, 2, 10)"
   ]
  },
  {
   "cell_type": "markdown",
   "id": "55803db4-8264-41bf-a5d9-972107e137a8",
   "metadata": {},
   "source": [
    "### Upperbound"
   ]
  },
  {
   "cell_type": "code",
   "execution_count": 56,
   "id": "62b76234-2a9b-4693-b06e-f8bb6a62edaf",
   "metadata": {},
   "outputs": [],
   "source": [
    "data_path = \"check/check_loss_two_step_corner/upperbound/no_rsu/match_all_data_100_5.npy\""
   ]
  },
  {
   "cell_type": "code",
   "execution_count": 57,
   "id": "3c43526c-55f6-4535-8202-124caf17825b",
   "metadata": {},
   "outputs": [
    {
     "data": {
      "text/plain": [
       "0.45255348877285945"
      ]
     },
     "execution_count": 57,
     "metadata": {},
     "output_type": "execute_result"
    }
   ],
   "source": [
    "compute_crps_corner_single(data_path, 0)"
   ]
  },
  {
   "cell_type": "code",
   "execution_count": 58,
   "id": "db2e1488-8448-418c-a24a-5c26473a869c",
   "metadata": {},
   "outputs": [
    {
     "data": {
      "text/plain": [
       "0.4332851795817319"
      ]
     },
     "execution_count": 58,
     "metadata": {},
     "output_type": "execute_result"
    }
   ],
   "source": [
    "# 68.27%\n",
    "quantile = [4.190345185940821, 4.351993435985297, 4.558479310459919, 4.717549387208282, 4.278715029642637, 4.102446480783583, 4.1725601258012475, 3.530299361843318]\n",
    "compute_crps_corner_single(data_path, 1, quantile)"
   ]
  },
  {
   "cell_type": "code",
   "execution_count": 59,
   "id": "773ce37f-d92e-411e-a9e6-6acee750dde0",
   "metadata": {},
   "outputs": [
    {
     "data": {
      "text/plain": [
       "0.45320859651701817"
      ]
     },
     "execution_count": 59,
     "metadata": {},
     "output_type": "execute_result"
    }
   ],
   "source": [
    "# 99.73%\n",
    "quantile = np.array([49.72913250209128, 68.07916849224074, 54.76645263747507, 76.2931006003976, 46.32874805418221, 76.94147233490142, 50.70841262977031, 77.77131089570797]) / 3\n",
    "compute_crps_corner_single(data_path, 1, quantile)"
   ]
  },
  {
   "cell_type": "code",
   "execution_count": 60,
   "id": "48c11ec2-d6e2-4a92-8ad6-ff33cc1e3408",
   "metadata": {},
   "outputs": [
    {
     "data": {
      "text/plain": [
       "0.431471650320429"
      ]
     },
     "execution_count": 60,
     "metadata": {},
     "output_type": "execute_result"
    }
   ],
   "source": [
    "compute_crps_corner_single(data_path, 2, 10)"
   ]
  },
  {
   "cell_type": "markdown",
   "id": "875b6339-1c7e-4b36-8663-a060f86409aa",
   "metadata": {},
   "source": [
    "### lowerbound"
   ]
  },
  {
   "cell_type": "code",
   "execution_count": 61,
   "id": "a9f1bfd7-372b-4652-85d6-698da4600432",
   "metadata": {},
   "outputs": [
    {
     "data": {
      "text/plain": [
       "0.4656329747412102"
      ]
     },
     "execution_count": 61,
     "metadata": {},
     "output_type": "execute_result"
    }
   ],
   "source": [
    "data_path = \"check/check_loss_two_step_corner/lowerbound/no_rsu/match_all_data_100_5.npy\"\n",
    "compute_crps_corner_single(data_path, 0)"
   ]
  },
  {
   "cell_type": "code",
   "execution_count": 62,
   "id": "f2abaf76-5631-4dc9-ab57-250b866fc647",
   "metadata": {},
   "outputs": [
    {
     "data": {
      "text/plain": [
       "0.4426874117855666"
      ]
     },
     "execution_count": 62,
     "metadata": {},
     "output_type": "execute_result"
    }
   ],
   "source": [
    "# 68.27%\n",
    "quantile = [6.10302951960435, 6.182331226887726, 5.740435199991636, 6.236356538776135, 6.334263986132204, 5.1828751359733305, 6.399557006521807, 5.073939114533967]\n",
    "compute_crps_corner_single(data_path, 1, quantile)"
   ]
  },
  {
   "cell_type": "code",
   "execution_count": 63,
   "id": "53d9d592-a8cb-491f-aa26-8c37a8ce3b2e",
   "metadata": {},
   "outputs": [
    {
     "data": {
      "text/plain": [
       "0.6594356992282471"
      ]
     },
     "execution_count": 63,
     "metadata": {},
     "output_type": "execute_result"
    }
   ],
   "source": [
    "# 99.73%\n",
    "quantile = np.array([259.92825137969436, 201.07436055964888, 258.2222934053669, 197.05243747520606, 328.5189148613409, 235.0538877505854, 339.6938946129562, 235.97804342045072]) / 3\n",
    "compute_crps_corner_single(data_path, 1, quantile)"
   ]
  },
  {
   "cell_type": "code",
   "execution_count": 64,
   "id": "8622aad7-7aa5-4352-a57d-c20e23e2ae52",
   "metadata": {},
   "outputs": [
    {
     "data": {
      "text/plain": [
       "0.44084214608819644"
      ]
     },
     "execution_count": 64,
     "metadata": {},
     "output_type": "execute_result"
    }
   ],
   "source": [
    "compute_crps_corner_single(data_path, 2, 10)"
   ]
  },
  {
   "cell_type": "markdown",
   "id": "bcdc9aba-2608-4f96-bf6d-3cf5383e1fbb",
   "metadata": {},
   "source": [
    "## Center-based format with single-variate Gaussian distribution\n",
    "kl_loss_center_ind"
   ]
  },
  {
   "cell_type": "code",
   "execution_count": 65,
   "id": "5fc1c505-1eb6-4db0-87a6-1bd80697eb02",
   "metadata": {},
   "outputs": [],
   "source": [
    "def corner_to_center_box2d_torch(corners):\n",
    "    p1 = corners[:,0:2]\n",
    "    p2 = corners[:,2:4]\n",
    "    p3 = corners[:,4:6]\n",
    "    p4 = corners[:,6:8]\n",
    "    center = (p1+p2+p3+p4)/4\n",
    "    w = (np.sqrt(np.sum(np.power(p1-p4, 2), axis=1, keepdims = True)) + np.sqrt(np.sum(np.power(p2-p3, 2), axis=1, keepdims = True)))/2\n",
    "    h = (np.sqrt(np.sum(np.power(p1-p2, 2), axis=1, keepdims = True)) + np.sqrt(np.sum(np.power(p3-p4, 2), axis=1, keepdims = True)))/2\n",
    "    wp = np.sqrt(np.sum(np.power(p1-p4, 2), axis=1, keepdims = True))\n",
    "    sina = np.divide((p4[:,1:2] - p1[:,1:2]), wp)\n",
    "    cosa = np.divide((p1[:,0:1] - p4[:,0:1]), wp)\n",
    "    result = np.concatenate((center, w, h, sina, cosa), axis=1)\n",
    "    return result\n",
    "\n",
    "def compute_crps_center_single(data_path, ty = 0, info=None):\n",
    "    data = np.load(data_path, allow_pickle=True)\n",
    "    tp = data.item()['tp']\n",
    "    crps_list = []\n",
    "    for i in range(len(tp)):\n",
    "        prediction = np.array(tp[i][0])\n",
    "        pred = corner_to_center_box2d_torch(prediction[:,:8])\n",
    "        target = corner_to_center_box2d_torch(np.array(tp[i][1]))\n",
    "        cov = prediction[:,9:]\n",
    "        std = np.sqrt(np.exp(cov))\n",
    "        if ty == 0:\n",
    "            std = std\n",
    "        elif ty == 1:\n",
    "            std = np.multiply(std, np.array(info))\n",
    "        elif ty == 2:\n",
    "            std = std * info\n",
    "        crps = ps.crps_gaussian(target, \n",
    "                               pred,\n",
    "                               std)\n",
    "        crps_list.extend(np.mean(crps, axis=1).tolist())\n",
    "    return sum(crps_list) / len(crps_list)"
   ]
  },
  {
   "cell_type": "markdown",
   "id": "95e1e78c-d14a-40d8-aed5-37456272be9b",
   "metadata": {},
   "source": [
    "### disco"
   ]
  },
  {
   "cell_type": "code",
   "execution_count": 66,
   "id": "97e1eb49-545e-406e-85aa-20bb38ff089f",
   "metadata": {},
   "outputs": [
    {
     "data": {
      "text/plain": [
       "0.09476382565762675"
      ]
     },
     "execution_count": 66,
     "metadata": {},
     "output_type": "execute_result"
    }
   ],
   "source": [
    "data_path = \"check/check_loss_two_step_center_ind/disco/no_rsu/match_all_data_100_5.npy\"\n",
    "compute_crps_center_single(data_path, 0)"
   ]
  },
  {
   "cell_type": "code",
   "execution_count": 67,
   "id": "ff10832e-bb28-4f35-b734-f3e8c5b50ec8",
   "metadata": {},
   "outputs": [
    {
     "data": {
      "text/plain": [
       "0.08243371697173087"
      ]
     },
     "execution_count": 67,
     "metadata": {},
     "output_type": "execute_result"
    }
   ],
   "source": [
    "# 68.27%\n",
    "quantile = [5.468984395243384, 4.89869516767041, 16.09847077479864, 3.0882512529684347, 1.0243907317028713, 4.811753752332904]\n",
    "compute_crps_center_single(data_path, 1, quantile)"
   ]
  },
  {
   "cell_type": "code",
   "execution_count": 68,
   "id": "c5cf2055-8a24-4ad9-81a2-2f47c7955eda",
   "metadata": {},
   "outputs": [
    {
     "data": {
      "text/plain": [
       "0.09451582780211552"
      ]
     },
     "execution_count": 68,
     "metadata": {},
     "output_type": "execute_result"
    }
   ],
   "source": [
    "# 99.73%\n",
    "data_path = \"check/check_loss_two_step_center_ind/disco/no_rsu/match_all_data_100_5.npy\"\n",
    "quantile = np.array([48.40839894811819, 25.026924203602636, 131.90336169825727, 15.255118427560566, 59.67641819394204, 71.02182939111708]) / 3\n",
    "compute_crps_center_single(data_path, 1, quantile)"
   ]
  },
  {
   "cell_type": "code",
   "execution_count": 69,
   "id": "8c63b662-5e54-49fa-9ff5-96deff34616e",
   "metadata": {},
   "outputs": [
    {
     "data": {
      "text/plain": [
       "0.0904882054152939"
      ]
     },
     "execution_count": 69,
     "metadata": {},
     "output_type": "execute_result"
    }
   ],
   "source": [
    "data_path = \"check/check_loss_two_step_center_ind/disco/no_rsu/match_all_data_100_5.npy\"\n",
    "compute_crps_center_single(data_path, 2, 10)"
   ]
  },
  {
   "cell_type": "code",
   "execution_count": 70,
   "id": "15b7e6ac-c85a-449d-bdc0-8b93d8a6d967",
   "metadata": {},
   "outputs": [
    {
     "data": {
      "text/plain": [
       "0.3488100266123857"
      ]
     },
     "execution_count": 70,
     "metadata": {},
     "output_type": "execute_result"
    }
   ],
   "source": [
    "data_path = \"check/check_loss_two_step_center_ind/disco/no_rsu/match_all_data_100_5.npy\"\n",
    "compute_crps_center_single(data_path, 2, 100)"
   ]
  },
  {
   "cell_type": "code",
   "execution_count": null,
   "id": "7d35e398-101d-4657-9d3d-f0e121a24555",
   "metadata": {},
   "outputs": [],
   "source": []
  },
  {
   "cell_type": "markdown",
   "id": "c105931a-502d-4e9d-bf3f-6e1456a6290f",
   "metadata": {},
   "source": [
    "### upperbound"
   ]
  },
  {
   "cell_type": "code",
   "execution_count": 71,
   "id": "52c7b74f-563f-45ec-888d-02396ee45a5d",
   "metadata": {},
   "outputs": [
    {
     "data": {
      "text/plain": [
       "0.11279209221508091"
      ]
     },
     "execution_count": 71,
     "metadata": {},
     "output_type": "execute_result"
    }
   ],
   "source": [
    "data_path = \"check/check_loss_two_step_center_ind/upperbound/no_rsu/match_all_data_100_5.npy\"\n",
    "compute_crps_center_single(data_path, 0)"
   ]
  },
  {
   "cell_type": "code",
   "execution_count": 72,
   "id": "6c24db97-f71b-4df6-93e8-7d3637c62ce7",
   "metadata": {},
   "outputs": [
    {
     "data": {
      "text/plain": [
       "0.10140134104554115"
      ]
     },
     "execution_count": 72,
     "metadata": {},
     "output_type": "execute_result"
    }
   ],
   "source": [
    "# 68.27%\n",
    "data_path = \"check/check_loss_two_step_center_ind/upperbound/no_rsu/match_all_data_100_5.npy\"\n",
    "quantile = [3.9270005592398936, 3.7293620083399235, 12.661970846621758, 3.507125215592104, 1.3240707560700242, 3.309770337192223]\n",
    "compute_crps_center_single(data_path, 1, quantile)"
   ]
  },
  {
   "cell_type": "code",
   "execution_count": 73,
   "id": "47195f5a-674d-4f75-b3ce-4bbccddaa54a",
   "metadata": {},
   "outputs": [
    {
     "data": {
      "text/plain": [
       "0.09328114061250656"
      ]
     },
     "execution_count": 73,
     "metadata": {},
     "output_type": "execute_result"
    }
   ],
   "source": [
    "# 99.73%\n",
    "data_path = \"check/check_loss_two_step_center_ind/disco/no_rsu/match_all_data_100_5.npy\"\n",
    "quantile = np.array([31.340185602346363, 24.276376908593676, 118.64887029003187, 18.253235606033712, 109.68835650542137, 56.51205738298187]) / 3\n",
    "compute_crps_center_single(data_path, 1, quantile)"
   ]
  },
  {
   "cell_type": "code",
   "execution_count": 74,
   "id": "5dad0f3e-d21e-40cb-9cd1-4de3b6f2e207",
   "metadata": {},
   "outputs": [
    {
     "data": {
      "text/plain": [
       "0.10919984219658703"
      ]
     },
     "execution_count": 74,
     "metadata": {},
     "output_type": "execute_result"
    }
   ],
   "source": [
    "data_path = \"check/check_loss_two_step_center_ind/upperbound/no_rsu/match_all_data_100_5.npy\"\n",
    "compute_crps_center_single(data_path, 2, 10)"
   ]
  },
  {
   "cell_type": "code",
   "execution_count": 75,
   "id": "3e44bd37-54da-42f9-afff-4b63c67a0bc7",
   "metadata": {},
   "outputs": [
    {
     "data": {
      "text/plain": [
       "0.3974998196751098"
      ]
     },
     "execution_count": 75,
     "metadata": {},
     "output_type": "execute_result"
    }
   ],
   "source": [
    "compute_crps_center_single(data_path, 2, 100)"
   ]
  },
  {
   "cell_type": "markdown",
   "id": "0273dde5-bd6a-4e30-9e14-8871219f5062",
   "metadata": {},
   "source": [
    "### lowerbound"
   ]
  },
  {
   "cell_type": "code",
   "execution_count": 76,
   "id": "0314d942-4d0e-4bb1-bdd6-1a0dc4f91a0d",
   "metadata": {},
   "outputs": [
    {
     "data": {
      "text/plain": [
       "0.12935502133502605"
      ]
     },
     "execution_count": 76,
     "metadata": {},
     "output_type": "execute_result"
    }
   ],
   "source": [
    "data_path = \"check/check_loss_two_step_center_ind/lowerbound/no_rsu/match_all_data_100_5.npy\"\n",
    "compute_crps_center_single(data_path, 0)"
   ]
  },
  {
   "cell_type": "code",
   "execution_count": 77,
   "id": "7bc86516-3493-4e39-9237-a726785895cf",
   "metadata": {},
   "outputs": [
    {
     "data": {
      "text/plain": [
       "0.11601606398440002"
      ]
     },
     "execution_count": 77,
     "metadata": {},
     "output_type": "execute_result"
    }
   ],
   "source": [
    "# 68.27%\n",
    "data_path = \"check/check_loss_two_step_center_ind/lowerbound/no_rsu/match_all_data_100_5.npy\"\n",
    "quantile = [4.824761883365095, 4.435752094000069, 14.379824436595687, 2.8108565130701026, 1.0106651376400175, 4.404153510782447]\n",
    "compute_crps_center_single(data_path, 1, quantile)"
   ]
  },
  {
   "cell_type": "code",
   "execution_count": 78,
   "id": "83ffc60e-8574-494c-a3a0-80236c740ac9",
   "metadata": {},
   "outputs": [
    {
     "data": {
      "text/plain": [
       "0.09481660538899857"
      ]
     },
     "execution_count": 78,
     "metadata": {},
     "output_type": "execute_result"
    }
   ],
   "source": [
    "# 99.73%\n",
    "data_path = \"check/check_loss_two_step_center_ind/disco/no_rsu/match_all_data_100_5.npy\"\n",
    "quantile = np.array([44.646381707137465, 28.842831596825288, 127.50113292712857, 18.538402799100826, 81.66889262783303, 53.23585004452376]) / 3\n",
    "compute_crps_center_single(data_path, 1, quantile)"
   ]
  },
  {
   "cell_type": "code",
   "execution_count": 79,
   "id": "582878d4-3513-4bf2-8be3-518a168d72af",
   "metadata": {},
   "outputs": [
    {
     "data": {
      "text/plain": [
       "0.12334249409213853"
      ]
     },
     "execution_count": 79,
     "metadata": {},
     "output_type": "execute_result"
    }
   ],
   "source": [
    "data_path = \"check/check_loss_two_step_center_ind/lowerbound/no_rsu/match_all_data_100_5.npy\"\n",
    "compute_crps_center_single(data_path, 2, 10)"
   ]
  },
  {
   "cell_type": "code",
   "execution_count": 80,
   "id": "235f0e7d-590e-4289-b42a-e411a90c833f",
   "metadata": {},
   "outputs": [
    {
     "data": {
      "text/plain": [
       "0.3886493278938143"
      ]
     },
     "execution_count": 80,
     "metadata": {},
     "output_type": "execute_result"
    }
   ],
   "source": [
    "compute_crps_center_single(data_path, 2, 100)"
   ]
  }
 ],
 "metadata": {
  "kernelspec": {
   "display_name": "Python 3 (ipykernel)",
   "language": "python",
   "name": "python3"
  },
  "language_info": {
   "codemirror_mode": {
    "name": "ipython",
    "version": 3
   },
   "file_extension": ".py",
   "mimetype": "text/x-python",
   "name": "python",
   "nbconvert_exporter": "python",
   "pygments_lexer": "ipython3",
   "version": "3.9.7"
  }
 },
 "nbformat": 4,
 "nbformat_minor": 5
}
