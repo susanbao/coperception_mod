{
 "cells": [
  {
   "cell_type": "markdown",
   "id": "d663ce6c-3001-45af-a04b-47ba0f6c4e90",
   "metadata": {},
   "source": [
    "# Compute quantile with val"
   ]
  },
  {
   "cell_type": "code",
   "execution_count": 1,
   "id": "277414c3-2878-4019-b144-b9e7a1618fed",
   "metadata": {},
   "outputs": [],
   "source": [
    "import numpy as np\n",
    "import torch\n",
    "import math\n",
    "import os\n",
    "import properscoring as ps\n",
    "import warnings\n",
    "warnings.filterwarnings('ignore')"
   ]
  },
  {
   "cell_type": "markdown",
   "id": "f8e32297-afc2-4581-80ae-ca8b870ebd1b",
   "metadata": {},
   "source": [
    "## SORT"
   ]
  },
  {
   "cell_type": "code",
   "execution_count": 2,
   "id": "2dd91bfb-e34c-45af-8296-b71d68515333",
   "metadata": {},
   "outputs": [],
   "source": [
    "gt_path = \"./TrackEval/data/gt/mot_challenge/\"\n",
    "scene_idxes_file_path = \"../utils/val_scenes.txt\"\n",
    "tracking_path = \"./sort/val/cfk_nlla/\""
   ]
  },
  {
   "cell_type": "code",
   "execution_count": 61,
   "id": "1fc3b167-edd7-4c4a-9a4a-f1bc3911dae0",
   "metadata": {},
   "outputs": [],
   "source": [
    "def convert_bbox_to_z(bbox):\n",
    "    \"\"\"\n",
    "    Takes a bounding box in the form [x1,y1,x2,y2] and returns z in the form\n",
    "      [x,y,s,r] where x,y is the centre of the box and s is the scale/area and r is\n",
    "      the aspect ratio\n",
    "    \"\"\"\n",
    "    w = bbox[2] - bbox[0]\n",
    "    h = bbox[3] - bbox[1]\n",
    "    x = bbox[0] + w / 2.0\n",
    "    y = bbox[1] + h / 2.0\n",
    "    s = w * h  # scale is just area\n",
    "    if float(h) < 0.00001:\n",
    "        print([x, y, w, h])\n",
    "        print(bbox)\n",
    "    r = w / float(h)\n",
    "    return np.array([x, y, s, r])\n",
    "\n",
    "\n",
    "def convert_x_to_bbox(x, score=None):\n",
    "    \"\"\"\n",
    "    Takes a bounding box in the centre form [x,y,s,r] and returns it in the form\n",
    "      [x1,y1,x2,y2] where x1,y1 is the top left and x2,y2 is the bottom right\n",
    "    \"\"\"\n",
    "    w = np.sqrt(x[2] * x[3])\n",
    "    h = x[2] / w\n",
    "    if score is None:\n",
    "        return np.array(\n",
    "            [x[0] - w / 2.0, x[1] - h / 2.0, x[0] + w / 2.0, x[1] + h / 2.0]\n",
    "        ).reshape((1, 4))\n",
    "    else:\n",
    "        return np.array(\n",
    "            [x[0] - w / 2.0, x[1] - h / 2.0, x[0] + w / 2.0, x[1] + h / 2.0, score]\n",
    "        ).reshape((1, 5))\n",
    "\n",
    "def split_data_by_frame(data):\n",
    "    res = []\n",
    "    start = 0\n",
    "    if data.shape[0] == 0:\n",
    "        return res\n",
    "    if len(data.shape) == 1:\n",
    "        res.append(data[np.newaxis, :])\n",
    "        return res\n",
    "    for i in range(1,data.shape[0]):\n",
    "        if data[i][0] != data[start][0]:\n",
    "            res.append(data[start:i,:])\n",
    "            start = i\n",
    "    res.append(data[start:,:])\n",
    "    return res\n",
    "\n",
    "def iou_batch(bb_test, bb_gt):\n",
    "    \"\"\"\n",
    "    From SORT: Computes IOU between two bboxes in the form [x1,y1,x2,y2]\n",
    "    \"\"\"\n",
    "    bb_gt = np.expand_dims(bb_gt, 0)\n",
    "    bb_test = np.expand_dims(bb_test, 1)\n",
    "\n",
    "    xx1 = np.maximum(bb_test[..., 0], bb_gt[..., 0])\n",
    "    yy1 = np.maximum(bb_test[..., 1], bb_gt[..., 1])\n",
    "    xx2 = np.minimum(bb_test[..., 2], bb_gt[..., 2])\n",
    "    yy2 = np.minimum(bb_test[..., 3], bb_gt[..., 3])\n",
    "    w = np.maximum(0.0, xx2 - xx1)\n",
    "    h = np.maximum(0.0, yy2 - yy1)\n",
    "    wh = w * h\n",
    "    o = wh / (\n",
    "        (bb_test[..., 2] - bb_test[..., 0]) * (bb_test[..., 3] - bb_test[..., 1])\n",
    "        + (bb_gt[..., 2] - bb_gt[..., 0]) * (bb_gt[..., 3] - bb_gt[..., 1])\n",
    "        - wh\n",
    "    )\n",
    "    return o\n",
    "\n",
    "def linear_assignment(cost_matrix):\n",
    "    try:\n",
    "        import lap\n",
    "\n",
    "        _, x, y = lap.lapjv(cost_matrix, extend_cost=True)\n",
    "        return np.array([[y[i], i] for i in x if i >= 0])  #\n",
    "    except ImportError:\n",
    "        from scipy.optimize import linear_sum_assignment\n",
    "\n",
    "        x, y = linear_sum_assignment(cost_matrix)\n",
    "        return np.array(list(zip(x, y)))\n",
    "\n",
    "def pre_process_bbox(datas):\n",
    "    \"\"\"\n",
    "    make the bbox be [x1,y1,x2,y2] where [x1,y1] is the left bottom and [x2,y2] is the right top\n",
    "    \"\"\"\n",
    "    for i in range(datas.shape[0]):\n",
    "        small = [min(datas[i][0], datas[i][2]), min(datas[i][1], datas[i][3])]\n",
    "        large = [max(datas[i][0], datas[i][2]), max(datas[i][1], datas[i][3])]\n",
    "        datas[i][0] = small[0]\n",
    "        datas[i][1] = small[1]\n",
    "        datas[i][2] = large[0]\n",
    "        datas[i][3] = large[1]\n",
    "    return datas\n",
    "\n",
    "def remove_error_bbox(dets):\n",
    "    res = []\n",
    "    for i in range(dets.shape[0]):\n",
    "        if dets[i, 0] == dets[i, 2] or dets[i, 1] == dets[i, 3]:\n",
    "            continue\n",
    "        res.append(list(dets[i]))\n",
    "    return np.array(res)\n",
    "\n",
    "def convert_bboxs_to_zs(datas):\n",
    "    for i in range(datas.shape[0]):\n",
    "        datas[i, :4] = convert_bbox_to_z(datas[i,:4])\n",
    "    return datas\n",
    "\n",
    "def compute_score(data_path):\n",
    "    data = np.load(data_path, allow_pickle=True)\n",
    "    tp = data.item()['tp']\n",
    "    scores = []\n",
    "    for i in range(len(tp)):\n",
    "        prediction = np.array(tp[i][0])\n",
    "        pred = prediction[:,:8]\n",
    "        target = np.array(tp[i][1])\n",
    "        cov = prediction[:,9:]\n",
    "        score = np.abs(pred-target) / np.sqrt(np.exp(cov))\n",
    "        for s in score:\n",
    "            scores.append(list(s))\n",
    "    return np.array(scores)\n",
    "\n",
    "def compute_quantile(scores, alpha):\n",
    "    n = scores.shape[0]\n",
    "    q_level = np.ceil((n+1)*(1-alpha))/n\n",
    "    quantile = []\n",
    "    for i in range(scores.shape[1]):\n",
    "        q = np.quantile(scores[:,i], q_level, interpolation='higher')\n",
    "        quantile.append(q)\n",
    "    return quantile\n",
    "\n",
    "def compute_nll(dets, gts, mode, iou_threshold):\n",
    "    dets = pre_process_bbox(dets[:,2:])\n",
    "    gts = pre_process_bbox(gts[:,2:])\n",
    "    dets = remove_error_bbox(dets)\n",
    "    iou_matrix = iou_batch(dets, gts)\n",
    "    if min(iou_matrix.shape) > 0:\n",
    "        a = (iou_matrix > iou_threshold).astype(np.int32)\n",
    "        if a.sum(1).max() == 1 and a.sum(0).max() == 1:\n",
    "            matched_indices = np.stack(np.where(a), axis=1)\n",
    "        else:\n",
    "            matched_indices = linear_assignment(-iou_matrix)\n",
    "    else:\n",
    "        matched_indices = np.empty(shape=(0, 2))\n",
    "    if len(matched_indices) == 0:\n",
    "        print(\"Error length of matched_indices if zero!\")\n",
    "    if iou_threshold >= 0.5:\n",
    "        matches = []\n",
    "        for m in matched_indices:\n",
    "            if iou_matrix[m[0], m[1]] >= iou_threshold:\n",
    "                matches.append([m[0], m[1]])\n",
    "        matched_indices = np.array(matches)\n",
    "    if len(np.array(matched_indices).shape) < 2:\n",
    "        return []\n",
    "    matched_dets = dets[matched_indices[:,0]]\n",
    "    matched_gts = gts[matched_indices[:,1]]\n",
    "    pred = convert_bboxs_to_zs(matched_dets[:,:4])\n",
    "    target = convert_bboxs_to_zs(matched_gts[:,:4])\n",
    "    cov = matched_dets[:,8:]\n",
    "    std = np.sqrt(cov)\n",
    "    score = np.abs(pred-target) / std\n",
    "    return score\n",
    "\n",
    "def compute_quantile_for_mode(mode, det_path, iou_threshold, alpha):\n",
    "    upper_path = det_path + mode + \"/no_rsu/\"\n",
    "    scene_idxes_file = open(scene_idxes_file_path, \"r\")\n",
    "    scene_idxes = [int(line.strip()) for line in scene_idxes_file]\n",
    "    #print(scene_idxes)\n",
    "    scores = []\n",
    "    for agent in range(1,6):\n",
    "        det_files_path = upper_path + \"tracking\" + str(agent)\n",
    "        gt_files_path = gt_path + \"V2X-val\" + str(agent)\n",
    "        for scene in scene_idxes:\n",
    "            det_scene_file = os.path.join(det_files_path, str(scene) + \".txt\")\n",
    "            gt_scene_file = os.path.join(gt_files_path, str(scene), \"gt/gt.txt\")\n",
    "            det_datas = np.loadtxt(det_scene_file, delimiter=\",\")\n",
    "            gt_datas = np.loadtxt(gt_scene_file, delimiter=\",\")\n",
    "            if len(gt_datas) == 0 or len(det_datas) == 0:\n",
    "                continue\n",
    "            det_datas = split_data_by_frame(det_datas)\n",
    "            gt_datas = split_data_by_frame(gt_datas)\n",
    "            det_idx = 0\n",
    "            for gt_idx in range(len(gt_datas)):\n",
    "                #print(len(det_datas[det_idx][0]), len(gt_datas[gt_idx][0]))\n",
    "                # while len(np.array(det_datas[det_idx]).shape) < 2:\n",
    "                #     det_idx += 1\n",
    "                if det_idx >= len(det_datas):\n",
    "                    #print(f\"det_idx out of range, {gt_idx} {det_idx}\")\n",
    "                    break\n",
    "                if det_datas[det_idx][0][0] != gt_datas[gt_idx][0][0]:\n",
    "                    #print(f\"Error idx not match {scene} {agent} {det_idx}, {gt_idx} {det_datas[det_idx][0][0]} {gt_datas[gt_idx][0][0]}\")\n",
    "                    continue\n",
    "                score_list = compute_nll(det_datas[det_idx], gt_datas[gt_idx], mode, iou_threshold)\n",
    "                scores.extend(score_list)\n",
    "                det_idx += 1\n",
    "    scores = np.array(scores)\n",
    "    quantile = compute_quantile(scores, alpha)\n",
    "    return quantile\n",
    "\n",
    "def show_one_result(path, iou_threshold):\n",
    "    confident_range = 0.6827\n",
    "    alpha = 1-confident_range\n",
    "    mode_list = [\"disco\", \"upperbound\",\"lowerbound\"]\n",
    "    for mode in mode_list:\n",
    "        quantile = compute_quantile_for_mode(mode, path, iou_threshold, alpha)\n",
    "        print(f\"quantile for {mode} is {quantile}\")\n",
    "        print_var_quantile_1(quantile)\n",
    "\n",
    "def print_var_quantile(q):\n",
    "    sq = np.array(q) /3\n",
    "    print(list(sq*sq))\n",
    "\n",
    "def print_var_quantile_1(q):\n",
    "    sq = np.array(q)\n",
    "    print(list(sq*sq))\n",
    "\n",
    "def print_var_quantile_2(q):\n",
    "    sq = np.array(q)/2\n",
    "    print(list(sq*sq))\n",
    "    \n",
    "def show_one_result_2(path, iou_threshold):\n",
    "    confident_range = 0.9545\n",
    "    alpha = 1-confident_range\n",
    "    mode_list = [\"disco\", \"upperbound\",\"lowerbound\"]\n",
    "    for mode in mode_list:\n",
    "        quantile = compute_quantile_for_mode(mode, path, iou_threshold, alpha)\n",
    "        print(f\"quantile for {mode} is {quantile}\")\n",
    "        print_var_quantile_2(quantile)"
   ]
  },
  {
   "cell_type": "code",
   "execution_count": 32,
   "id": "5fbf9627-078c-4da3-9e03-e35e064e8dcf",
   "metadata": {},
   "outputs": [
    {
     "data": {
      "text/plain": [
       "[9.26636665530604, 26.389540552570978, 980.3717595051038, 47.46338715908096]"
      ]
     },
     "execution_count": 32,
     "metadata": {},
     "output_type": "execute_result"
    }
   ],
   "source": [
    "confident_range = 0.9973\n",
    "compute_quantile_for_mode(\"upperbound\", tracking_path, 0.5, 1-confident_range)"
   ]
  },
  {
   "cell_type": "code",
   "execution_count": 48,
   "id": "e4af9c82-0f3e-4128-8459-99e24b6c04cd",
   "metadata": {},
   "outputs": [
    {
     "name": "stdout",
     "output_type": "stream",
     "text": [
      "[9.54061677672974, 77.37865006397645, 106792.08742612592, 250.3081245125346]\n"
     ]
    }
   ],
   "source": [
    "print_var_quantile([9.26636665530604, 26.389540552570978, 980.3717595051038, 47.46338715908096])"
   ]
  },
  {
   "cell_type": "code",
   "execution_count": 34,
   "id": "3c9211d1-e88d-4c98-8ea1-064b5d401742",
   "metadata": {},
   "outputs": [
    {
     "data": {
      "text/plain": [
       "[7.257887314355021, 25.74134829288509, 1095.7692268573962, 36.05259130092381]"
      ]
     },
     "execution_count": 34,
     "metadata": {},
     "output_type": "execute_result"
    }
   ],
   "source": [
    "confident_range = 0.9973\n",
    "compute_quantile_for_mode(\"disco\", tracking_path, 0.5, 1-confident_range)"
   ]
  },
  {
   "cell_type": "code",
   "execution_count": 49,
   "id": "19e0f77e-9ec4-4b6a-87bb-2c27e5f52a5f",
   "metadata": {},
   "outputs": [
    {
     "name": "stdout",
     "output_type": "stream",
     "text": [
      "[5.852992029763949, 73.6241124372909, 133412.24428085063, 144.42103772349412]\n"
     ]
    }
   ],
   "source": [
    "print_var_quantile([7.257887314355021, 25.74134829288509, 1095.7692268573962, 36.05259130092381])"
   ]
  },
  {
   "cell_type": "code",
   "execution_count": 36,
   "id": "69174dd0-3f5f-4207-bd76-bf96d739be66",
   "metadata": {},
   "outputs": [
    {
     "data": {
      "text/plain": [
       "[8.711900100131754, 23.213263898179875, 1068.081898446353, 10.755487829590209]"
      ]
     },
     "execution_count": 36,
     "metadata": {},
     "output_type": "execute_result"
    }
   ],
   "source": [
    "confident_range = 0.9973\n",
    "compute_quantile_for_mode(\"lowerbound\", tracking_path, 0.5, 1-confident_range)"
   ]
  },
  {
   "cell_type": "code",
   "execution_count": 50,
   "id": "bd5767d9-93eb-48db-907a-b027edaf5a76",
   "metadata": {},
   "outputs": [
    {
     "name": "stdout",
     "output_type": "stream",
     "text": [
      "[8.433022594963962, 59.87284675628234, 126755.43797652953, 12.853390939162566]\n"
     ]
    }
   ],
   "source": [
    "print_var_quantile([8.711900100131754, 23.213263898179875, 1068.081898446353, 10.755487829590209])"
   ]
  },
  {
   "cell_type": "code",
   "execution_count": 58,
   "id": "6bd3f137-d018-42f5-8286-2c915f726c3e",
   "metadata": {},
   "outputs": [
    {
     "name": "stdout",
     "output_type": "stream",
     "text": [
      "quantile for disco is [1.2587643535709336, 4.105097014062292, 1095.1754273107442, 0.09232735611344699]\n",
      "[1.5844876978208504, 16.85182149486315, 1199409.2165852713, 0.008524340686899256]\n",
      "quantile for upperbound is [1.4201529360783647, 4.54480541660601, 1048.5368111993635, 0.09341083560376137]\n",
      "[2.0168343618519997, 20.655256274811332, 1099429.4444401297, 0.008725584208192933]\n",
      "quantile for lowerbound is [0.9745005771422002, 3.795479075719574, 474.2240417007059, 0.08644231115879157]\n",
      "[0.9496513748504812, 14.405661414225111, 224888.44172695288, 0.007472273158473342]\n"
     ]
    }
   ],
   "source": [
    "show_one_result(tracking_path, 0.5)"
   ]
  },
  {
   "cell_type": "code",
   "execution_count": 62,
   "id": "727ee419-d5bc-472f-b665-0980f45c53d3",
   "metadata": {},
   "outputs": [
    {
     "name": "stdout",
     "output_type": "stream",
     "text": [
      "quantile for disco is [4.531937515344233, 12.436723035701078, 3669.607672931809, 1.169126199270564]\n",
      "[5.134614410746115, 38.66801996668446, 3366505.118310001, 0.3417140174552086]\n",
      "quantile for upperbound is [4.767704087374154, 12.525844966472732, 3381.40135689267, 1.1668234057518179]\n",
      "[5.6827505661910545, 39.22419803102757, 2858468.784098897, 0.34036921505256784]\n",
      "quantile for lowerbound is [4.2251913608151535, 11.089558010883625, 1740.040663279948, 0.6954586940303473]\n",
      "[4.463060508876752, 30.744574219188294, 756935.3774669303, 0.12091569877559906]\n"
     ]
    }
   ],
   "source": [
    "show_one_result_2(tracking_path, 0.5)"
   ]
  },
  {
   "cell_type": "markdown",
   "id": "7ba08882-935d-497d-9cf2-043f9f11d905",
   "metadata": {},
   "source": [
    "## ByteTrack"
   ]
  },
  {
   "cell_type": "code",
   "execution_count": 40,
   "id": "91580c86-b9ea-4b28-a721-688e74b92833",
   "metadata": {},
   "outputs": [],
   "source": [
    "gt_path = \"./TrackEval/data/gt/mot_challenge/\"\n",
    "scene_idxes_file_path = \"../utils/val_scenes.txt\"\n",
    "tracking_path = \"./byte_tracker/val/cfk_nlla/\""
   ]
  },
  {
   "cell_type": "code",
   "execution_count": 63,
   "id": "856b92e3-ee61-4129-b0f0-5b04c6f097e2",
   "metadata": {},
   "outputs": [],
   "source": [
    "def convert_bbox_to_z(bbox):\n",
    "    \"\"\"\n",
    "    Takes a bounding box in the form [x1,y1,x2,y2] and returns z in the form\n",
    "      [x,y,r,h] where x,y is the centre of the box and r is\n",
    "      the aspect ratio\n",
    "    \"\"\"\n",
    "    w = bbox[2] - bbox[0]\n",
    "    h = bbox[3] - bbox[1]\n",
    "    x = bbox[0] + w / 2.0\n",
    "    y = bbox[1] + h / 2.0\n",
    "    if float(h) < 0.00001:\n",
    "        print([x, y, w, h])\n",
    "        print(bbox)\n",
    "    r = w / float(h)\n",
    "    return np.array([x, y, r, h])\n",
    "\n",
    "def split_data_by_frame(data):\n",
    "    res = []\n",
    "    start = 0\n",
    "    if data.shape[0] == 0:\n",
    "        return res\n",
    "    if len(data.shape) == 1:\n",
    "        res.append(data[np.newaxis, :])\n",
    "        return res\n",
    "    for i in range(1,data.shape[0]):\n",
    "        if data[i][0] != data[start][0]:\n",
    "            res.append(data[start:i,:])\n",
    "            start = i\n",
    "    res.append(data[start:,:])\n",
    "    return res\n",
    "\n",
    "def iou_batch(bb_test, bb_gt):\n",
    "    \"\"\"\n",
    "    From SORT: Computes IOU between two bboxes in the form [x1,y1,x2,y2]\n",
    "    \"\"\"\n",
    "    bb_gt = np.expand_dims(bb_gt, 0)\n",
    "    bb_test = np.expand_dims(bb_test, 1)\n",
    "\n",
    "    xx1 = np.maximum(bb_test[..., 0], bb_gt[..., 0])\n",
    "    yy1 = np.maximum(bb_test[..., 1], bb_gt[..., 1])\n",
    "    xx2 = np.minimum(bb_test[..., 2], bb_gt[..., 2])\n",
    "    yy2 = np.minimum(bb_test[..., 3], bb_gt[..., 3])\n",
    "    w = np.maximum(0.0, xx2 - xx1)\n",
    "    h = np.maximum(0.0, yy2 - yy1)\n",
    "    wh = w * h\n",
    "    o = wh / (\n",
    "        (bb_test[..., 2] - bb_test[..., 0]) * (bb_test[..., 3] - bb_test[..., 1])\n",
    "        + (bb_gt[..., 2] - bb_gt[..., 0]) * (bb_gt[..., 3] - bb_gt[..., 1])\n",
    "        - wh\n",
    "    )\n",
    "    return o\n",
    "\n",
    "def linear_assignment(cost_matrix):\n",
    "    try:\n",
    "        import lap\n",
    "\n",
    "        _, x, y = lap.lapjv(cost_matrix, extend_cost=True)\n",
    "        return np.array([[y[i], i] for i in x if i >= 0])  #\n",
    "    except ImportError:\n",
    "        from scipy.optimize import linear_sum_assignment\n",
    "\n",
    "        x, y = linear_sum_assignment(cost_matrix)\n",
    "        return np.array(list(zip(x, y)))\n",
    "\n",
    "def pre_process_bbox(datas):\n",
    "    \"\"\"\n",
    "    make the bbox be [x1,y1,x2,y2] where [x1,y1] is the left bottom and [x2,y2] is the right top\n",
    "    \"\"\"\n",
    "    for i in range(datas.shape[0]):\n",
    "        small = [min(datas[i][0], datas[i][2]), min(datas[i][1], datas[i][3])]\n",
    "        large = [max(datas[i][0], datas[i][2]), max(datas[i][1], datas[i][3])]\n",
    "        datas[i][0] = small[0]\n",
    "        datas[i][1] = small[1]\n",
    "        datas[i][2] = large[0]\n",
    "        datas[i][3] = large[1]\n",
    "    return datas\n",
    "\n",
    "def remove_error_bbox(dets):\n",
    "    res = []\n",
    "    for i in range(dets.shape[0]):\n",
    "        if dets[i, 0] == dets[i, 2] or dets[i, 1] == dets[i, 3]:\n",
    "            continue\n",
    "        res.append(list(dets[i]))\n",
    "    return np.array(res)\n",
    "\n",
    "def convert_bboxs_to_zs(datas):\n",
    "    for i in range(datas.shape[0]):\n",
    "        datas[i, :4] = convert_bbox_to_z(datas[i,:4])\n",
    "    return datas\n",
    "    \n",
    "def compute_nll(dets, gts, mode, iou_threshold):\n",
    "    dets = pre_process_bbox(dets[:,2:])\n",
    "    gts = pre_process_bbox(gts[:,2:])\n",
    "    dets = remove_error_bbox(dets)\n",
    "    iou_matrix = iou_batch(dets, gts)\n",
    "    if min(iou_matrix.shape) > 0:\n",
    "        a = (iou_matrix > iou_threshold).astype(np.int32)\n",
    "        if a.sum(1).max() == 1 and a.sum(0).max() == 1:\n",
    "            matched_indices = np.stack(np.where(a), axis=1)\n",
    "        else:\n",
    "            matched_indices = linear_assignment(-iou_matrix)\n",
    "    else:\n",
    "        matched_indices = np.empty(shape=(0, 2))\n",
    "    if len(matched_indices) == 0:\n",
    "        print(\"Error length of matched_indices if zero!\")\n",
    "    if iou_threshold >= 0.5:\n",
    "        matches = []\n",
    "        for m in matched_indices:\n",
    "            if iou_matrix[m[0], m[1]] >= iou_threshold:\n",
    "                matches.append([m[0], m[1]])\n",
    "        matched_indices = np.array(matches)\n",
    "    if len(np.array(matched_indices).shape) < 2:\n",
    "        return []\n",
    "    matched_dets = dets[matched_indices[:,0]]\n",
    "    matched_gts = gts[matched_indices[:,1]]\n",
    "    pred = convert_bboxs_to_zs(matched_dets[:,:4])\n",
    "    target = convert_bboxs_to_zs(matched_gts[:,:4])\n",
    "    cov = matched_dets[:,8:]\n",
    "    std = np.sqrt(cov)\n",
    "    score = np.abs(pred-target) / std\n",
    "    return score"
   ]
  },
  {
   "cell_type": "code",
   "execution_count": 41,
   "id": "ee1048e3-3d1f-46e1-9cb6-5daa54e54d24",
   "metadata": {},
   "outputs": [
    {
     "data": {
      "text/plain": [
       "[14.675761481491042, 29.097820609051176, 66.64290152805684, 30.913460464033168]"
      ]
     },
     "execution_count": 41,
     "metadata": {},
     "output_type": "execute_result"
    }
   ],
   "source": [
    "confident_range = 0.9973\n",
    "compute_quantile_for_mode(\"upperbound\", tracking_path, 0.5, 1-confident_range)"
   ]
  },
  {
   "cell_type": "code",
   "execution_count": 51,
   "id": "6fb7436a-231c-478e-be5a-e6bcbf7527cd",
   "metadata": {},
   "outputs": [
    {
     "name": "stdout",
     "output_type": "stream",
     "text": [
      "[23.930886117957346, 94.07590713294702, 493.47514711980904, 106.18244865126019]\n"
     ]
    }
   ],
   "source": [
    "print_var_quantile([14.675761481491042, 29.097820609051176, 66.64290152805684, 30.913460464033168])"
   ]
  },
  {
   "cell_type": "code",
   "execution_count": 43,
   "id": "9aea2c95-86a2-459b-9c14-3c6ef9dd6334",
   "metadata": {},
   "outputs": [
    {
     "data": {
      "text/plain": [
       "[14.334850052114051, 33.86344301502989, 44.95038087908978, 30.87056006683162]"
      ]
     },
     "execution_count": 43,
     "metadata": {},
     "output_type": "execute_result"
    }
   ],
   "source": [
    "confident_range = 0.9973\n",
    "compute_quantile_for_mode(\"disco\", tracking_path, 0.5, 1-confident_range)"
   ]
  },
  {
   "cell_type": "code",
   "execution_count": 52,
   "id": "ad19b937-f3b9-4038-91b3-89eca7f17a2a",
   "metadata": {},
   "outputs": [
    {
     "name": "stdout",
     "output_type": "stream",
     "text": [
      "[22.831991779621582, 127.4147525369085, 224.50408235280446, 105.88794209331766]\n"
     ]
    }
   ],
   "source": [
    "print_var_quantile([14.334850052114051, 33.86344301502989, 44.95038087908978, 30.87056006683162])"
   ]
  },
  {
   "cell_type": "code",
   "execution_count": 45,
   "id": "c2f255ec-4e33-4cbb-b1a7-50cb87509a91",
   "metadata": {},
   "outputs": [
    {
     "data": {
      "text/plain": [
       "[14.236715334025112, 26.094051875076637, 14.29643821802983, 33.207487831573594]"
      ]
     },
     "execution_count": 45,
     "metadata": {},
     "output_type": "execute_result"
    }
   ],
   "source": [
    "confident_range = 0.9973\n",
    "compute_quantile_for_mode(\"lowerbound\", tracking_path, 0.5, 1-confident_range)"
   ]
  },
  {
   "cell_type": "code",
   "execution_count": 53,
   "id": "13027c96-caa5-4d81-8f9b-621fc3251054",
   "metadata": {},
   "outputs": [
    {
     "name": "stdout",
     "output_type": "stream",
     "text": [
      "[22.520451500229527, 75.65550480657672, 22.709793969104886, 122.52636089823424]\n"
     ]
    }
   ],
   "source": [
    "print_var_quantile([14.236715334025112, 26.094051875076637, 14.29643821802983, 33.207487831573594])"
   ]
  },
  {
   "cell_type": "code",
   "execution_count": 60,
   "id": "7b1d82c0-1b54-4141-a4de-8940ddddfeb5",
   "metadata": {},
   "outputs": [
    {
     "name": "stdout",
     "output_type": "stream",
     "text": [
      "quantile for disco is [1.2587643535709336, 4.105097014062292, 0.08813197452271423, 3.27674215084452]\n",
      "[1.5844876978208504, 16.85182149486315, 0.007767244933272351, 10.737039123121171]\n",
      "quantile for upperbound is [1.4201529360783647, 4.54480541660601, 0.08100396417048444, 3.1321268748693316]\n",
      "[2.0168343618519997, 20.655256274811332, 0.0065616422113331276, 9.810218760278726]\n",
      "quantile for lowerbound is [0.9745005771422002, 3.795479075719574, 0.039849019116122125, 2.561358615555389]\n",
      "[0.9496513748504812, 14.405661414225111, 0.0015879443245170666, 6.56055795747982]\n"
     ]
    }
   ],
   "source": [
    "show_one_result(tracking_path, 0.5)"
   ]
  },
  {
   "cell_type": "code",
   "execution_count": 64,
   "id": "aae6b82f-f004-448b-9097-03e97fc38ca2",
   "metadata": {},
   "outputs": [
    {
     "name": "stdout",
     "output_type": "stream",
     "text": [
      "quantile for disco is [4.531937515344233, 12.436723035701078, 1.101188355046245, 9.5705881987947]\n",
      "[5.134614410746115, 38.66801996668446, 0.3031539483223637, 22.899039617727098]\n",
      "quantile for upperbound is [4.767704087374154, 12.525844966472732, 1.0581315990618603, 9.762428737517125]\n",
      "[5.6827505661910545, 39.22419803102757, 0.2799106202333024, 23.82625371377505]\n",
      "quantile for lowerbound is [4.2251913608151535, 11.089558010883625, 0.33743600506791954, 8.700059608265224]\n",
      "[4.463060508876752, 30.744574219188294, 0.028465764379049255, 18.922759296842013]\n"
     ]
    }
   ],
   "source": [
    "show_one_result_2(tracking_path, 0.5)"
   ]
  },
  {
   "cell_type": "code",
   "execution_count": null,
   "id": "16c87594-bb04-4e1b-b737-4ec2c6309045",
   "metadata": {},
   "outputs": [],
   "source": []
  }
 ],
 "metadata": {
  "kernelspec": {
   "display_name": "Python 3 (ipykernel)",
   "language": "python",
   "name": "python3"
  },
  "language_info": {
   "codemirror_mode": {
    "name": "ipython",
    "version": 3
   },
   "file_extension": ".py",
   "mimetype": "text/x-python",
   "name": "python",
   "nbconvert_exporter": "python",
   "pygments_lexer": "ipython3",
   "version": "3.9.7"
  }
 },
 "nbformat": 4,
 "nbformat_minor": 5
}
