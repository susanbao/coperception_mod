{
 "cells": [
  {
   "cell_type": "markdown",
   "id": "b17c4b03-ff14-4657-9173-828bc9d4898e",
   "metadata": {},
   "source": [
    "# Compute the NLL metric before and after tracking"
   ]
  },
  {
   "cell_type": "code",
   "execution_count": 1,
   "id": "61367de0-65ce-4756-a7ae-43569c103465",
   "metadata": {},
   "outputs": [],
   "source": [
    "import numpy as np\n",
    "import torch\n",
    "import math\n",
    "import os\n",
    "import properscoring as ps\n",
    "import warnings\n",
    "warnings.filterwarnings('ignore')"
   ]
  },
  {
   "cell_type": "code",
   "execution_count": 2,
   "id": "7404882f-8e9b-4140-8ca3-fbc82e91d699",
   "metadata": {},
   "outputs": [],
   "source": [
    "before_path = \"../det/check/check_loss_two_step_center_rh_ind/\"\n",
    "after_path = \"./byte_tracker/cov/\"\n",
    "after_cfk_path = after_path + \"cfk/\"\n",
    "after_nlla_path = after_path + \"nlla/\"\n",
    "after_origin_path = after_path + \"origin/\"\n",
    "after_cfk_nlla_path = after_path + \"cfk_nlla/\"\n",
    "after_cfk_wcp_path = after_path + \"cfk_wcp/\"\n",
    "after_nlla_wcp_path = after_path + \"nlla_wcp/\"\n",
    "after_cfk_nlla_wcp_path = after_path + \"cfk_nlla_wcp/\"\n",
    "gt_path = \"./TrackEval/data/gt/mot_challenge/\"\n",
    "scene_idxes_file_path = \"../utils/test_scenes.txt\"\n",
    "var_cp_dict = {\"upperbound\": [156.3751341925818, 65.24260517866209, 2785.7870238883734, 26.43169171689354], \"disco\": [214.13191750615232, 77.15047953920649, 2503.1216487206066, 24.387592952924123], \"lowerbound\": [268.0828005828979, 93.20827260609053, 18277.14814591181, 40.319136673153885], \"colowerbound\": [479.0016415962182, 408.52224932503424, 26176.90492584989, 39.972214292750124]}"
   ]
  },
  {
   "cell_type": "code",
   "execution_count": 3,
   "id": "3a07942b-b6ee-4150-a2db-45ec8f921ae2",
   "metadata": {},
   "outputs": [],
   "source": [
    "def convert_bbox_to_z(bbox):\n",
    "    \"\"\"\n",
    "    Takes a bounding box in the form [x1,y1,x2,y2] and returns z in the form\n",
    "      [x,y,r,h] where x,y is the centre of the box and r is\n",
    "      the aspect ratio\n",
    "    \"\"\"\n",
    "    w = bbox[2] - bbox[0]\n",
    "    h = bbox[3] - bbox[1]\n",
    "    x = bbox[0] + w / 2.0\n",
    "    y = bbox[1] + h / 2.0\n",
    "    if float(h) < 0.00001:\n",
    "        print([x, y, w, h])\n",
    "        print(bbox)\n",
    "    r = w / float(h)\n",
    "    return np.array([x, y, r, h])\n",
    "\n",
    "def split_data_by_frame(data):\n",
    "    res = []\n",
    "    start = 0\n",
    "    if data.shape[0] == 0:\n",
    "        return res\n",
    "    if len(data.shape) == 1:\n",
    "        res.append(data[np.newaxis, :])\n",
    "        return res\n",
    "    for i in range(1,data.shape[0]):\n",
    "        if data[i][0] != data[start][0]:\n",
    "            res.append(data[start:i,:])\n",
    "            start = i\n",
    "    res.append(data[start:,:])\n",
    "    return res\n",
    "\n",
    "def iou_batch(bb_test, bb_gt):\n",
    "    \"\"\"\n",
    "    From SORT: Computes IOU between two bboxes in the form [x1,y1,x2,y2]\n",
    "    \"\"\"\n",
    "    bb_gt = np.expand_dims(bb_gt, 0)\n",
    "    bb_test = np.expand_dims(bb_test, 1)\n",
    "\n",
    "    xx1 = np.maximum(bb_test[..., 0], bb_gt[..., 0])\n",
    "    yy1 = np.maximum(bb_test[..., 1], bb_gt[..., 1])\n",
    "    xx2 = np.minimum(bb_test[..., 2], bb_gt[..., 2])\n",
    "    yy2 = np.minimum(bb_test[..., 3], bb_gt[..., 3])\n",
    "    w = np.maximum(0.0, xx2 - xx1)\n",
    "    h = np.maximum(0.0, yy2 - yy1)\n",
    "    wh = w * h\n",
    "    o = wh / (\n",
    "        (bb_test[..., 2] - bb_test[..., 0]) * (bb_test[..., 3] - bb_test[..., 1])\n",
    "        + (bb_gt[..., 2] - bb_gt[..., 0]) * (bb_gt[..., 3] - bb_gt[..., 1])\n",
    "        - wh\n",
    "    )\n",
    "    return o\n",
    "\n",
    "def linear_assignment(cost_matrix):\n",
    "    try:\n",
    "        import lap\n",
    "\n",
    "        _, x, y = lap.lapjv(cost_matrix, extend_cost=True)\n",
    "        return np.array([[y[i], i] for i in x if i >= 0])  #\n",
    "    except ImportError:\n",
    "        from scipy.optimize import linear_sum_assignment\n",
    "\n",
    "        x, y = linear_sum_assignment(cost_matrix)\n",
    "        return np.array(list(zip(x, y)))\n",
    "\n",
    "def pre_process_bbox(datas):\n",
    "    \"\"\"\n",
    "    make the bbox be [x1,y1,x2,y2] where [x1,y1] is the left bottom and [x2,y2] is the right top\n",
    "    \"\"\"\n",
    "    for i in range(datas.shape[0]):\n",
    "        small = [min(datas[i][0], datas[i][2]), min(datas[i][1], datas[i][3])]\n",
    "        large = [max(datas[i][0], datas[i][2]), max(datas[i][1], datas[i][3])]\n",
    "        datas[i][0] = small[0]\n",
    "        datas[i][1] = small[1]\n",
    "        datas[i][2] = large[0]\n",
    "        datas[i][3] = large[1]\n",
    "    return datas\n",
    "\n",
    "def remove_error_bbox(dets):\n",
    "    res = []\n",
    "    for i in range(dets.shape[0]):\n",
    "        if dets[i, 0] == dets[i, 2] or dets[i, 1] == dets[i, 3]:\n",
    "            continue\n",
    "        res.append(list(dets[i]))\n",
    "    return np.array(res)\n",
    "\n",
    "def convert_bboxs_to_zs(datas):\n",
    "    for i in range(datas.shape[0]):\n",
    "        datas[i, :4] = convert_bbox_to_z(datas[i,:4])\n",
    "    return datas\n",
    "    \n",
    "def compute_nll(dets, gts, mode, is_before_tracking, iou_threshold, is_use_cp_cov):\n",
    "    dets = pre_process_bbox(dets[:,2:])\n",
    "    gts = pre_process_bbox(gts[:,2:])\n",
    "    dets = remove_error_bbox(dets)\n",
    "    iou_matrix = iou_batch(dets, gts)\n",
    "    if min(iou_matrix.shape) > 0:\n",
    "        a = (iou_matrix > iou_threshold).astype(np.int32)\n",
    "        if a.sum(1).max() == 1 and a.sum(0).max() == 1:\n",
    "            matched_indices = np.stack(np.where(a), axis=1)\n",
    "        else:\n",
    "            matched_indices = linear_assignment(-iou_matrix)\n",
    "    else:\n",
    "        matched_indices = np.empty(shape=(0, 2))\n",
    "    if len(matched_indices) == 0:\n",
    "        print(\"Error length of matched_indices if zero!\")\n",
    "    if iou_threshold >= 0.5:\n",
    "        matches = []\n",
    "        for m in matched_indices:\n",
    "            if iou_matrix[m[0], m[1]] >= iou_threshold:\n",
    "                matches.append([m[0], m[1]])\n",
    "        matched_indices = np.array(matches)\n",
    "    if len(np.array(matched_indices).shape) < 2:\n",
    "        return [], matched_indices\n",
    "    matched_dets = dets[matched_indices[:,0]]\n",
    "    matched_gts = gts[matched_indices[:,1]]\n",
    "    pred = torch.from_numpy(convert_bboxs_to_zs(matched_dets[:,:4]))\n",
    "    target = torch.from_numpy(convert_bboxs_to_zs(matched_gts[:,:4]))\n",
    "    if is_before_tracking:\n",
    "        cov = np.exp(matched_dets[:,8:])\n",
    "    else:\n",
    "        cov = matched_dets[:,8:]\n",
    "    if is_use_cp_cov:\n",
    "        cp_cov = np.array(var_cp_dict[mode])\n",
    "        cov = cov * cp_cov\n",
    "    cov = torch.from_numpy(cov)\n",
    "    cov = torch.clamp(cov, min=1e-6)\n",
    "    std = torch.sqrt(cov)\n",
    "    predicted_normal_dists = torch.distributions.normal.Normal(pred, std)\n",
    "    negative_log_prob = - predicted_normal_dists.log_prob(target)\n",
    "    negative_log_prob = torch.clamp(negative_log_prob, min = 0)\n",
    "    negative_log_prob = torch.sum(negative_log_prob,axis=1)/4\n",
    "    # if sum(negative_log_prob) > 10*7:\n",
    "    #     print(dets)\n",
    "    #     print(gts)\n",
    "    #     print(matched_indices)\n",
    "    #     print(negative_log_prob)\n",
    "    #     print(iou_matrix)\n",
    "    #     print(matched_dets)\n",
    "    #     print(matched_gts)\n",
    "    #     return [], []\n",
    "    return negative_log_prob.tolist(), matched_indices\n",
    "\n",
    "def compute_nll_for_mode(mode, det_path, is_before_tracking, iou_threshold, is_use_cp_cov):\n",
    "    upper_path = det_path + mode + \"/no_rsu/\"\n",
    "    scene_idxes_file = open(scene_idxes_file_path, \"r\")\n",
    "    scene_idxes = [int(line.strip()) for line in scene_idxes_file]\n",
    "    #print(scene_idxes)\n",
    "    nll_res = []\n",
    "    for agent in range(1,6):\n",
    "        det_files_path = upper_path + \"tracking\" + str(agent)\n",
    "        gt_files_path = gt_path + \"V2X-test\" + str(agent)\n",
    "        for scene in scene_idxes:\n",
    "\n",
    "            if is_before_tracking:\n",
    "                det_scene_file = os.path.join(det_files_path, \"det_\" + str(scene) + \".txt\")\n",
    "            else:\n",
    "                det_scene_file = os.path.join(det_files_path, str(scene) + \".txt\")\n",
    "            gt_scene_file = os.path.join(gt_files_path, str(scene), \"gt/gt.txt\")\n",
    "            det_datas = np.loadtxt(det_scene_file, delimiter=\",\")\n",
    "            gt_datas = np.loadtxt(gt_scene_file, delimiter=\",\")\n",
    "            if len(gt_datas) == 0 or len(det_datas) == 0:\n",
    "                continue\n",
    "            det_datas = split_data_by_frame(det_datas)\n",
    "            gt_datas = split_data_by_frame(gt_datas)\n",
    "            det_idx = 0\n",
    "            for gt_idx in range(len(gt_datas)):\n",
    "                if det_idx >= len(det_datas):\n",
    "                    break\n",
    "                if det_datas[det_idx][0][0] != gt_datas[gt_idx][0][0]:\n",
    "                    #print(f\"Error idx not match {scene} {agent} {det_idx}, {gt_idx} {det_datas[det_idx][0][0]} {gt_datas[gt_idx][0][0]}\")\n",
    "                    continue\n",
    "                if gt_idx >= len(gt_datas):\n",
    "                    print(f\"gt_idx out of range, {gt_idx} {det_idx}\")\n",
    "                    break\n",
    "                nll, matched_indices = compute_nll(det_datas[det_idx], gt_datas[gt_idx], mode, is_before_tracking, iou_threshold, is_use_cp_cov)\n",
    "                # if nll == []:\n",
    "                #     print(det_scene_file)\n",
    "                #     print(det_datas[det_idx])\n",
    "                #     return 0\n",
    "                nll_res.extend(nll)\n",
    "                det_idx += 1\n",
    "    nll_mean = sum(nll_res) / len(nll_res)\n",
    "    return nll_mean\n",
    "\n",
    "def show_one_result(path, is_before_tracking=True, iou_threshold = 0.5, is_use_cp_cov=True):\n",
    "    mode_list = [\"upperbound\", \"disco\",\"lowerbound\", \"colowerbound\"]\n",
    "    for mode in mode_list:\n",
    "        nll = compute_nll_for_mode(mode, path, is_before_tracking, iou_threshold, is_use_cp_cov)\n",
    "        print(f\"NLL for {mode} is {nll}\")"
   ]
  },
  {
   "cell_type": "markdown",
   "id": "a7239628-e355-48a4-a425-898999c54b30",
   "metadata": {},
   "source": [
    "## before tracking"
   ]
  },
  {
   "cell_type": "code",
   "execution_count": 4,
   "id": "989f0201-ac79-40f8-86f4-0e3c93e74fd6",
   "metadata": {},
   "outputs": [
    {
     "name": "stdout",
     "output_type": "stream",
     "text": [
      "NLL for upperbound is 43.64795034429603\n"
     ]
    }
   ],
   "source": [
    "mode = \"upperbound\"\n",
    "nll = compute_nll_for_mode(mode, before_path, True, 0.5, True)\n",
    "print(f\"NLL for {mode} is {nll}\")"
   ]
  },
  {
   "cell_type": "code",
   "execution_count": 5,
   "id": "0f215723-e47d-4eea-aef5-a9ff999b25d3",
   "metadata": {},
   "outputs": [
    {
     "name": "stdout",
     "output_type": "stream",
     "text": [
      "NLL for upperbound is 43.64795034429603\n",
      "NLL for disco is 32.500092396658836\n",
      "NLL for lowerbound is 68.94076520160502\n",
      "NLL for colowerbound is 956.2331997269524\n"
     ]
    }
   ],
   "source": [
    "show_one_result(before_path, True, iou_threshold=0.5, is_use_cp_cov=True)"
   ]
  },
  {
   "cell_type": "code",
   "execution_count": 6,
   "id": "bf590329-a001-40fe-b2ad-8d1e8f82e669",
   "metadata": {},
   "outputs": [
    {
     "name": "stdout",
     "output_type": "stream",
     "text": [
      "NLL for upperbound is 18007.087716853195\n",
      "NLL for disco is 5407.783418798304\n",
      "NLL for lowerbound is 4521.834326607164\n",
      "NLL for colowerbound is 115168.72813619398\n"
     ]
    }
   ],
   "source": [
    "show_one_result(before_path, True, iou_threshold=0.5, is_use_cp_cov=False)"
   ]
  },
  {
   "cell_type": "code",
   "execution_count": 7,
   "id": "a70b4801-ad90-497a-8ac6-b0b3d0bc0ff9",
   "metadata": {},
   "outputs": [
    {
     "name": "stdout",
     "output_type": "stream",
     "text": [
      "NLL for upperbound is 23.471067282780474\n",
      "NLL for disco is 19.252723153385052\n",
      "NLL for lowerbound is 11.78332301955025\n",
      "NLL for colowerbound is 60.75091831933332\n"
     ]
    }
   ],
   "source": [
    "show_one_result(before_path, True, iou_threshold=0.7, is_use_cp_cov=True)"
   ]
  },
  {
   "cell_type": "code",
   "execution_count": 8,
   "id": "bfb1f83b-00ea-450c-ba38-8aa0d13a771f",
   "metadata": {},
   "outputs": [
    {
     "name": "stdout",
     "output_type": "stream",
     "text": [
      "NLL for upperbound is 8711.60262684237\n",
      "NLL for disco is 1989.7740744347213\n",
      "NLL for lowerbound is 1149.3928438755854\n",
      "NLL for colowerbound is 13517.801753134167\n"
     ]
    }
   ],
   "source": [
    "show_one_result(before_path, True, iou_threshold=0.7, is_use_cp_cov=False)"
   ]
  },
  {
   "cell_type": "code",
   "execution_count": 9,
   "id": "911ace5e-d494-4e51-9cdc-be2465d7c269",
   "metadata": {},
   "outputs": [
    {
     "name": "stdout",
     "output_type": "stream",
     "text": [
      "NLL for upperbound is 1800.6133612632095\n",
      "NLL for disco is 539.7605350308831\n",
      "NLL for lowerbound is 460.61643586709266\n",
      "NLL for colowerbound is 12070.567262646957\n"
     ]
    }
   ],
   "source": [
    "var_cp_dict = {\"upperbound\": [10,10,10,10], \"disco\": [10,10,10,10], \"lowerbound\": [10,10,10,10], \"colowerbound\": [10,10,10,10]}\n",
    "show_one_result(before_path, True, iou_threshold=0.5, is_use_cp_cov=True)"
   ]
  },
  {
   "cell_type": "code",
   "execution_count": 10,
   "id": "87960fec-5aeb-402a-9081-3cf9283638bf",
   "metadata": {},
   "outputs": [
    {
     "name": "stdout",
     "output_type": "stream",
     "text": [
      "NLL for upperbound is 870.3419905811145\n",
      "NLL for disco is 197.9662562209565\n",
      "NLL for lowerbound is 120.83173882267289\n",
      "NLL for colowerbound is 1897.8557301179264\n"
     ]
    }
   ],
   "source": [
    "show_one_result(before_path, True, iou_threshold=0.7, is_use_cp_cov=True)"
   ]
  },
  {
   "cell_type": "markdown",
   "id": "a605eb81-ed99-4da7-b08e-e0586d8583c9",
   "metadata": {},
   "source": [
    "## after tracking origin"
   ]
  },
  {
   "cell_type": "code",
   "execution_count": 5,
   "id": "451c1b2e-f789-4102-b744-854decf9ea30",
   "metadata": {},
   "outputs": [
    {
     "name": "stdout",
     "output_type": "stream",
     "text": [
      "NLL for upperbound is 125.20177359379358\n",
      "NLL for disco is 74.75636795657931\n",
      "NLL for lowerbound is 11.233907746595916\n"
     ]
    }
   ],
   "source": [
    "show_one_result(after_origin_path, False, iou_threshold=0.5, is_use_cp_cov=False)"
   ]
  },
  {
   "cell_type": "code",
   "execution_count": 6,
   "id": "301241e8-9ceb-40f2-9d52-ddd08cdf1a1b",
   "metadata": {},
   "outputs": [
    {
     "name": "stdout",
     "output_type": "stream",
     "text": [
      "NLL for upperbound is 60.21976926476921\n",
      "NLL for disco is 10.384476516768254\n",
      "NLL for lowerbound is 3.357057056450926\n"
     ]
    }
   ],
   "source": [
    "show_one_result(after_origin_path, False, iou_threshold=0.7, is_use_cp_cov=False)"
   ]
  },
  {
   "cell_type": "markdown",
   "id": "c9894b23-cc3c-49eb-a29f-12412ddb6bb1",
   "metadata": {},
   "source": [
    "## after tracking cfk"
   ]
  },
  {
   "cell_type": "code",
   "execution_count": 32,
   "id": "7961ed72-d36d-43b6-85c2-edf09702b3f5",
   "metadata": {},
   "outputs": [
    {
     "name": "stdout",
     "output_type": "stream",
     "text": [
      "NLL for upperbound is 26.330773410274663\n",
      "NLL for disco is 24.4282927477489\n",
      "NLL for lowerbound is 44.13806391046556\n"
     ]
    }
   ],
   "source": [
    "show_one_result(after_cfk_path, False, iou_threshold=0.5, is_use_cp_cov=False)"
   ]
  },
  {
   "cell_type": "code",
   "execution_count": 21,
   "id": "01eaec79-e59b-4cb1-9b04-cc35c45faa09",
   "metadata": {},
   "outputs": [
    {
     "name": "stdout",
     "output_type": "stream",
     "text": [
      "NLL for upperbound is 14.487700458698557\n",
      "NLL for disco is 16.41231819549025\n",
      "NLL for lowerbound is 10.262965532542061\n"
     ]
    }
   ],
   "source": [
    "show_one_result(after_cfk_path, False, iou_threshold=0.7, is_use_cp_cov=False)"
   ]
  },
  {
   "cell_type": "code",
   "execution_count": 34,
   "id": "d929a933-028a-4193-855d-c3f23768cc4c",
   "metadata": {},
   "outputs": [
    {
     "name": "stdout",
     "output_type": "stream",
     "text": [
      "NLL for upperbound is 12627.398769808899\n",
      "NLL for disco is 5554.220153995415\n",
      "NLL for lowerbound is 2413.198522431289\n"
     ]
    }
   ],
   "source": [
    "show_one_result(after_cfk_wcp_path, False, iou_threshold=0.5, is_use_cp_cov=False)"
   ]
  },
  {
   "cell_type": "code",
   "execution_count": 35,
   "id": "304fbdbb-5e42-4fd0-80c9-d63f297ef05a",
   "metadata": {},
   "outputs": [
    {
     "name": "stdout",
     "output_type": "stream",
     "text": [
      "NLL for upperbound is 1624.1060303987313\n",
      "NLL for disco is 1888.4322677093492\n",
      "NLL for lowerbound is 748.5118266402267\n"
     ]
    }
   ],
   "source": [
    "show_one_result(after_cfk_wcp_path, False, iou_threshold=0.7, is_use_cp_cov=False)"
   ]
  },
  {
   "cell_type": "markdown",
   "id": "92646dd8-18a0-4a44-8e6a-c52fe1cd5d38",
   "metadata": {},
   "source": [
    "## after tracking nlla"
   ]
  },
  {
   "cell_type": "code",
   "execution_count": 9,
   "id": "b0ce0fda-054d-4bbc-b62b-04f90ac0e9a5",
   "metadata": {},
   "outputs": [
    {
     "name": "stdout",
     "output_type": "stream",
     "text": [
      "NLL for upperbound is 6062.201114493875\n",
      "NLL for disco is 81.28181122822285\n",
      "NLL for lowerbound is 12.3513828926785\n"
     ]
    }
   ],
   "source": [
    "show_one_result(after_nlla_path, False, iou_threshold=0.5, is_use_cp_cov=False)"
   ]
  },
  {
   "cell_type": "code",
   "execution_count": 10,
   "id": "f504d77b-1564-4b23-a0df-97c43a6a0b16",
   "metadata": {},
   "outputs": [
    {
     "name": "stdout",
     "output_type": "stream",
     "text": [
      "NLL for upperbound is 6137.521950537949\n",
      "NLL for disco is 11.007561204589447\n",
      "NLL for lowerbound is 3.8936961052324532\n"
     ]
    }
   ],
   "source": [
    "show_one_result(after_nlla_path, False, iou_threshold=0.7, is_use_cp_cov=False)"
   ]
  },
  {
   "cell_type": "code",
   "execution_count": 23,
   "id": "1409341c-1c8b-44b4-bca3-9c427dd97577",
   "metadata": {},
   "outputs": [
    {
     "name": "stdout",
     "output_type": "stream",
     "text": [
      "NLL for upperbound is 125.1106189092142\n",
      "NLL for disco is 74.62391822484624\n",
      "NLL for lowerbound is 11.330465651175567\n"
     ]
    }
   ],
   "source": [
    "show_one_result(after_nlla_wcp_path, False, iou_threshold=0.5, is_use_cp_cov=False)"
   ]
  },
  {
   "cell_type": "code",
   "execution_count": 24,
   "id": "944f6939-f6db-4c22-aa47-9f3525ba1490",
   "metadata": {},
   "outputs": [
    {
     "name": "stdout",
     "output_type": "stream",
     "text": [
      "NLL for upperbound is 60.20765030497474\n",
      "NLL for disco is 10.386071545374097\n",
      "NLL for lowerbound is 3.38768813451858\n"
     ]
    }
   ],
   "source": [
    "show_one_result(after_nlla_wcp_path, False, iou_threshold=0.7, is_use_cp_cov=False)"
   ]
  },
  {
   "cell_type": "markdown",
   "id": "75581006-dbc4-4378-b1c7-6b3e1dd44a64",
   "metadata": {},
   "source": [
    "## after tracking cfk + nlla"
   ]
  },
  {
   "cell_type": "code",
   "execution_count": 11,
   "id": "2bb1796b-61d3-4e9d-919b-1330d99321e2",
   "metadata": {},
   "outputs": [
    {
     "name": "stdout",
     "output_type": "stream",
     "text": [
      "NLL for upperbound is 29.490438899196835\n",
      "NLL for disco is 25.301711427987456\n",
      "NLL for lowerbound is 57.23140681948101\n",
      "NLL for colowerbound is 1053.6949571139912\n"
     ]
    }
   ],
   "source": [
    "show_one_result(after_cfk_nlla_path, False, iou_threshold=0.5, is_use_cp_cov=False)"
   ]
  },
  {
   "cell_type": "code",
   "execution_count": 12,
   "id": "bf91383b-c285-4024-8475-aa6550f65d21",
   "metadata": {},
   "outputs": [
    {
     "name": "stdout",
     "output_type": "stream",
     "text": [
      "NLL for upperbound is 17.672873672676403\n",
      "NLL for disco is 17.569613491676424\n",
      "NLL for lowerbound is 11.265893531969354\n",
      "NLL for colowerbound is 106.60307789009637\n"
     ]
    }
   ],
   "source": [
    "show_one_result(after_cfk_nlla_path, False, iou_threshold=0.7, is_use_cp_cov=False)"
   ]
  },
  {
   "cell_type": "code",
   "execution_count": 36,
   "id": "0f4f6507-feab-42e4-ba6e-bcc310f87fa0",
   "metadata": {},
   "outputs": [
    {
     "name": "stdout",
     "output_type": "stream",
     "text": [
      "NLL for upperbound is 12614.369160824344\n",
      "NLL for disco is 5547.999893241213\n",
      "NLL for lowerbound is 2447.807312076365\n"
     ]
    }
   ],
   "source": [
    "show_one_result(after_cfk_nlla_wcp_path, False, iou_threshold=0.5, is_use_cp_cov=False)"
   ]
  },
  {
   "cell_type": "code",
   "execution_count": 37,
   "id": "6906f9be-8321-4830-8253-5913f1509698",
   "metadata": {},
   "outputs": [
    {
     "name": "stdout",
     "output_type": "stream",
     "text": [
      "NLL for upperbound is 1623.2255846201076\n",
      "NLL for disco is 1890.2503609553771\n",
      "NLL for lowerbound is 785.9194419388125\n"
     ]
    }
   ],
   "source": [
    "show_one_result(after_cfk_nlla_wcp_path, False, iou_threshold=0.7, is_use_cp_cov=False)"
   ]
  },
  {
   "cell_type": "code",
   "execution_count": 13,
   "id": "a731d297-1d87-409a-88a1-b21b22d2d6b3",
   "metadata": {},
   "outputs": [
    {
     "name": "stdout",
     "output_type": "stream",
     "text": [
      "NLL for upperbound is 790.8173002237859\n",
      "NLL for disco is 225.09685639266633\n",
      "NLL for lowerbound is 21.223065815826025\n",
      "NLL for colowerbound is 2726.6052428577896\n"
     ]
    }
   ],
   "source": [
    "#cp1\n",
    "var_cp_dict = {\"upperbound\": [2.0168343618519997, 20.655256274811332, 0.0065616422113331276, 9.810218760278726], \"disco\": [1.5844876978208504, 16.85182149486315, 0.007767244933272351, 10.737039123121171], \"lowerbound\": [0.9496513748504812, 14.405661414225111, 0.0015879443245170666, 6.56055795747982], \"colowerbound\": [0.9433605467339239, 4.170984537805175, 0.0011905071783342841, 8.553786312580932]}\n",
    "show_one_result(after_cfk_nlla_path, False, iou_threshold=0.5, is_use_cp_cov=True)"
   ]
  },
  {
   "cell_type": "code",
   "execution_count": 14,
   "id": "f2764762-e77b-4bfb-968a-704f0eef2212",
   "metadata": {},
   "outputs": [
    {
     "name": "stdout",
     "output_type": "stream",
     "text": [
      "NLL for upperbound is 63.51246409204609\n",
      "NLL for disco is 41.79856141397415\n",
      "NLL for lowerbound is 3.790857297459536\n",
      "NLL for colowerbound is 500.80423974913606\n"
     ]
    }
   ],
   "source": [
    "show_one_result(after_cfk_nlla_path, False, iou_threshold=0.7, is_use_cp_cov=True)"
   ]
  },
  {
   "cell_type": "code",
   "execution_count": 15,
   "id": "507a3549-674e-44f0-a83a-7d59ae2bfb09",
   "metadata": {},
   "outputs": [
    {
     "name": "stdout",
     "output_type": "stream",
     "text": [
      "NLL for upperbound is 20.008545312013826\n",
      "NLL for disco is 6.93993810634455\n",
      "NLL for lowerbound is 4.046041364416762\n",
      "NLL for colowerbound is 54.35242205793384\n"
     ]
    }
   ],
   "source": [
    "#cp2\n",
    "var_cp_dict = {\"upperbound\": [5.6827505661910545, 39.22419803102757, 0.2799106202333024, 23.82625371377505], \"disco\": [5.134614410746115, 38.66801996668446, 0.3031539483223637, 22.899039617727098], \"lowerbound\": [4.463060508876752, 30.744574219188294, 0.028465764379049255, 18.922759296842013], \"colowerbound\": [6.611347658813065, 12.712682613242992, 0.3338620534276504, 35.427210831086256]}\n",
    "show_one_result(after_cfk_nlla_path, False, iou_threshold=0.5, is_use_cp_cov=True)"
   ]
  },
  {
   "cell_type": "code",
   "execution_count": 16,
   "id": "d76c437d-9a24-4cf3-af3e-75b997b4951f",
   "metadata": {},
   "outputs": [
    {
     "name": "stdout",
     "output_type": "stream",
     "text": [
      "NLL for upperbound is 2.4103872888472315\n",
      "NLL for disco is 1.9882966497338894\n",
      "NLL for lowerbound is 0.9884447863092921\n",
      "NLL for colowerbound is 5.990936264756574\n"
     ]
    }
   ],
   "source": [
    "show_one_result(after_cfk_nlla_path, False, iou_threshold=0.7, is_use_cp_cov=True)"
   ]
  },
  {
   "cell_type": "markdown",
   "id": "f1cfe902-bc9a-4143-bb60-f3805fa6e4b4",
   "metadata": {},
   "source": [
    "# CRPS"
   ]
  },
  {
   "cell_type": "code",
   "execution_count": 24,
   "id": "c07e0bd8-99c3-4eaa-a4ea-b7cd55e2c237",
   "metadata": {},
   "outputs": [],
   "source": [
    "var_cp_dict = {\"upperbound\": [156.3751341925818, 65.24260517866209, 2785.7870238883734, 26.43169171689354], \"disco\": [214.13191750615232, 77.15047953920649, 2503.1216487206066, 24.387592952924123], \"lowerbound\": [268.0828005828979, 93.20827260609053, 18277.14814591181, 40.319136673153885], \"colowerbound\": [479.0016415962182, 408.52224932503424, 26176.90492584989, 39.972214292750124]}\n",
    "def compute_crps(dets, gts, mode, is_before_tracking, iou_threshold, is_use_cp_cov):\n",
    "    dets = pre_process_bbox(dets[:,2:])\n",
    "    gts = pre_process_bbox(gts[:,2:])\n",
    "    dets = remove_error_bbox(dets)\n",
    "    iou_matrix = iou_batch(dets, gts)\n",
    "    if min(iou_matrix.shape) > 0:\n",
    "        a = (iou_matrix > iou_threshold).astype(np.int32)\n",
    "        if a.sum(1).max() == 1 and a.sum(0).max() == 1:\n",
    "            matched_indices = np.stack(np.where(a), axis=1)\n",
    "        else:\n",
    "            matched_indices = linear_assignment(-iou_matrix)\n",
    "    else:\n",
    "        matched_indices = np.empty(shape=(0, 2))\n",
    "    if len(matched_indices) == 0:\n",
    "        print(\"Error length of matched_indices if zero!\")\n",
    "    if iou_threshold >= 0.5:\n",
    "        matches = []\n",
    "        for m in matched_indices:\n",
    "            if iou_matrix[m[0], m[1]] >= iou_threshold:\n",
    "                matches.append([m[0], m[1]])\n",
    "        matched_indices = np.array(matches)\n",
    "    if len(np.array(matched_indices).shape) < 2:\n",
    "        return [], matched_indices\n",
    "    matched_dets = dets[matched_indices[:,0]]\n",
    "    matched_gts = gts[matched_indices[:,1]]\n",
    "    pred = convert_bboxs_to_zs(matched_dets[:,:4])\n",
    "    target = convert_bboxs_to_zs(matched_gts[:,:4])\n",
    "    if is_before_tracking:\n",
    "        cov = np.exp(matched_dets[:,8:])\n",
    "    else:\n",
    "        cov = matched_dets[:,8:]\n",
    "    if is_use_cp_cov:\n",
    "        cp_cov = np.array(var_cp_dict[mode])\n",
    "        cov = cov * cp_cov\n",
    "    cov = np.clip(cov, 1e-6, None)\n",
    "    std = np.sqrt(cov)\n",
    "    crps = ps.crps_gaussian(target, \n",
    "                               pred,\n",
    "                               std)\n",
    "    return np.mean(crps, axis=1).tolist(), matched_indices\n",
    "\n",
    "def compute_crps_for_mode(mode, det_path, is_before_tracking, iou_threshold, is_use_cp_cov):\n",
    "    upper_path = det_path + mode + \"/no_rsu/\"\n",
    "    scene_idxes_file = open(scene_idxes_file_path, \"r\")\n",
    "    scene_idxes = [int(line.strip()) for line in scene_idxes_file]\n",
    "    #print(scene_idxes)\n",
    "    nll_res = []\n",
    "    for agent in range(1,6):\n",
    "        det_files_path = upper_path + \"tracking\" + str(agent)\n",
    "        gt_files_path = gt_path + \"V2X-test\" + str(agent)\n",
    "        for scene in scene_idxes:\n",
    "            if is_before_tracking:\n",
    "                det_scene_file = os.path.join(det_files_path, \"det_\" + str(scene) + \".txt\")\n",
    "            else:\n",
    "                det_scene_file = os.path.join(det_files_path, str(scene) + \".txt\")\n",
    "            gt_scene_file = os.path.join(gt_files_path, str(scene), \"gt/gt.txt\")\n",
    "            det_datas = np.loadtxt(det_scene_file, delimiter=\",\")\n",
    "            gt_datas = np.loadtxt(gt_scene_file, delimiter=\",\")\n",
    "            if len(gt_datas) == 0 or len(det_datas) == 0:\n",
    "                continue\n",
    "            det_datas = split_data_by_frame(det_datas)\n",
    "            gt_datas = split_data_by_frame(gt_datas)\n",
    "            det_idx = 0\n",
    "            for gt_idx in range(len(gt_datas)):\n",
    "                if det_idx >= len(det_datas):\n",
    "                    break\n",
    "                if det_datas[det_idx][0][0] != gt_datas[gt_idx][0][0]:\n",
    "                    #print(f\"Error idx not match {scene} {agent} {det_idx}, {gt_idx} {det_datas[det_idx][0][0]} {gt_datas[gt_idx][0][0]}\")\n",
    "                    continue\n",
    "                if gt_idx >= len(gt_datas):\n",
    "                    print(f\"gt_idx out of range, {gt_idx} {det_idx}\")\n",
    "                    break\n",
    "                nll, matched_indices = compute_crps(det_datas[det_idx], gt_datas[gt_idx], mode, is_before_tracking, iou_threshold, is_use_cp_cov)\n",
    "                # if nll == []:\n",
    "                #     print(det_scene_file)\n",
    "                #     print(det_datas[det_idx])\n",
    "                #     return 0\n",
    "                nll_res.extend(nll)\n",
    "                det_idx += 1\n",
    "    nll_mean = sum(nll_res) / len(nll_res)\n",
    "    return nll_mean\n",
    "\n",
    "def show_one_result_crps(path, is_before_tracking=True, iou_threshold = 0.5, is_use_cp_cov=True):\n",
    "    mode_list = [\"upperbound\", \"disco\", \"lowerbound\", \"colowerbound\"]\n",
    "    for mode in mode_list:\n",
    "        nll = compute_crps_for_mode(mode, path, is_before_tracking, iou_threshold, is_use_cp_cov)\n",
    "        print(f\"NLL for {mode} is {nll}\")"
   ]
  },
  {
   "cell_type": "code",
   "execution_count": 21,
   "id": "bc88c8eb-9336-4df1-a4f4-8699c6b4f3d3",
   "metadata": {},
   "outputs": [
    {
     "name": "stdout",
     "output_type": "stream",
     "text": [
      "NLL for upperbound is 0.4080248716609266\n",
      "NLL for disco is 0.40717371825925913\n",
      "NLL for lowerbound is 0.6139440500976983\n",
      "NLL for colowerbound is 0.7248706492372927\n"
     ]
    }
   ],
   "source": [
    "show_one_result_crps(before_path, True, iou_threshold=0.5, is_use_cp_cov=False)"
   ]
  },
  {
   "cell_type": "code",
   "execution_count": 22,
   "id": "7219e3ef-cf99-4cbb-a922-9a552e1437bf",
   "metadata": {},
   "outputs": [
    {
     "name": "stdout",
     "output_type": "stream",
     "text": [
      "NLL for upperbound is 0.35393592026537857\n",
      "NLL for disco is 0.37349087251094154\n",
      "NLL for lowerbound is 0.37265631465724475\n",
      "NLL for colowerbound is 0.3963018535195489\n"
     ]
    }
   ],
   "source": [
    "show_one_result_crps(before_path, True, iou_threshold=0.7, is_use_cp_cov=False)"
   ]
  },
  {
   "cell_type": "code",
   "execution_count": 25,
   "id": "0d41e997-ee83-4342-a69d-4c3df4aa3cd2",
   "metadata": {},
   "outputs": [
    {
     "name": "stdout",
     "output_type": "stream",
     "text": [
      "NLL for upperbound is 0.38112657321147286\n",
      "NLL for disco is 0.3758511544557144\n",
      "NLL for lowerbound is 0.5957584860668782\n",
      "NLL for colowerbound is 0.7067062867677941\n"
     ]
    }
   ],
   "source": [
    "show_one_result_crps(before_path, True, iou_threshold=0.5, is_use_cp_cov=True)"
   ]
  },
  {
   "cell_type": "code",
   "execution_count": 26,
   "id": "4d080983-9f90-4861-880d-08c371c340c8",
   "metadata": {},
   "outputs": [
    {
     "name": "stdout",
     "output_type": "stream",
     "text": [
      "NLL for upperbound is 0.32785109001124263\n",
      "NLL for disco is 0.34286798810929925\n",
      "NLL for lowerbound is 0.35776305326689367\n",
      "NLL for colowerbound is 0.3818840770386424\n"
     ]
    }
   ],
   "source": [
    "show_one_result_crps(before_path, True, iou_threshold=0.7, is_use_cp_cov=True)"
   ]
  },
  {
   "cell_type": "code",
   "execution_count": 43,
   "id": "c4dc63e2-3f9c-4585-a4b7-3d2ba57ebe61",
   "metadata": {},
   "outputs": [
    {
     "name": "stdout",
     "output_type": "stream",
     "text": [
      "NLL for upperbound is 0.3018026409488238\n",
      "NLL for disco is 0.3180079052483192\n",
      "NLL for lowerbound is 0.41209860381471847\n",
      "NLL for colowerbound is 0.7131665629006314\n"
     ]
    }
   ],
   "source": [
    "var_cp_dict = {\"upperbound\": [1,1,1,1], \"disco\": [1,1,1,1], \"lowerbound\": [1,1,1,1], \"colowerbound\": [1, 10, 0.01, 10]}\n",
    "show_one_result_crps(after_cfk_nlla_path, False, iou_threshold=0.5, is_use_cp_cov=True)"
   ]
  },
  {
   "cell_type": "code",
   "execution_count": 44,
   "id": "04b40008-6e1d-4bef-b272-cdb158726793",
   "metadata": {},
   "outputs": [
    {
     "name": "stdout",
     "output_type": "stream",
     "text": [
      "NLL for upperbound is 0.2757033159557821\n",
      "NLL for disco is 0.30786995806703615\n",
      "NLL for lowerbound is 0.310081266360668\n",
      "NLL for colowerbound is 0.3621501393770264\n"
     ]
    }
   ],
   "source": [
    "show_one_result_crps(after_cfk_nlla_path, False, iou_threshold=0.7, is_use_cp_cov=True)"
   ]
  },
  {
   "cell_type": "code",
   "execution_count": 43,
   "id": "2e03eb82-f3d1-4592-8269-27dee0ada999",
   "metadata": {},
   "outputs": [
    {
     "name": "stdout",
     "output_type": "stream",
     "text": [
      "NLL for disco is 0.33328646433974984\n",
      "NLL for upperbound is 0.312034388183891\n",
      "NLL for lowerbound is 0.4068239378390565\n"
     ]
    }
   ],
   "source": [
    "show_one_result_crps(after_cfk_nlla_wcp_path, False, iou_threshold=0.5, is_use_cp_cov=False)"
   ]
  },
  {
   "cell_type": "code",
   "execution_count": 44,
   "id": "6e90b35a-cbff-46f1-b826-c33755071c1d",
   "metadata": {},
   "outputs": [
    {
     "name": "stdout",
     "output_type": "stream",
     "text": [
      "NLL for disco is 0.32393537311172754\n",
      "NLL for upperbound is 0.2860397491937557\n",
      "NLL for lowerbound is 0.31136575282299306\n"
     ]
    }
   ],
   "source": [
    "show_one_result_crps(after_cfk_nlla_wcp_path, False, iou_threshold=0.7, is_use_cp_cov=False)"
   ]
  },
  {
   "cell_type": "code",
   "execution_count": 29,
   "id": "aafb008e-931e-4922-9128-a9f63e6407ef",
   "metadata": {},
   "outputs": [
    {
     "name": "stdout",
     "output_type": "stream",
     "text": [
      "NLL for upperbound is 0.26602671855205295\n",
      "NLL for disco is 0.29699630329003535\n",
      "NLL for lowerbound is 0.28731373436471996\n",
      "NLL for colowerbound is 0.39717483747756993\n"
     ]
    }
   ],
   "source": [
    "show_one_result_crps(after_origin_path, False, iou_threshold=0.7, is_use_cp_cov=False)"
   ]
  },
  {
   "cell_type": "code",
   "execution_count": 30,
   "id": "6f55f88a-2150-498b-82e6-ea99383f514b",
   "metadata": {},
   "outputs": [
    {
     "name": "stdout",
     "output_type": "stream",
     "text": [
      "NLL for upperbound is 0.29558470373650764\n",
      "NLL for disco is 0.30720742583481137\n",
      "NLL for lowerbound is 0.3852514384924846\n",
      "NLL for colowerbound is 0.7588563619818461\n"
     ]
    }
   ],
   "source": [
    "show_one_result_crps(after_origin_path, False, iou_threshold=0.5, is_use_cp_cov=False)"
   ]
  },
  {
   "cell_type": "code",
   "execution_count": 12,
   "id": "d08bfd58-a93b-4d1b-a4f4-0d5f65d7c080",
   "metadata": {},
   "outputs": [
    {
     "name": "stdout",
     "output_type": "stream",
     "text": [
      "NLL for disco is 0.31041026511366365\n",
      "NLL for upperbound is 0.29076805311055326\n",
      "NLL for lowerbound is 0.3940620279075051\n"
     ]
    }
   ],
   "source": [
    "show_one_result_crps(after_cfk_path, False, iou_threshold=0.5, is_use_cp_cov=False)"
   ]
  },
  {
   "cell_type": "code",
   "execution_count": 13,
   "id": "1c48367c-8f8e-4a45-b4e0-bf40d4d2a8f3",
   "metadata": {},
   "outputs": [
    {
     "name": "stdout",
     "output_type": "stream",
     "text": [
      "NLL for disco is 0.30071852072848637\n",
      "NLL for upperbound is 0.26539920132392575\n",
      "NLL for lowerbound is 0.30010412018881394\n"
     ]
    }
   ],
   "source": [
    "show_one_result_crps(after_cfk_path, False, iou_threshold=0.7, is_use_cp_cov=False)"
   ]
  },
  {
   "cell_type": "code",
   "execution_count": 45,
   "id": "82adebd1-dab8-4b1a-9d21-4da5462aa51c",
   "metadata": {},
   "outputs": [
    {
     "name": "stdout",
     "output_type": "stream",
     "text": [
      "NLL for disco is 0.33211376392623626\n",
      "NLL for upperbound is 0.3116887897428072\n",
      "NLL for lowerbound is 0.40427279568120406\n"
     ]
    }
   ],
   "source": [
    "show_one_result_crps(after_cfk_wcp_path, False, iou_threshold=0.5, is_use_cp_cov=False)"
   ]
  },
  {
   "cell_type": "code",
   "execution_count": 46,
   "id": "107dc24e-a512-4524-8884-594f4588d1fd",
   "metadata": {},
   "outputs": [
    {
     "name": "stdout",
     "output_type": "stream",
     "text": [
      "NLL for disco is 0.3227192998320848\n",
      "NLL for upperbound is 0.28578126617371225\n",
      "NLL for lowerbound is 0.30900291226228227\n"
     ]
    }
   ],
   "source": [
    "show_one_result_crps(after_cfk_wcp_path, False, iou_threshold=0.7, is_use_cp_cov=False)"
   ]
  },
  {
   "cell_type": "code",
   "execution_count": 14,
   "id": "d0a302f6-037d-40bc-9d0c-da184ee5c224",
   "metadata": {},
   "outputs": [
    {
     "name": "stdout",
     "output_type": "stream",
     "text": [
      "NLL for disco is 0.3165169661603565\n",
      "NLL for upperbound is 0.30523531448623475\n",
      "NLL for lowerbound is 0.3988005262564758\n"
     ]
    }
   ],
   "source": [
    "show_one_result_crps(after_nlla_path, False, iou_threshold=0.5, is_use_cp_cov=False)"
   ]
  },
  {
   "cell_type": "code",
   "execution_count": 15,
   "id": "387ef2db-1903-4f0d-bd91-263d9b42d958",
   "metadata": {},
   "outputs": [
    {
     "name": "stdout",
     "output_type": "stream",
     "text": [
      "NLL for disco is 0.30344164895458337\n",
      "NLL for upperbound is 0.2756183241126243\n",
      "NLL for lowerbound is 0.2947408333019423\n"
     ]
    }
   ],
   "source": [
    "show_one_result_crps(after_nlla_path, False, iou_threshold=0.7, is_use_cp_cov=False)"
   ]
  },
  {
   "cell_type": "code",
   "execution_count": 47,
   "id": "dd6b3959-6112-47e2-ab65-f12daf17d92f",
   "metadata": {},
   "outputs": [
    {
     "name": "stdout",
     "output_type": "stream",
     "text": [
      "NLL for disco is 0.3080300533567466\n",
      "NLL for upperbound is 0.29573923388258844\n",
      "NLL for lowerbound is 0.38637524730972794\n"
     ]
    }
   ],
   "source": [
    "show_one_result_crps(after_nlla_wcp_path, False, iou_threshold=0.5, is_use_cp_cov=False)"
   ]
  },
  {
   "cell_type": "code",
   "execution_count": 48,
   "id": "d9d14661-7dc0-4111-8f77-6717d3254678",
   "metadata": {},
   "outputs": [
    {
     "name": "stdout",
     "output_type": "stream",
     "text": [
      "NLL for disco is 0.2978604181251968\n",
      "NLL for upperbound is 0.2661644190736253\n",
      "NLL for lowerbound is 0.28804841219611216\n"
     ]
    }
   ],
   "source": [
    "show_one_result_crps(after_nlla_wcp_path, False, iou_threshold=0.7, is_use_cp_cov=False)"
   ]
  },
  {
   "cell_type": "code",
   "execution_count": 31,
   "id": "3ff7520c-35a0-416b-b946-6bf038037ab4",
   "metadata": {},
   "outputs": [
    {
     "name": "stdout",
     "output_type": "stream",
     "text": [
      "NLL for upperbound is 0.27128180217931547\n",
      "NLL for disco is 0.2820462212845164\n",
      "NLL for lowerbound is 0.37057126417101566\n",
      "NLL for colowerbound is 0.7127095524250155\n"
     ]
    }
   ],
   "source": [
    "#cp1\n",
    "var_cp_dict = {\"upperbound\": [2.0168343618519997, 20.655256274811332, 0.0065616422113331276, 9.810218760278726], \"disco\": [1.5844876978208504, 16.85182149486315, 0.007767244933272351, 10.737039123121171], \"lowerbound\": [0.9496513748504812, 14.405661414225111, 0.0015879443245170666, 6.56055795747982], \"colowerbound\":[0.9433605467339239, 4.170984537805175, 0.0011905071783342841, 8.553786312580932]}\n",
    "show_one_result_crps(after_cfk_nlla_path, False, iou_threshold=0.5, is_use_cp_cov=True)"
   ]
  },
  {
   "cell_type": "code",
   "execution_count": 32,
   "id": "b50dfa58-7a6d-4ece-b94b-9f069c343f0e",
   "metadata": {},
   "outputs": [
    {
     "name": "stdout",
     "output_type": "stream",
     "text": [
      "NLL for upperbound is 0.24525212992355208\n",
      "NLL for disco is 0.2717350683020294\n",
      "NLL for lowerbound is 0.2690068640609669\n",
      "NLL for colowerbound is 0.3603005377840122\n"
     ]
    }
   ],
   "source": [
    "show_one_result_crps(after_cfk_nlla_path, False, iou_threshold=0.7, is_use_cp_cov=True)"
   ]
  },
  {
   "cell_type": "code",
   "execution_count": 33,
   "id": "49c7c584-715d-4bba-8de7-fb788d675290",
   "metadata": {},
   "outputs": [
    {
     "name": "stdout",
     "output_type": "stream",
     "text": [
      "NLL for upperbound is 0.2799833163483051\n",
      "NLL for disco is 0.2857141234003051\n",
      "NLL for lowerbound is 0.37552595716813714\n",
      "NLL for colowerbound is 0.736156171915419\n"
     ]
    }
   ],
   "source": [
    "#cp2\n",
    "var_cp_dict = {\"upperbound\": [5.6827505661910545, 39.22419803102757, 0.2799106202333024, 23.82625371377505], \"disco\": [5.134614410746115, 38.66801996668446, 0.3031539483223637, 22.899039617727098], \"lowerbound\": [4.463060508876752, 30.744574219188294, 0.028465764379049255, 18.922759296842013], \"colowerbound\": [6.611347658813065, 12.712682613242992, 0.3338620534276504, 35.427210831086256]}\n",
    "show_one_result_crps(after_cfk_nlla_path, False, iou_threshold=0.5, is_use_cp_cov=True)"
   ]
  },
  {
   "cell_type": "code",
   "execution_count": 34,
   "id": "cc43ee39-f7ea-4cbb-a9e9-8064a546f771",
   "metadata": {},
   "outputs": [
    {
     "name": "stdout",
     "output_type": "stream",
     "text": [
      "NLL for upperbound is 0.25404506221256606\n",
      "NLL for disco is 0.2754788535427239\n",
      "NLL for lowerbound is 0.2755813538190116\n",
      "NLL for colowerbound is 0.3899526624570473\n"
     ]
    }
   ],
   "source": [
    "show_one_result_crps(after_cfk_nlla_path, False, iou_threshold=0.7, is_use_cp_cov=True)"
   ]
  },
  {
   "cell_type": "code",
   "execution_count": 19,
   "id": "9ae3e2ea-224a-45e6-98c8-1e845ab71711",
   "metadata": {},
   "outputs": [
    {
     "name": "stdout",
     "output_type": "stream",
     "text": [
      "NLL for upperbound is 0.39173273107394513\n",
      "NLL for disco is 0.3909821063044029\n",
      "NLL for lowerbound is 0.597441010158856\n",
      "NLL for colowerbound is 0.7114729947454802\n"
     ]
    }
   ],
   "source": [
    "var_cp_dict = {\"upperbound\": [10,10,10,10], \"disco\": [10,10,10,10], \"lowerbound\": [10,10,10,10], \"colowerbound\": [10,10,10,10]}\n",
    "show_one_result_crps(before_path, True, iou_threshold=0.5, is_use_cp_cov=True)"
   ]
  },
  {
   "cell_type": "code",
   "execution_count": 20,
   "id": "6349298e-466b-478f-a6b9-f0b9e1720bab",
   "metadata": {},
   "outputs": [
    {
     "name": "stdout",
     "output_type": "stream",
     "text": [
      "NLL for upperbound is 0.3379260413233048\n",
      "NLL for disco is 0.357450976072768\n",
      "NLL for lowerbound is 0.3566045180617696\n",
      "NLL for colowerbound is 0.3832530401134152\n"
     ]
    }
   ],
   "source": [
    "show_one_result_crps(before_path, True, iou_threshold=0.7, is_use_cp_cov=True)"
   ]
  },
  {
   "cell_type": "code",
   "execution_count": null,
   "id": "4259f907-9ee3-4c00-a822-4b315666c800",
   "metadata": {},
   "outputs": [],
   "source": []
  },
  {
   "cell_type": "code",
   "execution_count": null,
   "id": "1b26a2f4-6056-4b53-8688-3eb14f1d7e13",
   "metadata": {},
   "outputs": [],
   "source": []
  }
 ],
 "metadata": {
  "kernelspec": {
   "display_name": "Python 3 (ipykernel)",
   "language": "python",
   "name": "python3"
  },
  "language_info": {
   "codemirror_mode": {
    "name": "ipython",
    "version": 3
   },
   "file_extension": ".py",
   "mimetype": "text/x-python",
   "name": "python",
   "nbconvert_exporter": "python",
   "pygments_lexer": "ipython3",
   "version": "3.9.7"
  }
 },
 "nbformat": 4,
 "nbformat_minor": 5
}
