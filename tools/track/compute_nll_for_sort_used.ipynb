{
 "cells": [
  {
   "cell_type": "markdown",
   "id": "b17c4b03-ff14-4657-9173-828bc9d4898e",
   "metadata": {},
   "source": [
    "# Compute the NLL metric before and after tracking"
   ]
  },
  {
   "cell_type": "code",
   "execution_count": 1,
   "id": "61367de0-65ce-4756-a7ae-43569c103465",
   "metadata": {},
   "outputs": [],
   "source": [
    "import numpy as np\n",
    "import torch\n",
    "import math\n",
    "import os\n",
    "import properscoring as ps\n",
    "import warnings\n",
    "warnings.filterwarnings('ignore')"
   ]
  },
  {
   "cell_type": "code",
   "execution_count": 41,
   "id": "7404882f-8e9b-4140-8ca3-fbc82e91d699",
   "metadata": {},
   "outputs": [],
   "source": [
    "before_path = \"../det/check/check_loss_two_step_center_sr_ind/\"\n",
    "after_path = \"./sort/cov/\"\n",
    "after_cfk_path = after_path + \"cfk/\"\n",
    "after_nlla_path = after_path + \"nlla/\"\n",
    "after_origin_path = after_path + \"origin/\"\n",
    "after_cfk_nlla_path = after_path + \"cfk_nlla/\"\n",
    "after_cfk_wcp_path = after_path + \"cfk_wcp/\"\n",
    "after_nlla_wcp_path = after_path + \"nlla_wcp/\"\n",
    "after_cfk_nlla_wcp_path = after_path + \"cfk_nlla_wcp/\"\n",
    "gt_path = \"./TrackEval/data/gt/mot_challenge/\"\n",
    "scene_idxes_file_path = \"../utils/test_scenes.txt\"\n",
    "var_cp_dict = {\"upperbound\": [125.44897552926587, 58.17835406418326, 224.21414415575381, 3907.8781994455294], \"disco\": [267.6059187072261, 65.37177933480551, 214.8165049926819, 4107.835669322297], \"lowerbound\": [339.5195216553872, 111.26186541465519, 298.26359427936194, 15076.497769642287], \"colowerbound\": [339.5195216553872, 111.26186541465519, 298.26359427936194, 15076.497769642287]}"
   ]
  },
  {
   "cell_type": "code",
   "execution_count": 37,
   "id": "3a07942b-b6ee-4150-a2db-45ec8f921ae2",
   "metadata": {},
   "outputs": [],
   "source": [
    "def convert_bbox_to_z(bbox):\n",
    "    \"\"\"\n",
    "    Takes a bounding box in the form [x1,y1,x2,y2] and returns z in the form\n",
    "      [x,y,s,r] where x,y is the centre of the box and s is the scale/area and r is\n",
    "      the aspect ratio\n",
    "    \"\"\"\n",
    "    w = bbox[2] - bbox[0]\n",
    "    h = bbox[3] - bbox[1]\n",
    "    x = bbox[0] + w / 2.0\n",
    "    y = bbox[1] + h / 2.0\n",
    "    s = w * h  # scale is just area\n",
    "    if float(h) < 0.00001:\n",
    "        print([x, y, w, h])\n",
    "        print(bbox)\n",
    "    r = w / float(h)\n",
    "    return np.array([x, y, s, r])\n",
    "\n",
    "\n",
    "def convert_x_to_bbox(x, score=None):\n",
    "    \"\"\"\n",
    "    Takes a bounding box in the centre form [x,y,s,r] and returns it in the form\n",
    "      [x1,y1,x2,y2] where x1,y1 is the top left and x2,y2 is the bottom right\n",
    "    \"\"\"\n",
    "    w = np.sqrt(x[2] * x[3])\n",
    "    h = x[2] / w\n",
    "    if score is None:\n",
    "        return np.array(\n",
    "            [x[0] - w / 2.0, x[1] - h / 2.0, x[0] + w / 2.0, x[1] + h / 2.0]\n",
    "        ).reshape((1, 4))\n",
    "    else:\n",
    "        return np.array(\n",
    "            [x[0] - w / 2.0, x[1] - h / 2.0, x[0] + w / 2.0, x[1] + h / 2.0, score]\n",
    "        ).reshape((1, 5))\n",
    "\n",
    "def split_data_by_frame(data):\n",
    "    res = []\n",
    "    start = 0\n",
    "    if data.shape[0] == 0:\n",
    "        return res\n",
    "    if len(data.shape) == 1:\n",
    "        res.append(data[np.newaxis, :])\n",
    "        return res\n",
    "    for i in range(1,data.shape[0]):\n",
    "        if data[i][0] != data[start][0]:\n",
    "            res.append(data[start:i,:])\n",
    "            start = i\n",
    "    res.append(data[start:,:])\n",
    "    return res\n",
    "\n",
    "def iou_batch(bb_test, bb_gt):\n",
    "    \"\"\"\n",
    "    From SORT: Computes IOU between two bboxes in the form [x1,y1,x2,y2]\n",
    "    \"\"\"\n",
    "    bb_gt = np.expand_dims(bb_gt, 0)\n",
    "    bb_test = np.expand_dims(bb_test, 1)\n",
    "\n",
    "    xx1 = np.maximum(bb_test[..., 0], bb_gt[..., 0])\n",
    "    yy1 = np.maximum(bb_test[..., 1], bb_gt[..., 1])\n",
    "    xx2 = np.minimum(bb_test[..., 2], bb_gt[..., 2])\n",
    "    yy2 = np.minimum(bb_test[..., 3], bb_gt[..., 3])\n",
    "    w = np.maximum(0.0, xx2 - xx1)\n",
    "    h = np.maximum(0.0, yy2 - yy1)\n",
    "    wh = w * h\n",
    "    o = wh / (\n",
    "        (bb_test[..., 2] - bb_test[..., 0]) * (bb_test[..., 3] - bb_test[..., 1])\n",
    "        + (bb_gt[..., 2] - bb_gt[..., 0]) * (bb_gt[..., 3] - bb_gt[..., 1])\n",
    "        - wh\n",
    "    )\n",
    "    return o\n",
    "\n",
    "def linear_assignment(cost_matrix):\n",
    "    try:\n",
    "        import lap\n",
    "\n",
    "        _, x, y = lap.lapjv(cost_matrix, extend_cost=True)\n",
    "        return np.array([[y[i], i] for i in x if i >= 0])  #\n",
    "    except ImportError:\n",
    "        from scipy.optimize import linear_sum_assignment\n",
    "\n",
    "        x, y = linear_sum_assignment(cost_matrix)\n",
    "        return np.array(list(zip(x, y)))\n",
    "\n",
    "def pre_process_bbox(datas):\n",
    "    \"\"\"\n",
    "    make the bbox be [x1,y1,x2,y2] where [x1,y1] is the left bottom and [x2,y2] is the right top\n",
    "    \"\"\"\n",
    "    for i in range(datas.shape[0]):\n",
    "        small = [min(datas[i][0], datas[i][2]), min(datas[i][1], datas[i][3])]\n",
    "        large = [max(datas[i][0], datas[i][2]), max(datas[i][1], datas[i][3])]\n",
    "        datas[i][0] = small[0]\n",
    "        datas[i][1] = small[1]\n",
    "        datas[i][2] = large[0]\n",
    "        datas[i][3] = large[1]\n",
    "    return datas\n",
    "\n",
    "def remove_error_bbox(dets):\n",
    "    res = []\n",
    "    for i in range(dets.shape[0]):\n",
    "        if dets[i, 0] == dets[i, 2] or dets[i, 1] == dets[i, 3]:\n",
    "            continue\n",
    "        res.append(list(dets[i]))\n",
    "    return np.array(res)\n",
    "\n",
    "def convert_bboxs_to_zs(datas):\n",
    "    for i in range(datas.shape[0]):\n",
    "        datas[i, :4] = convert_bbox_to_z(datas[i,:4])\n",
    "    return datas\n",
    "    \n",
    "def compute_nll(dets, gts, mode, is_before_tracking, iou_threshold, is_use_cp_cov):\n",
    "    dets = pre_process_bbox(dets[:,2:])\n",
    "    gts = pre_process_bbox(gts[:,2:])\n",
    "    dets = remove_error_bbox(dets)\n",
    "    iou_matrix = iou_batch(dets, gts)\n",
    "    if min(iou_matrix.shape) > 0:\n",
    "        a = (iou_matrix > iou_threshold).astype(np.int32)\n",
    "        if a.sum(1).max() == 1 and a.sum(0).max() == 1:\n",
    "            matched_indices = np.stack(np.where(a), axis=1)\n",
    "        else:\n",
    "            matched_indices = linear_assignment(-iou_matrix)\n",
    "    else:\n",
    "        matched_indices = np.empty(shape=(0, 2))\n",
    "    if len(matched_indices) == 0:\n",
    "        print(\"Error length of matched_indices if zero!\")\n",
    "    if iou_threshold >= 0.5:\n",
    "        matches = []\n",
    "        for m in matched_indices:\n",
    "            if iou_matrix[m[0], m[1]] >= iou_threshold:\n",
    "                matches.append([m[0], m[1]])\n",
    "        matched_indices = np.array(matches)\n",
    "    if len(np.array(matched_indices).shape) < 2:\n",
    "        return [], matched_indices\n",
    "    matched_dets = dets[matched_indices[:,0]]\n",
    "    matched_gts = gts[matched_indices[:,1]]\n",
    "    pred = torch.from_numpy(convert_bboxs_to_zs(matched_dets[:,:4]))[:,:2]\n",
    "    target = torch.from_numpy(convert_bboxs_to_zs(matched_gts[:,:4]))[:,:2]\n",
    "    if is_before_tracking:\n",
    "        cov = np.exp(matched_dets[:,8:10])\n",
    "    else:\n",
    "        cov = matched_dets[:,8:10]\n",
    "    if is_use_cp_cov:\n",
    "        cp_cov = np.array(var_cp_dict[mode])[:2]\n",
    "        cov = cov * cp_cov\n",
    "    cov = torch.from_numpy(cov)\n",
    "    std = torch.sqrt(cov)\n",
    "    predicted_normal_dists = torch.distributions.normal.Normal(pred, std)\n",
    "    negative_log_prob = - predicted_normal_dists.log_prob(target)\n",
    "    negative_log_prob = torch.clamp(negative_log_prob, min = 0)\n",
    "    negative_log_prob = torch.sum(negative_log_prob,axis=1)/2\n",
    "    return negative_log_prob.tolist(), matched_indices\n",
    "\n",
    "def compute_nll_for_mode(mode, det_path, is_before_tracking, iou_threshold, is_use_cp_cov):\n",
    "    upper_path = det_path + mode + \"/no_rsu/\"\n",
    "    scene_idxes_file = open(scene_idxes_file_path, \"r\")\n",
    "    scene_idxes = [int(line.strip()) for line in scene_idxes_file]\n",
    "    #print(scene_idxes)\n",
    "    nll_res = []\n",
    "    for agent in range(1,6):\n",
    "        det_files_path = upper_path + \"tracking\" + str(agent)\n",
    "        gt_files_path = gt_path + \"V2X-test\" + str(agent)\n",
    "        for scene in scene_idxes:\n",
    "            if is_before_tracking:\n",
    "                det_scene_file = os.path.join(det_files_path, \"det_\" + str(scene) + \".txt\")\n",
    "            else:\n",
    "                det_scene_file = os.path.join(det_files_path, str(scene) + \".txt\")\n",
    "            gt_scene_file = os.path.join(gt_files_path, str(scene), \"gt/gt.txt\")\n",
    "            det_datas = np.loadtxt(det_scene_file, delimiter=\",\")\n",
    "            gt_datas = np.loadtxt(gt_scene_file, delimiter=\",\")\n",
    "            if len(gt_datas) == 0 or len(det_datas) == 0:\n",
    "                continue\n",
    "            det_datas = split_data_by_frame(det_datas)\n",
    "            gt_datas = split_data_by_frame(gt_datas)\n",
    "            det_idx = 0\n",
    "            for gt_idx in range(len(gt_datas)):\n",
    "                if det_datas[det_idx][0][0] != gt_datas[gt_idx][0][0]:\n",
    "                    #print(f\"Error idx not match {scene} {agent} {det_idx}, {gt_idx} {det_datas[det_idx][0][0]} {gt_datas[gt_idx][0][0]}\")\n",
    "                    continue\n",
    "                if gt_idx >= len(gt_datas):\n",
    "                    print(f\"gt_idx out of range, {gt_idx} {det_idx}\")\n",
    "                    break\n",
    "                nll, matched_indices = compute_nll(det_datas[det_idx], gt_datas[gt_idx], mode, is_before_tracking, iou_threshold, is_use_cp_cov)\n",
    "                # if nll == []:\n",
    "                #     print(det_scene_file)\n",
    "                #     print(det_datas[det_idx])\n",
    "                #     return 0\n",
    "                nll_res.extend(nll)\n",
    "                det_idx += 1\n",
    "    nll_mean = sum(nll_res) / len(nll_res)\n",
    "    return nll_mean\n",
    "\n",
    "def show_one_result(path, is_before_tracking=True, iou_threshold = 0.5, is_use_cp_cov=True):\n",
    "    mode_list = [\"upperbound\", \"disco\", \"lowerbound\", \"colowerbound\"]\n",
    "    for mode in mode_list:\n",
    "        nll = compute_nll_for_mode(mode, path, is_before_tracking, iou_threshold, is_use_cp_cov)\n",
    "        print(f\"NLL for {mode} is {nll}\")"
   ]
  },
  {
   "cell_type": "markdown",
   "id": "a7239628-e355-48a4-a425-898999c54b30",
   "metadata": {},
   "source": [
    "## before tracking"
   ]
  },
  {
   "cell_type": "code",
   "execution_count": 4,
   "id": "989f0201-ac79-40f8-86f4-0e3c93e74fd6",
   "metadata": {},
   "outputs": [
    {
     "name": "stdout",
     "output_type": "stream",
     "text": [
      "NLL for upperbound is 243.07201963561593\n"
     ]
    }
   ],
   "source": [
    "mode = \"upperbound\"\n",
    "nll = compute_nll_for_mode(mode, before_path, True, 0.3, True)\n",
    "print(f\"NLL for {mode} is {nll}\")"
   ]
  },
  {
   "cell_type": "code",
   "execution_count": 42,
   "id": "0f215723-e47d-4eea-aef5-a9ff999b25d3",
   "metadata": {},
   "outputs": [
    {
     "name": "stdout",
     "output_type": "stream",
     "text": [
      "NLL for upperbound is 25.699231431559962\n",
      "NLL for disco is 26.212783464459413\n",
      "NLL for lowerbound is 25.17422176378463\n",
      "NLL for colowerbound is 983.6787714744612\n"
     ]
    }
   ],
   "source": [
    "show_one_result(before_path, True, iou_threshold=0.5, is_use_cp_cov=True)"
   ]
  },
  {
   "cell_type": "code",
   "execution_count": 43,
   "id": "b175d123-98a2-4f10-82b1-f6ebed7f4863",
   "metadata": {},
   "outputs": [
    {
     "name": "stdout",
     "output_type": "stream",
     "text": [
      "NLL for upperbound is 14.537769972912795\n",
      "NLL for disco is 19.504103748329204\n",
      "NLL for lowerbound is 13.03896916503081\n",
      "NLL for colowerbound is 97.98319455448093\n"
     ]
    }
   ],
   "source": [
    "show_one_result(before_path, True, iou_threshold=0.7, is_use_cp_cov=True)"
   ]
  },
  {
   "cell_type": "code",
   "execution_count": 39,
   "id": "bf590329-a001-40fe-b2ad-8d1e8f82e669",
   "metadata": {},
   "outputs": [
    {
     "name": "stdout",
     "output_type": "stream",
     "text": [
      "NLL for upperbound is 1940.6425392159501\n",
      "NLL for disco is 2229.1614048727024\n",
      "NLL for lowerbound is 3361.2403591519405\n",
      "NLL for colowerbound is 128403.66567037892\n"
     ]
    }
   ],
   "source": [
    "show_one_result(before_path, True, iou_threshold=0.5, is_use_cp_cov=False)"
   ]
  },
  {
   "cell_type": "code",
   "execution_count": 10,
   "id": "31602dd5-e426-4ffe-b2f9-a3d2b5c320af",
   "metadata": {},
   "outputs": [
    {
     "name": "stdout",
     "output_type": "stream",
     "text": [
      "NLL for upperbound is 969.446443360705\n",
      "NLL for disco is 1487.1246234201192\n",
      "NLL for lowerbound is 1671.877655285419\n",
      "NLL for colowerbound is 12169.614310285411\n"
     ]
    }
   ],
   "source": [
    "show_one_result(before_path, True, iou_threshold=0.7, is_use_cp_cov=False)"
   ]
  },
  {
   "cell_type": "code",
   "execution_count": 11,
   "id": "72064517-71aa-453f-a0c0-8fe5a0b01e3a",
   "metadata": {},
   "outputs": [
    {
     "name": "stdout",
     "output_type": "stream",
     "text": [
      "NLL for upperbound is 192.748649114817\n",
      "NLL for disco is 221.62392301704477\n",
      "NLL for lowerbound is 334.83144053199726\n",
      "NLL for colowerbound is 12839.01345825878\n"
     ]
    }
   ],
   "source": [
    "var_cp_dict = {\"upperbound\": [10,10,10,10], \"disco\": [10,10,10,10], \"lowerbound\": [10,10,10,10], \"colowerbound\": [10,10,10,10]}\n",
    "show_one_result(before_path, True, iou_threshold=0.5, is_use_cp_cov=True)"
   ]
  },
  {
   "cell_type": "code",
   "execution_count": 12,
   "id": "9cb74ff4-7649-420d-9dbe-5306a1de81fe",
   "metadata": {},
   "outputs": [
    {
     "name": "stdout",
     "output_type": "stream",
     "text": [
      "NLL for upperbound is 95.62866152928744\n",
      "NLL for disco is 147.4237153107055\n",
      "NLL for lowerbound is 165.89159049758163\n",
      "NLL for colowerbound is 1215.6163459946722\n"
     ]
    }
   ],
   "source": [
    "show_one_result(before_path, True, iou_threshold=0.7, is_use_cp_cov=True)"
   ]
  },
  {
   "cell_type": "code",
   "execution_count": 8,
   "id": "f3adf8d5-1f8b-4130-adce-a8a04e3c9033",
   "metadata": {},
   "outputs": [
    {
     "name": "stdout",
     "output_type": "stream",
     "text": [
      "NLL for upperbound is 38.06261961469876\n",
      "NLL for disco is 43.85217717168636\n",
      "NLL for lowerbound is 66.50840306297361\n"
     ]
    }
   ],
   "source": [
    "var_cp_dict = {\"upperbound\": [50,50,50,50], \"disco\": [50,50,50,50], \"lowerbound\": [50,50,50,50]}\n",
    "show_one_result(before_path, True, iou_threshold=0.5, is_use_cp_cov=True)"
   ]
  },
  {
   "cell_type": "markdown",
   "id": "a605eb81-ed99-4da7-b08e-e0586d8583c9",
   "metadata": {},
   "source": [
    "## after tracking"
   ]
  },
  {
   "cell_type": "code",
   "execution_count": 6,
   "id": "451c1b2e-f789-4102-b744-854decf9ea30",
   "metadata": {},
   "outputs": [
    {
     "name": "stdout",
     "output_type": "stream",
     "text": [
      "NLL for upperbound is 1.2846157007495433\n",
      "NLL for disco is 1.3193165236999298\n",
      "NLL for lowerbound is 2.1516707394474954\n"
     ]
    }
   ],
   "source": [
    "show_one_result(after_origin_path, False, iou_threshold=0.5, is_use_cp_cov=False)"
   ]
  },
  {
   "cell_type": "code",
   "execution_count": 7,
   "id": "b06ca1c1-ee67-4053-a2fd-8e4c6e5975a4",
   "metadata": {},
   "outputs": [
    {
     "name": "stdout",
     "output_type": "stream",
     "text": [
      "NLL for upperbound is 1.0115359920476263\n",
      "NLL for disco is 1.2919162189065223\n",
      "NLL for lowerbound is 1.6551647310742101\n"
     ]
    }
   ],
   "source": [
    "show_one_result(after_origin_path, False, iou_threshold=0.7, is_use_cp_cov=False)"
   ]
  },
  {
   "cell_type": "code",
   "execution_count": 10,
   "id": "6091cab4-d5ca-4bc2-909c-bd92adf61d49",
   "metadata": {},
   "outputs": [
    {
     "name": "stdout",
     "output_type": "stream",
     "text": [
      "NLL for upperbound is 8.870087317394397\n",
      "NLL for disco is 9.663970415801112\n",
      "NLL for lowerbound is 13.706891949732503\n"
     ]
    }
   ],
   "source": [
    "show_one_result(after_cfk_path, False, iou_threshold=0.5, is_use_cp_cov=False)"
   ]
  },
  {
   "cell_type": "code",
   "execution_count": 4,
   "id": "9ad2c8ba-059d-4600-a10d-b185f0a0dd83",
   "metadata": {},
   "outputs": [
    {
     "name": "stdout",
     "output_type": "stream",
     "text": [
      "NLL for upperbound is 7.300155854601104\n",
      "NLL for disco is 9.096467606254752\n",
      "NLL for lowerbound is 10.421989889732322\n"
     ]
    }
   ],
   "source": [
    "show_one_result(after_cfk_path, False, iou_threshold=0.7, is_use_cp_cov=False)"
   ]
  },
  {
   "cell_type": "code",
   "execution_count": 18,
   "id": "3adf2ca5-f155-41e5-b3f1-881cec41c17b",
   "metadata": {},
   "outputs": [
    {
     "name": "stdout",
     "output_type": "stream",
     "text": [
      "NLL for upperbound is 666.5098664018469\n",
      "NLL for disco is 751.2329052216426\n",
      "NLL for lowerbound is 1754.089095414952\n"
     ]
    }
   ],
   "source": [
    "show_one_result(after_cfk_wcp_path, False, iou_threshold=0.5, is_use_cp_cov=False)"
   ]
  },
  {
   "cell_type": "code",
   "execution_count": 19,
   "id": "19d560bc-d290-4bb4-9d23-f4778913de73",
   "metadata": {},
   "outputs": [
    {
     "name": "stdout",
     "output_type": "stream",
     "text": [
      "NLL for upperbound is 522.185199100231\n",
      "NLL for disco is 688.6418878705191\n",
      "NLL for lowerbound is 1296.0360006671833\n"
     ]
    }
   ],
   "source": [
    "show_one_result(after_cfk_wcp_path, False, iou_threshold=0.7, is_use_cp_cov=False)"
   ]
  },
  {
   "cell_type": "code",
   "execution_count": 11,
   "id": "19038ea1-2d0c-4db6-a6c6-3a6cfbc495fd",
   "metadata": {},
   "outputs": [
    {
     "name": "stdout",
     "output_type": "stream",
     "text": [
      "NLL for upperbound is 1.3420999143994659\n",
      "NLL for disco is 1.4123933740918249\n",
      "NLL for lowerbound is 2.19174335933121\n"
     ]
    }
   ],
   "source": [
    "show_one_result(after_nlla_path, False, iou_threshold=0.5, is_use_cp_cov=False)"
   ]
  },
  {
   "cell_type": "code",
   "execution_count": 5,
   "id": "406d1c80-3136-4ec1-9941-fa558c3d0ef2",
   "metadata": {},
   "outputs": [
    {
     "name": "stdout",
     "output_type": "stream",
     "text": [
      "NLL for upperbound is 1.0524389430094097\n",
      "NLL for disco is 1.375625294048954\n",
      "NLL for lowerbound is 1.7050658882616696\n"
     ]
    }
   ],
   "source": [
    "show_one_result(after_nlla_path, False, iou_threshold=0.7, is_use_cp_cov=False)"
   ]
  },
  {
   "cell_type": "code",
   "execution_count": 20,
   "id": "605efab1-c106-4d05-8cd0-d1c13095d93f",
   "metadata": {},
   "outputs": [
    {
     "name": "stdout",
     "output_type": "stream",
     "text": [
      "NLL for upperbound is 1.2846157007495433\n",
      "NLL for disco is 1.3192193374501395\n",
      "NLL for lowerbound is 2.1516707394474954\n"
     ]
    }
   ],
   "source": [
    "show_one_result(after_nlla_wcp_path, False, iou_threshold=0.5, is_use_cp_cov=False)"
   ]
  },
  {
   "cell_type": "code",
   "execution_count": 21,
   "id": "230d5598-2c65-4556-97a5-a6e718c432c9",
   "metadata": {},
   "outputs": [
    {
     "name": "stdout",
     "output_type": "stream",
     "text": [
      "NLL for upperbound is 1.0115359920476263\n",
      "NLL for disco is 1.291825456504012\n",
      "NLL for lowerbound is 1.6551647310742101\n"
     ]
    }
   ],
   "source": [
    "show_one_result(after_nlla_wcp_path, False, iou_threshold=0.7, is_use_cp_cov=False)"
   ]
  },
  {
   "cell_type": "code",
   "execution_count": 13,
   "id": "80641330-628b-41e2-9aa2-417d64fa3adb",
   "metadata": {},
   "outputs": [
    {
     "name": "stdout",
     "output_type": "stream",
     "text": [
      "NLL for upperbound is 9.60877227623219\n",
      "NLL for disco is 12.094097605517934\n",
      "NLL for lowerbound is 14.449547233541313\n",
      "NLL for colowerbound is 720.0665852783403\n"
     ]
    }
   ],
   "source": [
    "show_one_result(after_cfk_nlla_path, False, iou_threshold=0.5, is_use_cp_cov=False)"
   ]
  },
  {
   "cell_type": "code",
   "execution_count": 14,
   "id": "7b9418d2-b7a8-4410-b9ab-baf9cf998206",
   "metadata": {},
   "outputs": [
    {
     "name": "stdout",
     "output_type": "stream",
     "text": [
      "NLL for upperbound is 7.869151841412263\n",
      "NLL for disco is 11.208793168262304\n",
      "NLL for lowerbound is 11.06317943727823\n",
      "NLL for colowerbound is 58.71713269373099\n"
     ]
    }
   ],
   "source": [
    "show_one_result(after_cfk_nlla_path, False, iou_threshold=0.7, is_use_cp_cov=False)"
   ]
  },
  {
   "cell_type": "code",
   "execution_count": 22,
   "id": "a07e2c73-fab3-41e0-9a55-ec2f8a267289",
   "metadata": {},
   "outputs": [
    {
     "name": "stdout",
     "output_type": "stream",
     "text": [
      "NLL for upperbound is 666.6922176489993\n",
      "NLL for disco is 751.1562228034281\n",
      "NLL for lowerbound is 1754.089095414952\n"
     ]
    }
   ],
   "source": [
    "show_one_result(after_cfk_nlla_wcp_path, False, iou_threshold=0.5, is_use_cp_cov=False)"
   ]
  },
  {
   "cell_type": "code",
   "execution_count": 23,
   "id": "0981e098-925c-45ce-86a4-787e8239cc61",
   "metadata": {},
   "outputs": [
    {
     "name": "stdout",
     "output_type": "stream",
     "text": [
      "NLL for upperbound is 522.3708465695639\n",
      "NLL for disco is 688.592218012732\n",
      "NLL for lowerbound is 1296.0360006671833\n"
     ]
    }
   ],
   "source": [
    "show_one_result(after_cfk_nlla_wcp_path, False, iou_threshold=0.7, is_use_cp_cov=False)"
   ]
  },
  {
   "cell_type": "code",
   "execution_count": 45,
   "id": "48ed21c8-9b30-4413-a5f6-64e163e698ca",
   "metadata": {},
   "outputs": [
    {
     "name": "stdout",
     "output_type": "stream",
     "text": [
      "NLL for upperbound is 1.4053224996892848\n",
      "NLL for disco is 1.2616917770704525\n",
      "NLL for lowerbound is 2.46763601312665\n"
     ]
    }
   ],
   "source": [
    "#cp1\n",
    "var_cp_dict = {\"upperbound\": [2.0168343618519997, 20.655256274811332, 1099429.4444401297, 0.008725584208192933], \"disco\": [1.5844876978208504, 16.85182149486315, 1199409.2165852713, 0.008524340686899256], \"lowerbound\": [0.9496513748504812, 14.405661414225111, 224888.44172695288, 0.007472273158473342]}\n",
    "show_one_result(after_cfk_nlla_path, False, iou_threshold=0.5, is_use_cp_cov=True)"
   ]
  },
  {
   "cell_type": "code",
   "execution_count": 46,
   "id": "a3cb13d0-55fb-4b7f-afc9-1c7b828a4898",
   "metadata": {},
   "outputs": [
    {
     "name": "stdout",
     "output_type": "stream",
     "text": [
      "NLL for upperbound is 0.8634192478850629\n",
      "NLL for disco is 1.1276007523395488\n",
      "NLL for lowerbound is 1.6027910087219057\n"
     ]
    }
   ],
   "source": [
    "show_one_result(after_cfk_nlla_path, False, iou_threshold=0.7, is_use_cp_cov=True)"
   ]
  },
  {
   "cell_type": "code",
   "execution_count": 15,
   "id": "f56c5f5c-3f26-41c3-8c84-db83822ccbc9",
   "metadata": {},
   "outputs": [
    {
     "name": "stdout",
     "output_type": "stream",
     "text": [
      "NLL for upperbound is 0.9405700552850172\n",
      "NLL for disco is 0.9490738756867219\n",
      "NLL for lowerbound is 1.295810844861161\n",
      "NLL for colowerbound is 105.25310531615628\n"
     ]
    }
   ],
   "source": [
    "#cp2\n",
    "var_cp_dict = {\"upperbound\": [5.6827505661910545, 39.22419803102757, 2858468.784098897, 0.34036921505256784], \"disco\": [5.134614410746115, 38.66801996668446, 3366505.118310001, 0.3417140174552086], \"lowerbound\": [4.463060508876752, 30.744574219188294, 756935.3774669303, 0.12091569877559906], \"colowerbound\": [2.648966498640901, 10.699904022348633, 78644.8174770782, 0.14934529673210137]}\n",
    "show_one_result(after_cfk_nlla_path, False, iou_threshold=0.5, is_use_cp_cov=True)"
   ]
  },
  {
   "cell_type": "code",
   "execution_count": 16,
   "id": "a3f9f781-2503-40d0-be0a-4dc8745e56f1",
   "metadata": {},
   "outputs": [
    {
     "name": "stdout",
     "output_type": "stream",
     "text": [
      "NLL for upperbound is 0.7402229653551322\n",
      "NLL for disco is 0.9022929127629292\n",
      "NLL for lowerbound is 1.0573760732673183\n",
      "NLL for colowerbound is 8.130740079669824\n"
     ]
    }
   ],
   "source": [
    "show_one_result(after_cfk_nlla_path, False, iou_threshold=0.7, is_use_cp_cov=True)"
   ]
  },
  {
   "cell_type": "markdown",
   "id": "0437f924-2c70-4210-9119-b01146526e8c",
   "metadata": {},
   "source": [
    "# CRPS"
   ]
  },
  {
   "cell_type": "code",
   "execution_count": 44,
   "id": "59ef42d4-351a-4825-abfa-0a6e0a6dfd37",
   "metadata": {},
   "outputs": [],
   "source": [
    "var_cp_dict = {\"upperbound\": [125.44897552926587, 58.17835406418326, 224.21414415575381, 3907.8781994455294], \"disco\": [267.6059187072261, 65.37177933480551, 214.8165049926819, 4107.835669322297], \"lowerbound\": [339.5195216553872, 111.26186541465519, 298.26359427936194, 15076.497769642287], \"colowerbound\": [651.6848353663652, 353.78630002788134, 253.72976959856496, 41773.83374474704]}\n",
    "def compute_crps(dets, gts, mode, is_before_tracking, iou_threshold, is_use_cp_cov):\n",
    "    dets = pre_process_bbox(dets[:,2:])\n",
    "    gts = pre_process_bbox(gts[:,2:])\n",
    "    dets = remove_error_bbox(dets)\n",
    "    iou_matrix = iou_batch(dets, gts)\n",
    "    if min(iou_matrix.shape) > 0:\n",
    "        a = (iou_matrix > iou_threshold).astype(np.int32)\n",
    "        if a.sum(1).max() == 1 and a.sum(0).max() == 1:\n",
    "            matched_indices = np.stack(np.where(a), axis=1)\n",
    "        else:\n",
    "            matched_indices = linear_assignment(-iou_matrix)\n",
    "    else:\n",
    "        matched_indices = np.empty(shape=(0, 2))\n",
    "    if len(matched_indices) == 0:\n",
    "        print(\"Error length of matched_indices if zero!\")\n",
    "    if iou_threshold >= 0.5:\n",
    "        matches = []\n",
    "        for m in matched_indices:\n",
    "            if iou_matrix[m[0], m[1]] >= iou_threshold:\n",
    "                matches.append([m[0], m[1]])\n",
    "        matched_indices = np.array(matches)\n",
    "    if len(np.array(matched_indices).shape) < 2:\n",
    "        return [], matched_indices\n",
    "    matched_dets = dets[matched_indices[:,0]]\n",
    "    matched_gts = gts[matched_indices[:,1]]\n",
    "    pred = convert_bboxs_to_zs(matched_dets[:,:4])[:,:2]\n",
    "    target = convert_bboxs_to_zs(matched_gts[:,:4])[:,:2]\n",
    "    if is_before_tracking:\n",
    "        cov = np.exp(matched_dets[:,8:10])\n",
    "    else:\n",
    "        cov = matched_dets[:,8:10]\n",
    "    if is_use_cp_cov:\n",
    "        cp_cov = np.array(var_cp_dict[mode])[:2]\n",
    "        cov = cov * cp_cov\n",
    "    std = np.sqrt(cov)\n",
    "    crps = ps.crps_gaussian(target, \n",
    "                               pred,\n",
    "                               std)\n",
    "    return np.mean(crps, axis=1).tolist(), matched_indices\n",
    "\n",
    "def compute_crps_for_mode(mode, det_path, is_before_tracking, iou_threshold, is_use_cp_cov):\n",
    "    upper_path = det_path + mode + \"/no_rsu/\"\n",
    "    scene_idxes_file = open(scene_idxes_file_path, \"r\")\n",
    "    scene_idxes = [int(line.strip()) for line in scene_idxes_file]\n",
    "    #print(scene_idxes)\n",
    "    nll_res = []\n",
    "    for agent in range(1,6):\n",
    "        det_files_path = upper_path + \"tracking\" + str(agent)\n",
    "        gt_files_path = gt_path + \"V2X-test\" + str(agent)\n",
    "        for scene in scene_idxes:\n",
    "            if is_before_tracking:\n",
    "                det_scene_file = os.path.join(det_files_path, \"det_\" + str(scene) + \".txt\")\n",
    "            else:\n",
    "                det_scene_file = os.path.join(det_files_path, str(scene) + \".txt\")\n",
    "            gt_scene_file = os.path.join(gt_files_path, str(scene), \"gt/gt.txt\")\n",
    "            det_datas = np.loadtxt(det_scene_file, delimiter=\",\")\n",
    "            gt_datas = np.loadtxt(gt_scene_file, delimiter=\",\")\n",
    "            if len(gt_datas) == 0 or len(det_datas) == 0:\n",
    "                continue\n",
    "            det_datas = split_data_by_frame(det_datas)\n",
    "            gt_datas = split_data_by_frame(gt_datas)\n",
    "            det_idx = 0\n",
    "            for gt_idx in range(len(gt_datas)):\n",
    "                if det_datas[det_idx][0][0] != gt_datas[gt_idx][0][0]:\n",
    "                    #print(f\"Error idx not match {scene} {agent} {det_idx}, {gt_idx} {det_datas[det_idx][0][0]} {gt_datas[gt_idx][0][0]}\")\n",
    "                    continue\n",
    "                if gt_idx >= len(gt_datas):\n",
    "                    print(f\"gt_idx out of range, {gt_idx} {det_idx}\")\n",
    "                    break\n",
    "                nll, matched_indices = compute_crps(det_datas[det_idx], gt_datas[gt_idx], mode, is_before_tracking, iou_threshold, is_use_cp_cov)\n",
    "                # if nll == []:\n",
    "                #     print(det_scene_file)\n",
    "                #     print(det_datas[det_idx])\n",
    "                #     return 0\n",
    "                nll_res.extend(nll)\n",
    "                det_idx += 1\n",
    "    nll_mean = sum(nll_res) / len(nll_res)\n",
    "    return nll_mean\n",
    "\n",
    "def show_one_result_crps(path, is_before_tracking=True, iou_threshold = 0.5, is_use_cp_cov=True):\n",
    "    mode_list = [\"upperbound\",\"disco\", \"lowerbound\", \"colowerbound\"]\n",
    "    for mode in mode_list:\n",
    "        nll = compute_crps_for_mode(mode, path, is_before_tracking, iou_threshold, is_use_cp_cov)\n",
    "        print(f\"NLL for {mode} is {nll}\")"
   ]
  },
  {
   "cell_type": "code",
   "execution_count": 34,
   "id": "b6adc309-6108-4635-aedf-22828c9d02e9",
   "metadata": {},
   "outputs": [
    {
     "name": "stdout",
     "output_type": "stream",
     "text": [
      "NLL for upperbound is 0.47186133004112474\n",
      "NLL for disco is 0.5157464671370288\n",
      "NLL for lowerbound is 0.7103145869770786\n",
      "NLL for colowerbound is 0.7272603059282656\n"
     ]
    }
   ],
   "source": [
    "show_one_result_crps(before_path, True, iou_threshold=0.5, is_use_cp_cov=False)"
   ]
  },
  {
   "cell_type": "code",
   "execution_count": 35,
   "id": "f290a914-ebf3-406c-bee4-99ed436bb82d",
   "metadata": {},
   "outputs": [
    {
     "name": "stdout",
     "output_type": "stream",
     "text": [
      "NLL for upperbound is 0.41094683792914216\n",
      "NLL for disco is 0.4766803297192767\n",
      "NLL for lowerbound is 0.5307394859097074\n",
      "NLL for colowerbound is 0.468651299114203\n"
     ]
    }
   ],
   "source": [
    "show_one_result_crps(before_path, True, iou_threshold=0.7, is_use_cp_cov=False)"
   ]
  },
  {
   "cell_type": "code",
   "execution_count": 51,
   "id": "a2c12a0a-c0c6-4068-9e67-0c3fcfcc4414",
   "metadata": {},
   "outputs": [
    {
     "name": "stdout",
     "output_type": "stream",
     "text": [
      "NLL for upperbound is 0.42404725439307944\n",
      "NLL for disco is 0.4655606713319821\n",
      "NLL for lowerbound is 0.652130084266047\n",
      "NLL for colowerbound is 0.6941032807006245\n"
     ]
    }
   ],
   "source": [
    "var_cp_dict = {\"upperbound\": [125.44897552926587, 58.17835406418326, 224.21414415575381, 3907.8781994455294], \"disco\": [267.6059187072261, 65.37177933480551, 214.8165049926819, 4107.835669322297], \"lowerbound\": [339.5195216553872, 111.26186541465519, 298.26359427936194, 15076.497769642287], \"colowerbound\": [51.6848353663652, 53.78630002788134, 53.72976959856496, 1773.83374474704]}\n",
    "show_one_result_crps(before_path, True, iou_threshold=0.5, is_use_cp_cov=True)"
   ]
  },
  {
   "cell_type": "code",
   "execution_count": 52,
   "id": "9eb20017-41b7-48ba-bef1-97a7e12018e2",
   "metadata": {},
   "outputs": [
    {
     "name": "stdout",
     "output_type": "stream",
     "text": [
      "NLL for upperbound is 0.3637884493068222\n",
      "NLL for disco is 0.42720285262171986\n",
      "NLL for lowerbound is 0.4751655746478185\n",
      "NLL for colowerbound is 0.4363331266962258\n"
     ]
    }
   ],
   "source": [
    "show_one_result_crps(before_path, True, iou_threshold=0.7, is_use_cp_cov=True)"
   ]
  },
  {
   "cell_type": "code",
   "execution_count": 9,
   "id": "78c01b0c-bf72-4f0c-a2c6-10491f6b7fd9",
   "metadata": {},
   "outputs": [
    {
     "name": "stdout",
     "output_type": "stream",
     "text": [
      "NLL for disco is 0.3641422764569029\n",
      "NLL for upperbound is 0.33362799778691216\n",
      "NLL for lowerbound is 0.4894665942261575\n"
     ]
    }
   ],
   "source": [
    "show_one_result_crps(after_origin_path, False, iou_threshold=0.5, is_use_cp_cov=False)"
   ]
  },
  {
   "cell_type": "code",
   "execution_count": 10,
   "id": "aa8990f1-cc8a-466c-a6b3-7cd1bf3f706a",
   "metadata": {},
   "outputs": [
    {
     "name": "stdout",
     "output_type": "stream",
     "text": [
      "NLL for disco is 0.35962919751963884\n",
      "NLL for upperbound is 0.32065571890555494\n",
      "NLL for lowerbound is 0.43649402973124446\n"
     ]
    }
   ],
   "source": [
    "show_one_result_crps(after_origin_path, False, iou_threshold=0.7, is_use_cp_cov=False)"
   ]
  },
  {
   "cell_type": "code",
   "execution_count": 11,
   "id": "1a0e66d3-86c2-4cc5-afbf-f2a9e7242c4e",
   "metadata": {},
   "outputs": [
    {
     "name": "stdout",
     "output_type": "stream",
     "text": [
      "NLL for disco is 0.33004108293047013\n",
      "NLL for upperbound is 0.2985007779702155\n",
      "NLL for lowerbound is 0.450105484839003\n"
     ]
    }
   ],
   "source": [
    "show_one_result_crps(after_cfk_path, False, iou_threshold=0.5, is_use_cp_cov=False)"
   ]
  },
  {
   "cell_type": "code",
   "execution_count": 12,
   "id": "23ea1df5-f905-4276-9a19-8f1466e8eb5e",
   "metadata": {},
   "outputs": [
    {
     "name": "stdout",
     "output_type": "stream",
     "text": [
      "NLL for disco is 0.3247238723081699\n",
      "NLL for upperbound is 0.2852119596264233\n",
      "NLL for lowerbound is 0.39717911938372136\n"
     ]
    }
   ],
   "source": [
    "show_one_result_crps(after_cfk_path, False, iou_threshold=0.7, is_use_cp_cov=False)"
   ]
  },
  {
   "cell_type": "code",
   "execution_count": 25,
   "id": "21aad04c-f547-47aa-a9f5-dc22e3a84d2f",
   "metadata": {},
   "outputs": [
    {
     "name": "stdout",
     "output_type": "stream",
     "text": [
      "NLL for disco is 0.37586829772617725\n",
      "NLL for upperbound is 0.3454551756523389\n",
      "NLL for lowerbound is 0.49989039831295196\n"
     ]
    }
   ],
   "source": [
    "show_one_result_crps(after_cfk_wcp_path, False, iou_threshold=0.5, is_use_cp_cov=False)"
   ]
  },
  {
   "cell_type": "code",
   "execution_count": 26,
   "id": "788fa920-c939-4735-a889-f58b6041f08e",
   "metadata": {},
   "outputs": [
    {
     "name": "stdout",
     "output_type": "stream",
     "text": [
      "NLL for disco is 0.36973119658777187\n",
      "NLL for upperbound is 0.3314054357546768\n",
      "NLL for lowerbound is 0.44620831357182467\n"
     ]
    }
   ],
   "source": [
    "show_one_result_crps(after_cfk_wcp_path, False, iou_threshold=0.7, is_use_cp_cov=False)"
   ]
  },
  {
   "cell_type": "code",
   "execution_count": 13,
   "id": "d66b6f72-9253-44f8-830a-180f1f18ba1a",
   "metadata": {},
   "outputs": [
    {
     "name": "stdout",
     "output_type": "stream",
     "text": [
      "NLL for disco is 0.3897910772927842\n",
      "NLL for upperbound is 0.3512990329277939\n",
      "NLL for lowerbound is 0.5062101621863176\n"
     ]
    }
   ],
   "source": [
    "show_one_result_crps(after_nlla_path, False, iou_threshold=0.5, is_use_cp_cov=False)"
   ]
  },
  {
   "cell_type": "code",
   "execution_count": 14,
   "id": "2abd05a8-f51d-4dcd-8655-eca143dc0113",
   "metadata": {},
   "outputs": [
    {
     "name": "stdout",
     "output_type": "stream",
     "text": [
      "NLL for disco is 0.38327219770601834\n",
      "NLL for upperbound is 0.33613366313168286\n",
      "NLL for lowerbound is 0.45363809511688\n"
     ]
    }
   ],
   "source": [
    "show_one_result_crps(after_nlla_path, False, iou_threshold=0.7, is_use_cp_cov=False)"
   ]
  },
  {
   "cell_type": "code",
   "execution_count": 27,
   "id": "4b470c50-0b09-4542-bc02-f3ee32dc1583",
   "metadata": {},
   "outputs": [
    {
     "name": "stdout",
     "output_type": "stream",
     "text": [
      "NLL for disco is 0.3641346002493097\n",
      "NLL for upperbound is 0.33362799778691216\n",
      "NLL for lowerbound is 0.4894665942261575\n"
     ]
    }
   ],
   "source": [
    "show_one_result_crps(after_nlla_wcp_path, False, iou_threshold=0.5, is_use_cp_cov=False)"
   ]
  },
  {
   "cell_type": "code",
   "execution_count": 28,
   "id": "28ba89c3-a5a9-4d40-a0d4-c677ba0d49f9",
   "metadata": {},
   "outputs": [
    {
     "name": "stdout",
     "output_type": "stream",
     "text": [
      "NLL for disco is 0.35962272316889227\n",
      "NLL for upperbound is 0.32065571890555494\n",
      "NLL for lowerbound is 0.43649402973124446\n"
     ]
    }
   ],
   "source": [
    "show_one_result_crps(after_nlla_wcp_path, False, iou_threshold=0.7, is_use_cp_cov=False)"
   ]
  },
  {
   "cell_type": "code",
   "execution_count": 28,
   "id": "21d2a6b2-510a-4662-aa88-f4e3e98a6892",
   "metadata": {},
   "outputs": [
    {
     "name": "stdout",
     "output_type": "stream",
     "text": [
      "NLL for upperbound is 0.3123616378377446\n",
      "NLL for disco is 0.3545389467390727\n",
      "NLL for lowerbound is 0.4629444218258531\n",
      "NLL for colowerbound is 0.7638918204825628\n"
     ]
    }
   ],
   "source": [
    "show_one_result_crps(after_cfk_nlla_path, False, iou_threshold=0.5, is_use_cp_cov=False)"
   ]
  },
  {
   "cell_type": "code",
   "execution_count": 29,
   "id": "40a1ada3-fe71-4abf-b87b-2f47bf66173a",
   "metadata": {},
   "outputs": [
    {
     "name": "stdout",
     "output_type": "stream",
     "text": [
      "NLL for upperbound is 0.29705635324554813\n",
      "NLL for disco is 0.3470856569834966\n",
      "NLL for lowerbound is 0.40932565656219966\n",
      "NLL for colowerbound is 0.4268081456980423\n"
     ]
    }
   ],
   "source": [
    "show_one_result_crps(after_cfk_nlla_path, False, iou_threshold=0.7, is_use_cp_cov=False)"
   ]
  },
  {
   "cell_type": "code",
   "execution_count": null,
   "id": "2c45ccaf-a757-4bd8-9789-4429dba1782a",
   "metadata": {},
   "outputs": [],
   "source": [
    "show_one_result_crps(after_cfk_nlla_wcp_path, False, iou_threshold=0.5, is_use_cp_cov=False)"
   ]
  },
  {
   "cell_type": "code",
   "execution_count": 30,
   "id": "08ffb8b7-07c7-41c0-943f-6540388baf79",
   "metadata": {},
   "outputs": [
    {
     "name": "stdout",
     "output_type": "stream",
     "text": [
      "NLL for disco is 0.36977329721258473\n",
      "NLL for upperbound is 0.33144440749524273\n",
      "NLL for lowerbound is 0.44620831357182467\n"
     ]
    }
   ],
   "source": [
    "show_one_result_crps(after_cfk_nlla_wcp_path, False, iou_threshold=0.7, is_use_cp_cov=False)"
   ]
  },
  {
   "cell_type": "code",
   "execution_count": 63,
   "id": "fede1071-86ad-443a-b238-aeeff5454e55",
   "metadata": {},
   "outputs": [
    {
     "name": "stdout",
     "output_type": "stream",
     "text": [
      "NLL for upperbound is 0.3011598967603216\n",
      "NLL for disco is 0.33606329218423914\n",
      "NLL for lowerbound is 0.44416975378327334\n",
      "NLL for colowerbound is 0.7550522959445382\n"
     ]
    }
   ],
   "source": [
    "#cp1\n",
    "var_cp_dict = {\"upperbound\": [2.0168343618519997, 20.655256274811332, 1099429.4444401297, 0.008725584208192933], \"disco\": [1.5844876978208504, 16.85182149486315, 1199409.2165852713, 0.008524340686899256], \"lowerbound\": [0.9496513748504812, 14.405661414225111, 224888.44172695288, 0.007472273158473342], 'colowerbound': [0.417313590703244, 3.079141799058277, 16624.535995030397, 0.00040261623152204926]}\n",
    "show_one_result_crps(after_cfk_nlla_path, False, iou_threshold=0.5, is_use_cp_cov=True)"
   ]
  },
  {
   "cell_type": "code",
   "execution_count": 64,
   "id": "3e8cbbc8-953e-401b-9368-8290773869d2",
   "metadata": {},
   "outputs": [
    {
     "name": "stdout",
     "output_type": "stream",
     "text": [
      "NLL for upperbound is 0.28606787335712\n",
      "NLL for disco is 0.3289714848899278\n",
      "NLL for lowerbound is 0.3917155607592708\n",
      "NLL for colowerbound is 0.4182583957522243\n"
     ]
    }
   ],
   "source": [
    "show_one_result_crps(after_cfk_nlla_path, False, iou_threshold=0.7, is_use_cp_cov=True)"
   ]
  },
  {
   "cell_type": "code",
   "execution_count": 55,
   "id": "06651453-282d-433b-816c-1a26dfeb6948",
   "metadata": {},
   "outputs": [
    {
     "name": "stdout",
     "output_type": "stream",
     "text": [
      "NLL for upperbound is 0.32709907057423476\n",
      "NLL for disco is 0.3668941119070588\n",
      "NLL for lowerbound is 0.47195265159244754\n",
      "NLL for colowerbound is 0.7751045365367206\n"
     ]
    }
   ],
   "source": [
    "#cp2\n",
    "var_cp_dict = {\"upperbound\": [5.6827505661910545, 39.22419803102757, 2858468.784098897, 0.34036921505256784], \"disco\": [5.134614410746115, 38.66801996668446, 3366505.118310001, 0.3417140174552086], \"lowerbound\": [4.463060508876752, 30.744574219188294, 756935.3774669303, 0.12091569877559906], \"colowerbound\": [2.648966498640901, 10.699904022348633, 78644.8174770782, 0.14934529673210137], \"colowerbound\": [2.648966498640901, 10.699904022348633, 78644.8174770782, 0.14934529673210137]}\n",
    "show_one_result_crps(after_cfk_nlla_path, False, iou_threshold=0.5, is_use_cp_cov=True)"
   ]
  },
  {
   "cell_type": "code",
   "execution_count": 56,
   "id": "90db74ab-ee5b-44ce-b1f0-d4a5df1a2aa7",
   "metadata": {},
   "outputs": [
    {
     "name": "stdout",
     "output_type": "stream",
     "text": [
      "NLL for upperbound is 0.3119193496780249\n",
      "NLL for disco is 0.36016519597971186\n",
      "NLL for lowerbound is 0.4210904762041204\n",
      "NLL for colowerbound is 0.4428183691763729\n"
     ]
    }
   ],
   "source": [
    "show_one_result_crps(after_cfk_nlla_path, False, iou_threshold=0.7, is_use_cp_cov=True)"
   ]
  },
  {
   "cell_type": "code",
   "execution_count": 23,
   "id": "2eee9eaf-5912-4be8-bac3-31df3a7cdcec",
   "metadata": {},
   "outputs": [
    {
     "name": "stdout",
     "output_type": "stream",
     "text": [
      "NLL for upperbound is 0.45306145631208883\n",
      "NLL for disco is 0.49805945284303266\n",
      "NLL for lowerbound is 0.6931012107098485\n",
      "NLL for colowerbound is 0.7133724332271444\n"
     ]
    }
   ],
   "source": [
    "var_cp_dict = {\"upperbound\": [10,10,10,10], \"disco\": [10,10,10,10], \"lowerbound\": [10,10,10,10], \"colowerbound\": [10,10,10,10]}\n",
    "show_one_result_crps(before_path, True, iou_threshold=0.5, is_use_cp_cov=True)"
   ]
  },
  {
   "cell_type": "code",
   "execution_count": 24,
   "id": "9b524ef4-b571-4b29-9e93-646343ba125c",
   "metadata": {},
   "outputs": [
    {
     "name": "stdout",
     "output_type": "stream",
     "text": [
      "NLL for upperbound is 0.39236181264625586\n",
      "NLL for disco is 0.45911130432855074\n",
      "NLL for lowerbound is 0.5139045873088862\n",
      "NLL for colowerbound is 0.45504230290317543\n"
     ]
    }
   ],
   "source": [
    "show_one_result_crps(before_path, True, iou_threshold=0.7, is_use_cp_cov=True)"
   ]
  },
  {
   "cell_type": "code",
   "execution_count": null,
   "id": "d29679cc-7f93-4285-bb12-c250c4d1eefe",
   "metadata": {},
   "outputs": [],
   "source": []
  }
 ],
 "metadata": {
  "kernelspec": {
   "display_name": "Python 3 (ipykernel)",
   "language": "python",
   "name": "python3"
  },
  "language_info": {
   "codemirror_mode": {
    "name": "ipython",
    "version": 3
   },
   "file_extension": ".py",
   "mimetype": "text/x-python",
   "name": "python",
   "nbconvert_exporter": "python",
   "pygments_lexer": "ipython3",
   "version": "3.9.7"
  }
 },
 "nbformat": 4,
 "nbformat_minor": 5
}
