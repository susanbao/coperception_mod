{
 "cells": [
  {
   "cell_type": "markdown",
   "id": "b17c4b03-ff14-4657-9173-828bc9d4898e",
   "metadata": {},
   "source": [
    "# Compute the NLL metric before and after tracking"
   ]
  },
  {
   "cell_type": "code",
   "execution_count": 27,
   "id": "61367de0-65ce-4756-a7ae-43569c103465",
   "metadata": {},
   "outputs": [],
   "source": [
    "import numpy as np\n",
    "import torch\n",
    "import math\n",
    "import os\n",
    "import properscoring as ps"
   ]
  },
  {
   "cell_type": "code",
   "execution_count": 28,
   "id": "7404882f-8e9b-4140-8ca3-fbc82e91d699",
   "metadata": {},
   "outputs": [],
   "source": [
    "before_path = \"../det/check/check_loss_two_step_center_sr_ind/\"\n",
    "after_path = \"./sort/cov/\"\n",
    "after_cfk_path = after_path + \"cfk/\"\n",
    "after_nlla_path = after_path + \"nlla/\"\n",
    "after_origin_path = after_path + \"origin/\"\n",
    "after_cfk_nlla_path = after_path + \"cfk_nlla/\"\n",
    "gt_path = \"./TrackEval/data/gt/mot_challenge/\"\n",
    "scene_idxes_file_path = \"../utils/test_scenes.txt\"\n",
    "var_cp_dict = {\"upperbound\": [125.44897552926587, 58.17835406418326, 224.21414415575381, 3907.8781994455294], \"disco\": [267.6059187072261, 65.37177933480551, 214.8165049926819, 4107.835669322297], \"lowerbound\": [339.5195216553872, 111.26186541465519, 298.26359427936194, 15076.497769642287]}"
   ]
  },
  {
   "cell_type": "code",
   "execution_count": 29,
   "id": "3a07942b-b6ee-4150-a2db-45ec8f921ae2",
   "metadata": {},
   "outputs": [],
   "source": [
    "def convert_bbox_to_z(bbox):\n",
    "    \"\"\"\n",
    "    Takes a bounding box in the form [x1,y1,x2,y2] and returns z in the form\n",
    "      [x,y,s,r] where x,y is the centre of the box and s is the scale/area and r is\n",
    "      the aspect ratio\n",
    "    \"\"\"\n",
    "    w = bbox[2] - bbox[0]\n",
    "    h = bbox[3] - bbox[1]\n",
    "    x = bbox[0] + w / 2.0\n",
    "    y = bbox[1] + h / 2.0\n",
    "    s = w * h  # scale is just area\n",
    "    if float(h) < 0.00001:\n",
    "        print([x, y, w, h])\n",
    "        print(bbox)\n",
    "    r = w / float(h)\n",
    "    return np.array([x, y, s, r])\n",
    "\n",
    "\n",
    "def convert_x_to_bbox(x, score=None):\n",
    "    \"\"\"\n",
    "    Takes a bounding box in the centre form [x,y,s,r] and returns it in the form\n",
    "      [x1,y1,x2,y2] where x1,y1 is the top left and x2,y2 is the bottom right\n",
    "    \"\"\"\n",
    "    w = np.sqrt(x[2] * x[3])\n",
    "    h = x[2] / w\n",
    "    if score is None:\n",
    "        return np.array(\n",
    "            [x[0] - w / 2.0, x[1] - h / 2.0, x[0] + w / 2.0, x[1] + h / 2.0]\n",
    "        ).reshape((1, 4))\n",
    "    else:\n",
    "        return np.array(\n",
    "            [x[0] - w / 2.0, x[1] - h / 2.0, x[0] + w / 2.0, x[1] + h / 2.0, score]\n",
    "        ).reshape((1, 5))\n",
    "\n",
    "def split_data_by_frame(data):\n",
    "    res = []\n",
    "    start = 0\n",
    "    for i in range(1,data.shape[0]):\n",
    "        if data[i][0] != data[start][0]:\n",
    "            res.append(data[start:i,:])\n",
    "            start = i\n",
    "    res.append(data[start:,:])\n",
    "    return res\n",
    "\n",
    "def iou_batch(bb_test, bb_gt):\n",
    "    \"\"\"\n",
    "    From SORT: Computes IOU between two bboxes in the form [x1,y1,x2,y2]\n",
    "    \"\"\"\n",
    "    bb_gt = np.expand_dims(bb_gt, 0)\n",
    "    bb_test = np.expand_dims(bb_test, 1)\n",
    "\n",
    "    xx1 = np.maximum(bb_test[..., 0], bb_gt[..., 0])\n",
    "    yy1 = np.maximum(bb_test[..., 1], bb_gt[..., 1])\n",
    "    xx2 = np.minimum(bb_test[..., 2], bb_gt[..., 2])\n",
    "    yy2 = np.minimum(bb_test[..., 3], bb_gt[..., 3])\n",
    "    w = np.maximum(0.0, xx2 - xx1)\n",
    "    h = np.maximum(0.0, yy2 - yy1)\n",
    "    wh = w * h\n",
    "    o = wh / (\n",
    "        (bb_test[..., 2] - bb_test[..., 0]) * (bb_test[..., 3] - bb_test[..., 1])\n",
    "        + (bb_gt[..., 2] - bb_gt[..., 0]) * (bb_gt[..., 3] - bb_gt[..., 1])\n",
    "        - wh\n",
    "    )\n",
    "    return o\n",
    "\n",
    "def linear_assignment(cost_matrix):\n",
    "    try:\n",
    "        import lap\n",
    "\n",
    "        _, x, y = lap.lapjv(cost_matrix, extend_cost=True)\n",
    "        return np.array([[y[i], i] for i in x if i >= 0])  #\n",
    "    except ImportError:\n",
    "        from scipy.optimize import linear_sum_assignment\n",
    "\n",
    "        x, y = linear_sum_assignment(cost_matrix)\n",
    "        return np.array(list(zip(x, y)))\n",
    "\n",
    "def pre_process_bbox(datas):\n",
    "    \"\"\"\n",
    "    make the bbox be [x1,y1,x2,y2] where [x1,y1] is the left bottom and [x2,y2] is the right top\n",
    "    \"\"\"\n",
    "    for i in range(datas.shape[0]):\n",
    "        small = [min(datas[i][0], datas[i][2]), min(datas[i][1], datas[i][3])]\n",
    "        large = [max(datas[i][0], datas[i][2]), max(datas[i][1], datas[i][3])]\n",
    "        datas[i][0] = small[0]\n",
    "        datas[i][1] = small[1]\n",
    "        datas[i][2] = large[0]\n",
    "        datas[i][3] = large[1]\n",
    "    return datas\n",
    "\n",
    "def remove_error_bbox(dets):\n",
    "    res = []\n",
    "    for i in range(dets.shape[0]):\n",
    "        if dets[i, 0] == dets[i, 2] or dets[i, 1] == dets[i, 3]:\n",
    "            continue\n",
    "        res.append(list(dets[i]))\n",
    "    return np.array(res)\n",
    "\n",
    "def convert_bboxs_to_zs(datas):\n",
    "    for i in range(datas.shape[0]):\n",
    "        datas[i, :4] = convert_bbox_to_z(datas[i,:4])\n",
    "    return datas\n",
    "    \n",
    "def compute_nll(dets, gts, mode, is_before_tracking, iou_threshold, is_use_cp_cov):\n",
    "    dets = pre_process_bbox(dets[:,2:])\n",
    "    gts = pre_process_bbox(gts[:,2:])\n",
    "    dets = remove_error_bbox(dets)\n",
    "    iou_matrix = iou_batch(dets, gts)\n",
    "    if min(iou_matrix.shape) > 0:\n",
    "        a = (iou_matrix > iou_threshold).astype(np.int32)\n",
    "        if a.sum(1).max() == 1 and a.sum(0).max() == 1:\n",
    "            matched_indices = np.stack(np.where(a), axis=1)\n",
    "        else:\n",
    "            matched_indices = linear_assignment(-iou_matrix)\n",
    "    else:\n",
    "        matched_indices = np.empty(shape=(0, 2))\n",
    "    if len(matched_indices) == 0:\n",
    "        print(\"Error length of matched_indices if zero!\")\n",
    "    if iou_threshold >= 0.5:\n",
    "        matches = []\n",
    "        for m in matched_indices:\n",
    "            if iou_matrix[m[0], m[1]] >= iou_threshold:\n",
    "                matches.append([m[0], m[1]])\n",
    "        matched_indices = np.array(matches)\n",
    "    matched_dets = dets[matched_indices[:,0]]\n",
    "    matched_gts = gts[matched_indices[:,1]]\n",
    "    pred = torch.from_numpy(convert_bboxs_to_zs(matched_dets[:,:4]))\n",
    "    target = torch.from_numpy(convert_bboxs_to_zs(matched_gts[:,:4]))\n",
    "    if is_before_tracking:\n",
    "        cov = np.exp(matched_dets[:,8:])\n",
    "    else:\n",
    "        cov = matched_dets[:,8:]\n",
    "    if is_use_cp_cov:\n",
    "        cp_cov = np.array(var_cp_dict[mode])\n",
    "        cov = cov * cp_cov\n",
    "    cov = torch.from_numpy(cov)\n",
    "    std = torch.sqrt(cov)\n",
    "    predicted_normal_dists = torch.distributions.normal.Normal(pred, std)\n",
    "    negative_log_prob = - predicted_normal_dists.log_prob(target)\n",
    "    negative_log_prob = torch.clamp(negative_log_prob, min = 0)\n",
    "    negative_log_prob = torch.sum(negative_log_prob,axis=1)/4\n",
    "    return negative_log_prob.tolist(), matched_indices\n",
    "\n",
    "def compute_nll_for_mode(mode, det_path, is_before_tracking, iou_threshold, is_use_cp_cov):\n",
    "    upper_path = det_path + mode + \"/no_rsu/\"\n",
    "    scene_idxes_file = open(scene_idxes_file_path, \"r\")\n",
    "    scene_idxes = [int(line.strip()) for line in scene_idxes_file]\n",
    "    #print(scene_idxes)\n",
    "    nll_res = []\n",
    "    for agent in range(1,5):\n",
    "        det_files_path = upper_path + \"tracking\" + str(agent)\n",
    "        gt_files_path = gt_path + \"V2X-test\" + str(agent)\n",
    "        for scene in scene_idxes:\n",
    "            scene = 29\n",
    "            if is_before_tracking:\n",
    "                det_scene_file = os.path.join(det_files_path, \"det_\" + str(scene) + \".txt\")\n",
    "            else:\n",
    "                det_scene_file = os.path.join(det_files_path, str(scene) + \".txt\")\n",
    "            gt_scene_file = os.path.join(gt_files_path, str(scene), \"gt/gt.txt\")\n",
    "            det_datas = np.loadtxt(det_scene_file, delimiter=\",\")\n",
    "            gt_datas = np.loadtxt(gt_scene_file, delimiter=\",\")\n",
    "            if len(gt_datas) == 0 or len(det_datas) == 0:\n",
    "                continue\n",
    "            det_datas = split_data_by_frame(det_datas)\n",
    "            gt_datas = split_data_by_frame(gt_datas)\n",
    "            gt_idx = 0\n",
    "            for det_idx in range(len(det_datas)):\n",
    "                if det_datas[det_idx][0][0] != gt_datas[gt_idx][0][0]:\n",
    "                    print(f\"Error idx not match {det_idx}, {gt_idx}\")\n",
    "                    continue\n",
    "                if gt_idx >= len(gt_datas):\n",
    "                    print(f\"gt_idx out of range, {gt_idx} {det_idx}\")\n",
    "                    break\n",
    "                nll, matched_indices = compute_nll(det_datas[det_idx], gt_datas[gt_idx], mode, is_before_tracking, iou_threshold, is_use_cp_cov)\n",
    "                # if nll == []:\n",
    "                #     print(det_scene_file)\n",
    "                #     print(det_datas[det_idx])\n",
    "                #     return 0\n",
    "                nll_res.extend(nll)\n",
    "                gt_idx += 1\n",
    "    nll_mean = sum(nll_res) / len(nll_res)\n",
    "    return nll_mean\n",
    "\n",
    "def show_one_result(path, is_before_tracking=True, iou_threshold = 0.5, is_use_cp_cov=True):\n",
    "    mode_list = [\"disco\", \"upperbound\",\"lowerbound\"]\n",
    "    for mode in mode_list:\n",
    "        nll = compute_nll_for_mode(mode, path, is_before_tracking, iou_threshold, is_use_cp_cov)\n",
    "        print(f\"NLL for {mode} is {nll}\")"
   ]
  },
  {
   "cell_type": "markdown",
   "id": "a7239628-e355-48a4-a425-898999c54b30",
   "metadata": {},
   "source": [
    "## before tracking"
   ]
  },
  {
   "cell_type": "code",
   "execution_count": 19,
   "id": "989f0201-ac79-40f8-86f4-0e3c93e74fd6",
   "metadata": {},
   "outputs": [
    {
     "name": "stdout",
     "output_type": "stream",
     "text": [
      "NLL for upperbound is 793084.8649963096\n"
     ]
    }
   ],
   "source": [
    "mode = \"upperbound\"\n",
    "nll = compute_nll_for_mode(mode, before_path, True, 0.3, True)\n",
    "print(f\"NLL for {mode} is {nll}\")"
   ]
  },
  {
   "cell_type": "code",
   "execution_count": 20,
   "id": "0f215723-e47d-4eea-aef5-a9ff999b25d3",
   "metadata": {},
   "outputs": [
    {
     "name": "stdout",
     "output_type": "stream",
     "text": [
      "NLL for disco is 21301.51765117097\n",
      "NLL for upperbound is 8936.010701017687\n",
      "NLL for lowerbound is 57797.96985351725\n"
     ]
    }
   ],
   "source": [
    "show_one_result(before_path, True, iou_threshold=0.5, is_use_cp_cov=True)"
   ]
  },
  {
   "cell_type": "code",
   "execution_count": 21,
   "id": "bf590329-a001-40fe-b2ad-8d1e8f82e669",
   "metadata": {},
   "outputs": [
    {
     "name": "stdout",
     "output_type": "stream",
     "text": [
      "NLL for disco is 4573847.684845607\n",
      "NLL for upperbound is 2051658.4300396182\n",
      "NLL for lowerbound is 17236569.881762806\n"
     ]
    }
   ],
   "source": [
    "show_one_result(before_path, True, iou_threshold=0.5, is_use_cp_cov=False)"
   ]
  },
  {
   "cell_type": "markdown",
   "id": "a605eb81-ed99-4da7-b08e-e0586d8583c9",
   "metadata": {},
   "source": [
    "## after tracking"
   ]
  },
  {
   "cell_type": "code",
   "execution_count": 22,
   "id": "451c1b2e-f789-4102-b744-854decf9ea30",
   "metadata": {},
   "outputs": [
    {
     "name": "stdout",
     "output_type": "stream",
     "text": [
      "NLL for disco is 2096.5761032315195\n",
      "NLL for upperbound is 1927.8867303032657\n",
      "NLL for lowerbound is 15235.930981018131\n"
     ]
    }
   ],
   "source": [
    "show_one_result(after_origin_path, False, iou_threshold=0.5, is_use_cp_cov=False)"
   ]
  },
  {
   "cell_type": "code",
   "execution_count": 23,
   "id": "6091cab4-d5ca-4bc2-909c-bd92adf61d49",
   "metadata": {},
   "outputs": [
    {
     "name": "stdout",
     "output_type": "stream",
     "text": [
      "NLL for disco is 7566.947122318795\n",
      "NLL for upperbound is 4560.588980702482\n",
      "NLL for lowerbound is 46798.767193006635\n"
     ]
    }
   ],
   "source": [
    "show_one_result(after_cfk_path, False, iou_threshold=0.5, is_use_cp_cov=False)"
   ]
  },
  {
   "cell_type": "code",
   "execution_count": 24,
   "id": "19038ea1-2d0c-4db6-a6c6-3a6cfbc495fd",
   "metadata": {},
   "outputs": [
    {
     "name": "stdout",
     "output_type": "stream",
     "text": [
      "NLL for disco is 3665.596412595128\n",
      "NLL for upperbound is 2424.452654637063\n",
      "NLL for lowerbound is 15400.14033637595\n"
     ]
    }
   ],
   "source": [
    "show_one_result(after_nlla_path, False, iou_threshold=0.5, is_use_cp_cov=False)"
   ]
  },
  {
   "cell_type": "code",
   "execution_count": 25,
   "id": "80641330-628b-41e2-9aa2-417d64fa3adb",
   "metadata": {},
   "outputs": [
    {
     "name": "stdout",
     "output_type": "stream",
     "text": [
      "NLL for disco is 11159.026019534242\n",
      "NLL for upperbound is 5226.913220467809\n",
      "NLL for lowerbound is 46116.67766566986\n"
     ]
    }
   ],
   "source": [
    "show_one_result(after_cfk_nlla_path, False, iou_threshold=0.5, is_use_cp_cov=False)"
   ]
  },
  {
   "cell_type": "markdown",
   "id": "0437f924-2c70-4210-9119-b01146526e8c",
   "metadata": {},
   "source": [
    "# CRPS"
   ]
  },
  {
   "cell_type": "code",
   "execution_count": 30,
   "id": "59ef42d4-351a-4825-abfa-0a6e0a6dfd37",
   "metadata": {},
   "outputs": [],
   "source": [
    "def compute_crps(dets, gts, mode, is_before_tracking, iou_threshold, is_use_cp_cov):\n",
    "    dets = pre_process_bbox(dets[:,2:])\n",
    "    gts = pre_process_bbox(gts[:,2:])\n",
    "    dets = remove_error_bbox(dets)\n",
    "    iou_matrix = iou_batch(dets, gts)\n",
    "    if min(iou_matrix.shape) > 0:\n",
    "        a = (iou_matrix > iou_threshold).astype(np.int32)\n",
    "        if a.sum(1).max() == 1 and a.sum(0).max() == 1:\n",
    "            matched_indices = np.stack(np.where(a), axis=1)\n",
    "        else:\n",
    "            matched_indices = linear_assignment(-iou_matrix)\n",
    "    else:\n",
    "        matched_indices = np.empty(shape=(0, 2))\n",
    "    if len(matched_indices) == 0:\n",
    "        print(\"Error length of matched_indices if zero!\")\n",
    "    if iou_threshold >= 0.5:\n",
    "        matches = []\n",
    "        for m in matched_indices:\n",
    "            if iou_matrix[m[0], m[1]] >= iou_threshold:\n",
    "                matches.append([m[0], m[1]])\n",
    "        matched_indices = np.array(matches)\n",
    "    matched_dets = dets[matched_indices[:,0]]\n",
    "    matched_gts = gts[matched_indices[:,1]]\n",
    "    pred = convert_bboxs_to_zs(matched_dets[:,:4])\n",
    "    target = convert_bboxs_to_zs(matched_gts[:,:4])\n",
    "    if is_before_tracking:\n",
    "        cov = np.exp(matched_dets[:,8:])\n",
    "    else:\n",
    "        cov = matched_dets[:,8:]\n",
    "    if is_use_cp_cov:\n",
    "        cp_cov = np.array(var_cp_dict[mode])\n",
    "        cov = cov * cp_cov\n",
    "    std = np.sqrt(cov)\n",
    "    crps = ps.crps_gaussian(target, \n",
    "                               pred,\n",
    "                               std)\n",
    "    return np.mean(crps, axis=1).tolist(), matched_indices\n",
    "\n",
    "def compute_crps_for_mode(mode, det_path, is_before_tracking, iou_threshold, is_use_cp_cov):\n",
    "    upper_path = det_path + mode + \"/no_rsu/\"\n",
    "    scene_idxes_file = open(scene_idxes_file_path, \"r\")\n",
    "    scene_idxes = [int(line.strip()) for line in scene_idxes_file]\n",
    "    #print(scene_idxes)\n",
    "    nll_res = []\n",
    "    for agent in range(1,5):\n",
    "        det_files_path = upper_path + \"tracking\" + str(agent)\n",
    "        gt_files_path = gt_path + \"V2X-test\" + str(agent)\n",
    "        for scene in scene_idxes:\n",
    "            scene = 29\n",
    "            if is_before_tracking:\n",
    "                det_scene_file = os.path.join(det_files_path, \"det_\" + str(scene) + \".txt\")\n",
    "            else:\n",
    "                det_scene_file = os.path.join(det_files_path, str(scene) + \".txt\")\n",
    "            gt_scene_file = os.path.join(gt_files_path, str(scene), \"gt/gt.txt\")\n",
    "            det_datas = np.loadtxt(det_scene_file, delimiter=\",\")\n",
    "            gt_datas = np.loadtxt(gt_scene_file, delimiter=\",\")\n",
    "            if len(gt_datas) == 0 or len(det_datas) == 0:\n",
    "                continue\n",
    "            det_datas = split_data_by_frame(det_datas)\n",
    "            gt_datas = split_data_by_frame(gt_datas)\n",
    "            gt_idx = 0\n",
    "            for det_idx in range(len(det_datas)):\n",
    "                if det_datas[det_idx][0][0] != gt_datas[gt_idx][0][0]:\n",
    "                    print(f\"Error idx not match {det_idx}, {gt_idx}\")\n",
    "                    continue\n",
    "                if gt_idx >= len(gt_datas):\n",
    "                    print(f\"gt_idx out of range, {gt_idx} {det_idx}\")\n",
    "                    break\n",
    "                nll, matched_indices = compute_crps(det_datas[det_idx], gt_datas[gt_idx], mode, is_before_tracking, iou_threshold, is_use_cp_cov)\n",
    "                # if nll == []:\n",
    "                #     print(det_scene_file)\n",
    "                #     print(det_datas[det_idx])\n",
    "                #     return 0\n",
    "                nll_res.extend(nll)\n",
    "                gt_idx += 1\n",
    "    nll_mean = sum(nll_res) / len(nll_res)\n",
    "    return nll_mean\n",
    "\n",
    "def show_one_result_crps(path, is_before_tracking=True, iou_threshold = 0.5, is_use_cp_cov=True):\n",
    "    mode_list = [\"disco\", \"upperbound\",\"lowerbound\"]\n",
    "    for mode in mode_list:\n",
    "        nll = compute_crps_for_mode(mode, path, is_before_tracking, iou_threshold, is_use_cp_cov)\n",
    "        print(f\"NLL for {mode} is {nll}\")"
   ]
  },
  {
   "cell_type": "code",
   "execution_count": 32,
   "id": "b6adc309-6108-4635-aedf-22828c9d02e9",
   "metadata": {},
   "outputs": [
    {
     "name": "stdout",
     "output_type": "stream",
     "text": [
      "NLL for disco is 68.99195002512292\n",
      "NLL for upperbound is 52.05625855916971\n",
      "NLL for lowerbound is 99.59807418761741\n"
     ]
    }
   ],
   "source": [
    "show_one_result_crps(before_path, True, iou_threshold=0.5, is_use_cp_cov=False)"
   ]
  },
  {
   "cell_type": "code",
   "execution_count": 31,
   "id": "a2c12a0a-c0c6-4068-9e67-0c3fcfcc4414",
   "metadata": {},
   "outputs": [
    {
     "name": "stdout",
     "output_type": "stream",
     "text": [
      "NLL for disco is 68.79427234262153\n",
      "NLL for upperbound is 51.84440599534495\n",
      "NLL for lowerbound is 99.36607852144226\n"
     ]
    }
   ],
   "source": [
    "show_one_result_crps(before_path, True, iou_threshold=0.5, is_use_cp_cov=True)"
   ]
  },
  {
   "cell_type": "code",
   "execution_count": 33,
   "id": "21d2a6b2-510a-4662-aa88-f4e3e98a6892",
   "metadata": {},
   "outputs": [
    {
     "name": "stdout",
     "output_type": "stream",
     "text": [
      "NLL for disco is 45.501115194489806\n",
      "NLL for upperbound is 37.36551261623753\n",
      "NLL for lowerbound is 57.28473282141845\n"
     ]
    }
   ],
   "source": [
    "show_one_result_crps(after_cfk_nlla_path, False, iou_threshold=0.5, is_use_cp_cov=False)"
   ]
  },
  {
   "cell_type": "code",
   "execution_count": null,
   "id": "40a1ada3-fe71-4abf-b87b-2f47bf66173a",
   "metadata": {},
   "outputs": [],
   "source": []
  }
 ],
 "metadata": {
  "kernelspec": {
   "display_name": "Python 3 (ipykernel)",
   "language": "python",
   "name": "python3"
  },
  "language_info": {
   "codemirror_mode": {
    "name": "ipython",
    "version": 3
   },
   "file_extension": ".py",
   "mimetype": "text/x-python",
   "name": "python",
   "nbconvert_exporter": "python",
   "pygments_lexer": "ipython3",
   "version": "3.9.7"
  }
 },
 "nbformat": 4,
 "nbformat_minor": 5
}
