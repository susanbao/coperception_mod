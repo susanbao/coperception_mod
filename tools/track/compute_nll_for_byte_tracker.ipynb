{
 "cells": [
  {
   "cell_type": "markdown",
   "id": "b17c4b03-ff14-4657-9173-828bc9d4898e",
   "metadata": {},
   "source": [
    "# Compute the NLL metric before and after tracking"
   ]
  },
  {
   "cell_type": "code",
   "execution_count": 2,
   "id": "61367de0-65ce-4756-a7ae-43569c103465",
   "metadata": {},
   "outputs": [],
   "source": [
    "import numpy as np\n",
    "import torch\n",
    "import math\n",
    "import os"
   ]
  },
  {
   "cell_type": "code",
   "execution_count": 12,
   "id": "7404882f-8e9b-4140-8ca3-fbc82e91d699",
   "metadata": {},
   "outputs": [],
   "source": [
    "before_path = \"../det/check/check_loss_two_step_center_rh_ind/\"\n",
    "after_path = \"./byte_tracker/cov/\"\n",
    "after_cfk_path = after_path + \"cfk/\"\n",
    "after_nlla_path = after_path + \"nlla/\"\n",
    "after_origin_path = after_path + \"origin/\"\n",
    "after_cfk_nlla_path = after_path + \"cfk_nlla/\"\n",
    "gt_path = \"./TrackEval/data/gt/mot_challenge/\"\n",
    "scene_idxes_file_path = \"../utils/test_scenes.txt\"\n",
    "var_cp_dict = {\"upperbound\": [156.3751341925818, 65.24260517866209, 2785.7870238883734, 26.43169171689354], \"disco\": [214.13191750615232, 77.15047953920649, 2503.1216487206066, 24.387592952924123], \"lowerbound\": [268.0828005828979, 93.20827260609053, 18277.14814591181, 40.319136673153885]}"
   ]
  },
  {
   "cell_type": "code",
   "execution_count": 13,
   "id": "3a07942b-b6ee-4150-a2db-45ec8f921ae2",
   "metadata": {},
   "outputs": [],
   "source": [
    "def convert_bbox_to_z(bbox):\n",
    "    \"\"\"\n",
    "    Takes a bounding box in the form [x1,y1,x2,y2] and returns z in the form\n",
    "      [x,y,r,h] where x,y is the centre of the box and r is\n",
    "      the aspect ratio\n",
    "    \"\"\"\n",
    "    w = bbox[2] - bbox[0]\n",
    "    h = bbox[3] - bbox[1]\n",
    "    x = bbox[0] + w / 2.0\n",
    "    y = bbox[1] + h / 2.0\n",
    "    if float(h) < 0.00001:\n",
    "        print([x, y, w, h])\n",
    "        print(bbox)\n",
    "    r = w / float(h)\n",
    "    return np.array([x, y, r, h])\n",
    "\n",
    "def split_data_by_frame(data):\n",
    "    res = []\n",
    "    start = 0\n",
    "    for i in range(1,data.shape[0]):\n",
    "        if data[i][0] != data[start][0]:\n",
    "            res.append(data[start:i,:])\n",
    "            start = i\n",
    "    res.append(data[start:,:])\n",
    "    return res\n",
    "\n",
    "def iou_batch(bb_test, bb_gt):\n",
    "    \"\"\"\n",
    "    From SORT: Computes IOU between two bboxes in the form [x1,y1,x2,y2]\n",
    "    \"\"\"\n",
    "    bb_gt = np.expand_dims(bb_gt, 0)\n",
    "    bb_test = np.expand_dims(bb_test, 1)\n",
    "\n",
    "    xx1 = np.maximum(bb_test[..., 0], bb_gt[..., 0])\n",
    "    yy1 = np.maximum(bb_test[..., 1], bb_gt[..., 1])\n",
    "    xx2 = np.minimum(bb_test[..., 2], bb_gt[..., 2])\n",
    "    yy2 = np.minimum(bb_test[..., 3], bb_gt[..., 3])\n",
    "    w = np.maximum(0.0, xx2 - xx1)\n",
    "    h = np.maximum(0.0, yy2 - yy1)\n",
    "    wh = w * h\n",
    "    o = wh / (\n",
    "        (bb_test[..., 2] - bb_test[..., 0]) * (bb_test[..., 3] - bb_test[..., 1])\n",
    "        + (bb_gt[..., 2] - bb_gt[..., 0]) * (bb_gt[..., 3] - bb_gt[..., 1])\n",
    "        - wh\n",
    "    )\n",
    "    return o\n",
    "\n",
    "def linear_assignment(cost_matrix):\n",
    "    try:\n",
    "        import lap\n",
    "\n",
    "        _, x, y = lap.lapjv(cost_matrix, extend_cost=True)\n",
    "        return np.array([[y[i], i] for i in x if i >= 0])  #\n",
    "    except ImportError:\n",
    "        from scipy.optimize import linear_sum_assignment\n",
    "\n",
    "        x, y = linear_sum_assignment(cost_matrix)\n",
    "        return np.array(list(zip(x, y)))\n",
    "\n",
    "def pre_process_bbox(datas):\n",
    "    \"\"\"\n",
    "    make the bbox be [x1,y1,x2,y2] where [x1,y1] is the left bottom and [x2,y2] is the right top\n",
    "    \"\"\"\n",
    "    for i in range(datas.shape[0]):\n",
    "        small = [min(datas[i][0], datas[i][2]), min(datas[i][1], datas[i][3])]\n",
    "        large = [max(datas[i][0], datas[i][2]), max(datas[i][1], datas[i][3])]\n",
    "        datas[i][0] = small[0]\n",
    "        datas[i][1] = small[1]\n",
    "        datas[i][2] = large[0]\n",
    "        datas[i][3] = large[1]\n",
    "    return datas\n",
    "\n",
    "def remove_error_bbox(dets):\n",
    "    res = []\n",
    "    for i in range(dets.shape[0]):\n",
    "        if dets[i, 0] == dets[i, 2] or dets[i, 1] == dets[i, 3]:\n",
    "            continue\n",
    "        res.append(list(dets[i]))\n",
    "    return np.array(res)\n",
    "\n",
    "def convert_bboxs_to_zs(datas):\n",
    "    for i in range(datas.shape[0]):\n",
    "        datas[i, :4] = convert_bbox_to_z(datas[i,:4])\n",
    "    return datas\n",
    "    \n",
    "def compute_nll(dets, gts, mode, is_before_tracking, iou_threshold, is_use_cp_cov):\n",
    "    dets = pre_process_bbox(dets[:,2:])\n",
    "    gts = pre_process_bbox(gts[:,2:])\n",
    "    dets = remove_error_bbox(dets)\n",
    "    iou_matrix = iou_batch(dets, gts)\n",
    "    if min(iou_matrix.shape) > 0:\n",
    "        a = (iou_matrix > iou_threshold).astype(np.int32)\n",
    "        if a.sum(1).max() == 1 and a.sum(0).max() == 1:\n",
    "            matched_indices = np.stack(np.where(a), axis=1)\n",
    "        else:\n",
    "            matched_indices = linear_assignment(-iou_matrix)\n",
    "    else:\n",
    "        matched_indices = np.empty(shape=(0, 2))\n",
    "    if len(matched_indices) == 0:\n",
    "        print(\"Error length of matched_indices if zero!\")\n",
    "    if iou_threshold >= 0.5:\n",
    "        matches = []\n",
    "        for m in matched_indices:\n",
    "            if iou_matrix[m[0], m[1]] >= iou_threshold:\n",
    "                matches.append([m[0], m[1]])\n",
    "        matched_indices = np.array(matches)\n",
    "    matched_dets = dets[matched_indices[:,0]]\n",
    "    matched_gts = gts[matched_indices[:,1]]\n",
    "    pred = torch.from_numpy(convert_bboxs_to_zs(matched_dets[:,:4]))[:,:2]\n",
    "    target = torch.from_numpy(convert_bboxs_to_zs(matched_gts[:,:4]))[:,:2]\n",
    "    if is_before_tracking:\n",
    "        cov = np.exp(matched_dets[:,8:10])\n",
    "    else:\n",
    "        cov = matched_dets[:,8:10]\n",
    "    if is_use_cp_cov:\n",
    "        cp_cov = np.array(var_cp_dict[mode])[:2]\n",
    "        cov = cov * cp_cov\n",
    "    cov = torch.from_numpy(cov)\n",
    "    std = torch.sqrt(cov)\n",
    "    predicted_normal_dists = torch.distributions.normal.Normal(pred, std)\n",
    "    negative_log_prob = - predicted_normal_dists.log_prob(target)\n",
    "    negative_log_prob = torch.clamp(negative_log_prob, min = 0)\n",
    "    negative_log_prob = torch.sum(negative_log_prob,axis=1)/4\n",
    "    # if sum(negative_log_prob) > 10*7:\n",
    "    #     print(dets)\n",
    "    #     print(gts)\n",
    "    #     print(matched_indices)\n",
    "    #     print(negative_log_prob)\n",
    "    #     print(iou_matrix)\n",
    "    #     print(matched_dets)\n",
    "    #     print(matched_gts)\n",
    "    #     return [], []\n",
    "    return negative_log_prob.tolist(), matched_indices\n",
    "\n",
    "def compute_nll_for_mode(mode, det_path, is_before_tracking, iou_threshold, is_use_cp_cov):\n",
    "    upper_path = det_path + mode + \"/no_rsu/\"\n",
    "    scene_idxes_file = open(scene_idxes_file_path, \"r\")\n",
    "    scene_idxes = [int(line.strip()) for line in scene_idxes_file]\n",
    "    #print(scene_idxes)\n",
    "    nll_res = []\n",
    "    for agent in range(1,5):\n",
    "        det_files_path = upper_path + \"tracking\" + str(agent)\n",
    "        gt_files_path = gt_path + \"V2X-test\" + str(agent)\n",
    "        for scene in scene_idxes:\n",
    "            scene = 29\n",
    "            if is_before_tracking:\n",
    "                det_scene_file = os.path.join(det_files_path, \"det_\" + str(scene) + \".txt\")\n",
    "            else:\n",
    "                det_scene_file = os.path.join(det_files_path, str(scene) + \".txt\")\n",
    "            gt_scene_file = os.path.join(gt_files_path, str(scene), \"gt/gt.txt\")\n",
    "            det_datas = np.loadtxt(det_scene_file, delimiter=\",\")\n",
    "            gt_datas = np.loadtxt(gt_scene_file, delimiter=\",\")\n",
    "            if len(gt_datas) == 0 or len(det_datas) == 0:\n",
    "                continue\n",
    "            det_datas = split_data_by_frame(det_datas)\n",
    "            gt_datas = split_data_by_frame(gt_datas)\n",
    "            gt_idx = 0\n",
    "            for det_idx in range(len(det_datas)):\n",
    "                if det_datas[det_idx][0][0] != gt_datas[gt_idx][0][0]:\n",
    "                    print(f\"Error idx not match {det_idx}, {gt_idx}\")\n",
    "                    continue\n",
    "                if gt_idx >= len(gt_datas):\n",
    "                    print(f\"gt_idx out of range, {gt_idx} {det_idx}\")\n",
    "                    break\n",
    "                nll, matched_indices = compute_nll(det_datas[det_idx], gt_datas[gt_idx], mode, is_before_tracking, iou_threshold, is_use_cp_cov)\n",
    "                # if nll == []:\n",
    "                #     print(det_scene_file)\n",
    "                #     print(det_datas[det_idx])\n",
    "                #     return 0\n",
    "                nll_res.extend(nll)\n",
    "                gt_idx += 1\n",
    "    nll_mean = sum(nll_res) / len(nll_res)\n",
    "    return nll_mean\n",
    "\n",
    "def show_one_result(path, is_before_tracking=True, iou_threshold = 0.5, is_use_cp_cov=True):\n",
    "    mode_list = [\"disco\", \"upperbound\",\"lowerbound\"]\n",
    "    for mode in mode_list:\n",
    "        nll = compute_nll_for_mode(mode, path, is_before_tracking, iou_threshold, is_use_cp_cov)\n",
    "        print(f\"NLL for {mode} is {nll}\")"
   ]
  },
  {
   "cell_type": "markdown",
   "id": "a7239628-e355-48a4-a425-898999c54b30",
   "metadata": {},
   "source": [
    "## before tracking"
   ]
  },
  {
   "cell_type": "code",
   "execution_count": 8,
   "id": "989f0201-ac79-40f8-86f4-0e3c93e74fd6",
   "metadata": {},
   "outputs": [
    {
     "name": "stdout",
     "output_type": "stream",
     "text": [
      "NLL for upperbound is 27.052949775188047\n"
     ]
    }
   ],
   "source": [
    "mode = \"upperbound\"\n",
    "nll = compute_nll_for_mode(mode, before_path, True, 0.5, True)\n",
    "print(f\"NLL for {mode} is {nll}\")"
   ]
  },
  {
   "cell_type": "code",
   "execution_count": 9,
   "id": "0f215723-e47d-4eea-aef5-a9ff999b25d3",
   "metadata": {},
   "outputs": [
    {
     "name": "stdout",
     "output_type": "stream",
     "text": [
      "NLL for disco is 30.855707534669378\n",
      "NLL for upperbound is 27.052949775188047\n",
      "NLL for lowerbound is 22.29408090791383\n"
     ]
    }
   ],
   "source": [
    "show_one_result(before_path, True, iou_threshold=0.5, is_use_cp_cov=True)"
   ]
  },
  {
   "cell_type": "code",
   "execution_count": 10,
   "id": "bf590329-a001-40fe-b2ad-8d1e8f82e669",
   "metadata": {},
   "outputs": [
    {
     "name": "stdout",
     "output_type": "stream",
     "text": [
      "NLL for disco is 4039.0093437530622\n",
      "NLL for upperbound is 2002.959383127136\n",
      "NLL for lowerbound is 2778.6865200689817\n"
     ]
    }
   ],
   "source": [
    "show_one_result(before_path, True, iou_threshold=0.5, is_use_cp_cov=False)"
   ]
  },
  {
   "cell_type": "markdown",
   "id": "a605eb81-ed99-4da7-b08e-e0586d8583c9",
   "metadata": {},
   "source": [
    "## after tracking origin"
   ]
  },
  {
   "cell_type": "code",
   "execution_count": 14,
   "id": "451c1b2e-f789-4102-b744-854decf9ea30",
   "metadata": {},
   "outputs": [
    {
     "name": "stdout",
     "output_type": "stream",
     "text": [
      "NLL for disco is 1.454157269122955\n",
      "NLL for upperbound is 1.378421960299013\n",
      "NLL for lowerbound is 1.8294687387450792\n"
     ]
    }
   ],
   "source": [
    "show_one_result(after_origin_path, False, iou_threshold=0.5, is_use_cp_cov=False)"
   ]
  },
  {
   "cell_type": "code",
   "execution_count": 18,
   "id": "301241e8-9ceb-40f2-9d52-ddd08cdf1a1b",
   "metadata": {},
   "outputs": [
    {
     "name": "stdout",
     "output_type": "stream",
     "text": [
      "NLL for disco is 14.072119425209033\n",
      "NLL for upperbound is 1.5882773976391065\n",
      "NLL for lowerbound is 5.4951381633231735\n"
     ]
    }
   ],
   "source": [
    "show_one_result(after_origin_path, False, iou_threshold=0.1, is_use_cp_cov=False)"
   ]
  },
  {
   "cell_type": "markdown",
   "id": "d79aaf2f-3c53-478e-a8da-2669f343d1ec",
   "metadata": {},
   "source": [
    "## after tracking cfk"
   ]
  },
  {
   "cell_type": "code",
   "execution_count": 15,
   "id": "7961ed72-d36d-43b6-85c2-edf09702b3f5",
   "metadata": {},
   "outputs": [
    {
     "name": "stdout",
     "output_type": "stream",
     "text": [
      "NLL for disco is 13.356071145606775\n",
      "NLL for upperbound is 12.823762957483254\n",
      "NLL for lowerbound is 11.009024149412067\n"
     ]
    }
   ],
   "source": [
    "show_one_result(after_cfk_path, False, iou_threshold=0.5, is_use_cp_cov=False)"
   ]
  },
  {
   "cell_type": "markdown",
   "id": "92646dd8-18a0-4a44-8e6a-c52fe1cd5d38",
   "metadata": {},
   "source": [
    "## after tracking nlla"
   ]
  },
  {
   "cell_type": "code",
   "execution_count": 16,
   "id": "b0ce0fda-054d-4bbc-b62b-04f90ac0e9a5",
   "metadata": {},
   "outputs": [
    {
     "name": "stdout",
     "output_type": "stream",
     "text": [
      "NLL for disco is 1.689413071569346\n",
      "NLL for upperbound is 1.397555385512109\n",
      "NLL for lowerbound is 3.036706364190975\n"
     ]
    }
   ],
   "source": [
    "show_one_result(after_nlla_path, False, iou_threshold=0.5, is_use_cp_cov=False)"
   ]
  },
  {
   "cell_type": "markdown",
   "id": "75581006-dbc4-4378-b1c7-6b3e1dd44a64",
   "metadata": {},
   "source": [
    "## after tracking cfk + nlla"
   ]
  },
  {
   "cell_type": "code",
   "execution_count": 17,
   "id": "2bb1796b-61d3-4e9d-919b-1330d99321e2",
   "metadata": {},
   "outputs": [
    {
     "name": "stdout",
     "output_type": "stream",
     "text": [
      "NLL for disco is 15.298357884886856\n",
      "NLL for upperbound is 13.096550476554423\n",
      "NLL for lowerbound is 17.160025917575766\n"
     ]
    }
   ],
   "source": [
    "show_one_result(after_cfk_nlla_path, False, iou_threshold=0.5, is_use_cp_cov=False)"
   ]
  },
  {
   "cell_type": "code",
   "execution_count": 19,
   "id": "bf91383b-c285-4024-8475-aa6550f65d21",
   "metadata": {},
   "outputs": [
    {
     "name": "stdout",
     "output_type": "stream",
     "text": [
      "NLL for disco is 125.55790246147411\n",
      "NLL for upperbound is 14.14936376558908\n",
      "NLL for lowerbound is 27.493608669794956\n"
     ]
    }
   ],
   "source": [
    "show_one_result(after_cfk_nlla_path, False, iou_threshold=0.1, is_use_cp_cov=False)"
   ]
  },
  {
   "cell_type": "code",
   "execution_count": null,
   "id": "0c192903-1e8a-4920-bcca-d37fc31b8908",
   "metadata": {},
   "outputs": [],
   "source": []
  }
 ],
 "metadata": {
  "kernelspec": {
   "display_name": "Python 3 (ipykernel)",
   "language": "python",
   "name": "python3"
  },
  "language_info": {
   "codemirror_mode": {
    "name": "ipython",
    "version": 3
   },
   "file_extension": ".py",
   "mimetype": "text/x-python",
   "name": "python",
   "nbconvert_exporter": "python",
   "pygments_lexer": "ipython3",
   "version": "3.9.7"
  }
 },
 "nbformat": 4,
 "nbformat_minor": 5
}
