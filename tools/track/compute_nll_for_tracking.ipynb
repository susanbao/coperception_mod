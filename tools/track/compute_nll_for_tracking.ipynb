{
 "cells": [
  {
   "cell_type": "markdown",
   "id": "b17c4b03-ff14-4657-9173-828bc9d4898e",
   "metadata": {},
   "source": [
    "# Compute the NLL metric before and after tracking"
   ]
  },
  {
   "cell_type": "code",
   "execution_count": 8,
   "id": "61367de0-65ce-4756-a7ae-43569c103465",
   "metadata": {},
   "outputs": [],
   "source": [
    "import numpy as np\n",
    "import torch\n",
    "import math\n",
    "import os"
   ]
  },
  {
   "cell_type": "code",
   "execution_count": 89,
   "id": "7404882f-8e9b-4140-8ca3-fbc82e91d699",
   "metadata": {},
   "outputs": [],
   "source": [
    "before_path = \"../det/check/check_loss_two_step_center_sr_ind/\"\n",
    "gt_path = \"./TrackEval/data/gt/mot_challenge/\"\n",
    "scene_idxes_file_path = \"../utils/test_scenes.txt\"\n",
    "iou_threshold = 0.5\n",
    "var_cp_dict = {\"upperbound\": [125.44897552926587, 58.17835406418326, 224.21414415575381, 3907.8781994455294], \"disco\": [267.6059187072261, 65.37177933480551, 214.8165049926819, 4107.835669322297], \"lowerbound\": [339.5195216553872, 111.26186541465519, 298.26359427936194, 15076.497769642287]}"
   ]
  },
  {
   "cell_type": "code",
   "execution_count": 103,
   "id": "3a07942b-b6ee-4150-a2db-45ec8f921ae2",
   "metadata": {},
   "outputs": [],
   "source": [
    "def convert_bbox_to_z(bbox):\n",
    "    \"\"\"\n",
    "    Takes a bounding box in the form [x1,y1,x2,y2] and returns z in the form\n",
    "      [x,y,s,r] where x,y is the centre of the box and s is the scale/area and r is\n",
    "      the aspect ratio\n",
    "    \"\"\"\n",
    "    w = bbox[2] - bbox[0]\n",
    "    h = bbox[3] - bbox[1]\n",
    "    x = bbox[0] + w / 2.0\n",
    "    y = bbox[1] + h / 2.0\n",
    "    s = w * h  # scale is just area\n",
    "    r = w / float(h)\n",
    "    return np.array([x, y, s, r]).reshape((4, 1))\n",
    "\n",
    "\n",
    "def convert_x_to_bbox(x, score=None):\n",
    "    \"\"\"\n",
    "    Takes a bounding box in the centre form [x,y,s,r] and returns it in the form\n",
    "      [x1,y1,x2,y2] where x1,y1 is the top left and x2,y2 is the bottom right\n",
    "    \"\"\"\n",
    "    w = np.sqrt(x[2] * x[3])\n",
    "    h = x[2] / w\n",
    "    if score is None:\n",
    "        return np.array(\n",
    "            [x[0] - w / 2.0, x[1] - h / 2.0, x[0] + w / 2.0, x[1] + h / 2.0]\n",
    "        ).reshape((1, 4))\n",
    "    else:\n",
    "        return np.array(\n",
    "            [x[0] - w / 2.0, x[1] - h / 2.0, x[0] + w / 2.0, x[1] + h / 2.0, score]\n",
    "        ).reshape((1, 5))\n",
    "\n",
    "def split_data_by_frame(data):\n",
    "    res = []\n",
    "    start = 0\n",
    "    for i in range(1,data.shape[0]):\n",
    "        if data[i][0] != data[start][0]:\n",
    "            res.append(data[start:i,:])\n",
    "            start = i\n",
    "    res.append(data[start:,:])\n",
    "    return res\n",
    "\n",
    "def iou_batch(bb_test, bb_gt):\n",
    "    \"\"\"\n",
    "    From SORT: Computes IOU between two bboxes in the form [x1,y1,x2,y2]\n",
    "    \"\"\"\n",
    "    bb_gt = np.expand_dims(bb_gt, 0)\n",
    "    bb_test = np.expand_dims(bb_test, 1)\n",
    "\n",
    "    xx1 = np.maximum(bb_test[..., 0], bb_gt[..., 0])\n",
    "    yy1 = np.maximum(bb_test[..., 1], bb_gt[..., 1])\n",
    "    xx2 = np.minimum(bb_test[..., 2], bb_gt[..., 2])\n",
    "    yy2 = np.minimum(bb_test[..., 3], bb_gt[..., 3])\n",
    "    w = np.maximum(0.0, xx2 - xx1)\n",
    "    h = np.maximum(0.0, yy2 - yy1)\n",
    "    wh = w * h\n",
    "    o = wh / (\n",
    "        (bb_test[..., 2] - bb_test[..., 0]) * (bb_test[..., 3] - bb_test[..., 1])\n",
    "        + (bb_gt[..., 2] - bb_gt[..., 0]) * (bb_gt[..., 3] - bb_gt[..., 1])\n",
    "        - wh\n",
    "    )\n",
    "    return o\n",
    "\n",
    "def linear_assignment(cost_matrix):\n",
    "    try:\n",
    "        import lap\n",
    "\n",
    "        _, x, y = lap.lapjv(cost_matrix, extend_cost=True)\n",
    "        return np.array([[y[i], i] for i in x if i >= 0])  #\n",
    "    except ImportError:\n",
    "        from scipy.optimize import linear_sum_assignment\n",
    "\n",
    "        x, y = linear_sum_assignment(cost_matrix)\n",
    "        return np.array(list(zip(x, y)))\n",
    "\n",
    "def pre_process_bbox(datas):\n",
    "    \"\"\"\n",
    "    make the bbox be [x1,y1,x2,y2] where [x1,y1] is the left bottom and [x2,y2] is the right top\n",
    "    \"\"\"\n",
    "    for i in range(datas.shape[0]):\n",
    "        small = [min(datas[i][0], datas[i][2]), min(datas[i][1], datas[i][3])]\n",
    "        large = [max(datas[i][0], datas[i][2]), max(datas[i][1], datas[i][3])]\n",
    "        datas[i][0] = small[0]\n",
    "        datas[i][1] = small[1]\n",
    "        datas[i][2] = large[0]\n",
    "        datas[i][3] = large[1]\n",
    "    return datas\n",
    "    \n",
    "def compute_nll(dets, gts, mode, is_before_tracking):\n",
    "    dets = pre_process_bbox(dets[:,2:])\n",
    "    gts = pre_process_bbox(gts[:,2:])\n",
    "    iou_matrix = iou_batch(dets, gts)\n",
    "    if min(iou_matrix.shape) > 0:\n",
    "        a = (iou_matrix > iou_threshold).astype(np.int32)\n",
    "        if a.sum(1).max() == 1 and a.sum(0).max() == 1:\n",
    "            matched_indices = np.stack(np.where(a), axis=1)\n",
    "        else:\n",
    "            matched_indices = linear_assignment(-iou_matrix)\n",
    "    else:\n",
    "        matched_indices = np.empty(shape=(0, 2))\n",
    "    if len(matched_indices) == 0:\n",
    "        print(\"Error length of matched_indices if zero!\")\n",
    "    if iou_threshold >= 0.5:\n",
    "        matches = []\n",
    "        for m in matched_indices:\n",
    "            if iou_matrix[m[0], m[1]] >= iou_threshold:\n",
    "                matches.append([m[0], m[1]])\n",
    "        matched_indices = np.array(matches)\n",
    "    matched_dets = dets[matched_indices[:,0]]\n",
    "    matched_gts = gts[matched_indices[:,1]]\n",
    "    # print(matched_dets)\n",
    "    # print(matched_gts)\n",
    "    pred = torch.from_numpy(matched_dets[:,:4])\n",
    "    target = torch.from_numpy(matched_gts[:,:4])\n",
    "    cp_cov = np.array(var_cp_dict[mode])\n",
    "    if is_before_tracking:\n",
    "        cov = torch.from_numpy(np.exp(matched_dets[:,8:]) * cp_cov)\n",
    "    else:\n",
    "        cov = []\n",
    "    std = torch.sqrt(cov)\n",
    "    predicted_normal_dists = torch.distributions.normal.Normal(pred, std)\n",
    "    negative_log_prob = - predicted_normal_dists.log_prob(target)\n",
    "    negative_log_prob = torch.clamp(negative_log_prob, min = 0)\n",
    "    #print(std)\n",
    "    #print(negative_log_prob)\n",
    "    negative_log_prob = torch.sum(negative_log_prob,axis=1)/4\n",
    "    #print(negative_log_prob)\n",
    "    return negative_log_prob.tolist(), matched_indices\n",
    "\n",
    "def compute_nll_for_mode(mode, det_path, is_before_tracking):\n",
    "    upper_path = det_path + mode + \"/no_rsu/\"\n",
    "    scene_idxes_file = open(scene_idxes_file_path, \"r\")\n",
    "    scene_idxes = [int(line.strip()) for line in scene_idxes_file]\n",
    "    #print(scene_idxes)\n",
    "    nll_res = []\n",
    "    for agent in range(1,5):\n",
    "        det_files_path = upper_path + \"tracking\" + str(agent)\n",
    "        gt_files_path = gt_path + \"V2X-test\" + str(agent)\n",
    "        for scene in scene_idxes:\n",
    "            scene = 29\n",
    "            det_scene_file = os.path.join(det_files_path, \"det_\" + str(scene) + \".txt\")\n",
    "            gt_scene_file = os.path.join(gt_files_path, str(scene), \"gt/gt.txt\")\n",
    "            det_datas = np.loadtxt(det_scene_file, delimiter=\",\")\n",
    "            gt_datas = np.loadtxt(gt_scene_file, delimiter=\",\")\n",
    "            if len(gt_datas) == 0 or len(det_datas) == 0:\n",
    "                continue\n",
    "            det_datas = split_data_by_frame(det_datas)\n",
    "            gt_datas = split_data_by_frame(gt_datas)\n",
    "            gt_idx = 0\n",
    "            for det_idx in range(len(det_datas)):\n",
    "                if det_datas[det_idx][0][0] != gt_datas[gt_idx][0][0]:\n",
    "                    print(f\"Error idx not match {det_idx}, {gt_idx}\")\n",
    "                    continue\n",
    "                if gt_idx >= len(gt_datas):\n",
    "                    print(f\"gt_idx out of range, {gt_idx} {det_idx}\")\n",
    "                    break\n",
    "                nll, matched_indices = compute_nll(det_datas[det_idx], gt_datas[gt_idx], mode, is_before_tracking)\n",
    "                # if sum(nll)/ len(nll) > 4800:\n",
    "                #     print(det_datas[det_idx], gt_datas[gt_idx])\n",
    "                #     print(nll)\n",
    "                #     print(matched_indices)\n",
    "                #     return []\n",
    "                nll_res.extend(nll)\n",
    "                gt_idx += 1\n",
    "    nll_mean = sum(nll_res) / len(nll_res)\n",
    "    return nll_mean"
   ]
  },
  {
   "cell_type": "markdown",
   "id": "a7239628-e355-48a4-a425-898999c54b30",
   "metadata": {},
   "source": [
    "## before tracking"
   ]
  },
  {
   "cell_type": "code",
   "execution_count": 104,
   "id": "462e581f-2148-4ea9-80db-afe54fa5801d",
   "metadata": {},
   "outputs": [
    {
     "name": "stdout",
     "output_type": "stream",
     "text": [
      "NLL for upperbound is 36.29098058510671\n"
     ]
    }
   ],
   "source": [
    "mode = \"upperbound\"\n",
    "nll = compute_nll_for_mode(mode, before_path, True)\n",
    "print(f\"NLL for {mode} is {nll}\")"
   ]
  },
  {
   "cell_type": "code",
   "execution_count": 105,
   "id": "ad68e0ab-e7d1-446c-ba3f-0d4794a1162c",
   "metadata": {},
   "outputs": [
    {
     "name": "stdout",
     "output_type": "stream",
     "text": [
      "NLL for disco is 44.205288841614696\n"
     ]
    }
   ],
   "source": [
    "mode = \"disco\"\n",
    "nll = compute_nll_for_mode(mode, before_path, True)\n",
    "print(f\"NLL for {mode} is {nll}\")"
   ]
  },
  {
   "cell_type": "code",
   "execution_count": 106,
   "id": "57da2433-e2a5-4616-a78a-6ba304faab1f",
   "metadata": {},
   "outputs": [
    {
     "name": "stdout",
     "output_type": "stream",
     "text": [
      "NLL for lowerbound is 248.39092825090913\n"
     ]
    }
   ],
   "source": [
    "mode = \"lowerbound\"\n",
    "nll = compute_nll_for_mode(mode, before_path, True)\n",
    "print(f\"NLL for {mode} is {nll}\")"
   ]
  },
  {
   "cell_type": "code",
   "execution_count": null,
   "id": "b16c3778-a4c8-4944-8a30-47f99c02ad85",
   "metadata": {},
   "outputs": [],
   "source": []
  }
 ],
 "metadata": {
  "kernelspec": {
   "display_name": "Python 3 (ipykernel)",
   "language": "python",
   "name": "python3"
  },
  "language_info": {
   "codemirror_mode": {
    "name": "ipython",
    "version": 3
   },
   "file_extension": ".py",
   "mimetype": "text/x-python",
   "name": "python",
   "nbconvert_exporter": "python",
   "pygments_lexer": "ipython3",
   "version": "3.9.7"
  }
 },
 "nbformat": 4,
 "nbformat_minor": 5
}
