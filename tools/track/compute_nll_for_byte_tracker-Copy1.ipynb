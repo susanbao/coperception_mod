{
 "cells": [
  {
   "cell_type": "markdown",
   "id": "b17c4b03-ff14-4657-9173-828bc9d4898e",
   "metadata": {},
   "source": [
    "# Compute the NLL metric before and after tracking"
   ]
  },
  {
   "cell_type": "code",
   "execution_count": 1,
   "id": "61367de0-65ce-4756-a7ae-43569c103465",
   "metadata": {},
   "outputs": [],
   "source": [
    "import numpy as np\n",
    "import torch\n",
    "import math\n",
    "import os\n",
    "import properscoring as ps\n",
    "import warnings\n",
    "warnings.filterwarnings('ignore')"
   ]
  },
  {
   "cell_type": "code",
   "execution_count": 2,
   "id": "7404882f-8e9b-4140-8ca3-fbc82e91d699",
   "metadata": {},
   "outputs": [],
   "source": [
    "before_path = \"../det/check/check_loss_two_step_center_rh_ind/\"\n",
    "after_path = \"./byte_tracker/cov/\"\n",
    "after_cfk_path = after_path + \"cfk/\"\n",
    "after_nlla_path = after_path + \"nlla/\"\n",
    "after_origin_path = after_path + \"origin/\"\n",
    "after_cfk_nlla_path = after_path + \"cfk_nlla/\"\n",
    "gt_path = \"./TrackEval/data/gt/mot_challenge/\"\n",
    "scene_idxes_file_path = \"../utils/test_scenes.txt\"\n",
    "var_cp_dict = {\"upperbound\": [156.3751341925818, 65.24260517866209, 2785.7870238883734, 26.43169171689354], \"disco\": [214.13191750615232, 77.15047953920649, 2503.1216487206066, 24.387592952924123], \"lowerbound\": [268.0828005828979, 93.20827260609053, 18277.14814591181, 40.319136673153885]}"
   ]
  },
  {
   "cell_type": "code",
   "execution_count": 3,
   "id": "3a07942b-b6ee-4150-a2db-45ec8f921ae2",
   "metadata": {},
   "outputs": [],
   "source": [
    "def convert_bbox_to_z(bbox):\n",
    "    \"\"\"\n",
    "    Takes a bounding box in the form [x1,y1,x2,y2] and returns z in the form\n",
    "      [x,y,r,h] where x,y is the centre of the box and r is\n",
    "      the aspect ratio\n",
    "    \"\"\"\n",
    "    w = bbox[2]\n",
    "    h = bbox[3]\n",
    "    x = bbox[0] + w / 2.0\n",
    "    y = bbox[1] + h / 2.0\n",
    "    if float(h) < 0.00001:\n",
    "        print([x, y, w, h])\n",
    "        print(bbox)\n",
    "    r = w / float(h)\n",
    "    return np.array([x, y, r, h])\n",
    "\n",
    "def split_data_by_frame(data):\n",
    "    res = []\n",
    "    start = 0\n",
    "    if data.shape[0] == 0:\n",
    "        return res\n",
    "    if len(data.shape) == 1:\n",
    "        res.append(data[np.newaxis, :])\n",
    "        return res\n",
    "    for i in range(1,data.shape[0]):\n",
    "        if data[i][0] != data[start][0]:\n",
    "            res.append(data[start:i,:])\n",
    "            start = i\n",
    "    res.append(data[start:,:])\n",
    "    return res\n",
    "\n",
    "def iou_batch(bb_test, bb_gt):\n",
    "    \"\"\"\n",
    "    From SORT: Computes IOU between two bboxes in the form [x1,y1,x2,y2]\n",
    "    \"\"\"\n",
    "    bb_gt = np.expand_dims(bb_gt, 0)\n",
    "    bb_test = np.expand_dims(bb_test, 1)\n",
    "\n",
    "    xx1 = np.maximum(bb_test[..., 0], bb_gt[..., 0])\n",
    "    yy1 = np.maximum(bb_test[..., 1], bb_gt[..., 1])\n",
    "    xx2 = np.minimum(bb_test[..., 2], bb_gt[..., 2])\n",
    "    yy2 = np.minimum(bb_test[..., 3], bb_gt[..., 3])\n",
    "    w = np.maximum(0.0, xx2 - xx1)\n",
    "    h = np.maximum(0.0, yy2 - yy1)\n",
    "    wh = w * h\n",
    "    o = wh / (\n",
    "        (bb_test[..., 2] - bb_test[..., 0]) * (bb_test[..., 3] - bb_test[..., 1])\n",
    "        + (bb_gt[..., 2] - bb_gt[..., 0]) * (bb_gt[..., 3] - bb_gt[..., 1])\n",
    "        - wh\n",
    "    )\n",
    "    return o\n",
    "\n",
    "def linear_assignment(cost_matrix):\n",
    "    try:\n",
    "        import lap\n",
    "\n",
    "        _, x, y = lap.lapjv(cost_matrix, extend_cost=True)\n",
    "        return np.array([[y[i], i] for i in x if i >= 0])  #\n",
    "    except ImportError:\n",
    "        from scipy.optimize import linear_sum_assignment\n",
    "\n",
    "        x, y = linear_sum_assignment(cost_matrix)\n",
    "        return np.array(list(zip(x, y)))\n",
    "\n",
    "def pre_process_bbox(datas):\n",
    "    \"\"\"\n",
    "    make the bbox be [x1,y1,x2,y2] where [x1,y1] is the left bottom and [x2,y2] is the right top\n",
    "    \"\"\"\n",
    "    for i in range(datas.shape[0]):\n",
    "        small = [min(datas[i][0], datas[i][2]), min(datas[i][1], datas[i][3])]\n",
    "        large = [max(datas[i][0], datas[i][2]), max(datas[i][1], datas[i][3])]\n",
    "        datas[i][0] = small[0]\n",
    "        datas[i][1] = small[1]\n",
    "        datas[i][2] = large[0]\n",
    "        datas[i][3] = large[1]\n",
    "    return datas\n",
    "\n",
    "def remove_error_bbox(dets):\n",
    "    res = []\n",
    "    for i in range(dets.shape[0]):\n",
    "        if dets[i, 0] == dets[i, 2] or dets[i, 1] == dets[i, 3]:\n",
    "            continue\n",
    "        res.append(list(dets[i]))\n",
    "    return np.array(res)\n",
    "\n",
    "def convert_bboxs_to_zs(datas):\n",
    "    for i in range(datas.shape[0]):\n",
    "        datas[i, :4] = convert_bbox_to_z(datas[i,:4])\n",
    "    return datas\n",
    "    \n",
    "def compute_nll(dets, gts, mode, is_before_tracking, iou_threshold, is_use_cp_cov):\n",
    "    dets = pre_process_bbox(dets[:,2:])\n",
    "    gts = pre_process_bbox(gts[:,2:])\n",
    "    dets = remove_error_bbox(dets)\n",
    "    iou_matrix = iou_batch(dets, gts)\n",
    "    if min(iou_matrix.shape) > 0:\n",
    "        a = (iou_matrix > iou_threshold).astype(np.int32)\n",
    "        if a.sum(1).max() == 1 and a.sum(0).max() == 1:\n",
    "            matched_indices = np.stack(np.where(a), axis=1)\n",
    "        else:\n",
    "            matched_indices = linear_assignment(-iou_matrix)\n",
    "    else:\n",
    "        matched_indices = np.empty(shape=(0, 2))\n",
    "    if len(matched_indices) == 0:\n",
    "        print(\"Error length of matched_indices if zero!\")\n",
    "    if iou_threshold >= 0.5:\n",
    "        matches = []\n",
    "        for m in matched_indices:\n",
    "            if iou_matrix[m[0], m[1]] >= iou_threshold:\n",
    "                matches.append([m[0], m[1]])\n",
    "        matched_indices = np.array(matches)\n",
    "    if len(np.array(matched_indices).shape) < 2:\n",
    "        return [], matched_indices\n",
    "    matched_dets = dets[matched_indices[:,0]]\n",
    "    matched_gts = gts[matched_indices[:,1]]\n",
    "    pred = torch.from_numpy(convert_bboxs_to_zs(matched_dets[:,:4]))\n",
    "    target = torch.from_numpy(convert_bboxs_to_zs(matched_gts[:,:4]))\n",
    "    if is_before_tracking:\n",
    "        cov = np.exp(matched_dets[:,8:])\n",
    "    else:\n",
    "        cov = matched_dets[:,8:]\n",
    "    if is_use_cp_cov:\n",
    "        cp_cov = np.array(var_cp_dict[mode])\n",
    "        cov = cov * cp_cov\n",
    "    cov = torch.from_numpy(cov)\n",
    "    std = torch.sqrt(cov)\n",
    "    predicted_normal_dists = torch.distributions.normal.Normal(pred, std)\n",
    "    negative_log_prob = - predicted_normal_dists.log_prob(target)\n",
    "    negative_log_prob = torch.clamp(negative_log_prob, min = 0)\n",
    "    negative_log_prob = torch.sum(negative_log_prob,axis=1)/4\n",
    "    # if sum(negative_log_prob) > 10*7:\n",
    "    #     print(dets)\n",
    "    #     print(gts)\n",
    "    #     print(matched_indices)\n",
    "    #     print(negative_log_prob)\n",
    "    #     print(iou_matrix)\n",
    "    #     print(matched_dets)\n",
    "    #     print(matched_gts)\n",
    "    #     return [], []\n",
    "    return negative_log_prob.tolist(), matched_indices\n",
    "\n",
    "def compute_nll_for_mode(mode, det_path, is_before_tracking, iou_threshold, is_use_cp_cov):\n",
    "    upper_path = det_path + mode + \"/no_rsu/\"\n",
    "    scene_idxes_file = open(scene_idxes_file_path, \"r\")\n",
    "    scene_idxes = [int(line.strip()) for line in scene_idxes_file]\n",
    "    #print(scene_idxes)\n",
    "    nll_res = []\n",
    "    for agent in range(1,6):\n",
    "        det_files_path = upper_path + \"tracking\" + str(agent)\n",
    "        gt_files_path = gt_path + \"V2X-test\" + str(agent)\n",
    "        for scene in scene_idxes:\n",
    "\n",
    "            if is_before_tracking:\n",
    "                det_scene_file = os.path.join(det_files_path, \"det_\" + str(scene) + \".txt\")\n",
    "            else:\n",
    "                det_scene_file = os.path.join(det_files_path, str(scene) + \".txt\")\n",
    "            gt_scene_file = os.path.join(gt_files_path, str(scene), \"gt/gt.txt\")\n",
    "            det_datas = np.loadtxt(det_scene_file, delimiter=\",\")\n",
    "            gt_datas = np.loadtxt(gt_scene_file, delimiter=\",\")\n",
    "            if len(gt_datas) == 0 or len(det_datas) == 0:\n",
    "                continue\n",
    "            det_datas = split_data_by_frame(det_datas)\n",
    "            gt_datas = split_data_by_frame(gt_datas)\n",
    "            det_idx = 0\n",
    "            for gt_idx in range(len(gt_datas)):\n",
    "                if det_idx >= len(det_datas):\n",
    "                    break\n",
    "                if det_datas[det_idx][0][0] != gt_datas[gt_idx][0][0]:\n",
    "                    #print(f\"Error idx not match {scene} {agent} {det_idx}, {gt_idx} {det_datas[det_idx][0][0]} {gt_datas[gt_idx][0][0]}\")\n",
    "                    continue\n",
    "                if gt_idx >= len(gt_datas):\n",
    "                    print(f\"gt_idx out of range, {gt_idx} {det_idx}\")\n",
    "                    break\n",
    "                nll, matched_indices = compute_nll(det_datas[det_idx], gt_datas[gt_idx], mode, is_before_tracking, iou_threshold, is_use_cp_cov)\n",
    "                # if nll == []:\n",
    "                #     print(det_scene_file)\n",
    "                #     print(det_datas[det_idx])\n",
    "                #     return 0\n",
    "                nll_res.extend(nll)\n",
    "                det_idx += 1\n",
    "    nll_mean = sum(nll_res) / len(nll_res)\n",
    "    return nll_mean\n",
    "\n",
    "def show_one_result(path, is_before_tracking=True, iou_threshold = 0.5, is_use_cp_cov=True):\n",
    "    mode_list = [\"upperbound\", \"disco\",\"lowerbound\"]\n",
    "    for mode in mode_list:\n",
    "        nll = compute_nll_for_mode(mode, path, is_before_tracking, iou_threshold, is_use_cp_cov)\n",
    "        print(f\"NLL for {mode} is {nll}\")"
   ]
  },
  {
   "cell_type": "markdown",
   "id": "a7239628-e355-48a4-a425-898999c54b30",
   "metadata": {},
   "source": [
    "## before tracking"
   ]
  },
  {
   "cell_type": "code",
   "execution_count": 4,
   "id": "989f0201-ac79-40f8-86f4-0e3c93e74fd6",
   "metadata": {},
   "outputs": [
    {
     "name": "stdout",
     "output_type": "stream",
     "text": [
      "NLL for upperbound is 53.78922865018845\n"
     ]
    }
   ],
   "source": [
    "mode = \"upperbound\"\n",
    "nll = compute_nll_for_mode(mode, before_path, True, 0.5, True)\n",
    "print(f\"NLL for {mode} is {nll}\")"
   ]
  },
  {
   "cell_type": "code",
   "execution_count": 5,
   "id": "0f215723-e47d-4eea-aef5-a9ff999b25d3",
   "metadata": {},
   "outputs": [
    {
     "name": "stdout",
     "output_type": "stream",
     "text": [
      "NLL for upperbound is 53.78922865018845\n",
      "NLL for disco is 71.58428929992485\n",
      "NLL for lowerbound is 84.5428391808751\n"
     ]
    }
   ],
   "source": [
    "show_one_result(before_path, True, iou_threshold=0.5, is_use_cp_cov=True)"
   ]
  },
  {
   "cell_type": "code",
   "execution_count": 6,
   "id": "bf590329-a001-40fe-b2ad-8d1e8f82e669",
   "metadata": {},
   "outputs": [
    {
     "name": "stdout",
     "output_type": "stream",
     "text": [
      "NLL for upperbound is 3204.5893719730598\n",
      "NLL for disco is 5780.966739348752\n",
      "NLL for lowerbound is 5395.272243765268\n"
     ]
    }
   ],
   "source": [
    "show_one_result(before_path, True, iou_threshold=0.5, is_use_cp_cov=False)"
   ]
  },
  {
   "cell_type": "code",
   "execution_count": 7,
   "id": "a70b4801-ad90-497a-8ac6-b0b3d0bc0ff9",
   "metadata": {},
   "outputs": [
    {
     "name": "stdout",
     "output_type": "stream",
     "text": [
      "NLL for upperbound is 31.800183472251298\n",
      "NLL for disco is 46.725078928276304\n",
      "NLL for lowerbound is 21.838259327222616\n"
     ]
    }
   ],
   "source": [
    "show_one_result(before_path, True, iou_threshold=0.7, is_use_cp_cov=True)"
   ]
  },
  {
   "cell_type": "code",
   "execution_count": 8,
   "id": "bfb1f83b-00ea-450c-ba38-8aa0d13a771f",
   "metadata": {},
   "outputs": [
    {
     "name": "stdout",
     "output_type": "stream",
     "text": [
      "NLL for upperbound is 1966.6107415645718\n",
      "NLL for disco is 3856.4190231386438\n",
      "NLL for lowerbound is 1862.2037339378617\n"
     ]
    }
   ],
   "source": [
    "show_one_result(before_path, True, iou_threshold=0.7, is_use_cp_cov=False)"
   ]
  },
  {
   "cell_type": "code",
   "execution_count": 9,
   "id": "911ace5e-d494-4e51-9cdc-be2465d7c269",
   "metadata": {},
   "outputs": [
    {
     "name": "stdout",
     "output_type": "stream",
     "text": [
      "NLL for upperbound is 319.3816603609519\n",
      "NLL for disco is 577.0204889917645\n",
      "NLL for lowerbound is 538.4593564283585\n"
     ]
    }
   ],
   "source": [
    "var_cp_dict = {\"upperbound\": [10,10,10,10], \"disco\": [10,10,10,10], \"lowerbound\": [10,10,10,10]}\n",
    "show_one_result(before_path, True, iou_threshold=0.5, is_use_cp_cov=True)"
   ]
  },
  {
   "cell_type": "code",
   "execution_count": 10,
   "id": "87960fec-5aeb-402a-9081-3cf9283638bf",
   "metadata": {},
   "outputs": [
    {
     "name": "stdout",
     "output_type": "stream",
     "text": [
      "NLL for upperbound is 195.58397234090145\n",
      "NLL for disco is 384.5700219988893\n",
      "NLL for lowerbound is 185.1610723820612\n"
     ]
    }
   ],
   "source": [
    "show_one_result(before_path, True, iou_threshold=0.7, is_use_cp_cov=True)"
   ]
  },
  {
   "cell_type": "markdown",
   "id": "a605eb81-ed99-4da7-b08e-e0586d8583c9",
   "metadata": {},
   "source": [
    "## after tracking origin"
   ]
  },
  {
   "cell_type": "code",
   "execution_count": 11,
   "id": "451c1b2e-f789-4102-b744-854decf9ea30",
   "metadata": {},
   "outputs": [
    {
     "name": "stdout",
     "output_type": "stream",
     "text": [
      "NLL for upperbound is 20.95257657137378\n",
      "NLL for disco is 116.95265533161864\n",
      "NLL for lowerbound is 7.21952550390977\n"
     ]
    }
   ],
   "source": [
    "var_cp_dict = {\"upperbound\": [156.3751341925818, 65.24260517866209, 2785.7870238883734, 26.43169171689354], \"disco\": [214.13191750615232, 77.15047953920649, 2503.1216487206066, 24.387592952924123], \"lowerbound\": [268.0828005828979, 93.20827260609053, 18277.14814591181, 40.319136673153885]}\n",
    "show_one_result(after_origin_path, False, iou_threshold=0.5, is_use_cp_cov=False)"
   ]
  },
  {
   "cell_type": "code",
   "execution_count": 12,
   "id": "301241e8-9ceb-40f2-9d52-ddd08cdf1a1b",
   "metadata": {},
   "outputs": [
    {
     "name": "stdout",
     "output_type": "stream",
     "text": [
      "NLL for upperbound is 18.599546348665335\n",
      "NLL for disco is 6.339943740304376\n",
      "NLL for lowerbound is 3.2475714091450554\n"
     ]
    }
   ],
   "source": [
    "show_one_result(after_origin_path, False, iou_threshold=0.7, is_use_cp_cov=False)"
   ]
  },
  {
   "cell_type": "markdown",
   "id": "c9894b23-cc3c-49eb-a29f-12412ddb6bb1",
   "metadata": {},
   "source": [
    "## after tracking cfk"
   ]
  },
  {
   "cell_type": "code",
   "execution_count": 13,
   "id": "7961ed72-d36d-43b6-85c2-edf09702b3f5",
   "metadata": {},
   "outputs": [
    {
     "name": "stdout",
     "output_type": "stream",
     "text": [
      "NLL for upperbound is 31.506232666450455\n",
      "NLL for disco is 52.427947939989025\n",
      "NLL for lowerbound is 55.52599474807452\n"
     ]
    }
   ],
   "source": [
    "show_one_result(after_cfk_path, False, iou_threshold=0.5, is_use_cp_cov=False)"
   ]
  },
  {
   "cell_type": "code",
   "execution_count": 14,
   "id": "01eaec79-e59b-4cb1-9b04-cc35c45faa09",
   "metadata": {},
   "outputs": [
    {
     "name": "stdout",
     "output_type": "stream",
     "text": [
      "NLL for upperbound is 23.79823602326444\n",
      "NLL for disco is 42.120769782372626\n",
      "NLL for lowerbound is 22.40044172498877\n"
     ]
    }
   ],
   "source": [
    "show_one_result(after_cfk_path, False, iou_threshold=0.7, is_use_cp_cov=False)"
   ]
  },
  {
   "cell_type": "markdown",
   "id": "92646dd8-18a0-4a44-8e6a-c52fe1cd5d38",
   "metadata": {},
   "source": [
    "## after tracking nlla"
   ]
  },
  {
   "cell_type": "code",
   "execution_count": 15,
   "id": "b0ce0fda-054d-4bbc-b62b-04f90ac0e9a5",
   "metadata": {},
   "outputs": [
    {
     "name": "stdout",
     "output_type": "stream",
     "text": [
      "NLL for upperbound is 2159.373751681863\n",
      "NLL for disco is 123.69860360995361\n",
      "NLL for lowerbound is 8.196590759313471\n"
     ]
    }
   ],
   "source": [
    "show_one_result(after_nlla_path, False, iou_threshold=0.5, is_use_cp_cov=False)"
   ]
  },
  {
   "cell_type": "code",
   "execution_count": 16,
   "id": "f504d77b-1564-4b23-a0df-97c43a6a0b16",
   "metadata": {},
   "outputs": [
    {
     "name": "stdout",
     "output_type": "stream",
     "text": [
      "NLL for upperbound is 2207.47225628959\n",
      "NLL for disco is 7.060356317380336\n",
      "NLL for lowerbound is 3.544019148748239\n"
     ]
    }
   ],
   "source": [
    "show_one_result(after_nlla_path, False, iou_threshold=0.7, is_use_cp_cov=False)"
   ]
  },
  {
   "cell_type": "markdown",
   "id": "75581006-dbc4-4378-b1c7-6b3e1dd44a64",
   "metadata": {},
   "source": [
    "## after tracking cfk + nlla"
   ]
  },
  {
   "cell_type": "code",
   "execution_count": 17,
   "id": "2bb1796b-61d3-4e9d-919b-1330d99321e2",
   "metadata": {},
   "outputs": [
    {
     "name": "stdout",
     "output_type": "stream",
     "text": [
      "NLL for upperbound is 36.95258754497168\n",
      "NLL for disco is 54.5004854636926\n",
      "NLL for lowerbound is 69.87568676883734\n"
     ]
    }
   ],
   "source": [
    "show_one_result(after_cfk_nlla_path, False, iou_threshold=0.5, is_use_cp_cov=False)"
   ]
  },
  {
   "cell_type": "code",
   "execution_count": 18,
   "id": "bf91383b-c285-4024-8475-aa6550f65d21",
   "metadata": {},
   "outputs": [
    {
     "name": "stdout",
     "output_type": "stream",
     "text": [
      "NLL for upperbound is 29.280835449935427\n",
      "NLL for disco is 43.5364815440318\n",
      "NLL for lowerbound is 23.500359895091695\n"
     ]
    }
   ],
   "source": [
    "show_one_result(after_cfk_nlla_path, False, iou_threshold=0.7, is_use_cp_cov=False)"
   ]
  },
  {
   "cell_type": "code",
   "execution_count": 19,
   "id": "a731d297-1d87-409a-88a1-b21b22d2d6b3",
   "metadata": {},
   "outputs": [
    {
     "name": "stdout",
     "output_type": "stream",
     "text": [
      "NLL for upperbound is 6.470488639693675\n",
      "NLL for disco is 8.120728241573676\n",
      "NLL for lowerbound is 15.204318345104362\n"
     ]
    }
   ],
   "source": [
    "#cp1\n",
    "var_cp_dict = {\"upperbound\": [2.0168343618519997, 20.655256274811332, 0.0065616422113331276, 9.810218760278726], \"disco\": [1.5844876978208504, 16.85182149486315, 0.007767244933272351, 10.737039123121171], \"lowerbound\": [0.9496513748504812, 14.405661414225111, 0.0015879443245170666, 6.56055795747982]}\n",
    "show_one_result(after_cfk_nlla_path, False, iou_threshold=0.5, is_use_cp_cov=True)"
   ]
  },
  {
   "cell_type": "code",
   "execution_count": 20,
   "id": "f2764762-e77b-4bfb-968a-704f0eef2212",
   "metadata": {},
   "outputs": [
    {
     "name": "stdout",
     "output_type": "stream",
     "text": [
      "NLL for upperbound is 3.851571320150271\n",
      "NLL for disco is 6.009559973197374\n",
      "NLL for lowerbound is 3.9345103436779953\n"
     ]
    }
   ],
   "source": [
    "show_one_result(after_cfk_nlla_path, False, iou_threshold=0.7, is_use_cp_cov=True)"
   ]
  },
  {
   "cell_type": "code",
   "execution_count": 21,
   "id": "507a3549-674e-44f0-a83a-7d59ae2bfb09",
   "metadata": {},
   "outputs": [
    {
     "name": "stdout",
     "output_type": "stream",
     "text": [
      "NLL for upperbound is 2.359550175913343\n",
      "NLL for disco is 3.146641854757538\n",
      "NLL for lowerbound is 4.244379136884319\n"
     ]
    }
   ],
   "source": [
    "#cp2\n",
    "var_cp_dict = {\"upperbound\": [5.6827505661910545, 39.22419803102757, 0.2799106202333024, 23.82625371377505], \"disco\": [5.134614410746115, 38.66801996668446, 0.3031539483223637, 22.899039617727098], \"lowerbound\": [4.463060508876752, 30.744574219188294, 0.028465764379049255, 18.922759296842013]}\n",
    "show_one_result(after_cfk_nlla_path, False, iou_threshold=0.5, is_use_cp_cov=True)"
   ]
  },
  {
   "cell_type": "code",
   "execution_count": 22,
   "id": "d76c437d-9a24-4cf3-af3e-75b997b4951f",
   "metadata": {},
   "outputs": [
    {
     "name": "stdout",
     "output_type": "stream",
     "text": [
      "NLL for upperbound is 1.6946910584173314\n",
      "NLL for disco is 2.4313519337806815\n",
      "NLL for lowerbound is 1.521384462568064\n"
     ]
    }
   ],
   "source": [
    "show_one_result(after_cfk_nlla_path, False, iou_threshold=0.7, is_use_cp_cov=True)"
   ]
  },
  {
   "cell_type": "markdown",
   "id": "f1cfe902-bc9a-4143-bb60-f3805fa6e4b4",
   "metadata": {},
   "source": [
    "# CRPS"
   ]
  },
  {
   "cell_type": "code",
   "execution_count": 23,
   "id": "c07e0bd8-99c3-4eaa-a4ea-b7cd55e2c237",
   "metadata": {},
   "outputs": [],
   "source": [
    "var_cp_dict = {\"upperbound\": [156.3751341925818, 65.24260517866209, 2785.7870238883734, 26.43169171689354], \"disco\": [214.13191750615232, 77.15047953920649, 2503.1216487206066, 24.387592952924123], \"lowerbound\": [268.0828005828979, 93.20827260609053, 18277.14814591181, 40.319136673153885]}\n",
    "def compute_crps(dets, gts, mode, is_before_tracking, iou_threshold, is_use_cp_cov):\n",
    "    dets = pre_process_bbox(dets[:,2:])\n",
    "    gts = pre_process_bbox(gts[:,2:])\n",
    "    dets = remove_error_bbox(dets)\n",
    "    iou_matrix = iou_batch(dets, gts)\n",
    "    if min(iou_matrix.shape) > 0:\n",
    "        a = (iou_matrix > iou_threshold).astype(np.int32)\n",
    "        if a.sum(1).max() == 1 and a.sum(0).max() == 1:\n",
    "            matched_indices = np.stack(np.where(a), axis=1)\n",
    "        else:\n",
    "            matched_indices = linear_assignment(-iou_matrix)\n",
    "    else:\n",
    "        matched_indices = np.empty(shape=(0, 2))\n",
    "    if len(matched_indices) == 0:\n",
    "        print(\"Error length of matched_indices if zero!\")\n",
    "    if iou_threshold >= 0.5:\n",
    "        matches = []\n",
    "        for m in matched_indices:\n",
    "            if iou_matrix[m[0], m[1]] >= iou_threshold:\n",
    "                matches.append([m[0], m[1]])\n",
    "        matched_indices = np.array(matches)\n",
    "    if len(np.array(matched_indices).shape) < 2:\n",
    "        return [], matched_indices\n",
    "    matched_dets = dets[matched_indices[:,0]]\n",
    "    matched_gts = gts[matched_indices[:,1]]\n",
    "    pred = convert_bboxs_to_zs(matched_dets[:,:4])\n",
    "    target = convert_bboxs_to_zs(matched_gts[:,:4])\n",
    "    if is_before_tracking:\n",
    "        cov = np.exp(matched_dets[:,8:])\n",
    "    else:\n",
    "        cov = matched_dets[:,8:]\n",
    "    if is_use_cp_cov:\n",
    "        cp_cov = np.array(var_cp_dict[mode])\n",
    "        cov = cov * cp_cov\n",
    "    std = np.sqrt(cov)\n",
    "    crps = ps.crps_gaussian(target, \n",
    "                               pred,\n",
    "                               std)\n",
    "    return np.mean(crps, axis=1).tolist(), matched_indices\n",
    "\n",
    "def compute_crps_for_mode(mode, det_path, is_before_tracking, iou_threshold, is_use_cp_cov):\n",
    "    upper_path = det_path + mode + \"/no_rsu/\"\n",
    "    scene_idxes_file = open(scene_idxes_file_path, \"r\")\n",
    "    scene_idxes = [int(line.strip()) for line in scene_idxes_file]\n",
    "    #print(scene_idxes)\n",
    "    nll_res = []\n",
    "    for agent in range(1,6):\n",
    "        det_files_path = upper_path + \"tracking\" + str(agent)\n",
    "        gt_files_path = gt_path + \"V2X-test\" + str(agent)\n",
    "        for scene in scene_idxes:\n",
    "            if is_before_tracking:\n",
    "                det_scene_file = os.path.join(det_files_path, \"det_\" + str(scene) + \".txt\")\n",
    "            else:\n",
    "                det_scene_file = os.path.join(det_files_path, str(scene) + \".txt\")\n",
    "            gt_scene_file = os.path.join(gt_files_path, str(scene), \"gt/gt.txt\")\n",
    "            det_datas = np.loadtxt(det_scene_file, delimiter=\",\")\n",
    "            gt_datas = np.loadtxt(gt_scene_file, delimiter=\",\")\n",
    "            if len(gt_datas) == 0 or len(det_datas) == 0:\n",
    "                continue\n",
    "            det_datas = split_data_by_frame(det_datas)\n",
    "            gt_datas = split_data_by_frame(gt_datas)\n",
    "            det_idx = 0\n",
    "            for gt_idx in range(len(gt_datas)):\n",
    "                if det_idx >= len(det_datas):\n",
    "                    break\n",
    "                if det_datas[det_idx][0][0] != gt_datas[gt_idx][0][0]:\n",
    "                    #print(f\"Error idx not match {scene} {agent} {det_idx}, {gt_idx} {det_datas[det_idx][0][0]} {gt_datas[gt_idx][0][0]}\")\n",
    "                    continue\n",
    "                if gt_idx >= len(gt_datas):\n",
    "                    print(f\"gt_idx out of range, {gt_idx} {det_idx}\")\n",
    "                    break\n",
    "                nll, matched_indices = compute_crps(det_datas[det_idx], gt_datas[gt_idx], mode, is_before_tracking, iou_threshold, is_use_cp_cov)\n",
    "                # if nll == []:\n",
    "                #     print(det_scene_file)\n",
    "                #     print(det_datas[det_idx])\n",
    "                #     return 0\n",
    "                nll_res.extend(nll)\n",
    "                det_idx += 1\n",
    "    nll_mean = sum(nll_res) / len(nll_res)\n",
    "    return nll_mean\n",
    "\n",
    "def show_one_result_crps(path, is_before_tracking=True, iou_threshold = 0.5, is_use_cp_cov=True):\n",
    "    mode_list = [\"disco\", \"upperbound\",\"lowerbound\"]\n",
    "    for mode in mode_list:\n",
    "        nll = compute_crps_for_mode(mode, path, is_before_tracking, iou_threshold, is_use_cp_cov)\n",
    "        print(f\"NLL for {mode} is {nll}\")"
   ]
  },
  {
   "cell_type": "code",
   "execution_count": 24,
   "id": "bc88c8eb-9336-4df1-a4f4-8699c6b4f3d3",
   "metadata": {},
   "outputs": [
    {
     "name": "stdout",
     "output_type": "stream",
     "text": [
      "NLL for disco is 0.6210594718664262\n",
      "NLL for upperbound is 0.5816432159196336\n",
      "NLL for lowerbound is 0.8500387495700458\n"
     ]
    }
   ],
   "source": [
    "show_one_result_crps(before_path, True, iou_threshold=0.5, is_use_cp_cov=False)"
   ]
  },
  {
   "cell_type": "code",
   "execution_count": 25,
   "id": "7219e3ef-cf99-4cbb-a922-9a552e1437bf",
   "metadata": {},
   "outputs": [
    {
     "name": "stdout",
     "output_type": "stream",
     "text": [
      "NLL for disco is 0.5872349092269485\n",
      "NLL for upperbound is 0.5261312513418207\n",
      "NLL for lowerbound is 0.5962767555784172\n"
     ]
    }
   ],
   "source": [
    "show_one_result_crps(before_path, True, iou_threshold=0.7, is_use_cp_cov=False)"
   ]
  },
  {
   "cell_type": "code",
   "execution_count": 26,
   "id": "0d41e997-ee83-4342-a69d-4c3df4aa3cd2",
   "metadata": {},
   "outputs": [
    {
     "name": "stdout",
     "output_type": "stream",
     "text": [
      "NLL for disco is 0.5818908855768533\n",
      "NLL for upperbound is 0.5470448428670751\n",
      "NLL for lowerbound is 0.818631608889578\n"
     ]
    }
   ],
   "source": [
    "show_one_result_crps(before_path, True, iou_threshold=0.5, is_use_cp_cov=True)"
   ]
  },
  {
   "cell_type": "code",
   "execution_count": 27,
   "id": "4d080983-9f90-4861-880d-08c371c340c8",
   "metadata": {},
   "outputs": [
    {
     "name": "stdout",
     "output_type": "stream",
     "text": [
      "NLL for disco is 0.5486457074709636\n",
      "NLL for upperbound is 0.4921802293026843\n",
      "NLL for lowerbound is 0.5680183662946537\n"
     ]
    }
   ],
   "source": [
    "show_one_result_crps(before_path, True, iou_threshold=0.7, is_use_cp_cov=True)"
   ]
  },
  {
   "cell_type": "code",
   "execution_count": 28,
   "id": "c4dc63e2-3f9c-4585-a4b7-3d2ba57ebe61",
   "metadata": {},
   "outputs": [
    {
     "name": "stdout",
     "output_type": "stream",
     "text": [
      "NLL for disco is 0.5085656474847818\n",
      "NLL for upperbound is 0.45023065374726584\n",
      "NLL for lowerbound is 0.6103605574869051\n"
     ]
    }
   ],
   "source": [
    "show_one_result_crps(after_cfk_nlla_path, False, iou_threshold=0.5, is_use_cp_cov=False)"
   ]
  },
  {
   "cell_type": "code",
   "execution_count": 29,
   "id": "04b40008-6e1d-4bef-b272-cdb158726793",
   "metadata": {},
   "outputs": [
    {
     "name": "stdout",
     "output_type": "stream",
     "text": [
      "NLL for disco is 0.5007673850051751\n",
      "NLL for upperbound is 0.42705552589972573\n",
      "NLL for lowerbound is 0.5075522524466236\n"
     ]
    }
   ],
   "source": [
    "show_one_result_crps(after_cfk_nlla_path, False, iou_threshold=0.7, is_use_cp_cov=False)"
   ]
  },
  {
   "cell_type": "code",
   "execution_count": 31,
   "id": "6f55f88a-2150-498b-82e6-ea99383f514b",
   "metadata": {},
   "outputs": [
    {
     "name": "stdout",
     "output_type": "stream",
     "text": [
      "NLL for disco is 0.48919256897024194\n",
      "NLL for upperbound is 0.4337474953766887\n",
      "NLL for lowerbound is 0.5770330428863654\n"
     ]
    }
   ],
   "source": [
    "show_one_result_crps(after_origin_path, False, iou_threshold=0.5, is_use_cp_cov=False)"
   ]
  },
  {
   "cell_type": "code",
   "execution_count": 30,
   "id": "aafb008e-931e-4922-9128-a9f63e6407ef",
   "metadata": {},
   "outputs": [
    {
     "name": "stdout",
     "output_type": "stream",
     "text": [
      "NLL for disco is 0.47742055541588785\n",
      "NLL for upperbound is 0.40235982198941517\n",
      "NLL for lowerbound is 0.4753167511424003\n"
     ]
    }
   ],
   "source": [
    "show_one_result_crps(after_origin_path, False, iou_threshold=0.7, is_use_cp_cov=False)"
   ]
  },
  {
   "cell_type": "code",
   "execution_count": 32,
   "id": "d08bfd58-a93b-4d1b-a4f4-0d5f65d7c080",
   "metadata": {},
   "outputs": [
    {
     "name": "stdout",
     "output_type": "stream",
     "text": [
      "NLL for disco is 0.498483370966158\n",
      "NLL for upperbound is 0.4355359659734821\n",
      "NLL for lowerbound is 0.5920916526088508\n"
     ]
    }
   ],
   "source": [
    "show_one_result_crps(after_cfk_path, False, iou_threshold=0.5, is_use_cp_cov=False)"
   ]
  },
  {
   "cell_type": "code",
   "execution_count": 33,
   "id": "1c48367c-8f8e-4a45-b4e0-bf40d4d2a8f3",
   "metadata": {},
   "outputs": [
    {
     "name": "stdout",
     "output_type": "stream",
     "text": [
      "NLL for disco is 0.4914778587578079\n",
      "NLL for upperbound is 0.413135260823531\n",
      "NLL for lowerbound is 0.49745348372266635\n"
     ]
    }
   ],
   "source": [
    "show_one_result_crps(after_cfk_path, False, iou_threshold=0.7, is_use_cp_cov=False)"
   ]
  },
  {
   "cell_type": "code",
   "execution_count": 35,
   "id": "d0a302f6-037d-40bc-9d0c-da184ee5c224",
   "metadata": {},
   "outputs": [
    {
     "name": "stdout",
     "output_type": "stream",
     "text": [
      "NLL for disco is 0.5006122925584815\n",
      "NLL for upperbound is 0.4472146751819923\n",
      "NLL for lowerbound is 0.5939409244198556\n"
     ]
    }
   ],
   "source": [
    "show_one_result_crps(after_nlla_path, False, iou_threshold=0.5, is_use_cp_cov=False)"
   ]
  },
  {
   "cell_type": "code",
   "execution_count": 36,
   "id": "387ef2db-1903-4f0d-bd91-263d9b42d958",
   "metadata": {},
   "outputs": [
    {
     "name": "stdout",
     "output_type": "stream",
     "text": [
      "NLL for disco is 0.48493438763049174\n",
      "NLL for upperbound is 0.4157518470589673\n",
      "NLL for lowerbound is 0.48516689905432936\n"
     ]
    }
   ],
   "source": [
    "show_one_result_crps(after_nlla_path, False, iou_threshold=0.7, is_use_cp_cov=False)"
   ]
  },
  {
   "cell_type": "code",
   "execution_count": 37,
   "id": "3ff7520c-35a0-416b-b946-6bf038037ab4",
   "metadata": {},
   "outputs": [
    {
     "name": "stdout",
     "output_type": "stream",
     "text": [
      "NLL for disco is 0.4580827673186847\n",
      "NLL for upperbound is 0.40071154945244064\n",
      "NLL for lowerbound is 0.5549854906185028\n"
     ]
    }
   ],
   "source": [
    "#cp1\n",
    "var_cp_dict = {\"upperbound\": [2.0168343618519997, 20.655256274811332, 0.0065616422113331276, 9.810218760278726], \"disco\": [1.5844876978208504, 16.85182149486315, 0.007767244933272351, 10.737039123121171], \"lowerbound\": [0.9496513748504812, 14.405661414225111, 0.0015879443245170666, 6.56055795747982]}\n",
    "show_one_result_crps(after_cfk_nlla_path, False, iou_threshold=0.5, is_use_cp_cov=True)"
   ]
  },
  {
   "cell_type": "code",
   "execution_count": 38,
   "id": "b50dfa58-7a6d-4ece-b94b-9f069c343f0e",
   "metadata": {},
   "outputs": [
    {
     "name": "stdout",
     "output_type": "stream",
     "text": [
      "NLL for disco is 0.4501592770066613\n",
      "NLL for upperbound is 0.3776944155138197\n",
      "NLL for lowerbound is 0.4525772872676113\n"
     ]
    }
   ],
   "source": [
    "show_one_result_crps(after_cfk_nlla_path, False, iou_threshold=0.7, is_use_cp_cov=True)"
   ]
  },
  {
   "cell_type": "code",
   "execution_count": 39,
   "id": "49c7c584-715d-4bba-8de7-fb788d675290",
   "metadata": {},
   "outputs": [
    {
     "name": "stdout",
     "output_type": "stream",
     "text": [
      "NLL for disco is 0.4455924195154952\n",
      "NLL for upperbound is 0.3957224363892877\n",
      "NLL for lowerbound is 0.538560348535857\n"
     ]
    }
   ],
   "source": [
    "#cp2\n",
    "var_cp_dict = {\"upperbound\": [5.6827505661910545, 39.22419803102757, 0.2799106202333024, 23.82625371377505], \"disco\": [5.134614410746115, 38.66801996668446, 0.3031539483223637, 22.899039617727098], \"lowerbound\": [4.463060508876752, 30.744574219188294, 0.028465764379049255, 18.922759296842013]}\n",
    "show_one_result_crps(after_cfk_nlla_path, False, iou_threshold=0.5, is_use_cp_cov=True)"
   ]
  },
  {
   "cell_type": "code",
   "execution_count": 40,
   "id": "cc43ee39-f7ea-4cbb-a9e9-8064a546f771",
   "metadata": {},
   "outputs": [
    {
     "name": "stdout",
     "output_type": "stream",
     "text": [
      "NLL for disco is 0.4376381150073242\n",
      "NLL for upperbound is 0.37269378287963745\n",
      "NLL for lowerbound is 0.4378584352336107\n"
     ]
    }
   ],
   "source": [
    "show_one_result_crps(after_cfk_nlla_path, False, iou_threshold=0.7, is_use_cp_cov=True)"
   ]
  },
  {
   "cell_type": "code",
   "execution_count": 41,
   "id": "9ae3e2ea-224a-45e6-98c8-1e845ab71711",
   "metadata": {},
   "outputs": [
    {
     "name": "stdout",
     "output_type": "stream",
     "text": [
      "NLL for disco is 0.6042838523378714\n",
      "NLL for upperbound is 0.5642151344735987\n",
      "NLL for lowerbound is 0.8325363548932871\n"
     ]
    }
   ],
   "source": [
    "var_cp_dict = {\"upperbound\": [10,10,10,10], \"disco\": [10,10,10,10], \"lowerbound\": [10,10,10,10]}\n",
    "show_one_result_crps(before_path, True, iou_threshold=0.5, is_use_cp_cov=True)"
   ]
  },
  {
   "cell_type": "code",
   "execution_count": 42,
   "id": "6349298e-466b-478f-a6b9-f0b9e1720bab",
   "metadata": {},
   "outputs": [
    {
     "name": "stdout",
     "output_type": "stream",
     "text": [
      "NLL for disco is 0.5706108380883314\n",
      "NLL for upperbound is 0.5089887626024044\n",
      "NLL for lowerbound is 0.5792202925021502\n"
     ]
    }
   ],
   "source": [
    "show_one_result_crps(before_path, True, iou_threshold=0.7, is_use_cp_cov=True)"
   ]
  },
  {
   "cell_type": "code",
   "execution_count": null,
   "id": "4259f907-9ee3-4c00-a822-4b315666c800",
   "metadata": {},
   "outputs": [],
   "source": []
  }
 ],
 "metadata": {
  "kernelspec": {
   "display_name": "Python 3 (ipykernel)",
   "language": "python",
   "name": "python3"
  },
  "language_info": {
   "codemirror_mode": {
    "name": "ipython",
    "version": 3
   },
   "file_extension": ".py",
   "mimetype": "text/x-python",
   "name": "python",
   "nbconvert_exporter": "python",
   "pygments_lexer": "ipython3",
   "version": "3.9.7"
  }
 },
 "nbformat": 4,
 "nbformat_minor": 5
}
