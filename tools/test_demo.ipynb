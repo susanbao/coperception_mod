{
 "cells": [
  {
   "cell_type": "code",
   "execution_count": 13,
   "id": "16e37416-55a8-4a1a-b6cf-78f1af82159b",
   "metadata": {},
   "outputs": [
    {
     "name": "stdout",
     "output_type": "stream",
     "text": [
      "[13, 14, 15, 16, 71, 72, 73, 74, 54, 55, 56, 57, 23, 24, 25, 26, 2, 3, 4, 5, 74, 75, 76, 77, 44, 45, 46, 47, 34, 35, 36, 37, 42, 43, 44, 45, 26, 27, 28, 29, 32, 33, 34, 35, 81, 82, 83, 84, 86, 87, 88, 89, 60, 61, 62, 63, 22, 23, 24, 25, 91, 92, 93, 94, 14, 15, 16, 17, 20, 21, 22, 23, 93, 94, 95, 96, 70, 71, 72, 73, 62, 63, 64, 65, 43, 44, 45, 46, 76, 77, 78, 79, 40, 41, 42, 43, 46, 47, 48, 49, 52, 53, 54, 55]\n",
      "[[13, 14, 15, 16], [71, 72, 73, 74], [54, 55, 56, 57], [23, 24, 25, 26], [2, 3, 4, 5], [74, 75, 76, 77], [44, 45, 46, 47], [34, 35, 36, 37], [42, 43, 44, 45], [26, 27, 28, 29], [32, 33, 34, 35], [81, 82, 83, 84], [86, 87, 88, 89], [60, 61, 62, 63], [22, 23, 24, 25], [91, 92, 93, 94], [14, 15, 16, 17], [20, 21, 22, 23], [93, 94, 95, 96], [70, 71, 72, 73], [62, 63, 64, 65], [43, 44, 45, 46], [76, 77, 78, 79], [40, 41, 42, 43], [46, 47, 48, 49], [52, 53, 54, 55]]\n",
      "[[38, 80, 14, 66], [73, 95, 90, 79], [17, 89, 18, 97], [68, 35, 65, 54], [7, 15, 98, 94], [70, 29, 60, 49], [47, 83, 56, 33], [63, 50, 58, 2], [19, 31, 44, 4], [10, 52, 72, 64], [16, 34, 71, 77], [78, 75, 28, 30], [55, 74, 37, 6], [26, 84, 45, 0], [20, 24, 85, 93], [88, 82, 39, 12], [46, 81, 51, 87], [91, 99, 3, 86], [42, 27, 13, 96], [11, 48, 61, 23], [76, 92, 36, 57], [5, 43, 21, 67], [40, 59, 41, 25], [62, 1, 32, 9], [69, 22, 53, 8]]\n"
     ]
    }
   ],
   "source": [
    "from torch.utils.data import DataLoader, BatchSampler, Sampler, SequentialSampler, RandomSampler, BatchSampler, Dataset\n",
    "from coperception.datasets import V2XSimDet, MbbSampler\n",
    "class A:\n",
    "    def __init__(self):\n",
    "        self.num_sample_seqs = 100\n",
    "        self.scene_len = 10\n",
    "    def __len__(self):\n",
    "        return self.num_sample_seqs\n",
    "a = A()\n",
    "training_sample = MbbSampler(a, 4)\n",
    "print(list(BatchSampler(training_sample, batch_size=4, drop_last=False)))\n",
    "print(list(BatchSampler(RandomSampler(range(100)), batch_size=4, drop_last=False)))"
   ]
  },
  {
   "cell_type": "code",
   "execution_count": 9,
   "id": "a6190d50-9196-44f2-81de-9c0bb186aa27",
   "metadata": {},
   "outputs": [
    {
     "name": "stdout",
     "output_type": "stream",
     "text": [
      "[2, 3, 4, 5, 20, 21, 22, 23, 56, 57, 58, 59, 30, 31, 32, 33, 64, 65, 66, 67, 53, 54, 55, 56, 16, 17, 18, 19, 62, 63, 64, 65, 81, 82, 83, 84, 35, 36, 37, 38, 55, 56, 57, 58, 83, 84, 85, 86, 95, 96, 97, 98, 63, 64, 65, 66, 82, 83, 84, 85, 96, 97, 98, 99, 70, 71, 72, 73, 11, 12, 13, 14, 75, 76, 77, 78, 73, 74, 75, 76, 26, 27, 28, 29, 52, 53, 54, 55, 34, 35, 36, 37, 40, 41, 42, 43, 5, 6, 7, 8, 93, 94, 95, 96]\n"
     ]
    }
   ],
   "source": [
    "a = list(BatchSampler(RandomSampler(range(100)), batch_size=4, drop_last=False))\n",
    "b = list(BatchSampler(training_sample, batch_size=4, drop_last=False))"
   ]
  },
  {
   "cell_type": "code",
   "execution_count": 10,
   "id": "daf0410d-51dc-48d8-ae70-0b23d43155bc",
   "metadata": {},
   "outputs": [
    {
     "name": "stdout",
     "output_type": "stream",
     "text": [
      "[[50, 16, 82, 99], [77, 41, 96, 93], [46, 61, 44, 22], [55, 40, 10, 73], [53, 8, 19, 42], [0, 37, 83, 35], [62, 86, 60, 64], [81, 56, 95, 29], [28, 4, 68, 39], [54, 49, 43, 15], [97, 48, 26, 75], [38, 27, 66, 59], [20, 18, 47, 57], [34, 78, 2, 79], [98, 7, 80, 76], [5, 88, 14, 32], [65, 52, 67, 17], [12, 31, 91, 13], [24, 51, 72, 92], [74, 69, 71, 63], [45, 9, 90, 58], [21, 85, 36, 11], [3, 33, 1, 25], [94, 23, 30, 70], [84, 87, 89, 6]]\n",
      "[[2, 3, 4, 5], [20, 21, 22, 23], [56, 57, 58, 59], [30, 31, 32, 33], [64, 65, 66, 67], [53, 54, 55, 56], [16, 17, 18, 19], [62, 63, 64, 65], [81, 82, 83, 84], [35, 36, 37, 38], [55, 56, 57, 58], [83, 84, 85, 86], [95, 96, 97, 98], [63, 64, 65, 66], [82, 83, 84, 85], [96, 97, 98, 99], [70, 71, 72, 73], [11, 12, 13, 14], [75, 76, 77, 78], [73, 74, 75, 76], [26, 27, 28, 29], [52, 53, 54, 55], [34, 35, 36, 37], [40, 41, 42, 43], [5, 6, 7, 8], [93, 94, 95, 96]]\n"
     ]
    }
   ],
   "source": [
    "print(a)\n",
    "print(b)"
   ]
  },
  {
   "cell_type": "code",
   "execution_count": 11,
   "id": "b635e35b-269d-4351-b11c-57dd9db7bf0c",
   "metadata": {},
   "outputs": [
    {
     "data": {
      "text/plain": [
       "25"
      ]
     },
     "execution_count": 11,
     "metadata": {},
     "output_type": "execute_result"
    }
   ],
   "source": [
    "len(a)"
   ]
  },
  {
   "cell_type": "code",
   "execution_count": 12,
   "id": "dcead333-e860-4f24-9b2b-a56380ef2de6",
   "metadata": {},
   "outputs": [
    {
     "data": {
      "text/plain": [
       "26"
      ]
     },
     "execution_count": 12,
     "metadata": {},
     "output_type": "execute_result"
    }
   ],
   "source": [
    "len(b)"
   ]
  },
  {
   "cell_type": "code",
   "execution_count": null,
   "id": "c5a18423-86ef-4a6a-ad38-052cbf075f5c",
   "metadata": {},
   "outputs": [],
   "source": [
    "!CUDA_VISIBLE_DEVICES=0 make mbb_train"
   ]
  },
  {
   "cell_type": "markdown",
   "id": "c9216ff4-c2fd-4f96-bb0b-8da77d7dafa2",
   "metadata": {},
   "source": [
    "### Analysis the output"
   ]
  },
  {
   "cell_type": "code",
   "execution_count": 1,
   "id": "e57c7236-989f-42e7-bc1f-140843af24df",
   "metadata": {},
   "outputs": [],
   "source": [
    "import numpy as np"
   ]
  },
  {
   "cell_type": "code",
   "execution_count": 39,
   "id": "f643595a-1377-4247-9770-d4cb1c54f370",
   "metadata": {},
   "outputs": [
    {
     "name": "stdout",
     "output_type": "stream",
     "text": [
      "./det/check_nyu/upperbound/no_rsu/0/result1/91_0.npy\n"
     ]
    }
   ],
   "source": [
    "path = \"./det/check_nyu/upperbound/no_rsu\"\n",
    "agent = 1\n",
    "scene = \"91_0\"\n",
    "file_path = path+\"/0/result\"+str(agent) + \"/\" + scene + \".npy\"\n",
    "print(file_path)"
   ]
  },
  {
   "cell_type": "code",
   "execution_count": 40,
   "id": "657ea107-5ff4-4147-97b8-d622e7733571",
   "metadata": {},
   "outputs": [],
   "source": [
    "data = np.load(file_path, allow_pickle=True)"
   ]
  },
  {
   "cell_type": "code",
   "execution_count": 41,
   "id": "7668e76d-34f9-442b-a78b-bd1cc5909a57",
   "metadata": {},
   "outputs": [
    {
     "name": "stdout",
     "output_type": "stream",
     "text": [
      "(7, 9)\n",
      "(8, 8)\n"
     ]
    }
   ],
   "source": [
    "det_results_local = data.item()['det_results_local']\n",
    "print(np.array(det_results_local[0][0]).shape)\n",
    "#det_results_local = det_results_local[0][0]\n",
    "annotations_local = data.item()['annotations_local']\n",
    "gt_boxs = annotations_local[0]['bboxes']\n",
    "print(gt_boxs.shape)"
   ]
  },
  {
   "cell_type": "code",
   "execution_count": 42,
   "id": "069ced76-0ee8-4bc0-9b54-f54128f5ff8a",
   "metadata": {},
   "outputs": [
    {
     "name": "stdout",
     "output_type": "stream",
     "text": [
      "./det/check_nyu/upperbound/no_rsu/0/result1/19_10.npy\n",
      "(7, 9)\n",
      "(8, 8)\n"
     ]
    }
   ],
   "source": [
    "agent = 1\n",
    "scene = \"19_10\"\n",
    "file_path = path+\"/0/result\"+str(agent) + \"/\" + scene + \".npy\"\n",
    "print(file_path)\n",
    "data2 = np.load(file_path, allow_pickle=True)\n",
    "det_results_local2 = data2.item()['det_results_local']\n",
    "print(np.array(det_results_local2[0][0]).shape)\n",
    "#det_results_local2 = det_results_local2[0][0]\n",
    "annotations_local2 = data2.item()['annotations_local']\n",
    "gt_boxs2 = annotations_local2[0]['bboxes']\n",
    "print(gt_boxs2.shape)"
   ]
  },
  {
   "cell_type": "code",
   "execution_count": null,
   "id": "3687fdc8-5542-47c7-950a-51c293af6046",
   "metadata": {},
   "outputs": [],
   "source": [
    "print(det_results_local)\n",
    "print(gt_boxs)"
   ]
  },
  {
   "cell_type": "code",
   "execution_count": 13,
   "id": "51d0630c-d31a-4d31-8457-f16f74e15267",
   "metadata": {},
   "outputs": [
    {
     "data": {
      "text/plain": [
       "'90'"
      ]
     },
     "execution_count": 13,
     "metadata": {},
     "output_type": "execute_result"
    }
   ],
   "source": [
    "data.item()['scene']"
   ]
  },
  {
   "cell_type": "code",
   "execution_count": 34,
   "id": "584f889e-3ba2-40e3-9499-1fd397207f6c",
   "metadata": {},
   "outputs": [],
   "source": [
    "path = \"../v2x-sim-nyu/V2X-Sim-det/train/agent1/90_0/0.npy\"\n",
    "data = np.load(path, allow_pickle=True)\n"
   ]
  },
  {
   "cell_type": "code",
   "execution_count": 35,
   "id": "b8072027-766d-442f-ab24-0a9c6e49e97c",
   "metadata": {},
   "outputs": [
    {
     "name": "stdout",
     "output_type": "stream",
     "text": [
      "(256, 256, 6, 1)\n",
      "(5814,)\n",
      "(19, 4)\n"
     ]
    }
   ],
   "source": [
    "mask = data.item()['reg_loss_mask']\n",
    "print(mask.shape)\n",
    "label_sparse = data.item()['label_sparse']\n",
    "print(label_sparse.shape)\n",
    "gt_max_iou = data.item()['gt_max_iou']\n",
    "print(gt_max_iou.shape)"
   ]
  },
  {
   "cell_type": "code",
   "execution_count": 36,
   "id": "92ee0ec7-480d-4546-a1f2-969400beee2b",
   "metadata": {},
   "outputs": [
    {
     "data": {
      "text/plain": [
       "array([[150, 106,   1,   1],\n",
       "       [207, 180,   0,   1],\n",
       "       [ 25, 146,   0,   1],\n",
       "       [164,  17,   1,   1],\n",
       "       [ 81, 146,   0,   1],\n",
       "       [150,  51,   1,   1],\n",
       "       [ 85, 160,   0,   1],\n",
       "       [164, 101,   1,   1],\n",
       "       [160,  44,   1,   1],\n",
       "       [164,  75,   1,   1],\n",
       "       [150,  78,   1,   1],\n",
       "       [ 60, 161,   0,   1],\n",
       "       [245, 176,   0,   1],\n",
       "       [209, 192,   0,   1],\n",
       "       [  0, 147,   0,   1],\n",
       "       [235, 191,   0,   1],\n",
       "       [ 55, 147,   0,   1],\n",
       "       [ 11, 161,   0,   1],\n",
       "       [127, 131,   1,   1]])"
      ]
     },
     "execution_count": 36,
     "metadata": {},
     "output_type": "execute_result"
    }
   ],
   "source": [
    "gt_max_iou"
   ]
  },
  {
   "cell_type": "code",
   "execution_count": 36,
   "id": "0037a013-b90c-41bd-a0e9-7b88478415aa",
   "metadata": {},
   "outputs": [],
   "source": [
    "import argparse\n",
    "\n",
    "import torch\n",
    "import torch.optim as optim\n",
    "from torch.utils.data import DataLoader\n",
    "from tqdm import tqdm\n",
    "from copy import deepcopy\n",
    "\n",
    "from coperception.datasets import V2XSimDet, MbbSampler\n",
    "from coperception.configs import Config, ConfigGlobal\n",
    "from coperception.utils.CoDetModule import *\n",
    "from coperception.utils.loss import *\n",
    "from coperception.models.det import *\n",
    "from coperception.utils import AverageMeter\n",
    "from coperception.utils.data_util import apply_pose_noise\n",
    "from coperception.utils.mean_ap import eval_map\n",
    "\n",
    "import glob\n",
    "import os\n",
    "\n",
    "def analyse_data(file_path, scene):\n",
    "    det_results_all_local = []\n",
    "    annotations_all_local = []\n",
    "    mean_ap_local = []\n",
    "    eval_start_idx = 1\n",
    "    num_agent = 6\n",
    "    for k in range(eval_start_idx, num_agent):\n",
    "        file_path_agent = file_path+\"/result\"+str(k) + \"/\" + scene + \".npy\"\n",
    "        print(file_path_agent)\n",
    "        data = np.load(file_path_agent, allow_pickle=True)\n",
    "        det_results_local = data.item()['det_results_local']\n",
    "        annotations_local = data.item()['annotations_local']\n",
    "        print(\"Local mAP@0.5 from agent {}\".format(k))\n",
    "        mean_ap, _ = eval_map(\n",
    "            det_results_local,\n",
    "            annotations_local,\n",
    "            scale_ranges=None,\n",
    "            iou_thr=0.5,\n",
    "            dataset=None,\n",
    "            logger=None,\n",
    "        )\n",
    "        mean_ap_local.append(mean_ap)\n",
    "        print(\"Local mAP@0.7 from agent {}\".format(k))\n",
    "\n",
    "        mean_ap, _ = eval_map(\n",
    "            det_results_local,\n",
    "            annotations_local,\n",
    "            scale_ranges=None,\n",
    "            iou_thr=0.7,\n",
    "            dataset=None,\n",
    "            logger=None,\n",
    "        )\n",
    "        mean_ap_local.append(mean_ap)\n",
    "\n",
    "        det_results_all_local += det_results_local\n",
    "        annotations_all_local += annotations_local\n",
    "    mean_ap_local_average, _ = eval_map(\n",
    "        det_results_all_local,\n",
    "        annotations_all_local,\n",
    "        scale_ranges=None,\n",
    "        iou_thr=0.5,\n",
    "        dataset=None,\n",
    "        logger=None,\n",
    "    )\n",
    "    mean_ap_local.append(mean_ap_local_average)\n",
    "\n",
    "    mean_ap_local_average, _ = eval_map(\n",
    "        det_results_all_local,\n",
    "        annotations_all_local,\n",
    "        scale_ranges=None,\n",
    "        iou_thr=0.7,\n",
    "        dataset=None,\n",
    "        logger=None,\n",
    "    )\n",
    "    mean_ap_local.append(mean_ap_local_average)\n",
    "    \n",
    "    for k in range(eval_start_idx, num_agent):\n",
    "        print(\n",
    "            \"agent{} mAP@0.5 is {} and mAP@0.7 is {}\".format(\n",
    "                k, mean_ap_local[(k-1) * 2], mean_ap_local[((k-1) * 2) + 1]\n",
    "            )\n",
    "        )\n",
    "\n",
    "    print(\n",
    "        \"average local mAP@0.5 is {} and average local mAP@0.7 is {}\".format(\n",
    "            mean_ap_local[-2], mean_ap_local[-1]\n",
    "        )\n",
    "    )"
   ]
  },
  {
   "cell_type": "code",
   "execution_count": 37,
   "id": "c6fc1a1d-5547-4153-a1af-e08f588e1c4e",
   "metadata": {},
   "outputs": [
    {
     "name": "stdout",
     "output_type": "stream",
     "text": [
      "./det/check_nyu/upperbound/no_rsu/0/result1/91_0.npy\n",
      "Local mAP@0.5 from agent 1\n",
      "\n",
      "+-------+------+------+--------+-------+\n",
      "| class | gts  | dets | recall | ap    |\n",
      "+-------+------+------+--------+-------+\n",
      "| 0     | 7899 | 5156 | 0.620  | 0.615 |\n",
      "+-------+------+------+--------+-------+\n",
      "| mAP   |      |      |        | 0.615 |\n",
      "+-------+------+------+--------+-------+\n",
      "Local mAP@0.7 from agent 1\n",
      "\n",
      "+-------+------+------+--------+-------+\n",
      "| class | gts  | dets | recall | ap    |\n",
      "+-------+------+------+--------+-------+\n",
      "| 0     | 7899 | 5156 | 0.597  | 0.591 |\n",
      "+-------+------+------+--------+-------+\n",
      "| mAP   |      |      |        | 0.591 |\n",
      "+-------+------+------+--------+-------+\n",
      "./det/check_nyu/upperbound/no_rsu/0/result2/91_0.npy\n",
      "Local mAP@0.5 from agent 2\n",
      "\n",
      "+-------+------+------+--------+-------+\n",
      "| class | gts  | dets | recall | ap    |\n",
      "+-------+------+------+--------+-------+\n",
      "| 0     | 7383 | 5855 | 0.757  | 0.751 |\n",
      "+-------+------+------+--------+-------+\n",
      "| mAP   |      |      |        | 0.751 |\n",
      "+-------+------+------+--------+-------+\n",
      "Local mAP@0.7 from agent 2\n",
      "\n",
      "+-------+------+------+--------+-------+\n",
      "| class | gts  | dets | recall | ap    |\n",
      "+-------+------+------+--------+-------+\n",
      "| 0     | 7383 | 5855 | 0.728  | 0.715 |\n",
      "+-------+------+------+--------+-------+\n",
      "| mAP   |      |      |        | 0.715 |\n",
      "+-------+------+------+--------+-------+\n",
      "./det/check_nyu/upperbound/no_rsu/0/result3/91_0.npy\n",
      "Local mAP@0.5 from agent 3\n",
      "\n",
      "+-------+------+------+--------+-------+\n",
      "| class | gts  | dets | recall | ap    |\n",
      "+-------+------+------+--------+-------+\n",
      "| 0     | 6607 | 4972 | 0.704  | 0.695 |\n",
      "+-------+------+------+--------+-------+\n",
      "| mAP   |      |      |        | 0.695 |\n",
      "+-------+------+------+--------+-------+\n",
      "Local mAP@0.7 from agent 3\n",
      "\n",
      "+-------+------+------+--------+-------+\n",
      "| class | gts  | dets | recall | ap    |\n",
      "+-------+------+------+--------+-------+\n",
      "| 0     | 6607 | 4972 | 0.631  | 0.610 |\n",
      "+-------+------+------+--------+-------+\n",
      "| mAP   |      |      |        | 0.610 |\n",
      "+-------+------+------+--------+-------+\n",
      "./det/check_nyu/upperbound/no_rsu/0/result4/91_0.npy\n",
      "Local mAP@0.5 from agent 4\n",
      "\n",
      "+-------+------+------+--------+-------+\n",
      "| class | gts  | dets | recall | ap    |\n",
      "+-------+------+------+--------+-------+\n",
      "| 0     | 4213 | 3079 | 0.702  | 0.696 |\n",
      "+-------+------+------+--------+-------+\n",
      "| mAP   |      |      |        | 0.696 |\n",
      "+-------+------+------+--------+-------+\n",
      "Local mAP@0.7 from agent 4\n",
      "\n",
      "+-------+------+------+--------+-------+\n",
      "| class | gts  | dets | recall | ap    |\n",
      "+-------+------+------+--------+-------+\n",
      "| 0     | 4213 | 3079 | 0.677  | 0.666 |\n",
      "+-------+------+------+--------+-------+\n",
      "| mAP   |      |      |        | 0.666 |\n",
      "+-------+------+------+--------+-------+\n",
      "./det/check_nyu/upperbound/no_rsu/0/result5/91_0.npy\n",
      "Local mAP@0.5 from agent 5\n",
      "\n",
      "+-------+-----+------+--------+-------+\n",
      "| class | gts | dets | recall | ap    |\n",
      "+-------+-----+------+--------+-------+\n",
      "| 0     | 479 | 394  | 0.760  | 0.754 |\n",
      "+-------+-----+------+--------+-------+\n",
      "| mAP   |     |      |        | 0.754 |\n",
      "+-------+-----+------+--------+-------+\n",
      "Local mAP@0.7 from agent 5\n",
      "\n",
      "+-------+-----+------+--------+-------+\n",
      "| class | gts | dets | recall | ap    |\n",
      "+-------+-----+------+--------+-------+\n",
      "| 0     | 479 | 394  | 0.739  | 0.730 |\n",
      "+-------+-----+------+--------+-------+\n",
      "| mAP   |     |      |        | 0.730 |\n",
      "+-------+-----+------+--------+-------+\n",
      "\n",
      "+-------+-------+-------+--------+-------+\n",
      "| class | gts   | dets  | recall | ap    |\n",
      "+-------+-------+-------+--------+-------+\n",
      "| 0     | 26581 | 19456 | 0.694  | 0.688 |\n",
      "+-------+-------+-------+--------+-------+\n",
      "| mAP   |       |       |        | 0.688 |\n",
      "+-------+-------+-------+--------+-------+\n",
      "\n",
      "+-------+-------+-------+--------+-------+\n",
      "| class | gts   | dets  | recall | ap    |\n",
      "+-------+-------+-------+--------+-------+\n",
      "| 0     | 26581 | 19456 | 0.657  | 0.644 |\n",
      "+-------+-------+-------+--------+-------+\n",
      "| mAP   |       |       |        | 0.644 |\n",
      "+-------+-------+-------+--------+-------+\n",
      "agent1 mAP@0.5 is 0.6150966286659241 and mAP@0.7 is 0.5905589461326599\n",
      "agent2 mAP@0.5 is 0.7505569458007812 and mAP@0.7 is 0.7153854966163635\n",
      "agent3 mAP@0.5 is 0.6951399445533752 and mAP@0.7 is 0.6104016304016113\n",
      "agent4 mAP@0.5 is 0.696376383304596 and mAP@0.7 is 0.665666937828064\n",
      "agent5 mAP@0.5 is 0.7540466785430908 and mAP@0.7 is 0.7302101254463196\n",
      "average local mAP@0.5 is 0.6879916787147522 and average local mAP@0.7 is 0.6444621682167053\n"
     ]
    }
   ],
   "source": [
    "path = \"./det/check_nyu/upperbound/no_rsu/0\"\n",
    "scene = \"91_0\"\n",
    "analyse_data(path, scene)"
   ]
  },
  {
   "cell_type": "code",
   "execution_count": 38,
   "id": "c3875496-5522-4e76-b5c5-071615f73110",
   "metadata": {},
   "outputs": [
    {
     "name": "stdout",
     "output_type": "stream",
     "text": [
      "./det/check_nyu/upperbound/no_rsu/0/result1/19_0.npy\n",
      "Local mAP@0.5 from agent 1\n",
      "\n",
      "+-------+------+------+--------+-------+\n",
      "| class | gts  | dets | recall | ap    |\n",
      "+-------+------+------+--------+-------+\n",
      "| 0     | 2018 | 1755 | 0.840  | 0.839 |\n",
      "+-------+------+------+--------+-------+\n",
      "| mAP   |      |      |        | 0.839 |\n",
      "+-------+------+------+--------+-------+\n",
      "Local mAP@0.7 from agent 1\n",
      "\n",
      "+-------+------+------+--------+-------+\n",
      "| class | gts  | dets | recall | ap    |\n",
      "+-------+------+------+--------+-------+\n",
      "| 0     | 2018 | 1755 | 0.831  | 0.830 |\n",
      "+-------+------+------+--------+-------+\n",
      "| mAP   |      |      |        | 0.830 |\n",
      "+-------+------+------+--------+-------+\n",
      "./det/check_nyu/upperbound/no_rsu/0/result2/19_0.npy\n",
      "Local mAP@0.5 from agent 2\n",
      "\n",
      "+-------+------+------+--------+-------+\n",
      "| class | gts  | dets | recall | ap    |\n",
      "+-------+------+------+--------+-------+\n",
      "| 0     | 1966 | 1813 | 0.903  | 0.902 |\n",
      "+-------+------+------+--------+-------+\n",
      "| mAP   |      |      |        | 0.902 |\n",
      "+-------+------+------+--------+-------+\n",
      "Local mAP@0.7 from agent 2\n",
      "\n",
      "+-------+------+------+--------+-------+\n",
      "| class | gts  | dets | recall | ap    |\n",
      "+-------+------+------+--------+-------+\n",
      "| 0     | 1966 | 1813 | 0.897  | 0.896 |\n",
      "+-------+------+------+--------+-------+\n",
      "| mAP   |      |      |        | 0.896 |\n",
      "+-------+------+------+--------+-------+\n",
      "./det/check_nyu/upperbound/no_rsu/0/result3/19_0.npy\n",
      "Local mAP@0.5 from agent 3\n",
      "\n",
      "+-------+------+------+--------+-------+\n",
      "| class | gts  | dets | recall | ap    |\n",
      "+-------+------+------+--------+-------+\n",
      "| 0     | 1698 | 1513 | 0.835  | 0.830 |\n",
      "+-------+------+------+--------+-------+\n",
      "| mAP   |      |      |        | 0.830 |\n",
      "+-------+------+------+--------+-------+\n",
      "Local mAP@0.7 from agent 3\n",
      "\n",
      "+-------+------+------+--------+-------+\n",
      "| class | gts  | dets | recall | ap    |\n",
      "+-------+------+------+--------+-------+\n",
      "| 0     | 1698 | 1513 | 0.818  | 0.814 |\n",
      "+-------+------+------+--------+-------+\n",
      "| mAP   |      |      |        | 0.814 |\n",
      "+-------+------+------+--------+-------+\n",
      "./det/check_nyu/upperbound/no_rsu/0/result4/19_0.npy\n",
      "Local mAP@0.5 from agent 4\n",
      "\n",
      "+-------+------+------+--------+-------+\n",
      "| class | gts  | dets | recall | ap    |\n",
      "+-------+------+------+--------+-------+\n",
      "| 0     | 1528 | 919  | 0.592  | 0.592 |\n",
      "+-------+------+------+--------+-------+\n",
      "| mAP   |      |      |        | 0.592 |\n",
      "+-------+------+------+--------+-------+\n",
      "Local mAP@0.7 from agent 4\n",
      "\n",
      "+-------+------+------+--------+-------+\n",
      "| class | gts  | dets | recall | ap    |\n",
      "+-------+------+------+--------+-------+\n",
      "| 0     | 1528 | 919  | 0.591  | 0.590 |\n",
      "+-------+------+------+--------+-------+\n",
      "| mAP   |      |      |        | 0.590 |\n",
      "+-------+------+------+--------+-------+\n",
      "./det/check_nyu/upperbound/no_rsu/0/result5/19_0.npy\n",
      "Local mAP@0.5 from agent 5\n",
      "\n",
      "+-------+-----+------+--------+-------+\n",
      "| class | gts | dets | recall | ap    |\n",
      "+-------+-----+------+--------+-------+\n",
      "| 0     | 479 | 394  | 0.760  | 0.754 |\n",
      "+-------+-----+------+--------+-------+\n",
      "| mAP   |     |      |        | 0.754 |\n",
      "+-------+-----+------+--------+-------+\n",
      "Local mAP@0.7 from agent 5\n",
      "\n",
      "+-------+-----+------+--------+-------+\n",
      "| class | gts | dets | recall | ap    |\n",
      "+-------+-----+------+--------+-------+\n",
      "| 0     | 479 | 394  | 0.739  | 0.730 |\n",
      "+-------+-----+------+--------+-------+\n",
      "| mAP   |     |      |        | 0.730 |\n",
      "+-------+-----+------+--------+-------+\n",
      "\n",
      "+-------+------+------+--------+-------+\n",
      "| class | gts  | dets | recall | ap    |\n",
      "+-------+------+------+--------+-------+\n",
      "| 0     | 7689 | 6394 | 0.801  | 0.799 |\n",
      "+-------+------+------+--------+-------+\n",
      "| mAP   |      |      |        | 0.799 |\n",
      "+-------+------+------+--------+-------+\n",
      "\n",
      "+-------+------+------+--------+-------+\n",
      "| class | gts  | dets | recall | ap    |\n",
      "+-------+------+------+--------+-------+\n",
      "| 0     | 7689 | 6394 | 0.792  | 0.789 |\n",
      "+-------+------+------+--------+-------+\n",
      "| mAP   |      |      |        | 0.789 |\n",
      "+-------+------+------+--------+-------+\n",
      "agent1 mAP@0.5 is 0.8394845128059387 and mAP@0.7 is 0.8296879529953003\n",
      "agent2 mAP@0.5 is 0.9021816849708557 and mAP@0.7 is 0.8955983519554138\n",
      "agent3 mAP@0.5 is 0.8303927779197693 and mAP@0.7 is 0.8142811059951782\n",
      "agent4 mAP@0.5 is 0.5918112397193909 and mAP@0.7 is 0.5900919437408447\n",
      "agent5 mAP@0.5 is 0.7540466785430908 and mAP@0.7 is 0.7302101254463196\n",
      "average local mAP@0.5 is 0.7987211346626282 and average local mAP@0.7 is 0.7889608144760132\n"
     ]
    }
   ],
   "source": [
    "path = \"./det/check_nyu/upperbound/no_rsu/0\"\n",
    "scene = \"19_0\"\n",
    "analyse_data(path, scene)"
   ]
  },
  {
   "cell_type": "code",
   "execution_count": null,
   "id": "a75e7210-dc09-4f2d-bd19-e04363858fc9",
   "metadata": {},
   "outputs": [],
   "source": []
  }
 ],
 "metadata": {
  "kernelspec": {
   "display_name": "Python 3 (ipykernel)",
   "language": "python",
   "name": "python3"
  },
  "language_info": {
   "codemirror_mode": {
    "name": "ipython",
    "version": 3
   },
   "file_extension": ".py",
   "mimetype": "text/x-python",
   "name": "python",
   "nbconvert_exporter": "python",
   "pygments_lexer": "ipython3",
   "version": "3.7.0"
  }
 },
 "nbformat": 4,
 "nbformat_minor": 5
}
