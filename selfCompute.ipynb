{
 "cells": [
  {
   "cell_type": "code",
   "execution_count": 14,
   "id": "07f02899-3baf-4023-ab6a-2c39b05c9261",
   "metadata": {},
   "outputs": [],
   "source": [
    "import torch\n",
    "import numpy as np\n",
    "import math"
   ]
  },
  {
   "cell_type": "markdown",
   "id": "60a0e801-7f83-411e-9b1b-954754f505da",
   "metadata": {},
   "source": [
    "# Difference estimation results on training dataset and test dataset"
   ]
  },
  {
   "cell_type": "markdown",
   "id": "3b165d5f-ccfe-4f1b-9cb7-05666961376c",
   "metadata": {},
   "source": [
    "## On one sample of the training dataset"
   ]
  },
  {
   "cell_type": "code",
   "execution_count": 43,
   "id": "26a30830-66e0-4055-882a-25acc3251976",
   "metadata": {},
   "outputs": [
    {
     "name": "stdout",
     "output_type": "stream",
     "text": [
      "NLL: -3.527900150652841\n",
      "covar_matrix: tensor([[0.0030, 0.0006],\n",
      "        [0.0006, 0.0050]], dtype=torch.float64)\n",
      "predict diff: tensor([ 0.0310, -0.0131], dtype=torch.float64)\n",
      "tensor([[0.2000]], dtype=torch.float64)\n"
     ]
    }
   ],
   "source": [
    "sigma_inverse = torch.from_numpy(np.array([[341.9544, -44.3689],\n",
    "         [-44.3689, 205.4515]]))\n",
    "pred = torch.from_numpy(np.array([-20.2327, -33.8254]))\n",
    "gt = torch.from_numpy(np.array([-20.2017, -33.8385]))\n",
    "covar_matrix = torch.linalg.inv(sigma_inverse)\n",
    "predicted_multivariate_normal_dists = torch.distributions.multivariate_normal.MultivariateNormal(pred, covariance_matrix = covar_matrix)\n",
    "\n",
    "negative_log_prob = - \\\n",
    "        predicted_multivariate_normal_dists.log_prob(gt)\n",
    "print(\"NLL: {}\".format(negative_log_prob))\n",
    "print(\"covar_matrix: {}\".format(covar_matrix))\n",
    "print(\"predict diff: {}\".format(gt-pred))\n",
    "diff = torch.unsqueeze(gt-pred, 0)\n",
    "reg = torch.matmul(diff, sigma_inverse)\n",
    "reg = 0.5*torch.matmul(reg, torch.transpose(diff, 0, 1))\n",
    "print(reg)"
   ]
  },
  {
   "cell_type": "markdown",
   "id": "c7be1bf7-ef1b-406b-854d-adf91a63f2c6",
   "metadata": {},
   "source": [
    "## On one sample of the test dataset"
   ]
  },
  {
   "cell_type": "code",
   "execution_count": 44,
   "id": "a60b2b62-35fb-49c5-9df6-dd93f4141c81",
   "metadata": {},
   "outputs": [
    {
     "name": "stdout",
     "output_type": "stream",
     "text": [
      "NLL: 77.10816480498718\n",
      "covar_matrix: tensor([[0.0035, 0.0003],\n",
      "        [0.0003, 0.0022]], dtype=torch.float64)\n",
      "predict diff: tensor([-0.1559,  0.5725], dtype=torch.float64)\n",
      "tensor([[81.1548]], dtype=torch.float64)\n"
     ]
    }
   ],
   "source": [
    "sigma_inverse = torch.from_numpy(np.array([[287.6793, -36.8457],\n",
    "         [-36.8457, 453.8144]]))\n",
    "pred = torch.from_numpy(np.array([-14.3089, -30.2196]))\n",
    "gt = torch.from_numpy(np.array([-14.4648, -29.6471]))\n",
    "covar_matrix = torch.linalg.inv(sigma_inverse)\n",
    "predicted_multivariate_normal_dists = torch.distributions.multivariate_normal.MultivariateNormal(pred, covariance_matrix = covar_matrix)\n",
    "\n",
    "negative_log_prob = - \\\n",
    "        predicted_multivariate_normal_dists.log_prob(gt)\n",
    "print(\"NLL: {}\".format(negative_log_prob))\n",
    "print(\"covar_matrix: {}\".format(covar_matrix))\n",
    "print(\"predict diff: {}\".format(gt-pred))\n",
    "diff = torch.unsqueeze(gt-pred, 0)\n",
    "reg = torch.matmul(diff, sigma_inverse)\n",
    "reg = 0.5*torch.matmul(reg, torch.transpose(diff, 0, 1))\n",
    "print(reg)"
   ]
  },
  {
   "cell_type": "code",
   "execution_count": 36,
   "id": "105dc883-f643-4d7f-9538-a05679ec414a",
   "metadata": {},
   "outputs": [
    {
     "data": {
      "text/plain": [
       "0.0009118819655545162"
      ]
     },
     "execution_count": 36,
     "metadata": {},
     "output_type": "execute_result"
    }
   ],
   "source": []
  },
  {
   "cell_type": "code",
   "execution_count": 29,
   "id": "50af436a-f9e3-4fab-8517-7572a6fdc87e",
   "metadata": {},
   "outputs": [
    {
     "data": {
      "text/plain": [
       "-4.446861466795326"
      ]
     },
     "execution_count": 29,
     "metadata": {},
     "output_type": "execute_result"
    }
   ],
   "source": [
    "- (2.9173 + 2.6484) + 0.3998/2 + np.log(2*math.pi)/2"
   ]
  },
  {
   "cell_type": "code",
   "execution_count": 42,
   "id": "26dc4c9f-5668-4329-a3c3-1aa0498b6bb5",
   "metadata": {},
   "outputs": [
    {
     "name": "stdout",
     "output_type": "stream",
     "text": [
      "tensor([[-0.1559,  0.5725]], dtype=torch.float64)\n",
      "tensor([[81.1548]], dtype=torch.float64)\n",
      "tensor(-5.8845, dtype=torch.float64)\n",
      "tensor([[76.1892]], dtype=torch.float64)\n"
     ]
    }
   ],
   "source": [
    "diff = gt - pred\n",
    "diff = torch.unsqueeze(diff, 0)\n",
    "print(diff)\n",
    "reg = torch.matmul(diff, sigma_inverse)\n",
    "reg = 0.5*torch.matmul(reg, torch.transpose(diff, 0, 1))\n",
    "print(reg)\n",
    "norm = 0.5 * np.log(torch.det(covar_matrix))\n",
    "print(norm)\n",
    "print(reg + norm + np.log(2*math.pi)/2)"
   ]
  },
  {
   "cell_type": "code",
   "execution_count": 11,
   "id": "e95ce0a5-3d0d-404d-b2bc-a3a518063457",
   "metadata": {},
   "outputs": [
    {
     "data": {
      "text/plain": [
       "array([[2, 3],\n",
       "       [6, 7]])"
      ]
     },
     "execution_count": 11,
     "metadata": {},
     "output_type": "execute_result"
    }
   ],
   "source": [
    "a[0][[1,3]]"
   ]
  },
  {
   "cell_type": "code",
   "execution_count": 4,
   "id": "ec7b45c7-cb83-47cd-8362-2aefcfc64ac8",
   "metadata": {},
   "outputs": [
    {
     "name": "stdout",
     "output_type": "stream",
     "text": [
      "[[1.98181590e-04 2.34969383e-05]\n",
      " [2.34969383e-05 2.73528561e-04]]\n",
      "[[1.00000000e+00 4.67238931e-18]\n",
      " [3.04911893e-18 1.00000000e+00]]\n"
     ]
    }
   ],
   "source": [
    "inv = np.array([[5097.7979, -437.9164],\n",
    "         [-437.9164, 3693.5437]])\n",
    "ma = np.linalg.inv(inv)\n",
    "print(np.linalg.inv(inv))\n",
    "print(np.matmul(inv, ma))"
   ]
  },
  {
   "cell_type": "code",
   "execution_count": 7,
   "id": "cec7aef2-dcbc-4728-8c02-e7f8fa2e29c3",
   "metadata": {},
   "outputs": [
    {
     "data": {
      "text/plain": [
       "0.04802343178074637"
      ]
     },
     "execution_count": 7,
     "metadata": {},
     "output_type": "execute_result"
    }
   ],
   "source": [
    "np.sqrt(0.0369)*0.25"
   ]
  },
  {
   "cell_type": "code",
   "execution_count": 2,
   "id": "def46a4e-cd98-4ed9-8ef1-93602cd8df2c",
   "metadata": {},
   "outputs": [],
   "source": [
    "pred_diff = np.array([6.1858e-04, 1.0821e-03, 6.4980e-03, 3.8443e-03, 1.4177e-04, 6.7441e-05,\n",
    "        8.7563e-03, 1.3929e-03])\n",
    "cov = np.array([-5.5067, -5.5892, -5.5086, -5.5608, -5.5949, -5.5972, -5.5694, -5.5734])"
   ]
  },
  {
   "cell_type": "code",
   "execution_count": 8,
   "id": "6a626729-155f-4e83-871b-59d633d1ac13",
   "metadata": {},
   "outputs": [
    {
     "name": "stdout",
     "output_type": "stream",
     "text": [
      "[-2.60097094 -2.50511497 -1.15055879 -1.78076368 -2.75930668 -2.78041317\n",
      " -0.48812665 -2.41991058]\n",
      "[0.00405948 0.00373802 0.00405178 0.0038457  0.00371677 0.00370823\n",
      " 0.00381277 0.00379755]\n",
      "[246.33687261 267.52151687 246.80535758 260.03077776 269.05074367\n",
      " 269.67027257 262.27668601 263.32789377]\n"
     ]
    }
   ],
   "source": [
    "loss = pred_diff * np.exp(-cov) + cov/2\n",
    "print(loss)\n",
    "print(np.exp(cov))\n",
    "print(np.exp(-cov))"
   ]
  },
  {
   "cell_type": "code",
   "execution_count": 19,
   "id": "180fca61-2531-4dc9-bf9e-d6ce50275c79",
   "metadata": {},
   "outputs": [
    {
     "name": "stdout",
     "output_type": "stream",
     "text": [
      "tensor([[[[2.7183, 1.0000],\n",
      "          [0.0000, 2.7183]],\n",
      "\n",
      "         [[2.7183, 1.0000],\n",
      "          [0.0000, 2.7183]],\n",
      "\n",
      "         [[2.7183, 1.0000],\n",
      "          [0.0000, 2.7183]],\n",
      "\n",
      "         [[2.7183, 1.0000],\n",
      "          [0.0000, 2.7183]]],\n",
      "\n",
      "\n",
      "        [[[2.7183, 1.0000],\n",
      "          [0.0000, 2.7183]],\n",
      "\n",
      "         [[2.7183, 1.0000],\n",
      "          [0.0000, 2.7183]],\n",
      "\n",
      "         [[2.7183, 1.0000],\n",
      "          [0.0000, 2.7183]],\n",
      "\n",
      "         [[2.7183, 1.0000],\n",
      "          [0.0000, 2.7183]]]])\n",
      "tensor(16.)\n"
     ]
    }
   ],
   "source": [
    "covar_matrix = torch.zeros((2, 4, 2, 2))\n",
    "pred = torch.ones((2, 4, 3))\n",
    "\n",
    "sumV = torch.sum(pred[:, :, 0])\n",
    "sumV += torch.sum(pred[:, :, 2])\n",
    "\n",
    "covar_matrix[:, :, 0, 0] = torch.exp(pred[:, :, 0])\n",
    "covar_matrix[:, :, 0, 1] = pred[:, :, 1]\n",
    "covar_matrix[:, :, 1, 1] = torch.exp(pred[:, :, 2])\n",
    "\n",
    "print(covar_matrix)\n",
    "print(sumV)"
   ]
  },
  {
   "cell_type": "code",
   "execution_count": 17,
   "id": "d83bc2ac-88ee-4d5f-b1ba-e588b06af487",
   "metadata": {},
   "outputs": [
    {
     "data": {
      "text/plain": [
       "torch.Size([2, 4, 1, 1])"
      ]
     },
     "execution_count": 17,
     "metadata": {},
     "output_type": "execute_result"
    }
   ],
   "source": [
    "diff = torch.ones((2, 4, 1,2))\n",
    "torch.matmul(torch.matmul(diff, covar_matrix), torch.transpose(diff, 2, 3)).shape"
   ]
  },
  {
   "cell_type": "code",
   "execution_count": 3,
   "id": "724b2b3b-9756-413d-9147-822033d3d342",
   "metadata": {},
   "outputs": [],
   "source": [
    "covar_matrix = np.array([[[ 1.0905,  0.0474],\n",
    "         [ 0.0000,  3.3625]],\n",
    "\n",
    "        [[ 1.5273, -0.3425],\n",
    "         [ 0.0000,  1.2889]],\n",
    "\n",
    "        [[ 0.3197,  0.1894],\n",
    "         [ 0.0000,  1.4496]],\n",
    "\n",
    "        [[ 0.4454,  1.1427],\n",
    "         [ 0.0000,  1.1454]]])\n",
    "pred_diff = np.array([[[-0.0059,  0.0224]],\n",
    "\n",
    "        [[-0.0080,  0.0203]],\n",
    "\n",
    "        [[-0.0130,  0.0519]],\n",
    "\n",
    "        [[-0.0108,  0.0540]]])"
   ]
  },
  {
   "cell_type": "code",
   "execution_count": 14,
   "id": "25577900-1f36-40cc-95e1-10b47d25a9cf",
   "metadata": {},
   "outputs": [
    {
     "data": {
      "text/plain": [
       "array([[[ 1.0905,  0.    ],\n",
       "        [ 0.0474,  3.3625]],\n",
       "\n",
       "       [[ 1.5273,  0.    ],\n",
       "        [-0.3425,  1.2889]],\n",
       "\n",
       "       [[ 0.3197,  0.    ],\n",
       "        [ 0.1894,  1.4496]],\n",
       "\n",
       "       [[ 0.4454,  0.    ],\n",
       "        [ 1.1427,  1.1454]]])"
      ]
     },
     "execution_count": 14,
     "metadata": {},
     "output_type": "execute_result"
    }
   ],
   "source": [
    "np.transpose(covar_matrix,[0,2,1])"
   ]
  },
  {
   "cell_type": "code",
   "execution_count": 12,
   "id": "bdaf311f-0c72-488a-b748-7c4b4d2a7dba",
   "metadata": {},
   "outputs": [
    {
     "name": "stdout",
     "output_type": "stream",
     "text": [
      "[[[ 1.18919025  0.0516897 ]\n",
      "  [ 0.0516897  11.30865301]]\n",
      "\n",
      " [[ 2.33264529 -0.52310025]\n",
      "  [-0.52310025  1.77856946]]\n",
      "\n",
      " [[ 0.10220809  0.06055118]\n",
      "  [ 0.06055118  2.13721252]]\n",
      "\n",
      " [[ 0.19838116  0.50895858]\n",
      "  [ 0.50895858  2.61770445]]]\n"
     ]
    }
   ],
   "source": [
    "sigma_inverse = np.matmul(np.transpose(covar_matrix,[0,2,1]), covar_matrix)\n",
    "print(sigma_inverse)"
   ]
  },
  {
   "cell_type": "code",
   "execution_count": 15,
   "id": "5c0e7495-bfd2-45ec-8b35-b8e324f9732d",
   "metadata": {},
   "outputs": [
    {
     "data": {
      "text/plain": [
       "array([[[0.00570196]],\n",
       "\n",
       "       [[0.00105212]],\n",
       "\n",
       "       [[0.00569238]],\n",
       "\n",
       "       [[0.00706272]]])"
      ]
     },
     "execution_count": 15,
     "metadata": {},
     "output_type": "execute_result"
    }
   ],
   "source": [
    "np.matmul(np.matmul(pred_diff, sigma_inverse), np.transpose(pred_diff, [0,2,1]))"
   ]
  },
  {
   "cell_type": "code",
   "execution_count": 25,
   "id": "2bd531ca-8060-4632-8ecf-061d46c47390",
   "metadata": {},
   "outputs": [
    {
     "data": {
      "text/plain": [
       "array([[ 0.09976136,  0.12798164,  0.17835988,  0.17479777,  0.04085993,\n",
       "        -0.54958705],\n",
       "       [ 0.38615724,  0.49539258,  0.69039716,  0.67660893,  0.15816103,\n",
       "        -2.12734694],\n",
       "       [ 0.07315833,  0.0938532 ,  0.13079724,  0.12818503,  0.02996395,\n",
       "        -0.4030305 ],\n",
       "       [ 0.18193766,  0.2334038 ,  0.32528005,  0.31878374,  0.07451744,\n",
       "        -1.00229774],\n",
       "       [ 0.0363725 ,  0.04666148,  0.06502914,  0.06373041,  0.01489733,\n",
       "        -0.20037675],\n",
       "       [-0.46025495, -0.59045088, -0.82287388, -0.8064399 , -0.18850972,\n",
       "         2.53555247]])"
      ]
     },
     "execution_count": 25,
     "metadata": {},
     "output_type": "execute_result"
    }
   ],
   "source": [
    "np.matmul(np.matmul(pred_diff.T, pred_diff), sigma_inverse)"
   ]
  },
  {
   "cell_type": "code",
   "execution_count": 31,
   "id": "5aad5561-ab1c-4557-8278-d50cc9c7c1c8",
   "metadata": {},
   "outputs": [
    {
     "data": {
      "text/plain": [
       "0.2957530214314797"
      ]
     },
     "execution_count": 31,
     "metadata": {},
     "output_type": "execute_result"
    }
   ],
   "source": [
    "0.1424*np.exp(1.34+1.34)*0.1424"
   ]
  },
  {
   "cell_type": "code",
   "execution_count": 44,
   "id": "0951a42c-986f-4afe-92e0-f3c5987d1006",
   "metadata": {},
   "outputs": [
    {
     "data": {
      "text/plain": [
       "tensor(nan)"
      ]
     },
     "execution_count": 44,
     "metadata": {},
     "output_type": "execute_result"
    }
   ],
   "source": [
    "c = torch.tensor([ 0.0682, -0.0676,  0.0153, -0.0472,  0.0210, -0.0660, -0.0602,  0.0129] , dtype= torch.float)\n",
    "torch.sqrt(torch.sum(c))"
   ]
  },
  {
   "cell_type": "code",
   "execution_count": 46,
   "id": "463fa9d0-57e5-421a-b87d-07373465274b",
   "metadata": {},
   "outputs": [
    {
     "data": {
      "text/plain": [
       "tensor([[ 1.4669,  0.8171],\n",
       "        [ 0.1948,  0.4772],\n",
       "        [-0.4257,  2.3030],\n",
       "        [ 0.8464,  2.6429]])"
      ]
     },
     "execution_count": 46,
     "metadata": {},
     "output_type": "execute_result"
    }
   ],
   "source": [
    "a = torch.tensor([[-19.4178, -32.5698],\n",
    "        [-19.6267, -32.2309],\n",
    "        [-19.0077, -31.8494],\n",
    "        [-18.7988, -32.1883]])\n",
    "b = torch.tensor([[-17.9509, -31.7527],\n",
    "        [-19.4319, -31.7537],\n",
    "        [-19.4334, -29.5464],\n",
    "        [-17.9524, -29.5454]])\n",
    "b - a"
   ]
  },
  {
   "cell_type": "code",
   "execution_count": 47,
   "id": "22bec70e-2534-434d-882a-68404a6efcc3",
   "metadata": {},
   "outputs": [
    {
     "data": {
      "text/plain": [
       "0.33382620500000004"
      ]
     },
     "execution_count": 47,
     "metadata": {},
     "output_type": "execute_result"
    }
   ],
   "source": [
    "0.8171 * 0.8171 / 2"
   ]
  },
  {
   "cell_type": "code",
   "execution_count": 8,
   "id": "5c7d5a77-d923-4be0-82b6-5df0ba1fe407",
   "metadata": {},
   "outputs": [
    {
     "data": {
      "image/png": "[encoded data removed]",
      "text/plain": [
       "<Figure size 432x288 with 1 Axes>"
      ]
     },
     "metadata": {
      "needs_background": "light"
     },
     "output_type": "display_data"
    }
   ],
   "source": [
    "from matplotlib.patches import Polygon\n",
    "import matplotlib.pyplot as plt\n",
    "\n",
    "my_quad_center = Polygon([(20.72872543,   1.79706585), (20.06682777,   0.97120333), (18.28781128,   2.39701843), (18.94970894,   3.22288084)], color='b')\n",
    "my_tri  = Polygon([(0,1), (1,1), (0.5,2),])\n",
    "my_quad_origin = Polygon([(21.40514755,   2.94450998), (21.26015663,   0.98168457), (17.28078461,   1.27563572), (17.42577553,   3.23846102)], color='g')\n",
    "my_quad_annotation = Polygon([(21.57969175,   3.61527827), (21.81752555,   1.69838214), (17.24805178,   1.1314368), (17.01021798,   3.04833293)], color='r')\n",
    "fig, ax = plt.subplots(1,1)\n",
    "\n",
    "c = ax.add_patch( my_quad_annotation )\n",
    "a = ax.add_patch( my_quad_origin )\n",
    "a.set_fill(False)\n",
    "c.set_fill(False)\n",
    "b = ax.add_patch( my_quad_center )\n",
    "b.set_fill(False)\n",
    "\n",
    "\n",
    "plt.ylim(0,4)\n",
    "plt.xlim(17,22)\n",
    "\n",
    "plt.show()"
   ]
  },
  {
   "cell_type": "code",
   "execution_count": null,
   "id": "39c742a5-7221-4ea0-a59b-3c871ac07ffd",
   "metadata": {},
   "outputs": [],
   "source": []
  }
 ],
 "metadata": {
  "kernelspec": {
   "display_name": "Python 3 (ipykernel)",
   "language": "python",
   "name": "python3"
  },
  "language_info": {
   "codemirror_mode": {
    "name": "ipython",
    "version": 3
   },
   "file_extension": ".py",
   "mimetype": "text/x-python",
   "name": "python",
   "nbconvert_exporter": "python",
   "pygments_lexer": "ipython3",
   "version": "3.9.7"
  }
 },
 "nbformat": 4,
 "nbformat_minor": 5
}
